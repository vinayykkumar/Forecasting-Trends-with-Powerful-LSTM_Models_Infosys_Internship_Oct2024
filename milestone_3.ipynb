{
  "nbformat": 4,
  "nbformat_minor": 0,
  "metadata": {
    "colab": {
      "provenance": [],
      "authorship_tag": "ABX9TyNF/wHXuc9cvJbMWiAQ7DHq",
      "include_colab_link": true
    },
    "kernelspec": {
      "name": "python3",
      "display_name": "Python 3"
    },
    "language_info": {
      "name": "python"
    }
  },
  "cells": [
    {
      "cell_type": "markdown",
      "metadata": {
        "id": "view-in-github",
        "colab_type": "text"
      },
      "source": [
        "<a href=\"https://colab.research.google.com/github/vinayykkumar/Forecasting-Trends-with-Powerful-LSTM_Models_Infosys_Internship_Oct2024/blob/DHANUSH-M-P/milestone_3.ipynb\" target=\"_parent\"><img src=\"https://colab.research.google.com/assets/colab-badge.svg\" alt=\"Open In Colab\"/></a>"
      ]
    },
    {
      "cell_type": "code",
      "execution_count": null,
      "metadata": {
        "colab": {
          "base_uri": "https://localhost:8080/"
        },
        "id": "p9xt4p2BiW60",
        "outputId": "d46c757f-b53f-480b-a5c2-77edd718835a"
      },
      "outputs": [
        {
          "output_type": "execute_result",
          "data": {
            "text/plain": [
              "DatetimeIndex(['1969-12-31 23:59:59.999999984',\n",
              "               '1969-12-31 23:59:59.999999983',\n",
              "               '1969-12-31 23:59:59.999999984',\n",
              "               '1969-12-31 23:59:59.999999984',\n",
              "               '1969-12-31 23:59:59.999999986',\n",
              "               '1969-12-31 23:59:59.999999985',\n",
              "               '1969-12-31 23:59:59.999999985',\n",
              "               '1969-12-31 23:59:59.999999986',\n",
              "               '1969-12-31 23:59:59.999999986',\n",
              "               '1969-12-31 23:59:59.999999986',\n",
              "               ...\n",
              "               '1969-12-31 23:59:59.999999973',\n",
              "               '1969-12-31 23:59:59.999999974',\n",
              "               '1969-12-31 23:59:59.999999977',\n",
              "               '1969-12-31 23:59:59.999999978',\n",
              "               '1969-12-31 23:59:59.999999978',\n",
              "               '1969-12-31 23:59:59.999999977',\n",
              "               '1969-12-31 23:59:59.999999978',\n",
              "               '1969-12-31 23:59:59.999999978',\n",
              "               '1969-12-31 23:59:59.999999978',\n",
              "               '1969-12-31 23:59:59.999999979'],\n",
              "              dtype='datetime64[ns]', name='dew', length=346, freq=None)"
            ]
          },
          "metadata": {},
          "execution_count": 2
        }
      ],
      "source": [
        "import numpy as np\n",
        "import pandas as pd\n",
        "from sklearn.preprocessing import MinMaxScaler\n",
        "from tensorflow.keras.models import Sequential\n",
        "from tensorflow.keras.layers import LSTM, Dense, Dropout\n",
        "\n",
        "# Load the dataset\n",
        "data = pd.read_csv('pollution_test_data1.csv', index_col=0)  # Replace with your file\n",
        "data.index = pd.to_datetime(data.index)\n",
        "data.index\n"
      ]
    },
    {
      "cell_type": "code",
      "source": [
        "data"
      ],
      "metadata": {
        "colab": {
          "base_uri": "https://localhost:8080/",
          "height": 455
        },
        "id": "xCcObdFRjKkO",
        "outputId": "c388a609-8d36-4f86-9bb5-ac4f426d94dd"
      },
      "execution_count": null,
      "outputs": [
        {
          "output_type": "execute_result",
          "data": {
            "text/plain": [
              "                               temp  press wnd_dir  wnd_spd  snow  rain  \\\n",
              "dew                                                                       \n",
              "1969-12-31 23:59:59.999999984     4   1027      SE     3.58     0     0   \n",
              "1969-12-31 23:59:59.999999983     5   1027      SE     7.60     0     0   \n",
              "1969-12-31 23:59:59.999999984     4   1027      SE     9.39     0     0   \n",
              "1969-12-31 23:59:59.999999984     1   1028      cv     0.89     0     0   \n",
              "1969-12-31 23:59:59.999999986     0   1028      NE     1.79     0     0   \n",
              "...                             ...    ...     ...      ...   ...   ...   \n",
              "1969-12-31 23:59:59.999999977    -2   1034      NW   231.97     0     0   \n",
              "1969-12-31 23:59:59.999999978    -3   1034      NW   237.78     0     0   \n",
              "1969-12-31 23:59:59.999999978    -3   1034      NW   242.70     0     0   \n",
              "1969-12-31 23:59:59.999999978    -4   1034      NW   246.72     0     0   \n",
              "1969-12-31 23:59:59.999999979    -3   1034      NW   249.85     0     0   \n",
              "\n",
              "                               pollution  \n",
              "dew                                       \n",
              "1969-12-31 23:59:59.999999984        128  \n",
              "1969-12-31 23:59:59.999999983         77  \n",
              "1969-12-31 23:59:59.999999984         65  \n",
              "1969-12-31 23:59:59.999999984         79  \n",
              "1969-12-31 23:59:59.999999986         93  \n",
              "...                                  ...  \n",
              "1969-12-31 23:59:59.999999977          8  \n",
              "1969-12-31 23:59:59.999999978         10  \n",
              "1969-12-31 23:59:59.999999978         10  \n",
              "1969-12-31 23:59:59.999999978          8  \n",
              "1969-12-31 23:59:59.999999979         12  \n",
              "\n",
              "[346 rows x 7 columns]"
            ],
            "text/html": [
              "\n",
              "  <div id=\"df-2b6b6ed0-2e40-4628-a3ce-0f91b42de133\" class=\"colab-df-container\">\n",
              "    <div>\n",
              "<style scoped>\n",
              "    .dataframe tbody tr th:only-of-type {\n",
              "        vertical-align: middle;\n",
              "    }\n",
              "\n",
              "    .dataframe tbody tr th {\n",
              "        vertical-align: top;\n",
              "    }\n",
              "\n",
              "    .dataframe thead th {\n",
              "        text-align: right;\n",
              "    }\n",
              "</style>\n",
              "<table border=\"1\" class=\"dataframe\">\n",
              "  <thead>\n",
              "    <tr style=\"text-align: right;\">\n",
              "      <th></th>\n",
              "      <th>temp</th>\n",
              "      <th>press</th>\n",
              "      <th>wnd_dir</th>\n",
              "      <th>wnd_spd</th>\n",
              "      <th>snow</th>\n",
              "      <th>rain</th>\n",
              "      <th>pollution</th>\n",
              "    </tr>\n",
              "    <tr>\n",
              "      <th>dew</th>\n",
              "      <th></th>\n",
              "      <th></th>\n",
              "      <th></th>\n",
              "      <th></th>\n",
              "      <th></th>\n",
              "      <th></th>\n",
              "      <th></th>\n",
              "    </tr>\n",
              "  </thead>\n",
              "  <tbody>\n",
              "    <tr>\n",
              "      <th>1969-12-31 23:59:59.999999984</th>\n",
              "      <td>4</td>\n",
              "      <td>1027</td>\n",
              "      <td>SE</td>\n",
              "      <td>3.58</td>\n",
              "      <td>0</td>\n",
              "      <td>0</td>\n",
              "      <td>128</td>\n",
              "    </tr>\n",
              "    <tr>\n",
              "      <th>1969-12-31 23:59:59.999999983</th>\n",
              "      <td>5</td>\n",
              "      <td>1027</td>\n",
              "      <td>SE</td>\n",
              "      <td>7.60</td>\n",
              "      <td>0</td>\n",
              "      <td>0</td>\n",
              "      <td>77</td>\n",
              "    </tr>\n",
              "    <tr>\n",
              "      <th>1969-12-31 23:59:59.999999984</th>\n",
              "      <td>4</td>\n",
              "      <td>1027</td>\n",
              "      <td>SE</td>\n",
              "      <td>9.39</td>\n",
              "      <td>0</td>\n",
              "      <td>0</td>\n",
              "      <td>65</td>\n",
              "    </tr>\n",
              "    <tr>\n",
              "      <th>1969-12-31 23:59:59.999999984</th>\n",
              "      <td>1</td>\n",
              "      <td>1028</td>\n",
              "      <td>cv</td>\n",
              "      <td>0.89</td>\n",
              "      <td>0</td>\n",
              "      <td>0</td>\n",
              "      <td>79</td>\n",
              "    </tr>\n",
              "    <tr>\n",
              "      <th>1969-12-31 23:59:59.999999986</th>\n",
              "      <td>0</td>\n",
              "      <td>1028</td>\n",
              "      <td>NE</td>\n",
              "      <td>1.79</td>\n",
              "      <td>0</td>\n",
              "      <td>0</td>\n",
              "      <td>93</td>\n",
              "    </tr>\n",
              "    <tr>\n",
              "      <th>...</th>\n",
              "      <td>...</td>\n",
              "      <td>...</td>\n",
              "      <td>...</td>\n",
              "      <td>...</td>\n",
              "      <td>...</td>\n",
              "      <td>...</td>\n",
              "      <td>...</td>\n",
              "    </tr>\n",
              "    <tr>\n",
              "      <th>1969-12-31 23:59:59.999999977</th>\n",
              "      <td>-2</td>\n",
              "      <td>1034</td>\n",
              "      <td>NW</td>\n",
              "      <td>231.97</td>\n",
              "      <td>0</td>\n",
              "      <td>0</td>\n",
              "      <td>8</td>\n",
              "    </tr>\n",
              "    <tr>\n",
              "      <th>1969-12-31 23:59:59.999999978</th>\n",
              "      <td>-3</td>\n",
              "      <td>1034</td>\n",
              "      <td>NW</td>\n",
              "      <td>237.78</td>\n",
              "      <td>0</td>\n",
              "      <td>0</td>\n",
              "      <td>10</td>\n",
              "    </tr>\n",
              "    <tr>\n",
              "      <th>1969-12-31 23:59:59.999999978</th>\n",
              "      <td>-3</td>\n",
              "      <td>1034</td>\n",
              "      <td>NW</td>\n",
              "      <td>242.70</td>\n",
              "      <td>0</td>\n",
              "      <td>0</td>\n",
              "      <td>10</td>\n",
              "    </tr>\n",
              "    <tr>\n",
              "      <th>1969-12-31 23:59:59.999999978</th>\n",
              "      <td>-4</td>\n",
              "      <td>1034</td>\n",
              "      <td>NW</td>\n",
              "      <td>246.72</td>\n",
              "      <td>0</td>\n",
              "      <td>0</td>\n",
              "      <td>8</td>\n",
              "    </tr>\n",
              "    <tr>\n",
              "      <th>1969-12-31 23:59:59.999999979</th>\n",
              "      <td>-3</td>\n",
              "      <td>1034</td>\n",
              "      <td>NW</td>\n",
              "      <td>249.85</td>\n",
              "      <td>0</td>\n",
              "      <td>0</td>\n",
              "      <td>12</td>\n",
              "    </tr>\n",
              "  </tbody>\n",
              "</table>\n",
              "<p>346 rows × 7 columns</p>\n",
              "</div>\n",
              "    <div class=\"colab-df-buttons\">\n",
              "\n",
              "  <div class=\"colab-df-container\">\n",
              "    <button class=\"colab-df-convert\" onclick=\"convertToInteractive('df-2b6b6ed0-2e40-4628-a3ce-0f91b42de133')\"\n",
              "            title=\"Convert this dataframe to an interactive table.\"\n",
              "            style=\"display:none;\">\n",
              "\n",
              "  <svg xmlns=\"http://www.w3.org/2000/svg\" height=\"24px\" viewBox=\"0 -960 960 960\">\n",
              "    <path d=\"M120-120v-720h720v720H120Zm60-500h600v-160H180v160Zm220 220h160v-160H400v160Zm0 220h160v-160H400v160ZM180-400h160v-160H180v160Zm440 0h160v-160H620v160ZM180-180h160v-160H180v160Zm440 0h160v-160H620v160Z\"/>\n",
              "  </svg>\n",
              "    </button>\n",
              "\n",
              "  <style>\n",
              "    .colab-df-container {\n",
              "      display:flex;\n",
              "      gap: 12px;\n",
              "    }\n",
              "\n",
              "    .colab-df-convert {\n",
              "      background-color: #E8F0FE;\n",
              "      border: none;\n",
              "      border-radius: 50%;\n",
              "      cursor: pointer;\n",
              "      display: none;\n",
              "      fill: #1967D2;\n",
              "      height: 32px;\n",
              "      padding: 0 0 0 0;\n",
              "      width: 32px;\n",
              "    }\n",
              "\n",
              "    .colab-df-convert:hover {\n",
              "      background-color: #E2EBFA;\n",
              "      box-shadow: 0px 1px 2px rgba(60, 64, 67, 0.3), 0px 1px 3px 1px rgba(60, 64, 67, 0.15);\n",
              "      fill: #174EA6;\n",
              "    }\n",
              "\n",
              "    .colab-df-buttons div {\n",
              "      margin-bottom: 4px;\n",
              "    }\n",
              "\n",
              "    [theme=dark] .colab-df-convert {\n",
              "      background-color: #3B4455;\n",
              "      fill: #D2E3FC;\n",
              "    }\n",
              "\n",
              "    [theme=dark] .colab-df-convert:hover {\n",
              "      background-color: #434B5C;\n",
              "      box-shadow: 0px 1px 3px 1px rgba(0, 0, 0, 0.15);\n",
              "      filter: drop-shadow(0px 1px 2px rgba(0, 0, 0, 0.3));\n",
              "      fill: #FFFFFF;\n",
              "    }\n",
              "  </style>\n",
              "\n",
              "    <script>\n",
              "      const buttonEl =\n",
              "        document.querySelector('#df-2b6b6ed0-2e40-4628-a3ce-0f91b42de133 button.colab-df-convert');\n",
              "      buttonEl.style.display =\n",
              "        google.colab.kernel.accessAllowed ? 'block' : 'none';\n",
              "\n",
              "      async function convertToInteractive(key) {\n",
              "        const element = document.querySelector('#df-2b6b6ed0-2e40-4628-a3ce-0f91b42de133');\n",
              "        const dataTable =\n",
              "          await google.colab.kernel.invokeFunction('convertToInteractive',\n",
              "                                                    [key], {});\n",
              "        if (!dataTable) return;\n",
              "\n",
              "        const docLinkHtml = 'Like what you see? Visit the ' +\n",
              "          '<a target=\"_blank\" href=https://colab.research.google.com/notebooks/data_table.ipynb>data table notebook</a>'\n",
              "          + ' to learn more about interactive tables.';\n",
              "        element.innerHTML = '';\n",
              "        dataTable['output_type'] = 'display_data';\n",
              "        await google.colab.output.renderOutput(dataTable, element);\n",
              "        const docLink = document.createElement('div');\n",
              "        docLink.innerHTML = docLinkHtml;\n",
              "        element.appendChild(docLink);\n",
              "      }\n",
              "    </script>\n",
              "  </div>\n",
              "\n",
              "\n",
              "<div id=\"df-72fd6337-568a-4f3e-a1d2-b199df40daa1\">\n",
              "  <button class=\"colab-df-quickchart\" onclick=\"quickchart('df-72fd6337-568a-4f3e-a1d2-b199df40daa1')\"\n",
              "            title=\"Suggest charts\"\n",
              "            style=\"display:none;\">\n",
              "\n",
              "<svg xmlns=\"http://www.w3.org/2000/svg\" height=\"24px\"viewBox=\"0 0 24 24\"\n",
              "     width=\"24px\">\n",
              "    <g>\n",
              "        <path d=\"M19 3H5c-1.1 0-2 .9-2 2v14c0 1.1.9 2 2 2h14c1.1 0 2-.9 2-2V5c0-1.1-.9-2-2-2zM9 17H7v-7h2v7zm4 0h-2V7h2v10zm4 0h-2v-4h2v4z\"/>\n",
              "    </g>\n",
              "</svg>\n",
              "  </button>\n",
              "\n",
              "<style>\n",
              "  .colab-df-quickchart {\n",
              "      --bg-color: #E8F0FE;\n",
              "      --fill-color: #1967D2;\n",
              "      --hover-bg-color: #E2EBFA;\n",
              "      --hover-fill-color: #174EA6;\n",
              "      --disabled-fill-color: #AAA;\n",
              "      --disabled-bg-color: #DDD;\n",
              "  }\n",
              "\n",
              "  [theme=dark] .colab-df-quickchart {\n",
              "      --bg-color: #3B4455;\n",
              "      --fill-color: #D2E3FC;\n",
              "      --hover-bg-color: #434B5C;\n",
              "      --hover-fill-color: #FFFFFF;\n",
              "      --disabled-bg-color: #3B4455;\n",
              "      --disabled-fill-color: #666;\n",
              "  }\n",
              "\n",
              "  .colab-df-quickchart {\n",
              "    background-color: var(--bg-color);\n",
              "    border: none;\n",
              "    border-radius: 50%;\n",
              "    cursor: pointer;\n",
              "    display: none;\n",
              "    fill: var(--fill-color);\n",
              "    height: 32px;\n",
              "    padding: 0;\n",
              "    width: 32px;\n",
              "  }\n",
              "\n",
              "  .colab-df-quickchart:hover {\n",
              "    background-color: var(--hover-bg-color);\n",
              "    box-shadow: 0 1px 2px rgba(60, 64, 67, 0.3), 0 1px 3px 1px rgba(60, 64, 67, 0.15);\n",
              "    fill: var(--button-hover-fill-color);\n",
              "  }\n",
              "\n",
              "  .colab-df-quickchart-complete:disabled,\n",
              "  .colab-df-quickchart-complete:disabled:hover {\n",
              "    background-color: var(--disabled-bg-color);\n",
              "    fill: var(--disabled-fill-color);\n",
              "    box-shadow: none;\n",
              "  }\n",
              "\n",
              "  .colab-df-spinner {\n",
              "    border: 2px solid var(--fill-color);\n",
              "    border-color: transparent;\n",
              "    border-bottom-color: var(--fill-color);\n",
              "    animation:\n",
              "      spin 1s steps(1) infinite;\n",
              "  }\n",
              "\n",
              "  @keyframes spin {\n",
              "    0% {\n",
              "      border-color: transparent;\n",
              "      border-bottom-color: var(--fill-color);\n",
              "      border-left-color: var(--fill-color);\n",
              "    }\n",
              "    20% {\n",
              "      border-color: transparent;\n",
              "      border-left-color: var(--fill-color);\n",
              "      border-top-color: var(--fill-color);\n",
              "    }\n",
              "    30% {\n",
              "      border-color: transparent;\n",
              "      border-left-color: var(--fill-color);\n",
              "      border-top-color: var(--fill-color);\n",
              "      border-right-color: var(--fill-color);\n",
              "    }\n",
              "    40% {\n",
              "      border-color: transparent;\n",
              "      border-right-color: var(--fill-color);\n",
              "      border-top-color: var(--fill-color);\n",
              "    }\n",
              "    60% {\n",
              "      border-color: transparent;\n",
              "      border-right-color: var(--fill-color);\n",
              "    }\n",
              "    80% {\n",
              "      border-color: transparent;\n",
              "      border-right-color: var(--fill-color);\n",
              "      border-bottom-color: var(--fill-color);\n",
              "    }\n",
              "    90% {\n",
              "      border-color: transparent;\n",
              "      border-bottom-color: var(--fill-color);\n",
              "    }\n",
              "  }\n",
              "</style>\n",
              "\n",
              "  <script>\n",
              "    async function quickchart(key) {\n",
              "      const quickchartButtonEl =\n",
              "        document.querySelector('#' + key + ' button');\n",
              "      quickchartButtonEl.disabled = true;  // To prevent multiple clicks.\n",
              "      quickchartButtonEl.classList.add('colab-df-spinner');\n",
              "      try {\n",
              "        const charts = await google.colab.kernel.invokeFunction(\n",
              "            'suggestCharts', [key], {});\n",
              "      } catch (error) {\n",
              "        console.error('Error during call to suggestCharts:', error);\n",
              "      }\n",
              "      quickchartButtonEl.classList.remove('colab-df-spinner');\n",
              "      quickchartButtonEl.classList.add('colab-df-quickchart-complete');\n",
              "    }\n",
              "    (() => {\n",
              "      let quickchartButtonEl =\n",
              "        document.querySelector('#df-72fd6337-568a-4f3e-a1d2-b199df40daa1 button');\n",
              "      quickchartButtonEl.style.display =\n",
              "        google.colab.kernel.accessAllowed ? 'block' : 'none';\n",
              "    })();\n",
              "  </script>\n",
              "</div>\n",
              "\n",
              "  <div id=\"id_e493a900-d385-441c-b95d-56faad685695\">\n",
              "    <style>\n",
              "      .colab-df-generate {\n",
              "        background-color: #E8F0FE;\n",
              "        border: none;\n",
              "        border-radius: 50%;\n",
              "        cursor: pointer;\n",
              "        display: none;\n",
              "        fill: #1967D2;\n",
              "        height: 32px;\n",
              "        padding: 0 0 0 0;\n",
              "        width: 32px;\n",
              "      }\n",
              "\n",
              "      .colab-df-generate:hover {\n",
              "        background-color: #E2EBFA;\n",
              "        box-shadow: 0px 1px 2px rgba(60, 64, 67, 0.3), 0px 1px 3px 1px rgba(60, 64, 67, 0.15);\n",
              "        fill: #174EA6;\n",
              "      }\n",
              "\n",
              "      [theme=dark] .colab-df-generate {\n",
              "        background-color: #3B4455;\n",
              "        fill: #D2E3FC;\n",
              "      }\n",
              "\n",
              "      [theme=dark] .colab-df-generate:hover {\n",
              "        background-color: #434B5C;\n",
              "        box-shadow: 0px 1px 3px 1px rgba(0, 0, 0, 0.15);\n",
              "        filter: drop-shadow(0px 1px 2px rgba(0, 0, 0, 0.3));\n",
              "        fill: #FFFFFF;\n",
              "      }\n",
              "    </style>\n",
              "    <button class=\"colab-df-generate\" onclick=\"generateWithVariable('data')\"\n",
              "            title=\"Generate code using this dataframe.\"\n",
              "            style=\"display:none;\">\n",
              "\n",
              "  <svg xmlns=\"http://www.w3.org/2000/svg\" height=\"24px\"viewBox=\"0 0 24 24\"\n",
              "       width=\"24px\">\n",
              "    <path d=\"M7,19H8.4L18.45,9,17,7.55,7,17.6ZM5,21V16.75L18.45,3.32a2,2,0,0,1,2.83,0l1.4,1.43a1.91,1.91,0,0,1,.58,1.4,1.91,1.91,0,0,1-.58,1.4L9.25,21ZM18.45,9,17,7.55Zm-12,3A5.31,5.31,0,0,0,4.9,8.1,5.31,5.31,0,0,0,1,6.5,5.31,5.31,0,0,0,4.9,4.9,5.31,5.31,0,0,0,6.5,1,5.31,5.31,0,0,0,8.1,4.9,5.31,5.31,0,0,0,12,6.5,5.46,5.46,0,0,0,6.5,12Z\"/>\n",
              "  </svg>\n",
              "    </button>\n",
              "    <script>\n",
              "      (() => {\n",
              "      const buttonEl =\n",
              "        document.querySelector('#id_e493a900-d385-441c-b95d-56faad685695 button.colab-df-generate');\n",
              "      buttonEl.style.display =\n",
              "        google.colab.kernel.accessAllowed ? 'block' : 'none';\n",
              "\n",
              "      buttonEl.onclick = () => {\n",
              "        google.colab.notebook.generateWithVariable('data');\n",
              "      }\n",
              "      })();\n",
              "    </script>\n",
              "  </div>\n",
              "\n",
              "    </div>\n",
              "  </div>\n"
            ],
            "application/vnd.google.colaboratory.intrinsic+json": {
              "type": "dataframe",
              "variable_name": "data",
              "summary": "{\n  \"name\": \"data\",\n  \"rows\": 346,\n  \"fields\": [\n    {\n      \"column\": \"dew\",\n      \"properties\": {\n        \"dtype\": \"date\",\n        \"min\": \"1969-12-31 23:59:59.999999973\",\n        \"max\": \"1969-12-31 23:59:59.999999994\",\n        \"num_unique_values\": 20,\n        \"samples\": [\n          \"1969-12-31 23:59:59.999999984\",\n          \"1969-12-31 23:59:59.999999977\",\n          \"1969-12-31 23:59:59.999999989\"\n        ],\n        \"semantic_type\": \"\",\n        \"description\": \"\"\n      }\n    },\n    {\n      \"column\": \"temp\",\n      \"properties\": {\n        \"dtype\": \"number\",\n        \"std\": 4,\n        \"min\": -9,\n        \"max\": 11,\n        \"num_unique_values\": 21,\n        \"samples\": [\n          4,\n          9,\n          6\n        ],\n        \"semantic_type\": \"\",\n        \"description\": \"\"\n      }\n    },\n    {\n      \"column\": \"press\",\n      \"properties\": {\n        \"dtype\": \"number\",\n        \"std\": 5,\n        \"min\": 1011,\n        \"max\": 1035,\n        \"num_unique_values\": 25,\n        \"samples\": [\n          1023,\n          1034,\n          1027\n        ],\n        \"semantic_type\": \"\",\n        \"description\": \"\"\n      }\n    },\n    {\n      \"column\": \"wnd_dir\",\n      \"properties\": {\n        \"dtype\": \"category\",\n        \"num_unique_values\": 4,\n        \"samples\": [\n          \"cv\",\n          \"NW\",\n          \"SE\"\n        ],\n        \"semantic_type\": \"\",\n        \"description\": \"\"\n      }\n    },\n    {\n      \"column\": \"wnd_spd\",\n      \"properties\": {\n        \"dtype\": \"number\",\n        \"std\": 107.5000121329844,\n        \"min\": 0.45,\n        \"max\": 441.18,\n        \"num_unique_values\": 187,\n        \"samples\": [\n          246.72,\n          441.18,\n          282.96\n        ],\n        \"semantic_type\": \"\",\n        \"description\": \"\"\n      }\n    },\n    {\n      \"column\": \"snow\",\n      \"properties\": {\n        \"dtype\": \"number\",\n        \"std\": 0,\n        \"min\": 0,\n        \"max\": 0,\n        \"num_unique_values\": 1,\n        \"samples\": [\n          0\n        ],\n        \"semantic_type\": \"\",\n        \"description\": \"\"\n      }\n    },\n    {\n      \"column\": \"rain\",\n      \"properties\": {\n        \"dtype\": \"number\",\n        \"std\": 0,\n        \"min\": 0,\n        \"max\": 0,\n        \"num_unique_values\": 1,\n        \"samples\": [\n          0\n        ],\n        \"semantic_type\": \"\",\n        \"description\": \"\"\n      }\n    },\n    {\n      \"column\": \"pollution\",\n      \"properties\": {\n        \"dtype\": \"number\",\n        \"std\": 98,\n        \"min\": 0,\n        \"max\": 444,\n        \"num_unique_values\": 178,\n        \"samples\": [\n          124\n        ],\n        \"semantic_type\": \"\",\n        \"description\": \"\"\n      }\n    }\n  ]\n}"
            }
          },
          "metadata": {},
          "execution_count": 3
        }
      ]
    },
    {
      "cell_type": "code",
      "source": [
        "\n",
        "# Select features and target\n",
        "features = data.drop(columns=['pollution'])  # Example: Drop pollution if it's the target\n",
        "\n",
        "features\n"
      ],
      "metadata": {
        "colab": {
          "base_uri": "https://localhost:8080/",
          "height": 455
        },
        "id": "9zerdc6ZjZo-",
        "outputId": "e86097da-d268-4da9-d9fd-2d1d3da365fd"
      },
      "execution_count": null,
      "outputs": [
        {
          "output_type": "execute_result",
          "data": {
            "text/plain": [
              "                               temp  press wnd_dir  wnd_spd  snow  rain\n",
              "dew                                                                    \n",
              "1969-12-31 23:59:59.999999984     4   1027      SE     3.58     0     0\n",
              "1969-12-31 23:59:59.999999983     5   1027      SE     7.60     0     0\n",
              "1969-12-31 23:59:59.999999984     4   1027      SE     9.39     0     0\n",
              "1969-12-31 23:59:59.999999984     1   1028      cv     0.89     0     0\n",
              "1969-12-31 23:59:59.999999986     0   1028      NE     1.79     0     0\n",
              "...                             ...    ...     ...      ...   ...   ...\n",
              "1969-12-31 23:59:59.999999977    -2   1034      NW   231.97     0     0\n",
              "1969-12-31 23:59:59.999999978    -3   1034      NW   237.78     0     0\n",
              "1969-12-31 23:59:59.999999978    -3   1034      NW   242.70     0     0\n",
              "1969-12-31 23:59:59.999999978    -4   1034      NW   246.72     0     0\n",
              "1969-12-31 23:59:59.999999979    -3   1034      NW   249.85     0     0\n",
              "\n",
              "[346 rows x 6 columns]"
            ],
            "text/html": [
              "\n",
              "  <div id=\"df-e36b8dd3-28cf-49e3-ba02-d57d2defb9af\" class=\"colab-df-container\">\n",
              "    <div>\n",
              "<style scoped>\n",
              "    .dataframe tbody tr th:only-of-type {\n",
              "        vertical-align: middle;\n",
              "    }\n",
              "\n",
              "    .dataframe tbody tr th {\n",
              "        vertical-align: top;\n",
              "    }\n",
              "\n",
              "    .dataframe thead th {\n",
              "        text-align: right;\n",
              "    }\n",
              "</style>\n",
              "<table border=\"1\" class=\"dataframe\">\n",
              "  <thead>\n",
              "    <tr style=\"text-align: right;\">\n",
              "      <th></th>\n",
              "      <th>temp</th>\n",
              "      <th>press</th>\n",
              "      <th>wnd_dir</th>\n",
              "      <th>wnd_spd</th>\n",
              "      <th>snow</th>\n",
              "      <th>rain</th>\n",
              "    </tr>\n",
              "    <tr>\n",
              "      <th>dew</th>\n",
              "      <th></th>\n",
              "      <th></th>\n",
              "      <th></th>\n",
              "      <th></th>\n",
              "      <th></th>\n",
              "      <th></th>\n",
              "    </tr>\n",
              "  </thead>\n",
              "  <tbody>\n",
              "    <tr>\n",
              "      <th>1969-12-31 23:59:59.999999984</th>\n",
              "      <td>4</td>\n",
              "      <td>1027</td>\n",
              "      <td>SE</td>\n",
              "      <td>3.58</td>\n",
              "      <td>0</td>\n",
              "      <td>0</td>\n",
              "    </tr>\n",
              "    <tr>\n",
              "      <th>1969-12-31 23:59:59.999999983</th>\n",
              "      <td>5</td>\n",
              "      <td>1027</td>\n",
              "      <td>SE</td>\n",
              "      <td>7.60</td>\n",
              "      <td>0</td>\n",
              "      <td>0</td>\n",
              "    </tr>\n",
              "    <tr>\n",
              "      <th>1969-12-31 23:59:59.999999984</th>\n",
              "      <td>4</td>\n",
              "      <td>1027</td>\n",
              "      <td>SE</td>\n",
              "      <td>9.39</td>\n",
              "      <td>0</td>\n",
              "      <td>0</td>\n",
              "    </tr>\n",
              "    <tr>\n",
              "      <th>1969-12-31 23:59:59.999999984</th>\n",
              "      <td>1</td>\n",
              "      <td>1028</td>\n",
              "      <td>cv</td>\n",
              "      <td>0.89</td>\n",
              "      <td>0</td>\n",
              "      <td>0</td>\n",
              "    </tr>\n",
              "    <tr>\n",
              "      <th>1969-12-31 23:59:59.999999986</th>\n",
              "      <td>0</td>\n",
              "      <td>1028</td>\n",
              "      <td>NE</td>\n",
              "      <td>1.79</td>\n",
              "      <td>0</td>\n",
              "      <td>0</td>\n",
              "    </tr>\n",
              "    <tr>\n",
              "      <th>...</th>\n",
              "      <td>...</td>\n",
              "      <td>...</td>\n",
              "      <td>...</td>\n",
              "      <td>...</td>\n",
              "      <td>...</td>\n",
              "      <td>...</td>\n",
              "    </tr>\n",
              "    <tr>\n",
              "      <th>1969-12-31 23:59:59.999999977</th>\n",
              "      <td>-2</td>\n",
              "      <td>1034</td>\n",
              "      <td>NW</td>\n",
              "      <td>231.97</td>\n",
              "      <td>0</td>\n",
              "      <td>0</td>\n",
              "    </tr>\n",
              "    <tr>\n",
              "      <th>1969-12-31 23:59:59.999999978</th>\n",
              "      <td>-3</td>\n",
              "      <td>1034</td>\n",
              "      <td>NW</td>\n",
              "      <td>237.78</td>\n",
              "      <td>0</td>\n",
              "      <td>0</td>\n",
              "    </tr>\n",
              "    <tr>\n",
              "      <th>1969-12-31 23:59:59.999999978</th>\n",
              "      <td>-3</td>\n",
              "      <td>1034</td>\n",
              "      <td>NW</td>\n",
              "      <td>242.70</td>\n",
              "      <td>0</td>\n",
              "      <td>0</td>\n",
              "    </tr>\n",
              "    <tr>\n",
              "      <th>1969-12-31 23:59:59.999999978</th>\n",
              "      <td>-4</td>\n",
              "      <td>1034</td>\n",
              "      <td>NW</td>\n",
              "      <td>246.72</td>\n",
              "      <td>0</td>\n",
              "      <td>0</td>\n",
              "    </tr>\n",
              "    <tr>\n",
              "      <th>1969-12-31 23:59:59.999999979</th>\n",
              "      <td>-3</td>\n",
              "      <td>1034</td>\n",
              "      <td>NW</td>\n",
              "      <td>249.85</td>\n",
              "      <td>0</td>\n",
              "      <td>0</td>\n",
              "    </tr>\n",
              "  </tbody>\n",
              "</table>\n",
              "<p>346 rows × 6 columns</p>\n",
              "</div>\n",
              "    <div class=\"colab-df-buttons\">\n",
              "\n",
              "  <div class=\"colab-df-container\">\n",
              "    <button class=\"colab-df-convert\" onclick=\"convertToInteractive('df-e36b8dd3-28cf-49e3-ba02-d57d2defb9af')\"\n",
              "            title=\"Convert this dataframe to an interactive table.\"\n",
              "            style=\"display:none;\">\n",
              "\n",
              "  <svg xmlns=\"http://www.w3.org/2000/svg\" height=\"24px\" viewBox=\"0 -960 960 960\">\n",
              "    <path d=\"M120-120v-720h720v720H120Zm60-500h600v-160H180v160Zm220 220h160v-160H400v160Zm0 220h160v-160H400v160ZM180-400h160v-160H180v160Zm440 0h160v-160H620v160ZM180-180h160v-160H180v160Zm440 0h160v-160H620v160Z\"/>\n",
              "  </svg>\n",
              "    </button>\n",
              "\n",
              "  <style>\n",
              "    .colab-df-container {\n",
              "      display:flex;\n",
              "      gap: 12px;\n",
              "    }\n",
              "\n",
              "    .colab-df-convert {\n",
              "      background-color: #E8F0FE;\n",
              "      border: none;\n",
              "      border-radius: 50%;\n",
              "      cursor: pointer;\n",
              "      display: none;\n",
              "      fill: #1967D2;\n",
              "      height: 32px;\n",
              "      padding: 0 0 0 0;\n",
              "      width: 32px;\n",
              "    }\n",
              "\n",
              "    .colab-df-convert:hover {\n",
              "      background-color: #E2EBFA;\n",
              "      box-shadow: 0px 1px 2px rgba(60, 64, 67, 0.3), 0px 1px 3px 1px rgba(60, 64, 67, 0.15);\n",
              "      fill: #174EA6;\n",
              "    }\n",
              "\n",
              "    .colab-df-buttons div {\n",
              "      margin-bottom: 4px;\n",
              "    }\n",
              "\n",
              "    [theme=dark] .colab-df-convert {\n",
              "      background-color: #3B4455;\n",
              "      fill: #D2E3FC;\n",
              "    }\n",
              "\n",
              "    [theme=dark] .colab-df-convert:hover {\n",
              "      background-color: #434B5C;\n",
              "      box-shadow: 0px 1px 3px 1px rgba(0, 0, 0, 0.15);\n",
              "      filter: drop-shadow(0px 1px 2px rgba(0, 0, 0, 0.3));\n",
              "      fill: #FFFFFF;\n",
              "    }\n",
              "  </style>\n",
              "\n",
              "    <script>\n",
              "      const buttonEl =\n",
              "        document.querySelector('#df-e36b8dd3-28cf-49e3-ba02-d57d2defb9af button.colab-df-convert');\n",
              "      buttonEl.style.display =\n",
              "        google.colab.kernel.accessAllowed ? 'block' : 'none';\n",
              "\n",
              "      async function convertToInteractive(key) {\n",
              "        const element = document.querySelector('#df-e36b8dd3-28cf-49e3-ba02-d57d2defb9af');\n",
              "        const dataTable =\n",
              "          await google.colab.kernel.invokeFunction('convertToInteractive',\n",
              "                                                    [key], {});\n",
              "        if (!dataTable) return;\n",
              "\n",
              "        const docLinkHtml = 'Like what you see? Visit the ' +\n",
              "          '<a target=\"_blank\" href=https://colab.research.google.com/notebooks/data_table.ipynb>data table notebook</a>'\n",
              "          + ' to learn more about interactive tables.';\n",
              "        element.innerHTML = '';\n",
              "        dataTable['output_type'] = 'display_data';\n",
              "        await google.colab.output.renderOutput(dataTable, element);\n",
              "        const docLink = document.createElement('div');\n",
              "        docLink.innerHTML = docLinkHtml;\n",
              "        element.appendChild(docLink);\n",
              "      }\n",
              "    </script>\n",
              "  </div>\n",
              "\n",
              "\n",
              "<div id=\"df-d1ca4f8a-b778-4bd1-a2ce-a789fda60d69\">\n",
              "  <button class=\"colab-df-quickchart\" onclick=\"quickchart('df-d1ca4f8a-b778-4bd1-a2ce-a789fda60d69')\"\n",
              "            title=\"Suggest charts\"\n",
              "            style=\"display:none;\">\n",
              "\n",
              "<svg xmlns=\"http://www.w3.org/2000/svg\" height=\"24px\"viewBox=\"0 0 24 24\"\n",
              "     width=\"24px\">\n",
              "    <g>\n",
              "        <path d=\"M19 3H5c-1.1 0-2 .9-2 2v14c0 1.1.9 2 2 2h14c1.1 0 2-.9 2-2V5c0-1.1-.9-2-2-2zM9 17H7v-7h2v7zm4 0h-2V7h2v10zm4 0h-2v-4h2v4z\"/>\n",
              "    </g>\n",
              "</svg>\n",
              "  </button>\n",
              "\n",
              "<style>\n",
              "  .colab-df-quickchart {\n",
              "      --bg-color: #E8F0FE;\n",
              "      --fill-color: #1967D2;\n",
              "      --hover-bg-color: #E2EBFA;\n",
              "      --hover-fill-color: #174EA6;\n",
              "      --disabled-fill-color: #AAA;\n",
              "      --disabled-bg-color: #DDD;\n",
              "  }\n",
              "\n",
              "  [theme=dark] .colab-df-quickchart {\n",
              "      --bg-color: #3B4455;\n",
              "      --fill-color: #D2E3FC;\n",
              "      --hover-bg-color: #434B5C;\n",
              "      --hover-fill-color: #FFFFFF;\n",
              "      --disabled-bg-color: #3B4455;\n",
              "      --disabled-fill-color: #666;\n",
              "  }\n",
              "\n",
              "  .colab-df-quickchart {\n",
              "    background-color: var(--bg-color);\n",
              "    border: none;\n",
              "    border-radius: 50%;\n",
              "    cursor: pointer;\n",
              "    display: none;\n",
              "    fill: var(--fill-color);\n",
              "    height: 32px;\n",
              "    padding: 0;\n",
              "    width: 32px;\n",
              "  }\n",
              "\n",
              "  .colab-df-quickchart:hover {\n",
              "    background-color: var(--hover-bg-color);\n",
              "    box-shadow: 0 1px 2px rgba(60, 64, 67, 0.3), 0 1px 3px 1px rgba(60, 64, 67, 0.15);\n",
              "    fill: var(--button-hover-fill-color);\n",
              "  }\n",
              "\n",
              "  .colab-df-quickchart-complete:disabled,\n",
              "  .colab-df-quickchart-complete:disabled:hover {\n",
              "    background-color: var(--disabled-bg-color);\n",
              "    fill: var(--disabled-fill-color);\n",
              "    box-shadow: none;\n",
              "  }\n",
              "\n",
              "  .colab-df-spinner {\n",
              "    border: 2px solid var(--fill-color);\n",
              "    border-color: transparent;\n",
              "    border-bottom-color: var(--fill-color);\n",
              "    animation:\n",
              "      spin 1s steps(1) infinite;\n",
              "  }\n",
              "\n",
              "  @keyframes spin {\n",
              "    0% {\n",
              "      border-color: transparent;\n",
              "      border-bottom-color: var(--fill-color);\n",
              "      border-left-color: var(--fill-color);\n",
              "    }\n",
              "    20% {\n",
              "      border-color: transparent;\n",
              "      border-left-color: var(--fill-color);\n",
              "      border-top-color: var(--fill-color);\n",
              "    }\n",
              "    30% {\n",
              "      border-color: transparent;\n",
              "      border-left-color: var(--fill-color);\n",
              "      border-top-color: var(--fill-color);\n",
              "      border-right-color: var(--fill-color);\n",
              "    }\n",
              "    40% {\n",
              "      border-color: transparent;\n",
              "      border-right-color: var(--fill-color);\n",
              "      border-top-color: var(--fill-color);\n",
              "    }\n",
              "    60% {\n",
              "      border-color: transparent;\n",
              "      border-right-color: var(--fill-color);\n",
              "    }\n",
              "    80% {\n",
              "      border-color: transparent;\n",
              "      border-right-color: var(--fill-color);\n",
              "      border-bottom-color: var(--fill-color);\n",
              "    }\n",
              "    90% {\n",
              "      border-color: transparent;\n",
              "      border-bottom-color: var(--fill-color);\n",
              "    }\n",
              "  }\n",
              "</style>\n",
              "\n",
              "  <script>\n",
              "    async function quickchart(key) {\n",
              "      const quickchartButtonEl =\n",
              "        document.querySelector('#' + key + ' button');\n",
              "      quickchartButtonEl.disabled = true;  // To prevent multiple clicks.\n",
              "      quickchartButtonEl.classList.add('colab-df-spinner');\n",
              "      try {\n",
              "        const charts = await google.colab.kernel.invokeFunction(\n",
              "            'suggestCharts', [key], {});\n",
              "      } catch (error) {\n",
              "        console.error('Error during call to suggestCharts:', error);\n",
              "      }\n",
              "      quickchartButtonEl.classList.remove('colab-df-spinner');\n",
              "      quickchartButtonEl.classList.add('colab-df-quickchart-complete');\n",
              "    }\n",
              "    (() => {\n",
              "      let quickchartButtonEl =\n",
              "        document.querySelector('#df-d1ca4f8a-b778-4bd1-a2ce-a789fda60d69 button');\n",
              "      quickchartButtonEl.style.display =\n",
              "        google.colab.kernel.accessAllowed ? 'block' : 'none';\n",
              "    })();\n",
              "  </script>\n",
              "</div>\n",
              "\n",
              "  <div id=\"id_0d6e9309-42bd-479d-9fab-1dd4c0d71dac\">\n",
              "    <style>\n",
              "      .colab-df-generate {\n",
              "        background-color: #E8F0FE;\n",
              "        border: none;\n",
              "        border-radius: 50%;\n",
              "        cursor: pointer;\n",
              "        display: none;\n",
              "        fill: #1967D2;\n",
              "        height: 32px;\n",
              "        padding: 0 0 0 0;\n",
              "        width: 32px;\n",
              "      }\n",
              "\n",
              "      .colab-df-generate:hover {\n",
              "        background-color: #E2EBFA;\n",
              "        box-shadow: 0px 1px 2px rgba(60, 64, 67, 0.3), 0px 1px 3px 1px rgba(60, 64, 67, 0.15);\n",
              "        fill: #174EA6;\n",
              "      }\n",
              "\n",
              "      [theme=dark] .colab-df-generate {\n",
              "        background-color: #3B4455;\n",
              "        fill: #D2E3FC;\n",
              "      }\n",
              "\n",
              "      [theme=dark] .colab-df-generate:hover {\n",
              "        background-color: #434B5C;\n",
              "        box-shadow: 0px 1px 3px 1px rgba(0, 0, 0, 0.15);\n",
              "        filter: drop-shadow(0px 1px 2px rgba(0, 0, 0, 0.3));\n",
              "        fill: #FFFFFF;\n",
              "      }\n",
              "    </style>\n",
              "    <button class=\"colab-df-generate\" onclick=\"generateWithVariable('features')\"\n",
              "            title=\"Generate code using this dataframe.\"\n",
              "            style=\"display:none;\">\n",
              "\n",
              "  <svg xmlns=\"http://www.w3.org/2000/svg\" height=\"24px\"viewBox=\"0 0 24 24\"\n",
              "       width=\"24px\">\n",
              "    <path d=\"M7,19H8.4L18.45,9,17,7.55,7,17.6ZM5,21V16.75L18.45,3.32a2,2,0,0,1,2.83,0l1.4,1.43a1.91,1.91,0,0,1,.58,1.4,1.91,1.91,0,0,1-.58,1.4L9.25,21ZM18.45,9,17,7.55Zm-12,3A5.31,5.31,0,0,0,4.9,8.1,5.31,5.31,0,0,0,1,6.5,5.31,5.31,0,0,0,4.9,4.9,5.31,5.31,0,0,0,6.5,1,5.31,5.31,0,0,0,8.1,4.9,5.31,5.31,0,0,0,12,6.5,5.46,5.46,0,0,0,6.5,12Z\"/>\n",
              "  </svg>\n",
              "    </button>\n",
              "    <script>\n",
              "      (() => {\n",
              "      const buttonEl =\n",
              "        document.querySelector('#id_0d6e9309-42bd-479d-9fab-1dd4c0d71dac button.colab-df-generate');\n",
              "      buttonEl.style.display =\n",
              "        google.colab.kernel.accessAllowed ? 'block' : 'none';\n",
              "\n",
              "      buttonEl.onclick = () => {\n",
              "        google.colab.notebook.generateWithVariable('features');\n",
              "      }\n",
              "      })();\n",
              "    </script>\n",
              "  </div>\n",
              "\n",
              "    </div>\n",
              "  </div>\n"
            ],
            "application/vnd.google.colaboratory.intrinsic+json": {
              "type": "dataframe",
              "variable_name": "features",
              "summary": "{\n  \"name\": \"features\",\n  \"rows\": 346,\n  \"fields\": [\n    {\n      \"column\": \"dew\",\n      \"properties\": {\n        \"dtype\": \"date\",\n        \"min\": \"1969-12-31 23:59:59.999999973\",\n        \"max\": \"1969-12-31 23:59:59.999999994\",\n        \"num_unique_values\": 20,\n        \"samples\": [\n          \"1969-12-31 23:59:59.999999984\",\n          \"1969-12-31 23:59:59.999999977\",\n          \"1969-12-31 23:59:59.999999989\"\n        ],\n        \"semantic_type\": \"\",\n        \"description\": \"\"\n      }\n    },\n    {\n      \"column\": \"temp\",\n      \"properties\": {\n        \"dtype\": \"number\",\n        \"std\": 4,\n        \"min\": -9,\n        \"max\": 11,\n        \"num_unique_values\": 21,\n        \"samples\": [\n          4,\n          9,\n          6\n        ],\n        \"semantic_type\": \"\",\n        \"description\": \"\"\n      }\n    },\n    {\n      \"column\": \"press\",\n      \"properties\": {\n        \"dtype\": \"number\",\n        \"std\": 5,\n        \"min\": 1011,\n        \"max\": 1035,\n        \"num_unique_values\": 25,\n        \"samples\": [\n          1023,\n          1034,\n          1027\n        ],\n        \"semantic_type\": \"\",\n        \"description\": \"\"\n      }\n    },\n    {\n      \"column\": \"wnd_dir\",\n      \"properties\": {\n        \"dtype\": \"category\",\n        \"num_unique_values\": 4,\n        \"samples\": [\n          \"cv\",\n          \"NW\",\n          \"SE\"\n        ],\n        \"semantic_type\": \"\",\n        \"description\": \"\"\n      }\n    },\n    {\n      \"column\": \"wnd_spd\",\n      \"properties\": {\n        \"dtype\": \"number\",\n        \"std\": 107.5000121329844,\n        \"min\": 0.45,\n        \"max\": 441.18,\n        \"num_unique_values\": 187,\n        \"samples\": [\n          246.72,\n          441.18,\n          282.96\n        ],\n        \"semantic_type\": \"\",\n        \"description\": \"\"\n      }\n    },\n    {\n      \"column\": \"snow\",\n      \"properties\": {\n        \"dtype\": \"number\",\n        \"std\": 0,\n        \"min\": 0,\n        \"max\": 0,\n        \"num_unique_values\": 1,\n        \"samples\": [\n          0\n        ],\n        \"semantic_type\": \"\",\n        \"description\": \"\"\n      }\n    },\n    {\n      \"column\": \"rain\",\n      \"properties\": {\n        \"dtype\": \"number\",\n        \"std\": 0,\n        \"min\": 0,\n        \"max\": 0,\n        \"num_unique_values\": 1,\n        \"samples\": [\n          0\n        ],\n        \"semantic_type\": \"\",\n        \"description\": \"\"\n      }\n    }\n  ]\n}"
            }
          },
          "metadata": {},
          "execution_count": 6
        }
      ]
    },
    {
      "cell_type": "code",
      "source": [
        "target = data['pollution']\n",
        "target"
      ],
      "metadata": {
        "colab": {
          "base_uri": "https://localhost:8080/",
          "height": 489
        },
        "id": "neh1AidKjot1",
        "outputId": "ce6afa2e-822e-4c7c-b986-afd596984cfc"
      },
      "execution_count": null,
      "outputs": [
        {
          "output_type": "execute_result",
          "data": {
            "text/plain": [
              "dew\n",
              "1969-12-31 23:59:59.999999984    128\n",
              "1969-12-31 23:59:59.999999983     77\n",
              "1969-12-31 23:59:59.999999984     65\n",
              "1969-12-31 23:59:59.999999984     79\n",
              "1969-12-31 23:59:59.999999986     93\n",
              "                                ... \n",
              "1969-12-31 23:59:59.999999977      8\n",
              "1969-12-31 23:59:59.999999978     10\n",
              "1969-12-31 23:59:59.999999978     10\n",
              "1969-12-31 23:59:59.999999978      8\n",
              "1969-12-31 23:59:59.999999979     12\n",
              "Name: pollution, Length: 346, dtype: int64"
            ],
            "text/html": [
              "<div>\n",
              "<style scoped>\n",
              "    .dataframe tbody tr th:only-of-type {\n",
              "        vertical-align: middle;\n",
              "    }\n",
              "\n",
              "    .dataframe tbody tr th {\n",
              "        vertical-align: top;\n",
              "    }\n",
              "\n",
              "    .dataframe thead th {\n",
              "        text-align: right;\n",
              "    }\n",
              "</style>\n",
              "<table border=\"1\" class=\"dataframe\">\n",
              "  <thead>\n",
              "    <tr style=\"text-align: right;\">\n",
              "      <th></th>\n",
              "      <th>pollution</th>\n",
              "    </tr>\n",
              "    <tr>\n",
              "      <th>dew</th>\n",
              "      <th></th>\n",
              "    </tr>\n",
              "  </thead>\n",
              "  <tbody>\n",
              "    <tr>\n",
              "      <th>1969-12-31 23:59:59.999999984</th>\n",
              "      <td>128</td>\n",
              "    </tr>\n",
              "    <tr>\n",
              "      <th>1969-12-31 23:59:59.999999983</th>\n",
              "      <td>77</td>\n",
              "    </tr>\n",
              "    <tr>\n",
              "      <th>1969-12-31 23:59:59.999999984</th>\n",
              "      <td>65</td>\n",
              "    </tr>\n",
              "    <tr>\n",
              "      <th>1969-12-31 23:59:59.999999984</th>\n",
              "      <td>79</td>\n",
              "    </tr>\n",
              "    <tr>\n",
              "      <th>1969-12-31 23:59:59.999999986</th>\n",
              "      <td>93</td>\n",
              "    </tr>\n",
              "    <tr>\n",
              "      <th>...</th>\n",
              "      <td>...</td>\n",
              "    </tr>\n",
              "    <tr>\n",
              "      <th>1969-12-31 23:59:59.999999977</th>\n",
              "      <td>8</td>\n",
              "    </tr>\n",
              "    <tr>\n",
              "      <th>1969-12-31 23:59:59.999999978</th>\n",
              "      <td>10</td>\n",
              "    </tr>\n",
              "    <tr>\n",
              "      <th>1969-12-31 23:59:59.999999978</th>\n",
              "      <td>10</td>\n",
              "    </tr>\n",
              "    <tr>\n",
              "      <th>1969-12-31 23:59:59.999999978</th>\n",
              "      <td>8</td>\n",
              "    </tr>\n",
              "    <tr>\n",
              "      <th>1969-12-31 23:59:59.999999979</th>\n",
              "      <td>12</td>\n",
              "    </tr>\n",
              "  </tbody>\n",
              "</table>\n",
              "<p>346 rows × 1 columns</p>\n",
              "</div><br><label><b>dtype:</b> int64</label>"
            ]
          },
          "metadata": {},
          "execution_count": 7
        }
      ]
    },
    {
      "cell_type": "code",
      "source": [
        "# Normalize the data\n",
        "scaler = MinMaxScaler(feature_range=(0, 1))\n",
        "\n",
        "scaled_target = scaler.fit_transform(target.values.reshape(-1, 1))\n",
        "scaled_target\n"
      ],
      "metadata": {
        "colab": {
          "base_uri": "https://localhost:8080/"
        },
        "id": "ZfUGg7X_j5v-",
        "outputId": "b11ecc84-670d-4513-fbcc-1171a80f3453"
      },
      "execution_count": null,
      "outputs": [
        {
          "output_type": "execute_result",
          "data": {
            "text/plain": [
              "array([[0.28828829],\n",
              "       [0.17342342],\n",
              "       [0.1463964 ],\n",
              "       [0.17792793],\n",
              "       [0.20945946],\n",
              "       [0.23423423],\n",
              "       [0.45495495],\n",
              "       [0.5518018 ],\n",
              "       [0.50675676],\n",
              "       [0.40540541],\n",
              "       [0.40540541],\n",
              "       [0.38288288],\n",
              "       [0.36036036],\n",
              "       [0.32882883],\n",
              "       [0.28153153],\n",
              "       [0.29279279],\n",
              "       [0.31081081],\n",
              "       [0.33108108],\n",
              "       [0.30405405],\n",
              "       [0.30630631],\n",
              "       [0.27927928],\n",
              "       [0.30405405],\n",
              "       [0.2972973 ],\n",
              "       [0.29954955],\n",
              "       [0.31981982],\n",
              "       [0.36711712],\n",
              "       [0.37387387],\n",
              "       [0.42567568],\n",
              "       [0.45495495],\n",
              "       [0.51351351],\n",
              "       [0.54054054],\n",
              "       [0.52927928],\n",
              "       [0.56756757],\n",
              "       [0.57207207],\n",
              "       [0.61711712],\n",
              "       [0.56981982],\n",
              "       [0.55855856],\n",
              "       [0.49324324],\n",
              "       [0.4481982 ],\n",
              "       [0.44594595],\n",
              "       [0.45945946],\n",
              "       [0.14864865],\n",
              "       [0.04954955],\n",
              "       [0.04279279],\n",
              "       [0.03603604],\n",
              "       [0.02477477],\n",
              "       [0.03828829],\n",
              "       [0.03378378],\n",
              "       [0.03153153],\n",
              "       [0.02702703],\n",
              "       [0.01576577],\n",
              "       [0.01576577],\n",
              "       [0.03378378],\n",
              "       [0.01576577],\n",
              "       [0.02252252],\n",
              "       [0.01801802],\n",
              "       [0.02702703],\n",
              "       [0.02477477],\n",
              "       [0.02027027],\n",
              "       [0.03153153],\n",
              "       [0.01801802],\n",
              "       [0.02702703],\n",
              "       [0.02477477],\n",
              "       [0.02702703],\n",
              "       [0.03378378],\n",
              "       [0.02702703],\n",
              "       [0.        ],\n",
              "       [0.        ],\n",
              "       [0.        ],\n",
              "       [0.        ],\n",
              "       [0.        ],\n",
              "       [0.        ],\n",
              "       [0.        ],\n",
              "       [0.        ],\n",
              "       [0.        ],\n",
              "       [0.02702703],\n",
              "       [0.03153153],\n",
              "       [0.02252252],\n",
              "       [0.01576577],\n",
              "       [0.01801802],\n",
              "       [0.01351351],\n",
              "       [0.00900901],\n",
              "       [0.00900901],\n",
              "       [0.01576577],\n",
              "       [0.01351351],\n",
              "       [0.01801802],\n",
              "       [0.01576577],\n",
              "       [0.01351351],\n",
              "       [0.02027027],\n",
              "       [0.02027027],\n",
              "       [0.02027027],\n",
              "       [0.01801802],\n",
              "       [0.02477477],\n",
              "       [0.03828829],\n",
              "       [0.0472973 ],\n",
              "       [0.02702703],\n",
              "       [0.04504505],\n",
              "       [0.03378378],\n",
              "       [0.02927928],\n",
              "       [0.03153153],\n",
              "       [0.04504505],\n",
              "       [0.07207207],\n",
              "       [0.07432432],\n",
              "       [0.1036036 ],\n",
              "       [0.11936937],\n",
              "       [0.14414414],\n",
              "       [0.11936937],\n",
              "       [0.16216216],\n",
              "       [0.19144144],\n",
              "       [0.21396396],\n",
              "       [0.22072072],\n",
              "       [0.23648649],\n",
              "       [0.26351351],\n",
              "       [0.26351351],\n",
              "       [0.28378378],\n",
              "       [0.32657658],\n",
              "       [0.30630631],\n",
              "       [0.21396396],\n",
              "       [0.18018018],\n",
              "       [0.11486486],\n",
              "       [0.1509009 ],\n",
              "       [0.15990991],\n",
              "       [0.14189189],\n",
              "       [0.18018018],\n",
              "       [0.16891892],\n",
              "       [0.19594595],\n",
              "       [0.23648649],\n",
              "       [0.28153153],\n",
              "       [0.25900901],\n",
              "       [0.27702703],\n",
              "       [0.31981982],\n",
              "       [0.4009009 ],\n",
              "       [0.36711712],\n",
              "       [0.36486486],\n",
              "       [0.32657658],\n",
              "       [0.25675676],\n",
              "       [0.18918919],\n",
              "       [0.22972973],\n",
              "       [0.18468468],\n",
              "       [0.1981982 ],\n",
              "       [0.2027027 ],\n",
              "       [0.1981982 ],\n",
              "       [0.21396396],\n",
              "       [0.18243243],\n",
              "       [0.20045045],\n",
              "       [0.21396396],\n",
              "       [0.12837838],\n",
              "       [0.13963964],\n",
              "       [0.52702703],\n",
              "       [0.26576577],\n",
              "       [0.24324324],\n",
              "       [0.07432432],\n",
              "       [0.0472973 ],\n",
              "       [0.03153153],\n",
              "       [0.02927928],\n",
              "       [0.02027027],\n",
              "       [0.02252252],\n",
              "       [0.02477477],\n",
              "       [0.02027027],\n",
              "       [0.03378378],\n",
              "       [0.02927928],\n",
              "       [0.02702703],\n",
              "       [0.02477477],\n",
              "       [0.04054054],\n",
              "       [0.03828829],\n",
              "       [0.02477477],\n",
              "       [0.02702703],\n",
              "       [0.03153153],\n",
              "       [0.03153153],\n",
              "       [0.02702703],\n",
              "       [0.03603604],\n",
              "       [0.03603604],\n",
              "       [0.02702703],\n",
              "       [0.04504505],\n",
              "       [0.0518018 ],\n",
              "       [0.03603604],\n",
              "       [0.03828829],\n",
              "       [0.04054054],\n",
              "       [0.04504505],\n",
              "       [0.04954955],\n",
              "       [0.04954955],\n",
              "       [0.02252252],\n",
              "       [0.03153153],\n",
              "       [0.03153153],\n",
              "       [0.04054054],\n",
              "       [0.02927928],\n",
              "       [0.04054054],\n",
              "       [0.06081081],\n",
              "       [0.08558559],\n",
              "       [0.05630631],\n",
              "       [0.03603604],\n",
              "       [0.03603604],\n",
              "       [0.02027027],\n",
              "       [0.01801802],\n",
              "       [0.04054054],\n",
              "       [0.06981982],\n",
              "       [0.08558559],\n",
              "       [0.11036036],\n",
              "       [0.11711712],\n",
              "       [0.11261261],\n",
              "       [0.11486486],\n",
              "       [0.15540541],\n",
              "       [0.20945946],\n",
              "       [0.21171171],\n",
              "       [0.33108108],\n",
              "       [0.50900901],\n",
              "       [0.40315315],\n",
              "       [0.34459459],\n",
              "       [0.29954955],\n",
              "       [0.28603604],\n",
              "       [0.26801802],\n",
              "       [0.25      ],\n",
              "       [0.26576577],\n",
              "       [0.26126126],\n",
              "       [0.29504505],\n",
              "       [0.34234234],\n",
              "       [0.36711712],\n",
              "       [0.38513514],\n",
              "       [0.44594595],\n",
              "       [0.52702703],\n",
              "       [0.58558559],\n",
              "       [0.61036036],\n",
              "       [0.54954955],\n",
              "       [0.54504505],\n",
              "       [0.47297297],\n",
              "       [0.43693694],\n",
              "       [0.36711712],\n",
              "       [0.43693694],\n",
              "       [0.42117117],\n",
              "       [0.48648649],\n",
              "       [0.50675676],\n",
              "       [0.4481982 ],\n",
              "       [0.46621622],\n",
              "       [0.51126126],\n",
              "       [0.58333333],\n",
              "       [0.40990991],\n",
              "       [0.41666667],\n",
              "       [0.43018018],\n",
              "       [0.43693694],\n",
              "       [0.43693694],\n",
              "       [0.43243243],\n",
              "       [0.46846847],\n",
              "       [0.5045045 ],\n",
              "       [0.56081081],\n",
              "       [0.71396396],\n",
              "       [0.73873874],\n",
              "       [0.78603604],\n",
              "       [0.73648649],\n",
              "       [0.78378378],\n",
              "       [0.81756757],\n",
              "       [0.86711712],\n",
              "       [0.88513514],\n",
              "       [0.87387387],\n",
              "       [1.        ],\n",
              "       [0.75225225],\n",
              "       [0.63963964],\n",
              "       [0.59459459],\n",
              "       [0.49774775],\n",
              "       [0.36036036],\n",
              "       [0.36036036],\n",
              "       [0.20720721],\n",
              "       [0.13288288],\n",
              "       [0.15540541],\n",
              "       [0.10810811],\n",
              "       [0.07207207],\n",
              "       [0.07432432],\n",
              "       [0.10135135],\n",
              "       [0.09459459],\n",
              "       [0.09234234],\n",
              "       [0.24774775],\n",
              "       [0.39414414],\n",
              "       [0.65990991],\n",
              "       [0.72972973],\n",
              "       [0.76801802],\n",
              "       [0.81531532],\n",
              "       [0.83783784],\n",
              "       [0.84009009],\n",
              "       [0.83783784],\n",
              "       [0.71621622],\n",
              "       [0.42342342],\n",
              "       [0.38513514],\n",
              "       [0.30630631],\n",
              "       [0.27927928],\n",
              "       [0.31756757],\n",
              "       [0.2972973 ],\n",
              "       [0.3018018 ],\n",
              "       [0.12612613],\n",
              "       [0.10810811],\n",
              "       [0.06081081],\n",
              "       [0.06306306],\n",
              "       [0.04504505],\n",
              "       [0.04954955],\n",
              "       [0.27027027],\n",
              "       [0.2454955 ],\n",
              "       [0.25225225],\n",
              "       [0.28828829],\n",
              "       [0.36936937],\n",
              "       [0.35810811],\n",
              "       [0.42567568],\n",
              "       [0.21846847],\n",
              "       [0.18243243],\n",
              "       [0.06306306],\n",
              "       [0.05630631],\n",
              "       [0.02027027],\n",
              "       [0.02027027],\n",
              "       [0.02927928],\n",
              "       [0.03828829],\n",
              "       [0.03603604],\n",
              "       [0.05630631],\n",
              "       [0.10810811],\n",
              "       [0.11036036],\n",
              "       [0.16441441],\n",
              "       [0.1463964 ],\n",
              "       [0.12387387],\n",
              "       [0.13513514],\n",
              "       [0.14189189],\n",
              "       [0.17792793],\n",
              "       [0.07882883],\n",
              "       [0.05855856],\n",
              "       [0.04504505],\n",
              "       [0.01801802],\n",
              "       [0.03603604],\n",
              "       [0.02252252],\n",
              "       [0.02477477],\n",
              "       [0.04504505],\n",
              "       [0.02027027],\n",
              "       [0.01801802],\n",
              "       [0.02027027],\n",
              "       [0.01801802],\n",
              "       [0.01801802],\n",
              "       [0.01801802],\n",
              "       [0.01801802],\n",
              "       [0.01576577],\n",
              "       [0.02702703],\n",
              "       [0.03828829],\n",
              "       [0.02477477],\n",
              "       [0.02027027],\n",
              "       [0.02477477],\n",
              "       [0.01801802],\n",
              "       [0.02027027],\n",
              "       [0.02252252],\n",
              "       [0.01801802],\n",
              "       [0.02252252],\n",
              "       [0.02252252],\n",
              "       [0.01801802],\n",
              "       [0.02702703]])"
            ]
          },
          "metadata": {},
          "execution_count": 12
        }
      ]
    },
    {
      "cell_type": "code",
      "source": [
        "def create_sequences(data, time_steps=1):\n",
        "    X, y = [], []\n",
        "    for i in range(len(data) - time_steps):\n",
        "        X.append(data[i:i + time_steps, :-1])  # All columns except the target\n",
        "        y.append(data[i + time_steps, -1])    # Target column\n",
        "    return np.array(X), np.array(y)\n",
        "\n",
        "time_steps = 10  # Number of previous time steps to consider\n",
        "X, y = create_sequences(scaled_target, time_steps)\n",
        "\n",
        "\n",
        "# Split data\n",
        "train_size = int(0.8 * len(X))\n",
        "X_train, X_test = X[:train_size], X[train_size:]\n",
        "y_train, y_test = y[:train_size], y[train_size:]\n"
      ],
      "metadata": {
        "id": "ZTLpCyR1lxj9"
      },
      "execution_count": null,
      "outputs": []
    },
    {
      "cell_type": "code",
      "source": [
        "\n",
        "from tensorflow.keras.layers import LSTM, Dense, Dropout\n",
        "#build\n",
        "model = Sequential([\n",
        "    LSTM(50, activation='relu', return_sequences=True, input_shape=(X_train.shape[1], X_train.shape[2])),\n",
        "    Dropout(0.2),\n",
        "    LSTM(50, activation='relu'),\n",
        "    Dropout(0.2),\n",
        "    Dense(1)  # Single output for regression\n",
        "])\n",
        "\n",
        "model.compile(optimizer='adam', loss='mean_squared_error')\n"
      ],
      "metadata": {
        "id": "sENeMsAImYum"
      },
      "execution_count": null,
      "outputs": []
    },
    {
      "cell_type": "code",
      "source": [
        "#training the model\n",
        "history = model.fit(X_train, y_train, validation_data=(X_test, y_test), epochs=50, batch_size=32, verbose=1)\n",
        "history"
      ],
      "metadata": {
        "colab": {
          "base_uri": "https://localhost:8080/"
        },
        "id": "1aVoR_JonAkf",
        "outputId": "6c2f525b-d8d1-4b66-ef59-5426092c1787"
      },
      "execution_count": null,
      "outputs": [
        {
          "output_type": "stream",
          "name": "stdout",
          "text": [
            "Epoch 1/50\n",
            "\u001b[1m9/9\u001b[0m \u001b[32m━━━━━━━━━━━━━━━━━━━━\u001b[0m\u001b[37m\u001b[0m \u001b[1m4s\u001b[0m 62ms/step - loss: 0.1049 - val_loss: 0.0323\n",
            "Epoch 2/50\n",
            "\u001b[1m9/9\u001b[0m \u001b[32m━━━━━━━━━━━━━━━━━━━━\u001b[0m\u001b[37m\u001b[0m \u001b[1m0s\u001b[0m 16ms/step - loss: 0.1063 - val_loss: 0.0303\n",
            "Epoch 3/50\n",
            "\u001b[1m9/9\u001b[0m \u001b[32m━━━━━━━━━━━━━━━━━━━━\u001b[0m\u001b[37m\u001b[0m \u001b[1m0s\u001b[0m 16ms/step - loss: 0.1139 - val_loss: 0.0286\n",
            "Epoch 4/50\n",
            "\u001b[1m9/9\u001b[0m \u001b[32m━━━━━━━━━━━━━━━━━━━━\u001b[0m\u001b[37m\u001b[0m \u001b[1m0s\u001b[0m 16ms/step - loss: 0.1048 - val_loss: 0.0270\n",
            "Epoch 5/50\n",
            "\u001b[1m9/9\u001b[0m \u001b[32m━━━━━━━━━━━━━━━━━━━━\u001b[0m\u001b[37m\u001b[0m \u001b[1m0s\u001b[0m 17ms/step - loss: 0.1102 - val_loss: 0.0256\n",
            "Epoch 6/50\n",
            "\u001b[1m9/9\u001b[0m \u001b[32m━━━━━━━━━━━━━━━━━━━━\u001b[0m\u001b[37m\u001b[0m \u001b[1m0s\u001b[0m 16ms/step - loss: 0.0940 - val_loss: 0.0244\n",
            "Epoch 7/50\n",
            "\u001b[1m9/9\u001b[0m \u001b[32m━━━━━━━━━━━━━━━━━━━━\u001b[0m\u001b[37m\u001b[0m \u001b[1m0s\u001b[0m 16ms/step - loss: 0.0811 - val_loss: 0.0234\n",
            "Epoch 8/50\n",
            "\u001b[1m9/9\u001b[0m \u001b[32m━━━━━━━━━━━━━━━━━━━━\u001b[0m\u001b[37m\u001b[0m \u001b[1m0s\u001b[0m 16ms/step - loss: 0.0900 - val_loss: 0.0224\n",
            "Epoch 9/50\n",
            "\u001b[1m9/9\u001b[0m \u001b[32m━━━━━━━━━━━━━━━━━━━━\u001b[0m\u001b[37m\u001b[0m \u001b[1m0s\u001b[0m 20ms/step - loss: 0.0747 - val_loss: 0.0217\n",
            "Epoch 10/50\n",
            "\u001b[1m9/9\u001b[0m \u001b[32m━━━━━━━━━━━━━━━━━━━━\u001b[0m\u001b[37m\u001b[0m \u001b[1m0s\u001b[0m 16ms/step - loss: 0.0725 - val_loss: 0.0210\n",
            "Epoch 11/50\n",
            "\u001b[1m9/9\u001b[0m \u001b[32m━━━━━━━━━━━━━━━━━━━━\u001b[0m\u001b[37m\u001b[0m \u001b[1m0s\u001b[0m 15ms/step - loss: 0.0782 - val_loss: 0.0205\n",
            "Epoch 12/50\n",
            "\u001b[1m9/9\u001b[0m \u001b[32m━━━━━━━━━━━━━━━━━━━━\u001b[0m\u001b[37m\u001b[0m \u001b[1m0s\u001b[0m 17ms/step - loss: 0.0717 - val_loss: 0.0201\n",
            "Epoch 13/50\n",
            "\u001b[1m9/9\u001b[0m \u001b[32m━━━━━━━━━━━━━━━━━━━━\u001b[0m\u001b[37m\u001b[0m \u001b[1m0s\u001b[0m 17ms/step - loss: 0.0631 - val_loss: 0.0198\n",
            "Epoch 14/50\n",
            "\u001b[1m9/9\u001b[0m \u001b[32m━━━━━━━━━━━━━━━━━━━━\u001b[0m\u001b[37m\u001b[0m \u001b[1m0s\u001b[0m 17ms/step - loss: 0.0579 - val_loss: 0.0196\n",
            "Epoch 15/50\n",
            "\u001b[1m9/9\u001b[0m \u001b[32m━━━━━━━━━━━━━━━━━━━━\u001b[0m\u001b[37m\u001b[0m \u001b[1m0s\u001b[0m 16ms/step - loss: 0.0771 - val_loss: 0.0195\n",
            "Epoch 16/50\n",
            "\u001b[1m9/9\u001b[0m \u001b[32m━━━━━━━━━━━━━━━━━━━━\u001b[0m\u001b[37m\u001b[0m \u001b[1m0s\u001b[0m 16ms/step - loss: 0.0667 - val_loss: 0.0195\n",
            "Epoch 17/50\n",
            "\u001b[1m9/9\u001b[0m \u001b[32m━━━━━━━━━━━━━━━━━━━━\u001b[0m\u001b[37m\u001b[0m \u001b[1m0s\u001b[0m 15ms/step - loss: 0.0640 - val_loss: 0.0196\n",
            "Epoch 18/50\n",
            "\u001b[1m9/9\u001b[0m \u001b[32m━━━━━━━━━━━━━━━━━━━━\u001b[0m\u001b[37m\u001b[0m \u001b[1m0s\u001b[0m 16ms/step - loss: 0.0655 - val_loss: 0.0197\n",
            "Epoch 19/50\n",
            "\u001b[1m9/9\u001b[0m \u001b[32m━━━━━━━━━━━━━━━━━━━━\u001b[0m\u001b[37m\u001b[0m \u001b[1m0s\u001b[0m 16ms/step - loss: 0.0603 - val_loss: 0.0199\n",
            "Epoch 20/50\n",
            "\u001b[1m9/9\u001b[0m \u001b[32m━━━━━━━━━━━━━━━━━━━━\u001b[0m\u001b[37m\u001b[0m \u001b[1m0s\u001b[0m 14ms/step - loss: 0.0665 - val_loss: 0.0201\n",
            "Epoch 21/50\n",
            "\u001b[1m9/9\u001b[0m \u001b[32m━━━━━━━━━━━━━━━━━━━━\u001b[0m\u001b[37m\u001b[0m \u001b[1m0s\u001b[0m 16ms/step - loss: 0.0550 - val_loss: 0.0204\n",
            "Epoch 22/50\n",
            "\u001b[1m9/9\u001b[0m \u001b[32m━━━━━━━━━━━━━━━━━━━━\u001b[0m\u001b[37m\u001b[0m \u001b[1m0s\u001b[0m 15ms/step - loss: 0.0615 - val_loss: 0.0207\n",
            "Epoch 23/50\n",
            "\u001b[1m9/9\u001b[0m \u001b[32m━━━━━━━━━━━━━━━━━━━━\u001b[0m\u001b[37m\u001b[0m \u001b[1m0s\u001b[0m 23ms/step - loss: 0.0684 - val_loss: 0.0211\n",
            "Epoch 24/50\n",
            "\u001b[1m9/9\u001b[0m \u001b[32m━━━━━━━━━━━━━━━━━━━━\u001b[0m\u001b[37m\u001b[0m \u001b[1m0s\u001b[0m 24ms/step - loss: 0.0621 - val_loss: 0.0215\n",
            "Epoch 25/50\n",
            "\u001b[1m9/9\u001b[0m \u001b[32m━━━━━━━━━━━━━━━━━━━━\u001b[0m\u001b[37m\u001b[0m \u001b[1m0s\u001b[0m 23ms/step - loss: 0.0554 - val_loss: 0.0219\n",
            "Epoch 26/50\n",
            "\u001b[1m9/9\u001b[0m \u001b[32m━━━━━━━━━━━━━━━━━━━━\u001b[0m\u001b[37m\u001b[0m \u001b[1m0s\u001b[0m 25ms/step - loss: 0.0610 - val_loss: 0.0223\n",
            "Epoch 27/50\n",
            "\u001b[1m9/9\u001b[0m \u001b[32m━━━━━━━━━━━━━━━━━━━━\u001b[0m\u001b[37m\u001b[0m \u001b[1m0s\u001b[0m 22ms/step - loss: 0.0633 - val_loss: 0.0227\n",
            "Epoch 28/50\n",
            "\u001b[1m9/9\u001b[0m \u001b[32m━━━━━━━━━━━━━━━━━━━━\u001b[0m\u001b[37m\u001b[0m \u001b[1m0s\u001b[0m 23ms/step - loss: 0.0512 - val_loss: 0.0232\n",
            "Epoch 29/50\n",
            "\u001b[1m9/9\u001b[0m \u001b[32m━━━━━━━━━━━━━━━━━━━━\u001b[0m\u001b[37m\u001b[0m \u001b[1m0s\u001b[0m 25ms/step - loss: 0.0591 - val_loss: 0.0236\n",
            "Epoch 30/50\n",
            "\u001b[1m9/9\u001b[0m \u001b[32m━━━━━━━━━━━━━━━━━━━━\u001b[0m\u001b[37m\u001b[0m \u001b[1m0s\u001b[0m 30ms/step - loss: 0.0528 - val_loss: 0.0241\n",
            "Epoch 31/50\n",
            "\u001b[1m9/9\u001b[0m \u001b[32m━━━━━━━━━━━━━━━━━━━━\u001b[0m\u001b[37m\u001b[0m \u001b[1m1s\u001b[0m 25ms/step - loss: 0.0501 - val_loss: 0.0246\n",
            "Epoch 32/50\n",
            "\u001b[1m9/9\u001b[0m \u001b[32m━━━━━━━━━━━━━━━━━━━━\u001b[0m\u001b[37m\u001b[0m \u001b[1m0s\u001b[0m 26ms/step - loss: 0.0490 - val_loss: 0.0250\n",
            "Epoch 33/50\n",
            "\u001b[1m9/9\u001b[0m \u001b[32m━━━━━━━━━━━━━━━━━━━━\u001b[0m\u001b[37m\u001b[0m \u001b[1m0s\u001b[0m 16ms/step - loss: 0.0590 - val_loss: 0.0256\n",
            "Epoch 34/50\n",
            "\u001b[1m9/9\u001b[0m \u001b[32m━━━━━━━━━━━━━━━━━━━━\u001b[0m\u001b[37m\u001b[0m \u001b[1m0s\u001b[0m 16ms/step - loss: 0.0599 - val_loss: 0.0260\n",
            "Epoch 35/50\n",
            "\u001b[1m9/9\u001b[0m \u001b[32m━━━━━━━━━━━━━━━━━━━━\u001b[0m\u001b[37m\u001b[0m \u001b[1m0s\u001b[0m 16ms/step - loss: 0.0556 - val_loss: 0.0265\n",
            "Epoch 36/50\n",
            "\u001b[1m9/9\u001b[0m \u001b[32m━━━━━━━━━━━━━━━━━━━━\u001b[0m\u001b[37m\u001b[0m \u001b[1m0s\u001b[0m 18ms/step - loss: 0.0612 - val_loss: 0.0268\n",
            "Epoch 37/50\n",
            "\u001b[1m9/9\u001b[0m \u001b[32m━━━━━━━━━━━━━━━━━━━━\u001b[0m\u001b[37m\u001b[0m \u001b[1m0s\u001b[0m 17ms/step - loss: 0.0558 - val_loss: 0.0272\n",
            "Epoch 38/50\n",
            "\u001b[1m9/9\u001b[0m \u001b[32m━━━━━━━━━━━━━━━━━━━━\u001b[0m\u001b[37m\u001b[0m \u001b[1m0s\u001b[0m 16ms/step - loss: 0.0552 - val_loss: 0.0275\n",
            "Epoch 39/50\n",
            "\u001b[1m9/9\u001b[0m \u001b[32m━━━━━━━━━━━━━━━━━━━━\u001b[0m\u001b[37m\u001b[0m \u001b[1m0s\u001b[0m 17ms/step - loss: 0.0615 - val_loss: 0.0279\n",
            "Epoch 40/50\n",
            "\u001b[1m9/9\u001b[0m \u001b[32m━━━━━━━━━━━━━━━━━━━━\u001b[0m\u001b[37m\u001b[0m \u001b[1m0s\u001b[0m 18ms/step - loss: 0.0521 - val_loss: 0.0282\n",
            "Epoch 41/50\n",
            "\u001b[1m9/9\u001b[0m \u001b[32m━━━━━━━━━━━━━━━━━━━━\u001b[0m\u001b[37m\u001b[0m \u001b[1m0s\u001b[0m 16ms/step - loss: 0.0553 - val_loss: 0.0285\n",
            "Epoch 42/50\n",
            "\u001b[1m9/9\u001b[0m \u001b[32m━━━━━━━━━━━━━━━━━━━━\u001b[0m\u001b[37m\u001b[0m \u001b[1m0s\u001b[0m 15ms/step - loss: 0.0571 - val_loss: 0.0289\n",
            "Epoch 43/50\n",
            "\u001b[1m9/9\u001b[0m \u001b[32m━━━━━━━━━━━━━━━━━━━━\u001b[0m\u001b[37m\u001b[0m \u001b[1m0s\u001b[0m 15ms/step - loss: 0.0556 - val_loss: 0.0291\n",
            "Epoch 44/50\n",
            "\u001b[1m9/9\u001b[0m \u001b[32m━━━━━━━━━━━━━━━━━━━━\u001b[0m\u001b[37m\u001b[0m \u001b[1m0s\u001b[0m 19ms/step - loss: 0.0556 - val_loss: 0.0293\n",
            "Epoch 45/50\n",
            "\u001b[1m9/9\u001b[0m \u001b[32m━━━━━━━━━━━━━━━━━━━━\u001b[0m\u001b[37m\u001b[0m \u001b[1m0s\u001b[0m 17ms/step - loss: 0.0516 - val_loss: 0.0294\n",
            "Epoch 46/50\n",
            "\u001b[1m9/9\u001b[0m \u001b[32m━━━━━━━━━━━━━━━━━━━━\u001b[0m\u001b[37m\u001b[0m \u001b[1m0s\u001b[0m 16ms/step - loss: 0.0517 - val_loss: 0.0296\n",
            "Epoch 47/50\n",
            "\u001b[1m9/9\u001b[0m \u001b[32m━━━━━━━━━━━━━━━━━━━━\u001b[0m\u001b[37m\u001b[0m \u001b[1m0s\u001b[0m 16ms/step - loss: 0.0528 - val_loss: 0.0299\n",
            "Epoch 48/50\n",
            "\u001b[1m9/9\u001b[0m \u001b[32m━━━━━━━━━━━━━━━━━━━━\u001b[0m\u001b[37m\u001b[0m \u001b[1m0s\u001b[0m 15ms/step - loss: 0.0503 - val_loss: 0.0301\n",
            "Epoch 49/50\n",
            "\u001b[1m9/9\u001b[0m \u001b[32m━━━━━━━━━━━━━━━━━━━━\u001b[0m\u001b[37m\u001b[0m \u001b[1m0s\u001b[0m 16ms/step - loss: 0.0567 - val_loss: 0.0303\n",
            "Epoch 50/50\n",
            "\u001b[1m9/9\u001b[0m \u001b[32m━━━━━━━━━━━━━━━━━━━━\u001b[0m\u001b[37m\u001b[0m \u001b[1m0s\u001b[0m 17ms/step - loss: 0.0542 - val_loss: 0.0305\n"
          ]
        },
        {
          "output_type": "execute_result",
          "data": {
            "text/plain": [
              "<keras.src.callbacks.history.History at 0x7d5f48d28550>"
            ]
          },
          "metadata": {},
          "execution_count": 24
        }
      ]
    },
    {
      "cell_type": "code",
      "source": [
        "\n",
        "# Evaluate the model\n",
        "loss = model.evaluate(X_test, y_test)\n",
        "print(f\"Test Loss: {loss}\")\n",
        "\n",
        "# Make predictions\n",
        "y_pred = model.predict(X_test)\n",
        "y_pred = scaler.inverse_transform(np.concatenate((np.zeros((len(y_pred), scaled_target.shape[1]-1)), y_pred), axis=1))[:, -1]\n"
      ],
      "metadata": {
        "colab": {
          "base_uri": "https://localhost:8080/"
        },
        "id": "G6WZqanyn6tb",
        "outputId": "97926ca4-4423-48af-8452-2edcc6a06dcb"
      },
      "execution_count": null,
      "outputs": [
        {
          "output_type": "stream",
          "name": "stdout",
          "text": [
            "\u001b[1m3/3\u001b[0m \u001b[32m━━━━━━━━━━━━━━━━━━━━\u001b[0m\u001b[37m\u001b[0m \u001b[1m0s\u001b[0m 7ms/step - loss: 0.0294 \n",
            "Test Loss: 0.030536174774169922\n",
            "\u001b[1m3/3\u001b[0m \u001b[32m━━━━━━━━━━━━━━━━━━━━\u001b[0m\u001b[37m\u001b[0m \u001b[1m1s\u001b[0m 134ms/step\n"
          ]
        }
      ]
    },
    {
      "cell_type": "code",
      "source": [
        "y_pred"
      ],
      "metadata": {
        "colab": {
          "base_uri": "https://localhost:8080/"
        },
        "id": "WG6WuqqxoJbK",
        "outputId": "7c76c892-9648-4212-ef9b-5d4c125028d5"
      },
      "execution_count": null,
      "outputs": [
        {
          "output_type": "execute_result",
          "data": {
            "text/plain": [
              "array([100.81732839, 100.81732839, 100.81732839, 100.81732839,\n",
              "       100.81732839, 100.81732839, 100.81732839, 100.81732839,\n",
              "       100.81732839, 100.81732839, 100.81732839, 100.81732839,\n",
              "       100.81732839, 100.81732839, 100.81732839, 100.81732839,\n",
              "       100.81732839, 100.81732839, 100.81732839, 100.81732839,\n",
              "       100.81732839, 100.81732839, 100.81732839, 100.81732839,\n",
              "       100.81732839, 100.81732839, 100.81732839, 100.81732839,\n",
              "       100.81732839, 100.81732839, 100.81732839, 100.81732839,\n",
              "       100.81732839, 100.81732839, 100.81732839, 100.81732839,\n",
              "       100.81732839, 100.81732839, 100.81732839, 100.81732839,\n",
              "       100.81732839, 100.81732839, 100.81732839, 100.81732839,\n",
              "       100.81732839, 100.81732839, 100.81732839, 100.81732839,\n",
              "       100.81732839, 100.81732839, 100.81732839, 100.81732839,\n",
              "       100.81732839, 100.81732839, 100.81732839, 100.81732839,\n",
              "       100.81732839, 100.81732839, 100.81732839, 100.81732839,\n",
              "       100.81732839, 100.81732839, 100.81732839, 100.81732839,\n",
              "       100.81732839, 100.81732839, 100.81732839, 100.81732839])"
            ]
          },
          "metadata": {},
          "execution_count": 26
        }
      ]
    },
    {
      "cell_type": "code",
      "source": [
        "#plotting\n",
        "import matplotlib.pyplot as plt\n",
        "\n",
        "plt.figure(figsize=(10, 6))\n",
        "plt.plot(range(len(y_test)), scaler.inverse_transform(np.concatenate((np.zeros((len(y_test), scaled_target.shape[1]-1)), y_test.reshape(-1, 1)), axis=1))[:, -1], label='Actual')\n",
        "plt.plot(range(len(y_pred)), y_pred, label='Predicted')\n",
        "plt.legend()\n",
        "plt.show()\n"
      ],
      "metadata": {
        "colab": {
          "base_uri": "https://localhost:8080/",
          "height": 522
        },
        "id": "ro0ZNHPfoNcU",
        "outputId": "04e593dc-a375-4b81-900b-c14a2bebbe3d"
      },
      "execution_count": null,
      "outputs": [
        {
          "output_type": "display_data",
          "data": {
            "text/plain": [
              "<Figure size 1000x600 with 1 Axes>"
            ],
            "image/png": "[encoded data removed]"
          },
          "metadata": {}
        }
      ]
    },
    {
      "cell_type": "code",
      "source": [
        "#1.\n",
        "\n",
        "import pandas as pd\n",
        "import numpy as np\n",
        "from sklearn.preprocessing import MinMaxScaler\n",
        "from tensorflow.keras.models import Sequential\n",
        "from tensorflow.keras.layers import LSTM, Dense\n",
        "from sklearn.model_selection import train_test_split\n",
        "import matplotlib.pyplot as plt\n",
        "\n",
        "# 1. Load the Dataset\n",
        "\n",
        "dataset_path = \"pollution_test_data1.csv\"\n",
        "df = pd.read_csv(dataset_path)\n",
        "df\n"
      ],
      "metadata": {
        "id": "fjUUBOHDoYKL",
        "colab": {
          "base_uri": "https://localhost:8080/",
          "height": 423
        },
        "outputId": "d8a953f7-0064-4f95-eac0-c1be82a4a103"
      },
      "execution_count": null,
      "outputs": [
        {
          "output_type": "execute_result",
          "data": {
            "text/plain": [
              "     dew  temp  press  pollution  wnd_spd  snow  rain\n",
              "0    -16     4   1027        128     3.58     0     0\n",
              "1    -17     5   1027         77     7.60     0     0\n",
              "2    -16     4   1027         65     9.39     0     0\n",
              "3    -16     1   1028         79     0.89     0     0\n",
              "4    -14     0   1028         93     1.79     0     0\n",
              "..   ...   ...    ...        ...      ...   ...   ...\n",
              "341  -23    -2   1034          8   231.97     0     0\n",
              "342  -22    -3   1034         10   237.78     0     0\n",
              "343  -22    -3   1034         10   242.70     0     0\n",
              "344  -22    -4   1034          8   246.72     0     0\n",
              "345  -21    -3   1034         12   249.85     0     0\n",
              "\n",
              "[346 rows x 7 columns]"
            ],
            "text/html": [
              "\n",
              "  <div id=\"df-4cdb030f-e1b3-456c-bb2b-2359c1590d99\" class=\"colab-df-container\">\n",
              "    <div>\n",
              "<style scoped>\n",
              "    .dataframe tbody tr th:only-of-type {\n",
              "        vertical-align: middle;\n",
              "    }\n",
              "\n",
              "    .dataframe tbody tr th {\n",
              "        vertical-align: top;\n",
              "    }\n",
              "\n",
              "    .dataframe thead th {\n",
              "        text-align: right;\n",
              "    }\n",
              "</style>\n",
              "<table border=\"1\" class=\"dataframe\">\n",
              "  <thead>\n",
              "    <tr style=\"text-align: right;\">\n",
              "      <th></th>\n",
              "      <th>dew</th>\n",
              "      <th>temp</th>\n",
              "      <th>press</th>\n",
              "      <th>pollution</th>\n",
              "      <th>wnd_spd</th>\n",
              "      <th>snow</th>\n",
              "      <th>rain</th>\n",
              "    </tr>\n",
              "  </thead>\n",
              "  <tbody>\n",
              "    <tr>\n",
              "      <th>0</th>\n",
              "      <td>-16</td>\n",
              "      <td>4</td>\n",
              "      <td>1027</td>\n",
              "      <td>128</td>\n",
              "      <td>3.58</td>\n",
              "      <td>0</td>\n",
              "      <td>0</td>\n",
              "    </tr>\n",
              "    <tr>\n",
              "      <th>1</th>\n",
              "      <td>-17</td>\n",
              "      <td>5</td>\n",
              "      <td>1027</td>\n",
              "      <td>77</td>\n",
              "      <td>7.60</td>\n",
              "      <td>0</td>\n",
              "      <td>0</td>\n",
              "    </tr>\n",
              "    <tr>\n",
              "      <th>2</th>\n",
              "      <td>-16</td>\n",
              "      <td>4</td>\n",
              "      <td>1027</td>\n",
              "      <td>65</td>\n",
              "      <td>9.39</td>\n",
              "      <td>0</td>\n",
              "      <td>0</td>\n",
              "    </tr>\n",
              "    <tr>\n",
              "      <th>3</th>\n",
              "      <td>-16</td>\n",
              "      <td>1</td>\n",
              "      <td>1028</td>\n",
              "      <td>79</td>\n",
              "      <td>0.89</td>\n",
              "      <td>0</td>\n",
              "      <td>0</td>\n",
              "    </tr>\n",
              "    <tr>\n",
              "      <th>4</th>\n",
              "      <td>-14</td>\n",
              "      <td>0</td>\n",
              "      <td>1028</td>\n",
              "      <td>93</td>\n",
              "      <td>1.79</td>\n",
              "      <td>0</td>\n",
              "      <td>0</td>\n",
              "    </tr>\n",
              "    <tr>\n",
              "      <th>...</th>\n",
              "      <td>...</td>\n",
              "      <td>...</td>\n",
              "      <td>...</td>\n",
              "      <td>...</td>\n",
              "      <td>...</td>\n",
              "      <td>...</td>\n",
              "      <td>...</td>\n",
              "    </tr>\n",
              "    <tr>\n",
              "      <th>341</th>\n",
              "      <td>-23</td>\n",
              "      <td>-2</td>\n",
              "      <td>1034</td>\n",
              "      <td>8</td>\n",
              "      <td>231.97</td>\n",
              "      <td>0</td>\n",
              "      <td>0</td>\n",
              "    </tr>\n",
              "    <tr>\n",
              "      <th>342</th>\n",
              "      <td>-22</td>\n",
              "      <td>-3</td>\n",
              "      <td>1034</td>\n",
              "      <td>10</td>\n",
              "      <td>237.78</td>\n",
              "      <td>0</td>\n",
              "      <td>0</td>\n",
              "    </tr>\n",
              "    <tr>\n",
              "      <th>343</th>\n",
              "      <td>-22</td>\n",
              "      <td>-3</td>\n",
              "      <td>1034</td>\n",
              "      <td>10</td>\n",
              "      <td>242.70</td>\n",
              "      <td>0</td>\n",
              "      <td>0</td>\n",
              "    </tr>\n",
              "    <tr>\n",
              "      <th>344</th>\n",
              "      <td>-22</td>\n",
              "      <td>-4</td>\n",
              "      <td>1034</td>\n",
              "      <td>8</td>\n",
              "      <td>246.72</td>\n",
              "      <td>0</td>\n",
              "      <td>0</td>\n",
              "    </tr>\n",
              "    <tr>\n",
              "      <th>345</th>\n",
              "      <td>-21</td>\n",
              "      <td>-3</td>\n",
              "      <td>1034</td>\n",
              "      <td>12</td>\n",
              "      <td>249.85</td>\n",
              "      <td>0</td>\n",
              "      <td>0</td>\n",
              "    </tr>\n",
              "  </tbody>\n",
              "</table>\n",
              "<p>346 rows × 7 columns</p>\n",
              "</div>\n",
              "    <div class=\"colab-df-buttons\">\n",
              "\n",
              "  <div class=\"colab-df-container\">\n",
              "    <button class=\"colab-df-convert\" onclick=\"convertToInteractive('df-4cdb030f-e1b3-456c-bb2b-2359c1590d99')\"\n",
              "            title=\"Convert this dataframe to an interactive table.\"\n",
              "            style=\"display:none;\">\n",
              "\n",
              "  <svg xmlns=\"http://www.w3.org/2000/svg\" height=\"24px\" viewBox=\"0 -960 960 960\">\n",
              "    <path d=\"M120-120v-720h720v720H120Zm60-500h600v-160H180v160Zm220 220h160v-160H400v160Zm0 220h160v-160H400v160ZM180-400h160v-160H180v160Zm440 0h160v-160H620v160ZM180-180h160v-160H180v160Zm440 0h160v-160H620v160Z\"/>\n",
              "  </svg>\n",
              "    </button>\n",
              "\n",
              "  <style>\n",
              "    .colab-df-container {\n",
              "      display:flex;\n",
              "      gap: 12px;\n",
              "    }\n",
              "\n",
              "    .colab-df-convert {\n",
              "      background-color: #E8F0FE;\n",
              "      border: none;\n",
              "      border-radius: 50%;\n",
              "      cursor: pointer;\n",
              "      display: none;\n",
              "      fill: #1967D2;\n",
              "      height: 32px;\n",
              "      padding: 0 0 0 0;\n",
              "      width: 32px;\n",
              "    }\n",
              "\n",
              "    .colab-df-convert:hover {\n",
              "      background-color: #E2EBFA;\n",
              "      box-shadow: 0px 1px 2px rgba(60, 64, 67, 0.3), 0px 1px 3px 1px rgba(60, 64, 67, 0.15);\n",
              "      fill: #174EA6;\n",
              "    }\n",
              "\n",
              "    .colab-df-buttons div {\n",
              "      margin-bottom: 4px;\n",
              "    }\n",
              "\n",
              "    [theme=dark] .colab-df-convert {\n",
              "      background-color: #3B4455;\n",
              "      fill: #D2E3FC;\n",
              "    }\n",
              "\n",
              "    [theme=dark] .colab-df-convert:hover {\n",
              "      background-color: #434B5C;\n",
              "      box-shadow: 0px 1px 3px 1px rgba(0, 0, 0, 0.15);\n",
              "      filter: drop-shadow(0px 1px 2px rgba(0, 0, 0, 0.3));\n",
              "      fill: #FFFFFF;\n",
              "    }\n",
              "  </style>\n",
              "\n",
              "    <script>\n",
              "      const buttonEl =\n",
              "        document.querySelector('#df-4cdb030f-e1b3-456c-bb2b-2359c1590d99 button.colab-df-convert');\n",
              "      buttonEl.style.display =\n",
              "        google.colab.kernel.accessAllowed ? 'block' : 'none';\n",
              "\n",
              "      async function convertToInteractive(key) {\n",
              "        const element = document.querySelector('#df-4cdb030f-e1b3-456c-bb2b-2359c1590d99');\n",
              "        const dataTable =\n",
              "          await google.colab.kernel.invokeFunction('convertToInteractive',\n",
              "                                                    [key], {});\n",
              "        if (!dataTable) return;\n",
              "\n",
              "        const docLinkHtml = 'Like what you see? Visit the ' +\n",
              "          '<a target=\"_blank\" href=https://colab.research.google.com/notebooks/data_table.ipynb>data table notebook</a>'\n",
              "          + ' to learn more about interactive tables.';\n",
              "        element.innerHTML = '';\n",
              "        dataTable['output_type'] = 'display_data';\n",
              "        await google.colab.output.renderOutput(dataTable, element);\n",
              "        const docLink = document.createElement('div');\n",
              "        docLink.innerHTML = docLinkHtml;\n",
              "        element.appendChild(docLink);\n",
              "      }\n",
              "    </script>\n",
              "  </div>\n",
              "\n",
              "\n",
              "<div id=\"df-b0671179-f755-4580-a3ce-99759a2fb6a9\">\n",
              "  <button class=\"colab-df-quickchart\" onclick=\"quickchart('df-b0671179-f755-4580-a3ce-99759a2fb6a9')\"\n",
              "            title=\"Suggest charts\"\n",
              "            style=\"display:none;\">\n",
              "\n",
              "<svg xmlns=\"http://www.w3.org/2000/svg\" height=\"24px\"viewBox=\"0 0 24 24\"\n",
              "     width=\"24px\">\n",
              "    <g>\n",
              "        <path d=\"M19 3H5c-1.1 0-2 .9-2 2v14c0 1.1.9 2 2 2h14c1.1 0 2-.9 2-2V5c0-1.1-.9-2-2-2zM9 17H7v-7h2v7zm4 0h-2V7h2v10zm4 0h-2v-4h2v4z\"/>\n",
              "    </g>\n",
              "</svg>\n",
              "  </button>\n",
              "\n",
              "<style>\n",
              "  .colab-df-quickchart {\n",
              "      --bg-color: #E8F0FE;\n",
              "      --fill-color: #1967D2;\n",
              "      --hover-bg-color: #E2EBFA;\n",
              "      --hover-fill-color: #174EA6;\n",
              "      --disabled-fill-color: #AAA;\n",
              "      --disabled-bg-color: #DDD;\n",
              "  }\n",
              "\n",
              "  [theme=dark] .colab-df-quickchart {\n",
              "      --bg-color: #3B4455;\n",
              "      --fill-color: #D2E3FC;\n",
              "      --hover-bg-color: #434B5C;\n",
              "      --hover-fill-color: #FFFFFF;\n",
              "      --disabled-bg-color: #3B4455;\n",
              "      --disabled-fill-color: #666;\n",
              "  }\n",
              "\n",
              "  .colab-df-quickchart {\n",
              "    background-color: var(--bg-color);\n",
              "    border: none;\n",
              "    border-radius: 50%;\n",
              "    cursor: pointer;\n",
              "    display: none;\n",
              "    fill: var(--fill-color);\n",
              "    height: 32px;\n",
              "    padding: 0;\n",
              "    width: 32px;\n",
              "  }\n",
              "\n",
              "  .colab-df-quickchart:hover {\n",
              "    background-color: var(--hover-bg-color);\n",
              "    box-shadow: 0 1px 2px rgba(60, 64, 67, 0.3), 0 1px 3px 1px rgba(60, 64, 67, 0.15);\n",
              "    fill: var(--button-hover-fill-color);\n",
              "  }\n",
              "\n",
              "  .colab-df-quickchart-complete:disabled,\n",
              "  .colab-df-quickchart-complete:disabled:hover {\n",
              "    background-color: var(--disabled-bg-color);\n",
              "    fill: var(--disabled-fill-color);\n",
              "    box-shadow: none;\n",
              "  }\n",
              "\n",
              "  .colab-df-spinner {\n",
              "    border: 2px solid var(--fill-color);\n",
              "    border-color: transparent;\n",
              "    border-bottom-color: var(--fill-color);\n",
              "    animation:\n",
              "      spin 1s steps(1) infinite;\n",
              "  }\n",
              "\n",
              "  @keyframes spin {\n",
              "    0% {\n",
              "      border-color: transparent;\n",
              "      border-bottom-color: var(--fill-color);\n",
              "      border-left-color: var(--fill-color);\n",
              "    }\n",
              "    20% {\n",
              "      border-color: transparent;\n",
              "      border-left-color: var(--fill-color);\n",
              "      border-top-color: var(--fill-color);\n",
              "    }\n",
              "    30% {\n",
              "      border-color: transparent;\n",
              "      border-left-color: var(--fill-color);\n",
              "      border-top-color: var(--fill-color);\n",
              "      border-right-color: var(--fill-color);\n",
              "    }\n",
              "    40% {\n",
              "      border-color: transparent;\n",
              "      border-right-color: var(--fill-color);\n",
              "      border-top-color: var(--fill-color);\n",
              "    }\n",
              "    60% {\n",
              "      border-color: transparent;\n",
              "      border-right-color: var(--fill-color);\n",
              "    }\n",
              "    80% {\n",
              "      border-color: transparent;\n",
              "      border-right-color: var(--fill-color);\n",
              "      border-bottom-color: var(--fill-color);\n",
              "    }\n",
              "    90% {\n",
              "      border-color: transparent;\n",
              "      border-bottom-color: var(--fill-color);\n",
              "    }\n",
              "  }\n",
              "</style>\n",
              "\n",
              "  <script>\n",
              "    async function quickchart(key) {\n",
              "      const quickchartButtonEl =\n",
              "        document.querySelector('#' + key + ' button');\n",
              "      quickchartButtonEl.disabled = true;  // To prevent multiple clicks.\n",
              "      quickchartButtonEl.classList.add('colab-df-spinner');\n",
              "      try {\n",
              "        const charts = await google.colab.kernel.invokeFunction(\n",
              "            'suggestCharts', [key], {});\n",
              "      } catch (error) {\n",
              "        console.error('Error during call to suggestCharts:', error);\n",
              "      }\n",
              "      quickchartButtonEl.classList.remove('colab-df-spinner');\n",
              "      quickchartButtonEl.classList.add('colab-df-quickchart-complete');\n",
              "    }\n",
              "    (() => {\n",
              "      let quickchartButtonEl =\n",
              "        document.querySelector('#df-b0671179-f755-4580-a3ce-99759a2fb6a9 button');\n",
              "      quickchartButtonEl.style.display =\n",
              "        google.colab.kernel.accessAllowed ? 'block' : 'none';\n",
              "    })();\n",
              "  </script>\n",
              "</div>\n",
              "\n",
              "  <div id=\"id_493b1cf9-f4fa-4031-98c1-aa47046dd643\">\n",
              "    <style>\n",
              "      .colab-df-generate {\n",
              "        background-color: #E8F0FE;\n",
              "        border: none;\n",
              "        border-radius: 50%;\n",
              "        cursor: pointer;\n",
              "        display: none;\n",
              "        fill: #1967D2;\n",
              "        height: 32px;\n",
              "        padding: 0 0 0 0;\n",
              "        width: 32px;\n",
              "      }\n",
              "\n",
              "      .colab-df-generate:hover {\n",
              "        background-color: #E2EBFA;\n",
              "        box-shadow: 0px 1px 2px rgba(60, 64, 67, 0.3), 0px 1px 3px 1px rgba(60, 64, 67, 0.15);\n",
              "        fill: #174EA6;\n",
              "      }\n",
              "\n",
              "      [theme=dark] .colab-df-generate {\n",
              "        background-color: #3B4455;\n",
              "        fill: #D2E3FC;\n",
              "      }\n",
              "\n",
              "      [theme=dark] .colab-df-generate:hover {\n",
              "        background-color: #434B5C;\n",
              "        box-shadow: 0px 1px 3px 1px rgba(0, 0, 0, 0.15);\n",
              "        filter: drop-shadow(0px 1px 2px rgba(0, 0, 0, 0.3));\n",
              "        fill: #FFFFFF;\n",
              "      }\n",
              "    </style>\n",
              "    <button class=\"colab-df-generate\" onclick=\"generateWithVariable('df')\"\n",
              "            title=\"Generate code using this dataframe.\"\n",
              "            style=\"display:none;\">\n",
              "\n",
              "  <svg xmlns=\"http://www.w3.org/2000/svg\" height=\"24px\"viewBox=\"0 0 24 24\"\n",
              "       width=\"24px\">\n",
              "    <path d=\"M7,19H8.4L18.45,9,17,7.55,7,17.6ZM5,21V16.75L18.45,3.32a2,2,0,0,1,2.83,0l1.4,1.43a1.91,1.91,0,0,1,.58,1.4,1.91,1.91,0,0,1-.58,1.4L9.25,21ZM18.45,9,17,7.55Zm-12,3A5.31,5.31,0,0,0,4.9,8.1,5.31,5.31,0,0,0,1,6.5,5.31,5.31,0,0,0,4.9,4.9,5.31,5.31,0,0,0,6.5,1,5.31,5.31,0,0,0,8.1,4.9,5.31,5.31,0,0,0,12,6.5,5.46,5.46,0,0,0,6.5,12Z\"/>\n",
              "  </svg>\n",
              "    </button>\n",
              "    <script>\n",
              "      (() => {\n",
              "      const buttonEl =\n",
              "        document.querySelector('#id_493b1cf9-f4fa-4031-98c1-aa47046dd643 button.colab-df-generate');\n",
              "      buttonEl.style.display =\n",
              "        google.colab.kernel.accessAllowed ? 'block' : 'none';\n",
              "\n",
              "      buttonEl.onclick = () => {\n",
              "        google.colab.notebook.generateWithVariable('df');\n",
              "      }\n",
              "      })();\n",
              "    </script>\n",
              "  </div>\n",
              "\n",
              "    </div>\n",
              "  </div>\n"
            ],
            "application/vnd.google.colaboratory.intrinsic+json": {
              "type": "dataframe",
              "variable_name": "df",
              "summary": "{\n  \"name\": \"df\",\n  \"rows\": 346,\n  \"fields\": [\n    {\n      \"column\": \"dew\",\n      \"properties\": {\n        \"dtype\": \"number\",\n        \"std\": 4,\n        \"min\": -27,\n        \"max\": -6,\n        \"num_unique_values\": 20,\n        \"samples\": [\n          -16,\n          -23,\n          -11\n        ],\n        \"semantic_type\": \"\",\n        \"description\": \"\"\n      }\n    },\n    {\n      \"column\": \"temp\",\n      \"properties\": {\n        \"dtype\": \"number\",\n        \"std\": 4,\n        \"min\": -9,\n        \"max\": 11,\n        \"num_unique_values\": 21,\n        \"samples\": [\n          4,\n          9,\n          6\n        ],\n        \"semantic_type\": \"\",\n        \"description\": \"\"\n      }\n    },\n    {\n      \"column\": \"press\",\n      \"properties\": {\n        \"dtype\": \"number\",\n        \"std\": 5,\n        \"min\": 1011,\n        \"max\": 1035,\n        \"num_unique_values\": 25,\n        \"samples\": [\n          1023,\n          1034,\n          1027\n        ],\n        \"semantic_type\": \"\",\n        \"description\": \"\"\n      }\n    },\n    {\n      \"column\": \"pollution\",\n      \"properties\": {\n        \"dtype\": \"number\",\n        \"std\": 98,\n        \"min\": 0,\n        \"max\": 444,\n        \"num_unique_values\": 178,\n        \"samples\": [\n          124,\n          14,\n          393\n        ],\n        \"semantic_type\": \"\",\n        \"description\": \"\"\n      }\n    },\n    {\n      \"column\": \"wnd_spd\",\n      \"properties\": {\n        \"dtype\": \"number\",\n        \"std\": 107.5000121329844,\n        \"min\": 0.45,\n        \"max\": 441.18,\n        \"num_unique_values\": 187,\n        \"samples\": [\n          246.72,\n          441.18,\n          282.96\n        ],\n        \"semantic_type\": \"\",\n        \"description\": \"\"\n      }\n    },\n    {\n      \"column\": \"snow\",\n      \"properties\": {\n        \"dtype\": \"number\",\n        \"std\": 0,\n        \"min\": 0,\n        \"max\": 0,\n        \"num_unique_values\": 1,\n        \"samples\": [\n          0\n        ],\n        \"semantic_type\": \"\",\n        \"description\": \"\"\n      }\n    },\n    {\n      \"column\": \"rain\",\n      \"properties\": {\n        \"dtype\": \"number\",\n        \"std\": 0,\n        \"min\": 0,\n        \"max\": 0,\n        \"num_unique_values\": 1,\n        \"samples\": [\n          0\n        ],\n        \"semantic_type\": \"\",\n        \"description\": \"\"\n      }\n    }\n  ]\n}"
            }
          },
          "metadata": {},
          "execution_count": 44
        }
      ]
    },
    {
      "cell_type": "code",
      "source": [
        "print(\"Dataset Head:\")\n",
        "print(df.head())"
      ],
      "metadata": {
        "colab": {
          "base_uri": "https://localhost:8080/"
        },
        "id": "eWj3__-pcv3x",
        "outputId": "20fce005-9f3d-45c8-bf7d-dd55f30f02c5"
      },
      "execution_count": null,
      "outputs": [
        {
          "output_type": "stream",
          "name": "stdout",
          "text": [
            "Dataset Head:\n",
            "   dew  temp  press  pollution  wnd_spd  snow  rain\n",
            "0  -16     4   1027        128     3.58     0     0\n",
            "1  -17     5   1027         77     7.60     0     0\n",
            "2  -16     4   1027         65     9.39     0     0\n",
            "3  -16     1   1028         79     0.89     0     0\n",
            "4  -14     0   1028         93     1.79     0     0\n"
          ]
        }
      ]
    },
    {
      "cell_type": "code",
      "source": [
        "# Step 2: Data Preprocessing\n",
        "\n",
        "# Check for NaN values\n",
        "df = df.dropna()\n",
        "df"
      ],
      "metadata": {
        "colab": {
          "base_uri": "https://localhost:8080/",
          "height": 423
        },
        "id": "UeTRXjLoc5Pe",
        "outputId": "05100fe9-27e1-45b6-a1a4-e134cd83f642"
      },
      "execution_count": null,
      "outputs": [
        {
          "output_type": "execute_result",
          "data": {
            "text/plain": [
              "     dew  temp  press  pollution  wnd_spd  snow  rain\n",
              "0    -16     4   1027        128     3.58     0     0\n",
              "1    -17     5   1027         77     7.60     0     0\n",
              "2    -16     4   1027         65     9.39     0     0\n",
              "3    -16     1   1028         79     0.89     0     0\n",
              "4    -14     0   1028         93     1.79     0     0\n",
              "..   ...   ...    ...        ...      ...   ...   ...\n",
              "341  -23    -2   1034          8   231.97     0     0\n",
              "342  -22    -3   1034         10   237.78     0     0\n",
              "343  -22    -3   1034         10   242.70     0     0\n",
              "344  -22    -4   1034          8   246.72     0     0\n",
              "345  -21    -3   1034         12   249.85     0     0\n",
              "\n",
              "[346 rows x 7 columns]"
            ],
            "text/html": [
              "\n",
              "  <div id=\"df-a7f91d25-86c4-424c-ae86-ed2032e77969\" class=\"colab-df-container\">\n",
              "    <div>\n",
              "<style scoped>\n",
              "    .dataframe tbody tr th:only-of-type {\n",
              "        vertical-align: middle;\n",
              "    }\n",
              "\n",
              "    .dataframe tbody tr th {\n",
              "        vertical-align: top;\n",
              "    }\n",
              "\n",
              "    .dataframe thead th {\n",
              "        text-align: right;\n",
              "    }\n",
              "</style>\n",
              "<table border=\"1\" class=\"dataframe\">\n",
              "  <thead>\n",
              "    <tr style=\"text-align: right;\">\n",
              "      <th></th>\n",
              "      <th>dew</th>\n",
              "      <th>temp</th>\n",
              "      <th>press</th>\n",
              "      <th>pollution</th>\n",
              "      <th>wnd_spd</th>\n",
              "      <th>snow</th>\n",
              "      <th>rain</th>\n",
              "    </tr>\n",
              "  </thead>\n",
              "  <tbody>\n",
              "    <tr>\n",
              "      <th>0</th>\n",
              "      <td>-16</td>\n",
              "      <td>4</td>\n",
              "      <td>1027</td>\n",
              "      <td>128</td>\n",
              "      <td>3.58</td>\n",
              "      <td>0</td>\n",
              "      <td>0</td>\n",
              "    </tr>\n",
              "    <tr>\n",
              "      <th>1</th>\n",
              "      <td>-17</td>\n",
              "      <td>5</td>\n",
              "      <td>1027</td>\n",
              "      <td>77</td>\n",
              "      <td>7.60</td>\n",
              "      <td>0</td>\n",
              "      <td>0</td>\n",
              "    </tr>\n",
              "    <tr>\n",
              "      <th>2</th>\n",
              "      <td>-16</td>\n",
              "      <td>4</td>\n",
              "      <td>1027</td>\n",
              "      <td>65</td>\n",
              "      <td>9.39</td>\n",
              "      <td>0</td>\n",
              "      <td>0</td>\n",
              "    </tr>\n",
              "    <tr>\n",
              "      <th>3</th>\n",
              "      <td>-16</td>\n",
              "      <td>1</td>\n",
              "      <td>1028</td>\n",
              "      <td>79</td>\n",
              "      <td>0.89</td>\n",
              "      <td>0</td>\n",
              "      <td>0</td>\n",
              "    </tr>\n",
              "    <tr>\n",
              "      <th>4</th>\n",
              "      <td>-14</td>\n",
              "      <td>0</td>\n",
              "      <td>1028</td>\n",
              "      <td>93</td>\n",
              "      <td>1.79</td>\n",
              "      <td>0</td>\n",
              "      <td>0</td>\n",
              "    </tr>\n",
              "    <tr>\n",
              "      <th>...</th>\n",
              "      <td>...</td>\n",
              "      <td>...</td>\n",
              "      <td>...</td>\n",
              "      <td>...</td>\n",
              "      <td>...</td>\n",
              "      <td>...</td>\n",
              "      <td>...</td>\n",
              "    </tr>\n",
              "    <tr>\n",
              "      <th>341</th>\n",
              "      <td>-23</td>\n",
              "      <td>-2</td>\n",
              "      <td>1034</td>\n",
              "      <td>8</td>\n",
              "      <td>231.97</td>\n",
              "      <td>0</td>\n",
              "      <td>0</td>\n",
              "    </tr>\n",
              "    <tr>\n",
              "      <th>342</th>\n",
              "      <td>-22</td>\n",
              "      <td>-3</td>\n",
              "      <td>1034</td>\n",
              "      <td>10</td>\n",
              "      <td>237.78</td>\n",
              "      <td>0</td>\n",
              "      <td>0</td>\n",
              "    </tr>\n",
              "    <tr>\n",
              "      <th>343</th>\n",
              "      <td>-22</td>\n",
              "      <td>-3</td>\n",
              "      <td>1034</td>\n",
              "      <td>10</td>\n",
              "      <td>242.70</td>\n",
              "      <td>0</td>\n",
              "      <td>0</td>\n",
              "    </tr>\n",
              "    <tr>\n",
              "      <th>344</th>\n",
              "      <td>-22</td>\n",
              "      <td>-4</td>\n",
              "      <td>1034</td>\n",
              "      <td>8</td>\n",
              "      <td>246.72</td>\n",
              "      <td>0</td>\n",
              "      <td>0</td>\n",
              "    </tr>\n",
              "    <tr>\n",
              "      <th>345</th>\n",
              "      <td>-21</td>\n",
              "      <td>-3</td>\n",
              "      <td>1034</td>\n",
              "      <td>12</td>\n",
              "      <td>249.85</td>\n",
              "      <td>0</td>\n",
              "      <td>0</td>\n",
              "    </tr>\n",
              "  </tbody>\n",
              "</table>\n",
              "<p>346 rows × 7 columns</p>\n",
              "</div>\n",
              "    <div class=\"colab-df-buttons\">\n",
              "\n",
              "  <div class=\"colab-df-container\">\n",
              "    <button class=\"colab-df-convert\" onclick=\"convertToInteractive('df-a7f91d25-86c4-424c-ae86-ed2032e77969')\"\n",
              "            title=\"Convert this dataframe to an interactive table.\"\n",
              "            style=\"display:none;\">\n",
              "\n",
              "  <svg xmlns=\"http://www.w3.org/2000/svg\" height=\"24px\" viewBox=\"0 -960 960 960\">\n",
              "    <path d=\"M120-120v-720h720v720H120Zm60-500h600v-160H180v160Zm220 220h160v-160H400v160Zm0 220h160v-160H400v160ZM180-400h160v-160H180v160Zm440 0h160v-160H620v160ZM180-180h160v-160H180v160Zm440 0h160v-160H620v160Z\"/>\n",
              "  </svg>\n",
              "    </button>\n",
              "\n",
              "  <style>\n",
              "    .colab-df-container {\n",
              "      display:flex;\n",
              "      gap: 12px;\n",
              "    }\n",
              "\n",
              "    .colab-df-convert {\n",
              "      background-color: #E8F0FE;\n",
              "      border: none;\n",
              "      border-radius: 50%;\n",
              "      cursor: pointer;\n",
              "      display: none;\n",
              "      fill: #1967D2;\n",
              "      height: 32px;\n",
              "      padding: 0 0 0 0;\n",
              "      width: 32px;\n",
              "    }\n",
              "\n",
              "    .colab-df-convert:hover {\n",
              "      background-color: #E2EBFA;\n",
              "      box-shadow: 0px 1px 2px rgba(60, 64, 67, 0.3), 0px 1px 3px 1px rgba(60, 64, 67, 0.15);\n",
              "      fill: #174EA6;\n",
              "    }\n",
              "\n",
              "    .colab-df-buttons div {\n",
              "      margin-bottom: 4px;\n",
              "    }\n",
              "\n",
              "    [theme=dark] .colab-df-convert {\n",
              "      background-color: #3B4455;\n",
              "      fill: #D2E3FC;\n",
              "    }\n",
              "\n",
              "    [theme=dark] .colab-df-convert:hover {\n",
              "      background-color: #434B5C;\n",
              "      box-shadow: 0px 1px 3px 1px rgba(0, 0, 0, 0.15);\n",
              "      filter: drop-shadow(0px 1px 2px rgba(0, 0, 0, 0.3));\n",
              "      fill: #FFFFFF;\n",
              "    }\n",
              "  </style>\n",
              "\n",
              "    <script>\n",
              "      const buttonEl =\n",
              "        document.querySelector('#df-a7f91d25-86c4-424c-ae86-ed2032e77969 button.colab-df-convert');\n",
              "      buttonEl.style.display =\n",
              "        google.colab.kernel.accessAllowed ? 'block' : 'none';\n",
              "\n",
              "      async function convertToInteractive(key) {\n",
              "        const element = document.querySelector('#df-a7f91d25-86c4-424c-ae86-ed2032e77969');\n",
              "        const dataTable =\n",
              "          await google.colab.kernel.invokeFunction('convertToInteractive',\n",
              "                                                    [key], {});\n",
              "        if (!dataTable) return;\n",
              "\n",
              "        const docLinkHtml = 'Like what you see? Visit the ' +\n",
              "          '<a target=\"_blank\" href=https://colab.research.google.com/notebooks/data_table.ipynb>data table notebook</a>'\n",
              "          + ' to learn more about interactive tables.';\n",
              "        element.innerHTML = '';\n",
              "        dataTable['output_type'] = 'display_data';\n",
              "        await google.colab.output.renderOutput(dataTable, element);\n",
              "        const docLink = document.createElement('div');\n",
              "        docLink.innerHTML = docLinkHtml;\n",
              "        element.appendChild(docLink);\n",
              "      }\n",
              "    </script>\n",
              "  </div>\n",
              "\n",
              "\n",
              "<div id=\"df-08604340-7d5a-4c97-8c23-e510cf623a44\">\n",
              "  <button class=\"colab-df-quickchart\" onclick=\"quickchart('df-08604340-7d5a-4c97-8c23-e510cf623a44')\"\n",
              "            title=\"Suggest charts\"\n",
              "            style=\"display:none;\">\n",
              "\n",
              "<svg xmlns=\"http://www.w3.org/2000/svg\" height=\"24px\"viewBox=\"0 0 24 24\"\n",
              "     width=\"24px\">\n",
              "    <g>\n",
              "        <path d=\"M19 3H5c-1.1 0-2 .9-2 2v14c0 1.1.9 2 2 2h14c1.1 0 2-.9 2-2V5c0-1.1-.9-2-2-2zM9 17H7v-7h2v7zm4 0h-2V7h2v10zm4 0h-2v-4h2v4z\"/>\n",
              "    </g>\n",
              "</svg>\n",
              "  </button>\n",
              "\n",
              "<style>\n",
              "  .colab-df-quickchart {\n",
              "      --bg-color: #E8F0FE;\n",
              "      --fill-color: #1967D2;\n",
              "      --hover-bg-color: #E2EBFA;\n",
              "      --hover-fill-color: #174EA6;\n",
              "      --disabled-fill-color: #AAA;\n",
              "      --disabled-bg-color: #DDD;\n",
              "  }\n",
              "\n",
              "  [theme=dark] .colab-df-quickchart {\n",
              "      --bg-color: #3B4455;\n",
              "      --fill-color: #D2E3FC;\n",
              "      --hover-bg-color: #434B5C;\n",
              "      --hover-fill-color: #FFFFFF;\n",
              "      --disabled-bg-color: #3B4455;\n",
              "      --disabled-fill-color: #666;\n",
              "  }\n",
              "\n",
              "  .colab-df-quickchart {\n",
              "    background-color: var(--bg-color);\n",
              "    border: none;\n",
              "    border-radius: 50%;\n",
              "    cursor: pointer;\n",
              "    display: none;\n",
              "    fill: var(--fill-color);\n",
              "    height: 32px;\n",
              "    padding: 0;\n",
              "    width: 32px;\n",
              "  }\n",
              "\n",
              "  .colab-df-quickchart:hover {\n",
              "    background-color: var(--hover-bg-color);\n",
              "    box-shadow: 0 1px 2px rgba(60, 64, 67, 0.3), 0 1px 3px 1px rgba(60, 64, 67, 0.15);\n",
              "    fill: var(--button-hover-fill-color);\n",
              "  }\n",
              "\n",
              "  .colab-df-quickchart-complete:disabled,\n",
              "  .colab-df-quickchart-complete:disabled:hover {\n",
              "    background-color: var(--disabled-bg-color);\n",
              "    fill: var(--disabled-fill-color);\n",
              "    box-shadow: none;\n",
              "  }\n",
              "\n",
              "  .colab-df-spinner {\n",
              "    border: 2px solid var(--fill-color);\n",
              "    border-color: transparent;\n",
              "    border-bottom-color: var(--fill-color);\n",
              "    animation:\n",
              "      spin 1s steps(1) infinite;\n",
              "  }\n",
              "\n",
              "  @keyframes spin {\n",
              "    0% {\n",
              "      border-color: transparent;\n",
              "      border-bottom-color: var(--fill-color);\n",
              "      border-left-color: var(--fill-color);\n",
              "    }\n",
              "    20% {\n",
              "      border-color: transparent;\n",
              "      border-left-color: var(--fill-color);\n",
              "      border-top-color: var(--fill-color);\n",
              "    }\n",
              "    30% {\n",
              "      border-color: transparent;\n",
              "      border-left-color: var(--fill-color);\n",
              "      border-top-color: var(--fill-color);\n",
              "      border-right-color: var(--fill-color);\n",
              "    }\n",
              "    40% {\n",
              "      border-color: transparent;\n",
              "      border-right-color: var(--fill-color);\n",
              "      border-top-color: var(--fill-color);\n",
              "    }\n",
              "    60% {\n",
              "      border-color: transparent;\n",
              "      border-right-color: var(--fill-color);\n",
              "    }\n",
              "    80% {\n",
              "      border-color: transparent;\n",
              "      border-right-color: var(--fill-color);\n",
              "      border-bottom-color: var(--fill-color);\n",
              "    }\n",
              "    90% {\n",
              "      border-color: transparent;\n",
              "      border-bottom-color: var(--fill-color);\n",
              "    }\n",
              "  }\n",
              "</style>\n",
              "\n",
              "  <script>\n",
              "    async function quickchart(key) {\n",
              "      const quickchartButtonEl =\n",
              "        document.querySelector('#' + key + ' button');\n",
              "      quickchartButtonEl.disabled = true;  // To prevent multiple clicks.\n",
              "      quickchartButtonEl.classList.add('colab-df-spinner');\n",
              "      try {\n",
              "        const charts = await google.colab.kernel.invokeFunction(\n",
              "            'suggestCharts', [key], {});\n",
              "      } catch (error) {\n",
              "        console.error('Error during call to suggestCharts:', error);\n",
              "      }\n",
              "      quickchartButtonEl.classList.remove('colab-df-spinner');\n",
              "      quickchartButtonEl.classList.add('colab-df-quickchart-complete');\n",
              "    }\n",
              "    (() => {\n",
              "      let quickchartButtonEl =\n",
              "        document.querySelector('#df-08604340-7d5a-4c97-8c23-e510cf623a44 button');\n",
              "      quickchartButtonEl.style.display =\n",
              "        google.colab.kernel.accessAllowed ? 'block' : 'none';\n",
              "    })();\n",
              "  </script>\n",
              "</div>\n",
              "\n",
              "  <div id=\"id_e4f1cdd7-8c03-4313-9d8d-c86e553deefb\">\n",
              "    <style>\n",
              "      .colab-df-generate {\n",
              "        background-color: #E8F0FE;\n",
              "        border: none;\n",
              "        border-radius: 50%;\n",
              "        cursor: pointer;\n",
              "        display: none;\n",
              "        fill: #1967D2;\n",
              "        height: 32px;\n",
              "        padding: 0 0 0 0;\n",
              "        width: 32px;\n",
              "      }\n",
              "\n",
              "      .colab-df-generate:hover {\n",
              "        background-color: #E2EBFA;\n",
              "        box-shadow: 0px 1px 2px rgba(60, 64, 67, 0.3), 0px 1px 3px 1px rgba(60, 64, 67, 0.15);\n",
              "        fill: #174EA6;\n",
              "      }\n",
              "\n",
              "      [theme=dark] .colab-df-generate {\n",
              "        background-color: #3B4455;\n",
              "        fill: #D2E3FC;\n",
              "      }\n",
              "\n",
              "      [theme=dark] .colab-df-generate:hover {\n",
              "        background-color: #434B5C;\n",
              "        box-shadow: 0px 1px 3px 1px rgba(0, 0, 0, 0.15);\n",
              "        filter: drop-shadow(0px 1px 2px rgba(0, 0, 0, 0.3));\n",
              "        fill: #FFFFFF;\n",
              "      }\n",
              "    </style>\n",
              "    <button class=\"colab-df-generate\" onclick=\"generateWithVariable('df')\"\n",
              "            title=\"Generate code using this dataframe.\"\n",
              "            style=\"display:none;\">\n",
              "\n",
              "  <svg xmlns=\"http://www.w3.org/2000/svg\" height=\"24px\"viewBox=\"0 0 24 24\"\n",
              "       width=\"24px\">\n",
              "    <path d=\"M7,19H8.4L18.45,9,17,7.55,7,17.6ZM5,21V16.75L18.45,3.32a2,2,0,0,1,2.83,0l1.4,1.43a1.91,1.91,0,0,1,.58,1.4,1.91,1.91,0,0,1-.58,1.4L9.25,21ZM18.45,9,17,7.55Zm-12,3A5.31,5.31,0,0,0,4.9,8.1,5.31,5.31,0,0,0,1,6.5,5.31,5.31,0,0,0,4.9,4.9,5.31,5.31,0,0,0,6.5,1,5.31,5.31,0,0,0,8.1,4.9,5.31,5.31,0,0,0,12,6.5,5.46,5.46,0,0,0,6.5,12Z\"/>\n",
              "  </svg>\n",
              "    </button>\n",
              "    <script>\n",
              "      (() => {\n",
              "      const buttonEl =\n",
              "        document.querySelector('#id_e4f1cdd7-8c03-4313-9d8d-c86e553deefb button.colab-df-generate');\n",
              "      buttonEl.style.display =\n",
              "        google.colab.kernel.accessAllowed ? 'block' : 'none';\n",
              "\n",
              "      buttonEl.onclick = () => {\n",
              "        google.colab.notebook.generateWithVariable('df');\n",
              "      }\n",
              "      })();\n",
              "    </script>\n",
              "  </div>\n",
              "\n",
              "    </div>\n",
              "  </div>\n"
            ],
            "application/vnd.google.colaboratory.intrinsic+json": {
              "type": "dataframe",
              "variable_name": "df",
              "summary": "{\n  \"name\": \"df\",\n  \"rows\": 346,\n  \"fields\": [\n    {\n      \"column\": \"dew\",\n      \"properties\": {\n        \"dtype\": \"number\",\n        \"std\": 4,\n        \"min\": -27,\n        \"max\": -6,\n        \"num_unique_values\": 20,\n        \"samples\": [\n          -16,\n          -23,\n          -11\n        ],\n        \"semantic_type\": \"\",\n        \"description\": \"\"\n      }\n    },\n    {\n      \"column\": \"temp\",\n      \"properties\": {\n        \"dtype\": \"number\",\n        \"std\": 4,\n        \"min\": -9,\n        \"max\": 11,\n        \"num_unique_values\": 21,\n        \"samples\": [\n          4,\n          9,\n          6\n        ],\n        \"semantic_type\": \"\",\n        \"description\": \"\"\n      }\n    },\n    {\n      \"column\": \"press\",\n      \"properties\": {\n        \"dtype\": \"number\",\n        \"std\": 5,\n        \"min\": 1011,\n        \"max\": 1035,\n        \"num_unique_values\": 25,\n        \"samples\": [\n          1023,\n          1034,\n          1027\n        ],\n        \"semantic_type\": \"\",\n        \"description\": \"\"\n      }\n    },\n    {\n      \"column\": \"pollution\",\n      \"properties\": {\n        \"dtype\": \"number\",\n        \"std\": 98,\n        \"min\": 0,\n        \"max\": 444,\n        \"num_unique_values\": 178,\n        \"samples\": [\n          124,\n          14,\n          393\n        ],\n        \"semantic_type\": \"\",\n        \"description\": \"\"\n      }\n    },\n    {\n      \"column\": \"wnd_spd\",\n      \"properties\": {\n        \"dtype\": \"number\",\n        \"std\": 107.5000121329844,\n        \"min\": 0.45,\n        \"max\": 441.18,\n        \"num_unique_values\": 187,\n        \"samples\": [\n          246.72,\n          441.18,\n          282.96\n        ],\n        \"semantic_type\": \"\",\n        \"description\": \"\"\n      }\n    },\n    {\n      \"column\": \"snow\",\n      \"properties\": {\n        \"dtype\": \"number\",\n        \"std\": 0,\n        \"min\": 0,\n        \"max\": 0,\n        \"num_unique_values\": 1,\n        \"samples\": [\n          0\n        ],\n        \"semantic_type\": \"\",\n        \"description\": \"\"\n      }\n    },\n    {\n      \"column\": \"rain\",\n      \"properties\": {\n        \"dtype\": \"number\",\n        \"std\": 0,\n        \"min\": 0,\n        \"max\": 0,\n        \"num_unique_values\": 1,\n        \"samples\": [\n          0\n        ],\n        \"semantic_type\": \"\",\n        \"description\": \"\"\n      }\n    }\n  ]\n}"
            }
          },
          "metadata": {},
          "execution_count": 37
        }
      ]
    },
    {
      "cell_type": "code",
      "source": [
        "# Feature scaling using MinMaxScaler\n",
        "scaler = MinMaxScaler(feature_range=(0, 1))\n",
        "scaled_data = scaler.fit_transform(df.values)\n",
        "scaled_data\n"
      ],
      "metadata": {
        "colab": {
          "base_uri": "https://localhost:8080/"
        },
        "id": "-zDNexMieYtY",
        "outputId": "3a75a959-683c-4d90-fa07-b5d9f3f8e3c6"
      },
      "execution_count": null,
      "outputs": [
        {
          "output_type": "execute_result",
          "data": {
            "text/plain": [
              "array([[0.52380952, 0.65      , 0.66666667, ..., 0.00710185, 0.        ,\n",
              "        0.        ],\n",
              "       [0.47619048, 0.7       , 0.66666667, ..., 0.01622308, 0.        ,\n",
              "        0.        ],\n",
              "       [0.52380952, 0.65      , 0.66666667, ..., 0.02028453, 0.        ,\n",
              "        0.        ],\n",
              "       ...,\n",
              "       [0.23809524, 0.3       , 0.95833333, ..., 0.54965625, 0.        ,\n",
              "        0.        ],\n",
              "       [0.23809524, 0.25      , 0.95833333, ..., 0.55877748, 0.        ,\n",
              "        0.        ],\n",
              "       [0.28571429, 0.3       , 0.95833333, ..., 0.56587934, 0.        ,\n",
              "        0.        ]])"
            ]
          },
          "metadata": {},
          "execution_count": 38
        }
      ]
    },
    {
      "cell_type": "code",
      "source": [
        "# Step 3: Define function to frame the supervised learning problem\n",
        "def create_sequences(data, n_steps_in, n_steps_out):\n",
        "    X, y = [], []\n",
        "    for i in range(len(data)):\n",
        "        # Find the end of this sequence\n",
        "        end_ix = i + n_steps_in\n",
        "        out_end_ix = end_ix + n_steps_out\n",
        "        # Break if we exceed dataset length\n",
        "        if out_end_ix > len(data):\n",
        "            break\n",
        "        # Input and output sequence\n",
        "        seq_x, seq_y = data[i:end_ix, :-1], data[end_ix:out_end_ix, -1]\n",
        "        X.append(seq_x)\n",
        "        y.append(seq_y)\n",
        "    return np.array(X), np.array(y)"
      ],
      "metadata": {
        "id": "fcR4g34Nevpp"
      },
      "execution_count": null,
      "outputs": []
    },
    {
      "cell_type": "code",
      "source": [
        "# Parameters for input/output steps\n",
        "n_steps_in, n_steps_out = 5, 1\n",
        "\n",
        "# Prepare sequences\n",
        "X, y = create_sequences(scaled_data, n_steps_in, n_steps_out)\n",
        "print(\"Input Shape:\", X.shape, \"Output Shape:\", y.shape)"
      ],
      "metadata": {
        "colab": {
          "base_uri": "https://localhost:8080/"
        },
        "id": "KnqphRQle3fX",
        "outputId": "e5dab7e1-feaa-456b-f490-a88aa6c8cda1"
      },
      "execution_count": null,
      "outputs": [
        {
          "output_type": "stream",
          "name": "stdout",
          "text": [
            "Input Shape: (341, 5, 6) Output Shape: (341, 1)\n"
          ]
        }
      ]
    },
    {
      "cell_type": "code",
      "source": [
        "# Step 4: Train-test split\n",
        "X_train, X_test, y_train, y_test = train_test_split(X, y, test_size=0.2, random_state=42, shuffle=False)\n",
        "X_train"
      ],
      "metadata": {
        "colab": {
          "base_uri": "https://localhost:8080/"
        },
        "id": "MTTUFLi6fw-w",
        "outputId": "1c9a803a-5b54-4403-8ec0-81b3c99c100c"
      },
      "execution_count": null,
      "outputs": [
        {
          "output_type": "execute_result",
          "data": {
            "text/plain": [
              "array([[[0.52380952, 0.65      , 0.66666667, 0.28828829, 0.00710185,\n",
              "         0.        ],\n",
              "        [0.47619048, 0.7       , 0.66666667, 0.17342342, 0.01622308,\n",
              "         0.        ],\n",
              "        [0.52380952, 0.65      , 0.66666667, 0.1463964 , 0.02028453,\n",
              "         0.        ],\n",
              "        [0.52380952, 0.5       , 0.70833333, 0.17792793, 0.00099834,\n",
              "         0.        ],\n",
              "        [0.61904762, 0.45      , 0.70833333, 0.20945946, 0.00304041,\n",
              "         0.        ]],\n",
              "\n",
              "       [[0.47619048, 0.7       , 0.66666667, 0.17342342, 0.01622308,\n",
              "         0.        ],\n",
              "        [0.52380952, 0.65      , 0.66666667, 0.1463964 , 0.02028453,\n",
              "         0.        ],\n",
              "        [0.52380952, 0.5       , 0.70833333, 0.17792793, 0.00099834,\n",
              "         0.        ],\n",
              "        [0.61904762, 0.45      , 0.70833333, 0.20945946, 0.00304041,\n",
              "         0.        ],\n",
              "        [0.57142857, 0.35      , 0.75      , 0.23423423, 0.00710185,\n",
              "         0.        ]],\n",
              "\n",
              "       [[0.52380952, 0.65      , 0.66666667, 0.1463964 , 0.02028453,\n",
              "         0.        ],\n",
              "        [0.52380952, 0.5       , 0.70833333, 0.17792793, 0.00099834,\n",
              "         0.        ],\n",
              "        [0.61904762, 0.45      , 0.70833333, 0.20945946, 0.00304041,\n",
              "         0.        ],\n",
              "        [0.57142857, 0.35      , 0.75      , 0.23423423, 0.00710185,\n",
              "         0.        ],\n",
              "        [0.57142857, 0.3       , 0.75      , 0.45495495, 0.00099834,\n",
              "         0.        ]],\n",
              "\n",
              "       ...,\n",
              "\n",
              "       [[0.66666667, 0.75      , 0.25      , 0.24774775, 0.08515418,\n",
              "         0.        ],\n",
              "        [0.66666667, 0.6       , 0.25      , 0.39414414, 0.00099834,\n",
              "         0.        ],\n",
              "        [0.66666667, 0.5       , 0.25      , 0.65990991, 0.00301772,\n",
              "         0.        ],\n",
              "        [0.80952381, 0.55      , 0.25      , 0.72972973, 0.0050371 ,\n",
              "         0.        ],\n",
              "        [0.80952381, 0.35      , 0.25      , 0.76801802, 0.00605813,\n",
              "         0.        ]],\n",
              "\n",
              "       [[0.66666667, 0.6       , 0.25      , 0.39414414, 0.00099834,\n",
              "         0.        ],\n",
              "        [0.66666667, 0.5       , 0.25      , 0.65990991, 0.00301772,\n",
              "         0.        ],\n",
              "        [0.80952381, 0.55      , 0.25      , 0.72972973, 0.0050371 ,\n",
              "         0.        ],\n",
              "        [0.80952381, 0.35      , 0.25      , 0.76801802, 0.00605813,\n",
              "         0.        ],\n",
              "        [0.80952381, 0.25      , 0.20833333, 0.81531532, 0.00807751,\n",
              "         0.        ]],\n",
              "\n",
              "       [[0.66666667, 0.5       , 0.25      , 0.65990991, 0.00301772,\n",
              "         0.        ],\n",
              "        [0.80952381, 0.55      , 0.25      , 0.72972973, 0.0050371 ,\n",
              "         0.        ],\n",
              "        [0.80952381, 0.35      , 0.25      , 0.76801802, 0.00605813,\n",
              "         0.        ],\n",
              "        [0.80952381, 0.25      , 0.20833333, 0.81531532, 0.00807751,\n",
              "         0.        ],\n",
              "        [0.80952381, 0.2       , 0.20833333, 0.83783784, 0.01009688,\n",
              "         0.        ]]])"
            ]
          },
          "metadata": {},
          "execution_count": 46
        }
      ]
    },
    {
      "cell_type": "code",
      "source": [
        "y_train"
      ],
      "metadata": {
        "colab": {
          "base_uri": "https://localhost:8080/"
        },
        "id": "078tapTif41q",
        "outputId": "de568096-4819-4480-c5b4-0b5c56e83785"
      },
      "execution_count": null,
      "outputs": [
        {
          "output_type": "execute_result",
          "data": {
            "text/plain": [
              "array([[0.],\n",
              "       [0.],\n",
              "       [0.],\n",
              "       [0.],\n",
              "       [0.],\n",
              "       [0.],\n",
              "       [0.],\n",
              "       [0.],\n",
              "       [0.],\n",
              "       [0.],\n",
              "       [0.],\n",
              "       [0.],\n",
              "       [0.],\n",
              "       [0.],\n",
              "       [0.],\n",
              "       [0.],\n",
              "       [0.],\n",
              "       [0.],\n",
              "       [0.],\n",
              "       [0.],\n",
              "       [0.],\n",
              "       [0.],\n",
              "       [0.],\n",
              "       [0.],\n",
              "       [0.],\n",
              "       [0.],\n",
              "       [0.],\n",
              "       [0.],\n",
              "       [0.],\n",
              "       [0.],\n",
              "       [0.],\n",
              "       [0.],\n",
              "       [0.],\n",
              "       [0.],\n",
              "       [0.],\n",
              "       [0.],\n",
              "       [0.],\n",
              "       [0.],\n",
              "       [0.],\n",
              "       [0.],\n",
              "       [0.],\n",
              "       [0.],\n",
              "       [0.],\n",
              "       [0.],\n",
              "       [0.],\n",
              "       [0.],\n",
              "       [0.],\n",
              "       [0.],\n",
              "       [0.],\n",
              "       [0.],\n",
              "       [0.],\n",
              "       [0.],\n",
              "       [0.],\n",
              "       [0.],\n",
              "       [0.],\n",
              "       [0.],\n",
              "       [0.],\n",
              "       [0.],\n",
              "       [0.],\n",
              "       [0.],\n",
              "       [0.],\n",
              "       [0.],\n",
              "       [0.],\n",
              "       [0.],\n",
              "       [0.],\n",
              "       [0.],\n",
              "       [0.],\n",
              "       [0.],\n",
              "       [0.],\n",
              "       [0.],\n",
              "       [0.],\n",
              "       [0.],\n",
              "       [0.],\n",
              "       [0.],\n",
              "       [0.],\n",
              "       [0.],\n",
              "       [0.],\n",
              "       [0.],\n",
              "       [0.],\n",
              "       [0.],\n",
              "       [0.],\n",
              "       [0.],\n",
              "       [0.],\n",
              "       [0.],\n",
              "       [0.],\n",
              "       [0.],\n",
              "       [0.],\n",
              "       [0.],\n",
              "       [0.],\n",
              "       [0.],\n",
              "       [0.],\n",
              "       [0.],\n",
              "       [0.],\n",
              "       [0.],\n",
              "       [0.],\n",
              "       [0.],\n",
              "       [0.],\n",
              "       [0.],\n",
              "       [0.],\n",
              "       [0.],\n",
              "       [0.],\n",
              "       [0.],\n",
              "       [0.],\n",
              "       [0.],\n",
              "       [0.],\n",
              "       [0.],\n",
              "       [0.],\n",
              "       [0.],\n",
              "       [0.],\n",
              "       [0.],\n",
              "       [0.],\n",
              "       [0.],\n",
              "       [0.],\n",
              "       [0.],\n",
              "       [0.],\n",
              "       [0.],\n",
              "       [0.],\n",
              "       [0.],\n",
              "       [0.],\n",
              "       [0.],\n",
              "       [0.],\n",
              "       [0.],\n",
              "       [0.],\n",
              "       [0.],\n",
              "       [0.],\n",
              "       [0.],\n",
              "       [0.],\n",
              "       [0.],\n",
              "       [0.],\n",
              "       [0.],\n",
              "       [0.],\n",
              "       [0.],\n",
              "       [0.],\n",
              "       [0.],\n",
              "       [0.],\n",
              "       [0.],\n",
              "       [0.],\n",
              "       [0.],\n",
              "       [0.],\n",
              "       [0.],\n",
              "       [0.],\n",
              "       [0.],\n",
              "       [0.],\n",
              "       [0.],\n",
              "       [0.],\n",
              "       [0.],\n",
              "       [0.],\n",
              "       [0.],\n",
              "       [0.],\n",
              "       [0.],\n",
              "       [0.],\n",
              "       [0.],\n",
              "       [0.],\n",
              "       [0.],\n",
              "       [0.],\n",
              "       [0.],\n",
              "       [0.],\n",
              "       [0.],\n",
              "       [0.],\n",
              "       [0.],\n",
              "       [0.],\n",
              "       [0.],\n",
              "       [0.],\n",
              "       [0.],\n",
              "       [0.],\n",
              "       [0.],\n",
              "       [0.],\n",
              "       [0.],\n",
              "       [0.],\n",
              "       [0.],\n",
              "       [0.],\n",
              "       [0.],\n",
              "       [0.],\n",
              "       [0.],\n",
              "       [0.],\n",
              "       [0.],\n",
              "       [0.],\n",
              "       [0.],\n",
              "       [0.],\n",
              "       [0.],\n",
              "       [0.],\n",
              "       [0.],\n",
              "       [0.],\n",
              "       [0.],\n",
              "       [0.],\n",
              "       [0.],\n",
              "       [0.],\n",
              "       [0.],\n",
              "       [0.],\n",
              "       [0.],\n",
              "       [0.],\n",
              "       [0.],\n",
              "       [0.],\n",
              "       [0.],\n",
              "       [0.],\n",
              "       [0.],\n",
              "       [0.],\n",
              "       [0.],\n",
              "       [0.],\n",
              "       [0.],\n",
              "       [0.],\n",
              "       [0.],\n",
              "       [0.],\n",
              "       [0.],\n",
              "       [0.],\n",
              "       [0.],\n",
              "       [0.],\n",
              "       [0.],\n",
              "       [0.],\n",
              "       [0.],\n",
              "       [0.],\n",
              "       [0.],\n",
              "       [0.],\n",
              "       [0.],\n",
              "       [0.],\n",
              "       [0.],\n",
              "       [0.],\n",
              "       [0.],\n",
              "       [0.],\n",
              "       [0.],\n",
              "       [0.],\n",
              "       [0.],\n",
              "       [0.],\n",
              "       [0.],\n",
              "       [0.],\n",
              "       [0.],\n",
              "       [0.],\n",
              "       [0.],\n",
              "       [0.],\n",
              "       [0.],\n",
              "       [0.],\n",
              "       [0.],\n",
              "       [0.],\n",
              "       [0.],\n",
              "       [0.],\n",
              "       [0.],\n",
              "       [0.],\n",
              "       [0.],\n",
              "       [0.],\n",
              "       [0.],\n",
              "       [0.],\n",
              "       [0.],\n",
              "       [0.],\n",
              "       [0.],\n",
              "       [0.],\n",
              "       [0.],\n",
              "       [0.],\n",
              "       [0.],\n",
              "       [0.],\n",
              "       [0.],\n",
              "       [0.],\n",
              "       [0.],\n",
              "       [0.],\n",
              "       [0.],\n",
              "       [0.],\n",
              "       [0.],\n",
              "       [0.],\n",
              "       [0.],\n",
              "       [0.],\n",
              "       [0.],\n",
              "       [0.],\n",
              "       [0.],\n",
              "       [0.],\n",
              "       [0.],\n",
              "       [0.],\n",
              "       [0.],\n",
              "       [0.],\n",
              "       [0.],\n",
              "       [0.],\n",
              "       [0.],\n",
              "       [0.],\n",
              "       [0.]])"
            ]
          },
          "metadata": {},
          "execution_count": 47
        }
      ]
    },
    {
      "cell_type": "code",
      "source": [
        "X_test"
      ],
      "metadata": {
        "colab": {
          "base_uri": "https://localhost:8080/"
        },
        "id": "ciPuYWdgg-NB",
        "outputId": "f108041b-fed5-4615-fa53-8ebbed2eb002"
      },
      "execution_count": null,
      "outputs": [
        {
          "output_type": "execute_result",
          "data": {
            "text/plain": [
              "array([[[0.80952381, 0.55      , 0.25      , 0.72972973, 0.0050371 ,\n",
              "         0.        ],\n",
              "        [0.80952381, 0.35      , 0.25      , 0.76801802, 0.00605813,\n",
              "         0.        ],\n",
              "        [0.80952381, 0.25      , 0.20833333, 0.81531532, 0.00807751,\n",
              "         0.        ],\n",
              "        [0.80952381, 0.2       , 0.20833333, 0.83783784, 0.01009688,\n",
              "         0.        ],\n",
              "        [0.76190476, 0.2       , 0.16666667, 0.84009009, 0.01211626,\n",
              "         0.        ]],\n",
              "\n",
              "       [[0.80952381, 0.35      , 0.25      , 0.76801802, 0.00605813,\n",
              "         0.        ],\n",
              "        [0.80952381, 0.25      , 0.20833333, 0.81531532, 0.00807751,\n",
              "         0.        ],\n",
              "        [0.80952381, 0.2       , 0.20833333, 0.83783784, 0.01009688,\n",
              "         0.        ],\n",
              "        [0.76190476, 0.2       , 0.16666667, 0.84009009, 0.01211626,\n",
              "         0.        ],\n",
              "        [0.76190476, 0.15      , 0.16666667, 0.83783784, 0.01413564,\n",
              "         0.        ]],\n",
              "\n",
              "       [[0.80952381, 0.25      , 0.20833333, 0.81531532, 0.00807751,\n",
              "         0.        ],\n",
              "        [0.80952381, 0.2       , 0.20833333, 0.83783784, 0.01009688,\n",
              "         0.        ],\n",
              "        [0.76190476, 0.2       , 0.16666667, 0.84009009, 0.01211626,\n",
              "         0.        ],\n",
              "        [0.76190476, 0.15      , 0.16666667, 0.83783784, 0.01413564,\n",
              "         0.        ],\n",
              "        [0.71428571, 0.1       , 0.125     , 0.71621622, 0.01615502,\n",
              "         0.        ]],\n",
              "\n",
              "       ...,\n",
              "\n",
              "       [[0.19047619, 0.45      , 0.875     , 0.01801802, 0.48474122,\n",
              "         0.        ],\n",
              "        [0.23809524, 0.4       , 0.91666667, 0.02027027, 0.50096431,\n",
              "         0.        ],\n",
              "        [0.23809524, 0.35      , 0.91666667, 0.02252252, 0.51212761,\n",
              "         0.        ],\n",
              "        [0.19047619, 0.35      , 0.95833333, 0.01801802, 0.52531028,\n",
              "         0.        ],\n",
              "        [0.23809524, 0.3       , 0.95833333, 0.02252252, 0.53849295,\n",
              "         0.        ]],\n",
              "\n",
              "       [[0.23809524, 0.4       , 0.91666667, 0.02027027, 0.50096431,\n",
              "         0.        ],\n",
              "        [0.23809524, 0.35      , 0.91666667, 0.02252252, 0.51212761,\n",
              "         0.        ],\n",
              "        [0.19047619, 0.35      , 0.95833333, 0.01801802, 0.52531028,\n",
              "         0.        ],\n",
              "        [0.23809524, 0.3       , 0.95833333, 0.02252252, 0.53849295,\n",
              "         0.        ],\n",
              "        [0.23809524, 0.3       , 0.95833333, 0.02252252, 0.54965625,\n",
              "         0.        ]],\n",
              "\n",
              "       [[0.23809524, 0.35      , 0.91666667, 0.02252252, 0.51212761,\n",
              "         0.        ],\n",
              "        [0.19047619, 0.35      , 0.95833333, 0.01801802, 0.52531028,\n",
              "         0.        ],\n",
              "        [0.23809524, 0.3       , 0.95833333, 0.02252252, 0.53849295,\n",
              "         0.        ],\n",
              "        [0.23809524, 0.3       , 0.95833333, 0.02252252, 0.54965625,\n",
              "         0.        ],\n",
              "        [0.23809524, 0.25      , 0.95833333, 0.01801802, 0.55877748,\n",
              "         0.        ]]])"
            ]
          },
          "metadata": {},
          "execution_count": 48
        }
      ]
    },
    {
      "cell_type": "code",
      "source": [
        "# Step 5: Build the Vanilla LSTM Model\n",
        "model = Sequential()\n",
        "model.add(LSTM(50, activation='relu', input_shape=(X_train.shape[1], X_train.shape[2])))\n",
        "model.add(Dense(n_steps_out))\n",
        "model.compile(optimizer='adam', loss='mse')\n",
        "model.summary()"
      ],
      "metadata": {
        "colab": {
          "base_uri": "https://localhost:8080/",
          "height": 248
        },
        "id": "XSnZWTsblb3s",
        "outputId": "7ca484b3-a984-480a-e20e-ea5ddf35a37a"
      },
      "execution_count": null,
      "outputs": [
        {
          "output_type": "stream",
          "name": "stderr",
          "text": [
            "/usr/local/lib/python3.10/dist-packages/keras/src/layers/rnn/rnn.py:204: UserWarning: Do not pass an `input_shape`/`input_dim` argument to a layer. When using Sequential models, prefer using an `Input(shape)` object as the first layer in the model instead.\n",
            "  super().__init__(**kwargs)\n"
          ]
        },
        {
          "output_type": "display_data",
          "data": {
            "text/plain": [
              "\u001b[1mModel: \"sequential_1\"\u001b[0m\n"
            ],
            "text/html": [
              "<pre style=\"white-space:pre;overflow-x:auto;line-height:normal;font-family:Menlo,'DejaVu Sans Mono',consolas,'Courier New',monospace\"><span style=\"font-weight: bold\">Model: \"sequential_1\"</span>\n",
              "</pre>\n"
            ]
          },
          "metadata": {}
        },
        {
          "output_type": "display_data",
          "data": {
            "text/plain": [
              "┏━━━━━━━━━━━━━━━━━━━━━━━━━━━━━━━━━━━━━━┳━━━━━━━━━━━━━━━━━━━━━━━━━━━━━┳━━━━━━━━━━━━━━━━━┓\n",
              "┃\u001b[1m \u001b[0m\u001b[1mLayer (type)                        \u001b[0m\u001b[1m \u001b[0m┃\u001b[1m \u001b[0m\u001b[1mOutput Shape               \u001b[0m\u001b[1m \u001b[0m┃\u001b[1m \u001b[0m\u001b[1m        Param #\u001b[0m\u001b[1m \u001b[0m┃\n",
              "┡━━━━━━━━━━━━━━━━━━━━━━━━━━━━━━━━━━━━━━╇━━━━━━━━━━━━━━━━━━━━━━━━━━━━━╇━━━━━━━━━━━━━━━━━┩\n",
              "│ lstm_1 (\u001b[38;5;33mLSTM\u001b[0m)                        │ (\u001b[38;5;45mNone\u001b[0m, \u001b[38;5;34m50\u001b[0m)                  │          \u001b[38;5;34m11,400\u001b[0m │\n",
              "├──────────────────────────────────────┼─────────────────────────────┼─────────────────┤\n",
              "│ dense_1 (\u001b[38;5;33mDense\u001b[0m)                      │ (\u001b[38;5;45mNone\u001b[0m, \u001b[38;5;34m1\u001b[0m)                   │              \u001b[38;5;34m51\u001b[0m │\n",
              "└──────────────────────────────────────┴─────────────────────────────┴─────────────────┘\n"
            ],
            "text/html": [
              "<pre style=\"white-space:pre;overflow-x:auto;line-height:normal;font-family:Menlo,'DejaVu Sans Mono',consolas,'Courier New',monospace\">┏━━━━━━━━━━━━━━━━━━━━━━━━━━━━━━━━━━━━━━┳━━━━━━━━━━━━━━━━━━━━━━━━━━━━━┳━━━━━━━━━━━━━━━━━┓\n",
              "┃<span style=\"font-weight: bold\"> Layer (type)                         </span>┃<span style=\"font-weight: bold\"> Output Shape                </span>┃<span style=\"font-weight: bold\">         Param # </span>┃\n",
              "┡━━━━━━━━━━━━━━━━━━━━━━━━━━━━━━━━━━━━━━╇━━━━━━━━━━━━━━━━━━━━━━━━━━━━━╇━━━━━━━━━━━━━━━━━┩\n",
              "│ lstm_1 (<span style=\"color: #0087ff; text-decoration-color: #0087ff\">LSTM</span>)                        │ (<span style=\"color: #00d7ff; text-decoration-color: #00d7ff\">None</span>, <span style=\"color: #00af00; text-decoration-color: #00af00\">50</span>)                  │          <span style=\"color: #00af00; text-decoration-color: #00af00\">11,400</span> │\n",
              "├──────────────────────────────────────┼─────────────────────────────┼─────────────────┤\n",
              "│ dense_1 (<span style=\"color: #0087ff; text-decoration-color: #0087ff\">Dense</span>)                      │ (<span style=\"color: #00d7ff; text-decoration-color: #00d7ff\">None</span>, <span style=\"color: #00af00; text-decoration-color: #00af00\">1</span>)                   │              <span style=\"color: #00af00; text-decoration-color: #00af00\">51</span> │\n",
              "└──────────────────────────────────────┴─────────────────────────────┴─────────────────┘\n",
              "</pre>\n"
            ]
          },
          "metadata": {}
        },
        {
          "output_type": "display_data",
          "data": {
            "text/plain": [
              "\u001b[1m Total params: \u001b[0m\u001b[38;5;34m11,451\u001b[0m (44.73 KB)\n"
            ],
            "text/html": [
              "<pre style=\"white-space:pre;overflow-x:auto;line-height:normal;font-family:Menlo,'DejaVu Sans Mono',consolas,'Courier New',monospace\"><span style=\"font-weight: bold\"> Total params: </span><span style=\"color: #00af00; text-decoration-color: #00af00\">11,451</span> (44.73 KB)\n",
              "</pre>\n"
            ]
          },
          "metadata": {}
        },
        {
          "output_type": "display_data",
          "data": {
            "text/plain": [
              "\u001b[1m Trainable params: \u001b[0m\u001b[38;5;34m11,451\u001b[0m (44.73 KB)\n"
            ],
            "text/html": [
              "<pre style=\"white-space:pre;overflow-x:auto;line-height:normal;font-family:Menlo,'DejaVu Sans Mono',consolas,'Courier New',monospace\"><span style=\"font-weight: bold\"> Trainable params: </span><span style=\"color: #00af00; text-decoration-color: #00af00\">11,451</span> (44.73 KB)\n",
              "</pre>\n"
            ]
          },
          "metadata": {}
        },
        {
          "output_type": "display_data",
          "data": {
            "text/plain": [
              "\u001b[1m Non-trainable params: \u001b[0m\u001b[38;5;34m0\u001b[0m (0.00 B)\n"
            ],
            "text/html": [
              "<pre style=\"white-space:pre;overflow-x:auto;line-height:normal;font-family:Menlo,'DejaVu Sans Mono',consolas,'Courier New',monospace\"><span style=\"font-weight: bold\"> Non-trainable params: </span><span style=\"color: #00af00; text-decoration-color: #00af00\">0</span> (0.00 B)\n",
              "</pre>\n"
            ]
          },
          "metadata": {}
        }
      ]
    },
    {
      "cell_type": "code",
      "source": [
        "# Step 6: Train the model\n",
        "history = model.fit(X_train, y_train, epochs=50, batch_size=32, validation_data=(X_test, y_test), verbose=1)"
      ],
      "metadata": {
        "colab": {
          "base_uri": "https://localhost:8080/"
        },
        "id": "85VfiWpalhs_",
        "outputId": "6d5ba616-be0e-4258-c756-2d3913e7b766"
      },
      "execution_count": null,
      "outputs": [
        {
          "output_type": "stream",
          "name": "stdout",
          "text": [
            "Epoch 1/50\n",
            "\u001b[1m9/9\u001b[0m \u001b[32m━━━━━━━━━━━━━━━━━━━━\u001b[0m\u001b[37m\u001b[0m \u001b[1m3s\u001b[0m 63ms/step - loss: 1.5862e-04 - val_loss: 1.9771e-04\n",
            "Epoch 2/50\n",
            "\u001b[1m9/9\u001b[0m \u001b[32m━━━━━━━━━━━━━━━━━━━━\u001b[0m\u001b[37m\u001b[0m \u001b[1m1s\u001b[0m 9ms/step - loss: 3.6966e-05 - val_loss: 4.3058e-05\n",
            "Epoch 3/50\n",
            "\u001b[1m9/9\u001b[0m \u001b[32m━━━━━━━━━━━━━━━━━━━━\u001b[0m\u001b[37m\u001b[0m \u001b[1m0s\u001b[0m 7ms/step - loss: 2.3310e-05 - val_loss: 5.5647e-05\n",
            "Epoch 4/50\n",
            "\u001b[1m9/9\u001b[0m \u001b[32m━━━━━━━━━━━━━━━━━━━━\u001b[0m\u001b[37m\u001b[0m \u001b[1m0s\u001b[0m 9ms/step - loss: 1.2331e-05 - val_loss: 6.6801e-05\n",
            "Epoch 5/50\n",
            "\u001b[1m9/9\u001b[0m \u001b[32m━━━━━━━━━━━━━━━━━━━━\u001b[0m\u001b[37m\u001b[0m \u001b[1m0s\u001b[0m 8ms/step - loss: 6.5689e-06 - val_loss: 7.0016e-05\n",
            "Epoch 6/50\n",
            "\u001b[1m9/9\u001b[0m \u001b[32m━━━━━━━━━━━━━━━━━━━━\u001b[0m\u001b[37m\u001b[0m \u001b[1m0s\u001b[0m 9ms/step - loss: 4.8066e-06 - val_loss: 5.0017e-05\n",
            "Epoch 7/50\n",
            "\u001b[1m9/9\u001b[0m \u001b[32m━━━━━━━━━━━━━━━━━━━━\u001b[0m\u001b[37m\u001b[0m \u001b[1m0s\u001b[0m 8ms/step - loss: 4.8464e-06 - val_loss: 4.7157e-05\n",
            "Epoch 8/50\n",
            "\u001b[1m9/9\u001b[0m \u001b[32m━━━━━━━━━━━━━━━━━━━━\u001b[0m\u001b[37m\u001b[0m \u001b[1m0s\u001b[0m 8ms/step - loss: 2.6701e-06 - val_loss: 4.7952e-05\n",
            "Epoch 9/50\n",
            "\u001b[1m9/9\u001b[0m \u001b[32m━━━━━━━━━━━━━━━━━━━━\u001b[0m\u001b[37m\u001b[0m \u001b[1m0s\u001b[0m 8ms/step - loss: 2.6945e-06 - val_loss: 4.0570e-05\n",
            "Epoch 10/50\n",
            "\u001b[1m9/9\u001b[0m \u001b[32m━━━━━━━━━━━━━━━━━━━━\u001b[0m\u001b[37m\u001b[0m \u001b[1m0s\u001b[0m 10ms/step - loss: 2.3535e-06 - val_loss: 3.6039e-05\n",
            "Epoch 11/50\n",
            "\u001b[1m9/9\u001b[0m \u001b[32m━━━━━━━━━━━━━━━━━━━━\u001b[0m\u001b[37m\u001b[0m \u001b[1m0s\u001b[0m 10ms/step - loss: 3.3195e-06 - val_loss: 3.5134e-05\n",
            "Epoch 12/50\n",
            "\u001b[1m9/9\u001b[0m \u001b[32m━━━━━━━━━━━━━━━━━━━━\u001b[0m\u001b[37m\u001b[0m \u001b[1m0s\u001b[0m 10ms/step - loss: 2.3678e-06 - val_loss: 4.5820e-05\n",
            "Epoch 13/50\n",
            "\u001b[1m9/9\u001b[0m \u001b[32m━━━━━━━━━━━━━━━━━━━━\u001b[0m\u001b[37m\u001b[0m \u001b[1m0s\u001b[0m 8ms/step - loss: 1.6725e-06 - val_loss: 3.7626e-05\n",
            "Epoch 14/50\n",
            "\u001b[1m9/9\u001b[0m \u001b[32m━━━━━━━━━━━━━━━━━━━━\u001b[0m\u001b[37m\u001b[0m \u001b[1m0s\u001b[0m 10ms/step - loss: 1.3331e-06 - val_loss: 3.6203e-05\n",
            "Epoch 15/50\n",
            "\u001b[1m9/9\u001b[0m \u001b[32m━━━━━━━━━━━━━━━━━━━━\u001b[0m\u001b[37m\u001b[0m \u001b[1m0s\u001b[0m 11ms/step - loss: 1.0201e-06 - val_loss: 3.2178e-05\n",
            "Epoch 16/50\n",
            "\u001b[1m9/9\u001b[0m \u001b[32m━━━━━━━━━━━━━━━━━━━━\u001b[0m\u001b[37m\u001b[0m \u001b[1m0s\u001b[0m 9ms/step - loss: 1.2018e-06 - val_loss: 3.5860e-05\n",
            "Epoch 17/50\n",
            "\u001b[1m9/9\u001b[0m \u001b[32m━━━━━━━━━━━━━━━━━━━━\u001b[0m\u001b[37m\u001b[0m \u001b[1m0s\u001b[0m 9ms/step - loss: 9.5983e-07 - val_loss: 3.2500e-05\n",
            "Epoch 18/50\n",
            "\u001b[1m9/9\u001b[0m \u001b[32m━━━━━━━━━━━━━━━━━━━━\u001b[0m\u001b[37m\u001b[0m \u001b[1m0s\u001b[0m 9ms/step - loss: 9.7609e-07 - val_loss: 2.8590e-05\n",
            "Epoch 19/50\n",
            "\u001b[1m9/9\u001b[0m \u001b[32m━━━━━━━━━━━━━━━━━━━━\u001b[0m\u001b[37m\u001b[0m \u001b[1m0s\u001b[0m 9ms/step - loss: 8.3779e-07 - val_loss: 3.2951e-05\n",
            "Epoch 20/50\n",
            "\u001b[1m9/9\u001b[0m \u001b[32m━━━━━━━━━━━━━━━━━━━━\u001b[0m\u001b[37m\u001b[0m \u001b[1m0s\u001b[0m 10ms/step - loss: 7.5414e-07 - val_loss: 3.0423e-05\n",
            "Epoch 21/50\n",
            "\u001b[1m9/9\u001b[0m \u001b[32m━━━━━━━━━━━━━━━━━━━━\u001b[0m\u001b[37m\u001b[0m \u001b[1m0s\u001b[0m 8ms/step - loss: 7.6853e-07 - val_loss: 2.8334e-05\n",
            "Epoch 22/50\n",
            "\u001b[1m9/9\u001b[0m \u001b[32m━━━━━━━━━━━━━━━━━━━━\u001b[0m\u001b[37m\u001b[0m \u001b[1m0s\u001b[0m 9ms/step - loss: 5.9757e-07 - val_loss: 3.0542e-05\n",
            "Epoch 23/50\n",
            "\u001b[1m9/9\u001b[0m \u001b[32m━━━━━━━━━━━━━━━━━━━━\u001b[0m\u001b[37m\u001b[0m \u001b[1m0s\u001b[0m 10ms/step - loss: 6.2880e-07 - val_loss: 2.8081e-05\n",
            "Epoch 24/50\n",
            "\u001b[1m9/9\u001b[0m \u001b[32m━━━━━━━━━━━━━━━━━━━━\u001b[0m\u001b[37m\u001b[0m \u001b[1m0s\u001b[0m 10ms/step - loss: 5.6120e-07 - val_loss: 2.9673e-05\n",
            "Epoch 25/50\n",
            "\u001b[1m9/9\u001b[0m \u001b[32m━━━━━━━━━━━━━━━━━━━━\u001b[0m\u001b[37m\u001b[0m \u001b[1m0s\u001b[0m 7ms/step - loss: 6.1333e-07 - val_loss: 2.7419e-05\n",
            "Epoch 26/50\n",
            "\u001b[1m9/9\u001b[0m \u001b[32m━━━━━━━━━━━━━━━━━━━━\u001b[0m\u001b[37m\u001b[0m \u001b[1m0s\u001b[0m 8ms/step - loss: 4.2558e-07 - val_loss: 2.9787e-05\n",
            "Epoch 27/50\n",
            "\u001b[1m9/9\u001b[0m \u001b[32m━━━━━━━━━━━━━━━━━━━━\u001b[0m\u001b[37m\u001b[0m \u001b[1m0s\u001b[0m 8ms/step - loss: 4.6804e-07 - val_loss: 2.7413e-05\n",
            "Epoch 28/50\n",
            "\u001b[1m9/9\u001b[0m \u001b[32m━━━━━━━━━━━━━━━━━━━━\u001b[0m\u001b[37m\u001b[0m \u001b[1m0s\u001b[0m 8ms/step - loss: 3.6901e-07 - val_loss: 2.4917e-05\n",
            "Epoch 29/50\n",
            "\u001b[1m9/9\u001b[0m \u001b[32m━━━━━━━━━━━━━━━━━━━━\u001b[0m\u001b[37m\u001b[0m \u001b[1m0s\u001b[0m 10ms/step - loss: 4.2757e-07 - val_loss: 2.5250e-05\n",
            "Epoch 30/50\n",
            "\u001b[1m9/9\u001b[0m \u001b[32m━━━━━━━━━━━━━━━━━━━━\u001b[0m\u001b[37m\u001b[0m \u001b[1m0s\u001b[0m 7ms/step - loss: 3.8408e-07 - val_loss: 2.4134e-05\n",
            "Epoch 31/50\n",
            "\u001b[1m9/9\u001b[0m \u001b[32m━━━━━━━━━━━━━━━━━━━━\u001b[0m\u001b[37m\u001b[0m \u001b[1m0s\u001b[0m 10ms/step - loss: 3.9551e-07 - val_loss: 2.3295e-05\n",
            "Epoch 32/50\n",
            "\u001b[1m9/9\u001b[0m \u001b[32m━━━━━━━━━━━━━━━━━━━━\u001b[0m\u001b[37m\u001b[0m \u001b[1m0s\u001b[0m 9ms/step - loss: 3.2040e-07 - val_loss: 2.4897e-05\n",
            "Epoch 33/50\n",
            "\u001b[1m9/9\u001b[0m \u001b[32m━━━━━━━━━━━━━━━━━━━━\u001b[0m\u001b[37m\u001b[0m \u001b[1m0s\u001b[0m 8ms/step - loss: 3.5989e-07 - val_loss: 2.4182e-05\n",
            "Epoch 34/50\n",
            "\u001b[1m9/9\u001b[0m \u001b[32m━━━━━━━━━━━━━━━━━━━━\u001b[0m\u001b[37m\u001b[0m \u001b[1m0s\u001b[0m 9ms/step - loss: 3.4182e-07 - val_loss: 2.6609e-05\n",
            "Epoch 35/50\n",
            "\u001b[1m9/9\u001b[0m \u001b[32m━━━━━━━━━━━━━━━━━━━━\u001b[0m\u001b[37m\u001b[0m \u001b[1m0s\u001b[0m 8ms/step - loss: 3.4876e-07 - val_loss: 2.3201e-05\n",
            "Epoch 36/50\n",
            "\u001b[1m9/9\u001b[0m \u001b[32m━━━━━━━━━━━━━━━━━━━━\u001b[0m\u001b[37m\u001b[0m \u001b[1m0s\u001b[0m 11ms/step - loss: 4.1704e-07 - val_loss: 2.2130e-05\n",
            "Epoch 37/50\n",
            "\u001b[1m9/9\u001b[0m \u001b[32m━━━━━━━━━━━━━━━━━━━━\u001b[0m\u001b[37m\u001b[0m \u001b[1m0s\u001b[0m 7ms/step - loss: 3.6134e-07 - val_loss: 2.4955e-05\n",
            "Epoch 38/50\n",
            "\u001b[1m9/9\u001b[0m \u001b[32m━━━━━━━━━━━━━━━━━━━━\u001b[0m\u001b[37m\u001b[0m \u001b[1m0s\u001b[0m 9ms/step - loss: 3.1527e-07 - val_loss: 2.2282e-05\n",
            "Epoch 39/50\n",
            "\u001b[1m9/9\u001b[0m \u001b[32m━━━━━━━━━━━━━━━━━━━━\u001b[0m\u001b[37m\u001b[0m \u001b[1m0s\u001b[0m 8ms/step - loss: 2.3018e-07 - val_loss: 2.1323e-05\n",
            "Epoch 40/50\n",
            "\u001b[1m9/9\u001b[0m \u001b[32m━━━━━━━━━━━━━━━━━━━━\u001b[0m\u001b[37m\u001b[0m \u001b[1m0s\u001b[0m 10ms/step - loss: 2.3930e-07 - val_loss: 2.2483e-05\n",
            "Epoch 41/50\n",
            "\u001b[1m9/9\u001b[0m \u001b[32m━━━━━━━━━━━━━━━━━━━━\u001b[0m\u001b[37m\u001b[0m \u001b[1m0s\u001b[0m 9ms/step - loss: 2.6824e-07 - val_loss: 2.1267e-05\n",
            "Epoch 42/50\n",
            "\u001b[1m9/9\u001b[0m \u001b[32m━━━━━━━━━━━━━━━━━━━━\u001b[0m\u001b[37m\u001b[0m \u001b[1m0s\u001b[0m 7ms/step - loss: 2.0599e-07 - val_loss: 2.0398e-05\n",
            "Epoch 43/50\n",
            "\u001b[1m9/9\u001b[0m \u001b[32m━━━━━━━━━━━━━━━━━━━━\u001b[0m\u001b[37m\u001b[0m \u001b[1m0s\u001b[0m 8ms/step - loss: 2.5216e-07 - val_loss: 2.1648e-05\n",
            "Epoch 44/50\n",
            "\u001b[1m9/9\u001b[0m \u001b[32m━━━━━━━━━━━━━━━━━━━━\u001b[0m\u001b[37m\u001b[0m \u001b[1m0s\u001b[0m 8ms/step - loss: 1.9552e-07 - val_loss: 2.1078e-05\n",
            "Epoch 45/50\n",
            "\u001b[1m9/9\u001b[0m \u001b[32m━━━━━━━━━━━━━━━━━━━━\u001b[0m\u001b[37m\u001b[0m \u001b[1m0s\u001b[0m 9ms/step - loss: 2.5706e-07 - val_loss: 2.3535e-05\n",
            "Epoch 46/50\n",
            "\u001b[1m9/9\u001b[0m \u001b[32m━━━━━━━━━━━━━━━━━━━━\u001b[0m\u001b[37m\u001b[0m \u001b[1m0s\u001b[0m 10ms/step - loss: 3.2923e-07 - val_loss: 2.0063e-05\n",
            "Epoch 47/50\n",
            "\u001b[1m9/9\u001b[0m \u001b[32m━━━━━━━━━━━━━━━━━━━━\u001b[0m\u001b[37m\u001b[0m \u001b[1m0s\u001b[0m 9ms/step - loss: 2.7466e-07 - val_loss: 2.0311e-05\n",
            "Epoch 48/50\n",
            "\u001b[1m9/9\u001b[0m \u001b[32m━━━━━━━━━━━━━━━━━━━━\u001b[0m\u001b[37m\u001b[0m \u001b[1m0s\u001b[0m 9ms/step - loss: 2.1734e-07 - val_loss: 2.2235e-05\n",
            "Epoch 49/50\n",
            "\u001b[1m9/9\u001b[0m \u001b[32m━━━━━━━━━━━━━━━━━━━━\u001b[0m\u001b[37m\u001b[0m \u001b[1m0s\u001b[0m 9ms/step - loss: 2.5992e-07 - val_loss: 2.0404e-05\n",
            "Epoch 50/50\n",
            "\u001b[1m9/9\u001b[0m \u001b[32m━━━━━━━━━━━━━━━━━━━━\u001b[0m\u001b[37m\u001b[0m \u001b[1m0s\u001b[0m 8ms/step - loss: 2.4839e-07 - val_loss: 1.9429e-05\n"
          ]
        }
      ]
    },
    {
      "cell_type": "code",
      "source": [
        "# Step 7: Plot training history\n",
        "plt.plot(history.history['loss'], label='Train Loss')\n",
        "plt.plot(history.history['val_loss'], label='Validation Loss')\n",
        "plt.legend()\n",
        "plt.show()\n"
      ],
      "metadata": {
        "colab": {
          "base_uri": "https://localhost:8080/",
          "height": 430
        },
        "id": "wFiDD0xLlm7p",
        "outputId": "f7b058c5-d85a-4a9d-fa53-dd09085ab4e5"
      },
      "execution_count": null,
      "outputs": [
        {
          "output_type": "display_data",
          "data": {
            "text/plain": [
              "<Figure size 640x480 with 1 Axes>"
            ],
            "image/png": "[encoded data removed]"
          },
          "metadata": {}
        }
      ]
    },
    {
      "cell_type": "code",
      "source": [
        "# Step 8: Predict and Inverse Transform\n",
        "predictions = model.predict(X_test)\n"
      ],
      "metadata": {
        "colab": {
          "base_uri": "https://localhost:8080/"
        },
        "id": "4GhmTzx9lrds",
        "outputId": "e8b8acb5-d3e1-47a0-c2b3-79bcbb2f6b8f"
      },
      "execution_count": null,
      "outputs": [
        {
          "output_type": "stream",
          "name": "stdout",
          "text": [
            "\u001b[1m3/3\u001b[0m \u001b[32m━━━━━━━━━━━━━━━━━━━━\u001b[0m\u001b[37m\u001b[0m \u001b[1m0s\u001b[0m 80ms/step\n"
          ]
        }
      ]
    },
    {
      "cell_type": "code",
      "source": [
        "# Since we scaled the data, reverse scaling\n",
        "y_test_rescaled = scaler.inverse_transform(np.concatenate((X_test[:, -1, :], y_test.reshape(-1, 1)), axis=1))[:, -1]\n",
        "predictions_rescaled = scaler.inverse_transform(np.concatenate((X_test[:, -1, :], predictions), axis=1))[:, -1]\n",
        "y_test_rescaled"
      ],
      "metadata": {
        "colab": {
          "base_uri": "https://localhost:8080/"
        },
        "id": "XKWfS5D6lyE9",
        "outputId": "abc09b7a-42f0-4c25-c225-c2eaba352578"
      },
      "execution_count": null,
      "outputs": [
        {
          "output_type": "execute_result",
          "data": {
            "text/plain": [
              "array([0., 0., 0., 0., 0., 0., 0., 0., 0., 0., 0., 0., 0., 0., 0., 0., 0.,\n",
              "       0., 0., 0., 0., 0., 0., 0., 0., 0., 0., 0., 0., 0., 0., 0., 0., 0.,\n",
              "       0., 0., 0., 0., 0., 0., 0., 0., 0., 0., 0., 0., 0., 0., 0., 0., 0.,\n",
              "       0., 0., 0., 0., 0., 0., 0., 0., 0., 0., 0., 0., 0., 0., 0., 0., 0.,\n",
              "       0.])"
            ]
          },
          "metadata": {},
          "execution_count": 54
        }
      ]
    },
    {
      "cell_type": "code",
      "source": [
        "predictions_rescaled"
      ],
      "metadata": {
        "colab": {
          "base_uri": "https://localhost:8080/"
        },
        "id": "alxOcfT0l3Oh",
        "outputId": "7006cf78-8592-4b44-eac7-4498371e4115"
      },
      "execution_count": null,
      "outputs": [
        {
          "output_type": "execute_result",
          "data": {
            "text/plain": [
              "array([ 2.23627710e-03,  4.22744639e-03,  4.97492682e-03,  8.52367142e-04,\n",
              "       -1.68868317e-03, -2.92956154e-03, -2.41681817e-03,  3.07734590e-05,\n",
              "        1.85056380e-03,  2.73956568e-03,  2.16992036e-03,  3.01384856e-03,\n",
              "        4.33932524e-03,  4.45071235e-03,  5.17147314e-03,  4.72810771e-03,\n",
              "        3.33677954e-03,  2.05545523e-03,  1.85846328e-03,  1.65002397e-03,\n",
              "        2.24413094e-03,  2.34575034e-03,  2.21942295e-03,  1.67368934e-03,\n",
              "        1.12571637e-03,  7.79867405e-04,  1.07927551e-03,  1.31213875e-03,\n",
              "        1.26011972e-03,  1.52891292e-03,  1.01966807e-03,  6.39247941e-04,\n",
              "        4.55071451e-04,  1.70372892e-04, -1.68552389e-04,  2.74164602e-04,\n",
              "        1.31941866e-04,  4.30724118e-04,  7.05576967e-05,  1.13891670e-04,\n",
              "        2.66194111e-04, -9.62898368e-04, -3.00777843e-04, -1.26356026e-04,\n",
              "       -6.59557525e-04, -1.16850180e-03, -6.96218340e-04,  5.47871459e-05,\n",
              "        1.05371443e-03,  1.24684279e-03,  3.96502437e-04, -1.40438112e-03,\n",
              "       -5.96317369e-03, -8.03125929e-03, -8.14503338e-03, -8.64160713e-03,\n",
              "       -9.22367442e-03, -9.49001778e-03, -9.67926625e-03, -1.07145356e-02,\n",
              "       -1.14897983e-02, -1.09965997e-02, -8.68202467e-03, -6.72927592e-03,\n",
              "       -5.22071775e-03, -5.46105299e-03, -4.62647807e-03, -4.11061849e-03,\n",
              "       -3.18354438e-03])"
            ]
          },
          "metadata": {},
          "execution_count": 55
        }
      ]
    },
    {
      "cell_type": "code",
      "source": [
        "# Plot predictions vs actual\n",
        "time_axis = np.arange(len(y_test_rescaled))\n",
        "plt.plot(time_axis, y_test_rescaled, label='Actual')\n",
        "plt.plot(time_axis, predictions_rescaled, label='Predicted')\n",
        "plt.legend()\n",
        "plt.show()\n"
      ],
      "metadata": {
        "colab": {
          "base_uri": "https://localhost:8080/",
          "height": 430
        },
        "id": "3BNRRvgJl6JT",
        "outputId": "25cbbf22-1ed7-4b8b-c468-1b881fa87363"
      },
      "execution_count": null,
      "outputs": [
        {
          "output_type": "display_data",
          "data": {
            "text/plain": [
              "<Figure size 640x480 with 1 Axes>"
            ],
            "image/png": "[encoded data removed]"
          },
          "metadata": {}
        }
      ]
    },
    {
      "cell_type": "code",
      "source": [
        "#2.\n",
        "import pandas as pd\n",
        "import numpy as np\n",
        "from sklearn.preprocessing import MinMaxScaler\n",
        "from tensorflow.keras.models import Sequential\n",
        "from tensorflow.keras.layers import LSTM, Dense\n",
        "from sklearn.model_selection import train_test_split\n",
        "import matplotlib.pyplot as plt"
      ],
      "metadata": {
        "id": "z8AfEVbtxNZm"
      },
      "execution_count": null,
      "outputs": []
    },
    {
      "cell_type": "code",
      "source": [
        "# Feature scaling using MinMaxScaler\n",
        "scaler = MinMaxScaler(feature_range=(0, 1))\n",
        "scaled_data = scaler.fit_transform(data.values)\n",
        "scaled_data\n"
      ],
      "metadata": {
        "colab": {
          "base_uri": "https://localhost:8080/"
        },
        "id": "IGjvpXP6hdQM",
        "outputId": "633ad41f-fac9-4556-a56b-c1eafeb8c461"
      },
      "execution_count": null,
      "outputs": [
        {
          "output_type": "execute_result",
          "data": {
            "text/plain": [
              "array([[0.52380952, 0.65      , 0.66666667, ..., 0.00710185, 0.        ,\n",
              "        0.        ],\n",
              "       [0.47619048, 0.7       , 0.66666667, ..., 0.01622308, 0.        ,\n",
              "        0.        ],\n",
              "       [0.52380952, 0.65      , 0.66666667, ..., 0.02028453, 0.        ,\n",
              "        0.        ],\n",
              "       ...,\n",
              "       [0.23809524, 0.3       , 0.95833333, ..., 0.54965625, 0.        ,\n",
              "        0.        ],\n",
              "       [0.23809524, 0.25      , 0.95833333, ..., 0.55877748, 0.        ,\n",
              "        0.        ],\n",
              "       [0.28571429, 0.3       , 0.95833333, ..., 0.56587934, 0.        ,\n",
              "        0.        ]])"
            ]
          },
          "metadata": {},
          "execution_count": 23
        }
      ]
    },
    {
      "cell_type": "code",
      "source": [
        "# Step 3: Define function to frame the supervised learning problem\n",
        "def create_sequences(data, n_steps_in, n_steps_out):\n",
        "    X, y = [], []\n",
        "    for i in range(len(data)):\n",
        "        # Find the end of this sequence\n",
        "        end_ix = i + n_steps_in\n",
        "        out_end_ix = end_ix + n_steps_out\n",
        "        # Break if we exceed dataset length\n",
        "        if out_end_ix > len(data):\n",
        "            break\n",
        "        # Input and output sequence\n",
        "        seq_x, seq_y = data[i:end_ix, :-1], data[end_ix:out_end_ix, -1]\n",
        "        X.append(seq_x)\n",
        "        y.append(seq_y)\n",
        "    return np.array(X), np.array(y)"
      ],
      "metadata": {
        "id": "wf8KIZRPwJ1I"
      },
      "execution_count": null,
      "outputs": []
    },
    {
      "cell_type": "code",
      "source": [
        "n_steps_in, n_steps_out = 5,1  # 24 past hours to predict 6 future hours\n",
        "# Prepare sequences\n",
        "X, y = create_sequences(scaled_data, n_steps_in, n_steps_out)\n",
        "print(\"Input Shape:\", X.shape, \"Output Shape:\", y.shape)"
      ],
      "metadata": {
        "colab": {
          "base_uri": "https://localhost:8080/"
        },
        "id": "3tc7w-_JxrjT",
        "outputId": "e58704f2-55ad-4a4c-fab5-3874b18a03e7"
      },
      "execution_count": null,
      "outputs": [
        {
          "output_type": "stream",
          "name": "stdout",
          "text": [
            "Input Shape: (341, 5, 6) Output Shape: (341, 1)\n"
          ]
        }
      ]
    },
    {
      "cell_type": "code",
      "source": [
        "model = Sequential()\n",
        "model.add(LSTM(50, activation='relu', input_shape=(X_train.shape[1], X_train.shape[2])))\n",
        "model.add(Dense(n_steps_out))\n",
        "model.compile(optimizer='adam', loss='mse')\n",
        "model.summary()"
      ],
      "metadata": {
        "colab": {
          "base_uri": "https://localhost:8080/",
          "height": 210
        },
        "id": "xjgeK9sIxLyX",
        "outputId": "8c19f3ae-4112-47b9-dc47-3f0b0efe3fed"
      },
      "execution_count": null,
      "outputs": [
        {
          "output_type": "display_data",
          "data": {
            "text/plain": [
              "\u001b[1mModel: \"sequential_5\"\u001b[0m\n"
            ],
            "text/html": [
              "<pre style=\"white-space:pre;overflow-x:auto;line-height:normal;font-family:Menlo,'DejaVu Sans Mono',consolas,'Courier New',monospace\"><span style=\"font-weight: bold\">Model: \"sequential_5\"</span>\n",
              "</pre>\n"
            ]
          },
          "metadata": {}
        },
        {
          "output_type": "display_data",
          "data": {
            "text/plain": [
              "┏━━━━━━━━━━━━━━━━━━━━━━━━━━━━━━━━━━━━━━┳━━━━━━━━━━━━━━━━━━━━━━━━━━━━━┳━━━━━━━━━━━━━━━━━┓\n",
              "┃\u001b[1m \u001b[0m\u001b[1mLayer (type)                        \u001b[0m\u001b[1m \u001b[0m┃\u001b[1m \u001b[0m\u001b[1mOutput Shape               \u001b[0m\u001b[1m \u001b[0m┃\u001b[1m \u001b[0m\u001b[1m        Param #\u001b[0m\u001b[1m \u001b[0m┃\n",
              "┡━━━━━━━━━━━━━━━━━━━━━━━━━━━━━━━━━━━━━━╇━━━━━━━━━━━━━━━━━━━━━━━━━━━━━╇━━━━━━━━━━━━━━━━━┩\n",
              "│ lstm_7 (\u001b[38;5;33mLSTM\u001b[0m)                        │ (\u001b[38;5;45mNone\u001b[0m, \u001b[38;5;34m50\u001b[0m)                  │          \u001b[38;5;34m11,400\u001b[0m │\n",
              "├──────────────────────────────────────┼─────────────────────────────┼─────────────────┤\n",
              "│ dense_3 (\u001b[38;5;33mDense\u001b[0m)                      │ (\u001b[38;5;45mNone\u001b[0m, \u001b[38;5;34m1\u001b[0m)                   │              \u001b[38;5;34m51\u001b[0m │\n",
              "└──────────────────────────────────────┴─────────────────────────────┴─────────────────┘\n"
            ],
            "text/html": [
              "<pre style=\"white-space:pre;overflow-x:auto;line-height:normal;font-family:Menlo,'DejaVu Sans Mono',consolas,'Courier New',monospace\">┏━━━━━━━━━━━━━━━━━━━━━━━━━━━━━━━━━━━━━━┳━━━━━━━━━━━━━━━━━━━━━━━━━━━━━┳━━━━━━━━━━━━━━━━━┓\n",
              "┃<span style=\"font-weight: bold\"> Layer (type)                         </span>┃<span style=\"font-weight: bold\"> Output Shape                </span>┃<span style=\"font-weight: bold\">         Param # </span>┃\n",
              "┡━━━━━━━━━━━━━━━━━━━━━━━━━━━━━━━━━━━━━━╇━━━━━━━━━━━━━━━━━━━━━━━━━━━━━╇━━━━━━━━━━━━━━━━━┩\n",
              "│ lstm_7 (<span style=\"color: #0087ff; text-decoration-color: #0087ff\">LSTM</span>)                        │ (<span style=\"color: #00d7ff; text-decoration-color: #00d7ff\">None</span>, <span style=\"color: #00af00; text-decoration-color: #00af00\">50</span>)                  │          <span style=\"color: #00af00; text-decoration-color: #00af00\">11,400</span> │\n",
              "├──────────────────────────────────────┼─────────────────────────────┼─────────────────┤\n",
              "│ dense_3 (<span style=\"color: #0087ff; text-decoration-color: #0087ff\">Dense</span>)                      │ (<span style=\"color: #00d7ff; text-decoration-color: #00d7ff\">None</span>, <span style=\"color: #00af00; text-decoration-color: #00af00\">1</span>)                   │              <span style=\"color: #00af00; text-decoration-color: #00af00\">51</span> │\n",
              "└──────────────────────────────────────┴─────────────────────────────┴─────────────────┘\n",
              "</pre>\n"
            ]
          },
          "metadata": {}
        },
        {
          "output_type": "display_data",
          "data": {
            "text/plain": [
              "\u001b[1m Total params: \u001b[0m\u001b[38;5;34m11,451\u001b[0m (44.73 KB)\n"
            ],
            "text/html": [
              "<pre style=\"white-space:pre;overflow-x:auto;line-height:normal;font-family:Menlo,'DejaVu Sans Mono',consolas,'Courier New',monospace\"><span style=\"font-weight: bold\"> Total params: </span><span style=\"color: #00af00; text-decoration-color: #00af00\">11,451</span> (44.73 KB)\n",
              "</pre>\n"
            ]
          },
          "metadata": {}
        },
        {
          "output_type": "display_data",
          "data": {
            "text/plain": [
              "\u001b[1m Trainable params: \u001b[0m\u001b[38;5;34m11,451\u001b[0m (44.73 KB)\n"
            ],
            "text/html": [
              "<pre style=\"white-space:pre;overflow-x:auto;line-height:normal;font-family:Menlo,'DejaVu Sans Mono',consolas,'Courier New',monospace\"><span style=\"font-weight: bold\"> Trainable params: </span><span style=\"color: #00af00; text-decoration-color: #00af00\">11,451</span> (44.73 KB)\n",
              "</pre>\n"
            ]
          },
          "metadata": {}
        },
        {
          "output_type": "display_data",
          "data": {
            "text/plain": [
              "\u001b[1m Non-trainable params: \u001b[0m\u001b[38;5;34m0\u001b[0m (0.00 B)\n"
            ],
            "text/html": [
              "<pre style=\"white-space:pre;overflow-x:auto;line-height:normal;font-family:Menlo,'DejaVu Sans Mono',consolas,'Courier New',monospace\"><span style=\"font-weight: bold\"> Non-trainable params: </span><span style=\"color: #00af00; text-decoration-color: #00af00\">0</span> (0.00 B)\n",
              "</pre>\n"
            ]
          },
          "metadata": {}
        }
      ]
    },
    {
      "cell_type": "code",
      "source": [
        "X_train, X_test, y_train, y_test = train_test_split(X, y, test_size=0.2, random_state=42, shuffle=False)\n",
        "X_train"
      ],
      "metadata": {
        "colab": {
          "base_uri": "https://localhost:8080/"
        },
        "id": "OvqtWax5hwae",
        "outputId": "192b04d8-88a4-4d51-da21-e48642ed5e51"
      },
      "execution_count": null,
      "outputs": [
        {
          "output_type": "execute_result",
          "data": {
            "text/plain": [
              "array([[[0.52380952, 0.65      , 0.66666667, 0.28828829, 0.00710185,\n",
              "         0.        ],\n",
              "        [0.47619048, 0.7       , 0.66666667, 0.17342342, 0.01622308,\n",
              "         0.        ],\n",
              "        [0.52380952, 0.65      , 0.66666667, 0.1463964 , 0.02028453,\n",
              "         0.        ],\n",
              "        [0.52380952, 0.5       , 0.70833333, 0.17792793, 0.00099834,\n",
              "         0.        ],\n",
              "        [0.61904762, 0.45      , 0.70833333, 0.20945946, 0.00304041,\n",
              "         0.        ]],\n",
              "\n",
              "       [[0.47619048, 0.7       , 0.66666667, 0.17342342, 0.01622308,\n",
              "         0.        ],\n",
              "        [0.52380952, 0.65      , 0.66666667, 0.1463964 , 0.02028453,\n",
              "         0.        ],\n",
              "        [0.52380952, 0.5       , 0.70833333, 0.17792793, 0.00099834,\n",
              "         0.        ],\n",
              "        [0.61904762, 0.45      , 0.70833333, 0.20945946, 0.00304041,\n",
              "         0.        ],\n",
              "        [0.57142857, 0.35      , 0.75      , 0.23423423, 0.00710185,\n",
              "         0.        ]],\n",
              "\n",
              "       [[0.52380952, 0.65      , 0.66666667, 0.1463964 , 0.02028453,\n",
              "         0.        ],\n",
              "        [0.52380952, 0.5       , 0.70833333, 0.17792793, 0.00099834,\n",
              "         0.        ],\n",
              "        [0.61904762, 0.45      , 0.70833333, 0.20945946, 0.00304041,\n",
              "         0.        ],\n",
              "        [0.57142857, 0.35      , 0.75      , 0.23423423, 0.00710185,\n",
              "         0.        ],\n",
              "        [0.57142857, 0.3       , 0.75      , 0.45495495, 0.00099834,\n",
              "         0.        ]],\n",
              "\n",
              "       ...,\n",
              "\n",
              "       [[0.66666667, 0.75      , 0.25      , 0.24774775, 0.08515418,\n",
              "         0.        ],\n",
              "        [0.66666667, 0.6       , 0.25      , 0.39414414, 0.00099834,\n",
              "         0.        ],\n",
              "        [0.66666667, 0.5       , 0.25      , 0.65990991, 0.00301772,\n",
              "         0.        ],\n",
              "        [0.80952381, 0.55      , 0.25      , 0.72972973, 0.0050371 ,\n",
              "         0.        ],\n",
              "        [0.80952381, 0.35      , 0.25      , 0.76801802, 0.00605813,\n",
              "         0.        ]],\n",
              "\n",
              "       [[0.66666667, 0.6       , 0.25      , 0.39414414, 0.00099834,\n",
              "         0.        ],\n",
              "        [0.66666667, 0.5       , 0.25      , 0.65990991, 0.00301772,\n",
              "         0.        ],\n",
              "        [0.80952381, 0.55      , 0.25      , 0.72972973, 0.0050371 ,\n",
              "         0.        ],\n",
              "        [0.80952381, 0.35      , 0.25      , 0.76801802, 0.00605813,\n",
              "         0.        ],\n",
              "        [0.80952381, 0.25      , 0.20833333, 0.81531532, 0.00807751,\n",
              "         0.        ]],\n",
              "\n",
              "       [[0.66666667, 0.5       , 0.25      , 0.65990991, 0.00301772,\n",
              "         0.        ],\n",
              "        [0.80952381, 0.55      , 0.25      , 0.72972973, 0.0050371 ,\n",
              "         0.        ],\n",
              "        [0.80952381, 0.35      , 0.25      , 0.76801802, 0.00605813,\n",
              "         0.        ],\n",
              "        [0.80952381, 0.25      , 0.20833333, 0.81531532, 0.00807751,\n",
              "         0.        ],\n",
              "        [0.80952381, 0.2       , 0.20833333, 0.83783784, 0.01009688,\n",
              "         0.        ]]])"
            ]
          },
          "metadata": {},
          "execution_count": 26
        }
      ]
    },
    {
      "cell_type": "code",
      "source": [
        "# Compile the model\n",
        "model.compile(optimizer='adam', loss='mse', metrics=['mae'])\n",
        "\n",
        "# Train the model\n",
        "# Split the data into training and testing sets\n",
        "X_train, X_test, y_train, y_test = train_test_split(X, y, test_size=0.2, random_state=42)\n",
        "print(\"\\nTraining the model...\")\n",
        "history = model.fit(X_train, y_train, epochs=50, batch_size=32, validation_data=(X_test, y_test))\n",
        "\n",
        "history"
      ],
      "metadata": {
        "colab": {
          "base_uri": "https://localhost:8080/"
        },
        "id": "DF4W6GSoyN_E",
        "outputId": "dcc849eb-f7bf-4ade-f4a2-f7a0a2d9da11"
      },
      "execution_count": null,
      "outputs": [
        {
          "output_type": "stream",
          "name": "stdout",
          "text": [
            "\n",
            "Training the model...\n",
            "Epoch 1/50\n",
            "\u001b[1m9/9\u001b[0m \u001b[32m━━━━━━━━━━━━━━━━━━━━\u001b[0m\u001b[37m\u001b[0m \u001b[1m6s\u001b[0m 96ms/step - loss: 1.2945e-05 - mae: 0.0028 - val_loss: 1.4128e-06 - val_mae: 0.0010\n",
            "Epoch 2/50\n",
            "\u001b[1m9/9\u001b[0m \u001b[32m━━━━━━━━━━━━━━━━━━━━\u001b[0m\u001b[37m\u001b[0m \u001b[1m0s\u001b[0m 15ms/step - loss: 4.7189e-06 - mae: 0.0019 - val_loss: 9.4585e-07 - val_mae: 8.5071e-04\n",
            "Epoch 3/50\n",
            "\u001b[1m9/9\u001b[0m \u001b[32m━━━━━━━━━━━━━━━━━━━━\u001b[0m\u001b[37m\u001b[0m \u001b[1m0s\u001b[0m 19ms/step - loss: 1.6927e-06 - mae: 0.0011 - val_loss: 2.6805e-07 - val_mae: 4.1124e-04\n",
            "Epoch 4/50\n",
            "\u001b[1m9/9\u001b[0m \u001b[32m━━━━━━━━━━━━━━━━━━━━\u001b[0m\u001b[37m\u001b[0m \u001b[1m0s\u001b[0m 50ms/step - loss: 8.7392e-07 - mae: 7.7102e-04 - val_loss: 2.1231e-07 - val_mae: 3.9070e-04\n",
            "Epoch 5/50\n",
            "\u001b[1m9/9\u001b[0m \u001b[32m━━━━━━━━━━━━━━━━━━━━\u001b[0m\u001b[37m\u001b[0m \u001b[1m1s\u001b[0m 41ms/step - loss: 4.4547e-07 - mae: 5.5816e-04 - val_loss: 3.1778e-07 - val_mae: 4.7474e-04\n",
            "Epoch 6/50\n",
            "\u001b[1m9/9\u001b[0m \u001b[32m━━━━━━━━━━━━━━━━━━━━\u001b[0m\u001b[37m\u001b[0m \u001b[1m1s\u001b[0m 30ms/step - loss: 4.3153e-07 - mae: 5.5561e-04 - val_loss: 3.9991e-07 - val_mae: 5.5393e-04\n",
            "Epoch 7/50\n",
            "\u001b[1m9/9\u001b[0m \u001b[32m━━━━━━━━━━━━━━━━━━━━\u001b[0m\u001b[37m\u001b[0m \u001b[1m0s\u001b[0m 17ms/step - loss: 3.0152e-07 - mae: 4.7087e-04 - val_loss: 2.8618e-07 - val_mae: 4.6122e-04\n",
            "Epoch 8/50\n",
            "\u001b[1m9/9\u001b[0m \u001b[32m━━━━━━━━━━━━━━━━━━━━\u001b[0m\u001b[37m\u001b[0m \u001b[1m0s\u001b[0m 35ms/step - loss: 2.0172e-07 - mae: 3.8421e-04 - val_loss: 7.5418e-08 - val_mae: 2.2336e-04\n",
            "Epoch 9/50\n",
            "\u001b[1m9/9\u001b[0m \u001b[32m━━━━━━━━━━━━━━━━━━━━\u001b[0m\u001b[37m\u001b[0m \u001b[1m0s\u001b[0m 26ms/step - loss: 9.1644e-08 - mae: 2.4025e-04 - val_loss: 9.2906e-08 - val_mae: 2.5480e-04\n",
            "Epoch 10/50\n",
            "\u001b[1m9/9\u001b[0m \u001b[32m━━━━━━━━━━━━━━━━━━━━\u001b[0m\u001b[37m\u001b[0m \u001b[1m0s\u001b[0m 17ms/step - loss: 7.1677e-08 - mae: 2.1109e-04 - val_loss: 6.3919e-08 - val_mae: 2.0465e-04\n",
            "Epoch 11/50\n",
            "\u001b[1m9/9\u001b[0m \u001b[32m━━━━━━━━━━━━━━━━━━━━\u001b[0m\u001b[37m\u001b[0m \u001b[1m0s\u001b[0m 30ms/step - loss: 6.2946e-08 - mae: 2.0010e-04 - val_loss: 7.3457e-08 - val_mae: 2.0566e-04\n",
            "Epoch 12/50\n",
            "\u001b[1m9/9\u001b[0m \u001b[32m━━━━━━━━━━━━━━━━━━━━\u001b[0m\u001b[37m\u001b[0m \u001b[1m0s\u001b[0m 26ms/step - loss: 6.2119e-08 - mae: 1.9591e-04 - val_loss: 5.8734e-08 - val_mae: 1.9609e-04\n",
            "Epoch 13/50\n",
            "\u001b[1m9/9\u001b[0m \u001b[32m━━━━━━━━━━━━━━━━━━━━\u001b[0m\u001b[37m\u001b[0m \u001b[1m0s\u001b[0m 25ms/step - loss: 4.7078e-08 - mae: 1.7277e-04 - val_loss: 5.8952e-08 - val_mae: 1.8984e-04\n",
            "Epoch 14/50\n",
            "\u001b[1m9/9\u001b[0m \u001b[32m━━━━━━━━━━━━━━━━━━━━\u001b[0m\u001b[37m\u001b[0m \u001b[1m0s\u001b[0m 28ms/step - loss: 4.1365e-08 - mae: 1.6184e-04 - val_loss: 5.3736e-08 - val_mae: 1.8022e-04\n",
            "Epoch 15/50\n",
            "\u001b[1m9/9\u001b[0m \u001b[32m━━━━━━━━━━━━━━━━━━━━\u001b[0m\u001b[37m\u001b[0m \u001b[1m0s\u001b[0m 25ms/step - loss: 3.7891e-08 - mae: 1.4910e-04 - val_loss: 5.7992e-08 - val_mae: 1.8982e-04\n",
            "Epoch 16/50\n",
            "\u001b[1m9/9\u001b[0m \u001b[32m━━━━━━━━━━━━━━━━━━━━\u001b[0m\u001b[37m\u001b[0m \u001b[1m0s\u001b[0m 26ms/step - loss: 3.9952e-08 - mae: 1.5804e-04 - val_loss: 5.1697e-08 - val_mae: 1.8006e-04\n",
            "Epoch 17/50\n",
            "\u001b[1m9/9\u001b[0m \u001b[32m━━━━━━━━━━━━━━━━━━━━\u001b[0m\u001b[37m\u001b[0m \u001b[1m0s\u001b[0m 29ms/step - loss: 4.0659e-08 - mae: 1.5871e-04 - val_loss: 5.4335e-08 - val_mae: 1.7821e-04\n",
            "Epoch 18/50\n",
            "\u001b[1m9/9\u001b[0m \u001b[32m━━━━━━━━━━━━━━━━━━━━\u001b[0m\u001b[37m\u001b[0m \u001b[1m0s\u001b[0m 28ms/step - loss: 4.0244e-08 - mae: 1.5790e-04 - val_loss: 5.6583e-08 - val_mae: 1.9107e-04\n",
            "Epoch 19/50\n",
            "\u001b[1m9/9\u001b[0m \u001b[32m━━━━━━━━━━━━━━━━━━━━\u001b[0m\u001b[37m\u001b[0m \u001b[1m0s\u001b[0m 27ms/step - loss: 4.4853e-08 - mae: 1.6590e-04 - val_loss: 5.2540e-08 - val_mae: 1.7440e-04\n",
            "Epoch 20/50\n",
            "\u001b[1m9/9\u001b[0m \u001b[32m━━━━━━━━━━━━━━━━━━━━\u001b[0m\u001b[37m\u001b[0m \u001b[1m0s\u001b[0m 27ms/step - loss: 3.8231e-08 - mae: 1.5320e-04 - val_loss: 5.0969e-08 - val_mae: 1.7501e-04\n",
            "Epoch 21/50\n",
            "\u001b[1m9/9\u001b[0m \u001b[32m━━━━━━━━━━━━━━━━━━━━\u001b[0m\u001b[37m\u001b[0m \u001b[1m0s\u001b[0m 34ms/step - loss: 3.6886e-08 - mae: 1.5533e-04 - val_loss: 4.6051e-08 - val_mae: 1.7156e-04\n",
            "Epoch 22/50\n",
            "\u001b[1m9/9\u001b[0m \u001b[32m━━━━━━━━━━━━━━━━━━━━\u001b[0m\u001b[37m\u001b[0m \u001b[1m0s\u001b[0m 22ms/step - loss: 3.4870e-08 - mae: 1.4332e-04 - val_loss: 4.6835e-08 - val_mae: 1.6424e-04\n",
            "Epoch 23/50\n",
            "\u001b[1m9/9\u001b[0m \u001b[32m━━━━━━━━━━━━━━━━━━━━\u001b[0m\u001b[37m\u001b[0m \u001b[1m0s\u001b[0m 18ms/step - loss: 4.1926e-08 - mae: 1.6024e-04 - val_loss: 4.6370e-08 - val_mae: 1.6141e-04\n",
            "Epoch 24/50\n",
            "\u001b[1m9/9\u001b[0m \u001b[32m━━━━━━━━━━━━━━━━━━━━\u001b[0m\u001b[37m\u001b[0m \u001b[1m0s\u001b[0m 17ms/step - loss: 4.8946e-08 - mae: 1.7777e-04 - val_loss: 5.1407e-08 - val_mae: 1.7732e-04\n",
            "Epoch 25/50\n",
            "\u001b[1m9/9\u001b[0m \u001b[32m━━━━━━━━━━━━━━━━━━━━\u001b[0m\u001b[37m\u001b[0m \u001b[1m0s\u001b[0m 17ms/step - loss: 4.1466e-08 - mae: 1.5852e-04 - val_loss: 4.8301e-08 - val_mae: 1.6993e-04\n",
            "Epoch 26/50\n",
            "\u001b[1m9/9\u001b[0m \u001b[32m━━━━━━━━━━━━━━━━━━━━\u001b[0m\u001b[37m\u001b[0m \u001b[1m0s\u001b[0m 18ms/step - loss: 3.5501e-08 - mae: 1.4655e-04 - val_loss: 4.2986e-08 - val_mae: 1.5735e-04\n",
            "Epoch 27/50\n",
            "\u001b[1m9/9\u001b[0m \u001b[32m━━━━━━━━━━━━━━━━━━━━\u001b[0m\u001b[37m\u001b[0m \u001b[1m0s\u001b[0m 16ms/step - loss: 3.1022e-08 - mae: 1.4091e-04 - val_loss: 5.3435e-08 - val_mae: 1.8023e-04\n",
            "Epoch 28/50\n",
            "\u001b[1m9/9\u001b[0m \u001b[32m━━━━━━━━━━━━━━━━━━━━\u001b[0m\u001b[37m\u001b[0m \u001b[1m0s\u001b[0m 16ms/step - loss: 3.4495e-08 - mae: 1.4819e-04 - val_loss: 5.0605e-08 - val_mae: 1.7472e-04\n",
            "Epoch 29/50\n",
            "\u001b[1m9/9\u001b[0m \u001b[32m━━━━━━━━━━━━━━━━━━━━\u001b[0m\u001b[37m\u001b[0m \u001b[1m0s\u001b[0m 20ms/step - loss: 4.5368e-08 - mae: 1.6882e-04 - val_loss: 4.1176e-08 - val_mae: 1.6147e-04\n",
            "Epoch 30/50\n",
            "\u001b[1m9/9\u001b[0m \u001b[32m━━━━━━━━━━━━━━━━━━━━\u001b[0m\u001b[37m\u001b[0m \u001b[1m0s\u001b[0m 16ms/step - loss: 3.3000e-08 - mae: 1.4606e-04 - val_loss: 6.2434e-08 - val_mae: 2.0359e-04\n",
            "Epoch 31/50\n",
            "\u001b[1m9/9\u001b[0m \u001b[32m━━━━━━━━━━━━━━━━━━━━\u001b[0m\u001b[37m\u001b[0m \u001b[1m0s\u001b[0m 16ms/step - loss: 3.5589e-08 - mae: 1.5074e-04 - val_loss: 3.7450e-08 - val_mae: 1.4929e-04\n",
            "Epoch 32/50\n",
            "\u001b[1m9/9\u001b[0m \u001b[32m━━━━━━━━━━━━━━━━━━━━\u001b[0m\u001b[37m\u001b[0m \u001b[1m0s\u001b[0m 15ms/step - loss: 2.6176e-08 - mae: 1.2246e-04 - val_loss: 4.3318e-08 - val_mae: 1.5184e-04\n",
            "Epoch 33/50\n",
            "\u001b[1m9/9\u001b[0m \u001b[32m━━━━━━━━━━━━━━━━━━━━\u001b[0m\u001b[37m\u001b[0m \u001b[1m0s\u001b[0m 15ms/step - loss: 2.5622e-08 - mae: 1.2607e-04 - val_loss: 4.7304e-08 - val_mae: 1.7113e-04\n",
            "Epoch 34/50\n",
            "\u001b[1m9/9\u001b[0m \u001b[32m━━━━━━━━━━━━━━━━━━━━\u001b[0m\u001b[37m\u001b[0m \u001b[1m0s\u001b[0m 17ms/step - loss: 2.9412e-08 - mae: 1.3661e-04 - val_loss: 5.2542e-08 - val_mae: 1.8082e-04\n",
            "Epoch 35/50\n",
            "\u001b[1m9/9\u001b[0m \u001b[32m━━━━━━━━━━━━━━━━━━━━\u001b[0m\u001b[37m\u001b[0m \u001b[1m0s\u001b[0m 17ms/step - loss: 3.8270e-08 - mae: 1.4898e-04 - val_loss: 4.0171e-08 - val_mae: 1.5489e-04\n",
            "Epoch 36/50\n",
            "\u001b[1m9/9\u001b[0m \u001b[32m━━━━━━━━━━━━━━━━━━━━\u001b[0m\u001b[37m\u001b[0m \u001b[1m0s\u001b[0m 16ms/step - loss: 3.1505e-08 - mae: 1.3462e-04 - val_loss: 4.8890e-08 - val_mae: 1.7175e-04\n",
            "Epoch 37/50\n",
            "\u001b[1m9/9\u001b[0m \u001b[32m━━━━━━━━━━━━━━━━━━━━\u001b[0m\u001b[37m\u001b[0m \u001b[1m0s\u001b[0m 18ms/step - loss: 4.0852e-08 - mae: 1.6337e-04 - val_loss: 4.1367e-08 - val_mae: 1.5152e-04\n",
            "Epoch 38/50\n",
            "\u001b[1m9/9\u001b[0m \u001b[32m━━━━━━━━━━━━━━━━━━━━\u001b[0m\u001b[37m\u001b[0m \u001b[1m0s\u001b[0m 19ms/step - loss: 3.0263e-08 - mae: 1.3630e-04 - val_loss: 3.7060e-08 - val_mae: 1.4669e-04\n",
            "Epoch 39/50\n",
            "\u001b[1m9/9\u001b[0m \u001b[32m━━━━━━━━━━━━━━━━━━━━\u001b[0m\u001b[37m\u001b[0m \u001b[1m0s\u001b[0m 16ms/step - loss: 3.0816e-08 - mae: 1.3602e-04 - val_loss: 3.6217e-08 - val_mae: 1.4113e-04\n",
            "Epoch 40/50\n",
            "\u001b[1m9/9\u001b[0m \u001b[32m━━━━━━━━━━━━━━━━━━━━\u001b[0m\u001b[37m\u001b[0m \u001b[1m0s\u001b[0m 21ms/step - loss: 2.3640e-08 - mae: 1.2139e-04 - val_loss: 4.4398e-08 - val_mae: 1.6064e-04\n",
            "Epoch 41/50\n",
            "\u001b[1m9/9\u001b[0m \u001b[32m━━━━━━━━━━━━━━━━━━━━\u001b[0m\u001b[37m\u001b[0m \u001b[1m0s\u001b[0m 17ms/step - loss: 3.2475e-08 - mae: 1.3582e-04 - val_loss: 3.6096e-08 - val_mae: 1.4478e-04\n",
            "Epoch 42/50\n",
            "\u001b[1m9/9\u001b[0m \u001b[32m━━━━━━━━━━━━━━━━━━━━\u001b[0m\u001b[37m\u001b[0m \u001b[1m0s\u001b[0m 17ms/step - loss: 2.4149e-08 - mae: 1.2176e-04 - val_loss: 4.0084e-08 - val_mae: 1.5287e-04\n",
            "Epoch 43/50\n",
            "\u001b[1m9/9\u001b[0m \u001b[32m━━━━━━━━━━━━━━━━━━━━\u001b[0m\u001b[37m\u001b[0m \u001b[1m0s\u001b[0m 17ms/step - loss: 2.0769e-08 - mae: 1.1111e-04 - val_loss: 3.5828e-08 - val_mae: 1.3905e-04\n",
            "Epoch 44/50\n",
            "\u001b[1m9/9\u001b[0m \u001b[32m━━━━━━━━━━━━━━━━━━━━\u001b[0m\u001b[37m\u001b[0m \u001b[1m0s\u001b[0m 20ms/step - loss: 1.9479e-08 - mae: 1.0747e-04 - val_loss: 3.3092e-08 - val_mae: 1.3572e-04\n",
            "Epoch 45/50\n",
            "\u001b[1m9/9\u001b[0m \u001b[32m━━━━━━━━━━━━━━━━━━━━\u001b[0m\u001b[37m\u001b[0m \u001b[1m0s\u001b[0m 17ms/step - loss: 2.4541e-08 - mae: 1.1866e-04 - val_loss: 3.3792e-08 - val_mae: 1.4343e-04\n",
            "Epoch 46/50\n",
            "\u001b[1m9/9\u001b[0m \u001b[32m━━━━━━━━━━━━━━━━━━━━\u001b[0m\u001b[37m\u001b[0m \u001b[1m0s\u001b[0m 15ms/step - loss: 3.1022e-08 - mae: 1.4000e-04 - val_loss: 3.8798e-08 - val_mae: 1.4970e-04\n",
            "Epoch 47/50\n",
            "\u001b[1m9/9\u001b[0m \u001b[32m━━━━━━━━━━━━━━━━━━━━\u001b[0m\u001b[37m\u001b[0m \u001b[1m0s\u001b[0m 17ms/step - loss: 2.6570e-08 - mae: 1.2768e-04 - val_loss: 3.3853e-08 - val_mae: 1.3840e-04\n",
            "Epoch 48/50\n",
            "\u001b[1m9/9\u001b[0m \u001b[32m━━━━━━━━━━━━━━━━━━━━\u001b[0m\u001b[37m\u001b[0m \u001b[1m0s\u001b[0m 17ms/step - loss: 3.5941e-08 - mae: 1.4484e-04 - val_loss: 6.9328e-08 - val_mae: 2.1635e-04\n",
            "Epoch 49/50\n",
            "\u001b[1m9/9\u001b[0m \u001b[32m━━━━━━━━━━━━━━━━━━━━\u001b[0m\u001b[37m\u001b[0m \u001b[1m0s\u001b[0m 15ms/step - loss: 3.8821e-08 - mae: 1.5721e-04 - val_loss: 5.1308e-08 - val_mae: 1.8469e-04\n",
            "Epoch 50/50\n",
            "\u001b[1m9/9\u001b[0m \u001b[32m━━━━━━━━━━━━━━━━━━━━\u001b[0m\u001b[37m\u001b[0m \u001b[1m0s\u001b[0m 15ms/step - loss: 3.6807e-08 - mae: 1.5195e-04 - val_loss: 3.6732e-08 - val_mae: 1.5019e-04\n"
          ]
        },
        {
          "output_type": "execute_result",
          "data": {
            "text/plain": [
              "<keras.src.callbacks.history.History at 0x7c73137c4340>"
            ]
          },
          "metadata": {},
          "execution_count": 27
        }
      ]
    },
    {
      "cell_type": "code",
      "source": [
        "print(\"\\nTraining shape:\", X_train.shape, y_train.shape)\n",
        "print(\"Testing shape:\", X_test.shape, y_test.shape)\n"
      ],
      "metadata": {
        "colab": {
          "base_uri": "https://localhost:8080/"
        },
        "id": "9481TvnRyQjn",
        "outputId": "81e47d3d-a2ef-4ee2-cee4-0d3f8061e4fc"
      },
      "execution_count": null,
      "outputs": [
        {
          "output_type": "stream",
          "name": "stdout",
          "text": [
            "\n",
            "Training shape: (253, 24, 7) (253, 6)\n",
            "Testing shape: (64, 24, 7) (64, 6)\n"
          ]
        }
      ]
    },
    {
      "cell_type": "code",
      "source": [
        "# Step 7: Plot training history\n",
        "plt.plot(history.history['loss'], label='Train Loss')\n",
        "plt.plot(history.history['val_loss'], label='Validation Loss')\n",
        "plt.legend()\n",
        "plt.show()\n"
      ],
      "metadata": {
        "colab": {
          "base_uri": "https://localhost:8080/",
          "height": 445
        },
        "id": "cP41Yfkiyh0x",
        "outputId": "e70968da-7a0b-4aeb-ac69-bbb21c93e30f"
      },
      "execution_count": null,
      "outputs": [
        {
          "output_type": "display_data",
          "data": {
            "text/plain": [
              "<Figure size 640x480 with 1 Axes>"
            ],
            "image/png": "[encoded data removed]"
          },
          "metadata": {}
        }
      ]
    },
    {
      "cell_type": "code",
      "source": [
        "# Plot predictions vs actual\n",
        "time_axis = np.arange(len(y_test_rescaled))\n",
        "plt.plot(time_axis, y_test_rescaled, label='Actual')\n",
        "plt.plot(time_axis, predictions_rescaled, label='Predicted')\n",
        "plt.legend()\n",
        "plt.show()\n"
      ],
      "metadata": {
        "colab": {
          "base_uri": "https://localhost:8080/",
          "height": 430
        },
        "id": "CWi9mHGA0i1m",
        "outputId": "50207eae-c07e-44ae-b5e8-73d099365183"
      },
      "execution_count": null,
      "outputs": [
        {
          "output_type": "display_data",
          "data": {
            "text/plain": [
              "<Figure size 640x480 with 1 Axes>"
            ],
            "image/png": "[encoded data removed]"
          },
          "metadata": {}
        }
      ]
    },
    {
      "cell_type": "code",
      "source": [
        "#3.\n",
        "import numpy as np\n",
        "import pandas as pd\n",
        "from sklearn.preprocessing import MinMaxScaler\n",
        "from sklearn.model_selection import train_test_split\n",
        "from tensorflow.keras.models import Sequential\n",
        "from tensorflow.keras.layers import LSTM, Dense, Bidirectional\n",
        "data = pd.read_csv(\"pollution_test_data1.csv\")\n",
        "print(\"Dataset Preview:\")\n",
        "print(data.head())"
      ],
      "metadata": {
        "colab": {
          "base_uri": "https://localhost:8080/"
        },
        "id": "IPaR9g_iy_S9",
        "outputId": "7b647716-91db-4317-98fb-e4b87ffa1d68"
      },
      "execution_count": null,
      "outputs": [
        {
          "output_type": "stream",
          "name": "stdout",
          "text": [
            "Dataset Preview:\n",
            "   dew  temp  press  pollution  wnd_spd  snow  rain\n",
            "0  -16     4   1027        128     3.58     0     0\n",
            "1  -17     5   1027         77     7.60     0     0\n",
            "2  -16     4   1027         65     9.39     0     0\n",
            "3  -16     1   1028         79     0.89     0     0\n",
            "4  -14     0   1028         93     1.79     0     0\n"
          ]
        }
      ]
    },
    {
      "cell_type": "code",
      "source": [
        "scaler = MinMaxScaler(feature_range=(0, 1))\n",
        "scaled_data = scaler.fit_transform(data.values)\n",
        "scaled_data"
      ],
      "metadata": {
        "colab": {
          "base_uri": "https://localhost:8080/"
        },
        "id": "EQS7tlWKMS4o",
        "outputId": "bed5e793-ebd6-4e26-e7d9-d4f6b2f6b9d4"
      },
      "execution_count": null,
      "outputs": [
        {
          "output_type": "execute_result",
          "data": {
            "text/plain": [
              "array([[0.52380952, 0.65      , 0.66666667, ..., 0.00710185, 0.        ,\n",
              "        0.        ],\n",
              "       [0.47619048, 0.7       , 0.66666667, ..., 0.01622308, 0.        ,\n",
              "        0.        ],\n",
              "       [0.52380952, 0.65      , 0.66666667, ..., 0.02028453, 0.        ,\n",
              "        0.        ],\n",
              "       ...,\n",
              "       [0.23809524, 0.3       , 0.95833333, ..., 0.54965625, 0.        ,\n",
              "        0.        ],\n",
              "       [0.23809524, 0.25      , 0.95833333, ..., 0.55877748, 0.        ,\n",
              "        0.        ],\n",
              "       [0.28571429, 0.3       , 0.95833333, ..., 0.56587934, 0.        ,\n",
              "        0.        ]])"
            ]
          },
          "metadata": {},
          "execution_count": 8
        }
      ]
    },
    {
      "cell_type": "code",
      "source": [
        "# Step 3: Define function to frame the supervised learning problem\n",
        "def create_sequences(data, n_steps_in, n_steps_out):\n",
        "    X, y = [], []\n",
        "    for i in range(len(data)):\n",
        "        # Find the end of this sequence\n",
        "        end_ix = i + n_steps_in\n",
        "        out_end_ix = end_ix + n_steps_out\n",
        "        # Break if we exceed dataset length\n",
        "        if out_end_ix > len(data):\n",
        "            break\n",
        "        # Input and output sequence\n",
        "        seq_x, seq_y = data[i:end_ix, :-1], data[end_ix:out_end_ix, -1]\n",
        "        X.append(seq_x)\n",
        "        y.append(seq_y)\n",
        "    return np.array(X), np.array(y)"
      ],
      "metadata": {
        "id": "ZCUFzTJNMW-1"
      },
      "execution_count": null,
      "outputs": []
    },
    {
      "cell_type": "code",
      "source": [
        "# Define input parameters\n",
        "n_steps_in, n_steps_out = 5,1  # 24 past hours to predict 6 future hours\n",
        "\n",
        "# Prepare sequences\n",
        "X, y = create_sequences(scaled_data, n_steps_in, n_steps_out)\n",
        "print(\"Input Shape:\", X.shape, \"Output Shape:\", y.shape)"
      ],
      "metadata": {
        "colab": {
          "base_uri": "https://localhost:8080/"
        },
        "id": "LA54Zp33MhaE",
        "outputId": "0adf00e0-3b4d-4c6d-a289-209c2a17c64b"
      },
      "execution_count": null,
      "outputs": [
        {
          "output_type": "stream",
          "name": "stdout",
          "text": [
            "Input Shape: (341, 5, 6) Output Shape: (341, 1)\n"
          ]
        }
      ]
    },
    {
      "cell_type": "code",
      "source": [
        "# Split the data into training and testing sets\n",
        "X_train, X_test, y_train, y_test = train_test_split(X, y, test_size=0.2, random_state=42, shuffle=False)\n",
        "X_train\n",
        "\n",
        "print(\"\\nTraining shape:\", X_train.shape, y_train.shape)\n",
        "print(\"Testing shape:\", X_test.shape, y_test.shape)"
      ],
      "metadata": {
        "colab": {
          "base_uri": "https://localhost:8080/"
        },
        "id": "GYzExwLEMmB-",
        "outputId": "4f09ae9e-bbef-4db6-9b04-99dd7eb35c99"
      },
      "execution_count": null,
      "outputs": [
        {
          "output_type": "stream",
          "name": "stdout",
          "text": [
            "\n",
            "Training shape: (272, 5, 6) (272, 1)\n",
            "Testing shape: (69, 5, 6) (69, 1)\n"
          ]
        }
      ]
    },
    {
      "cell_type": "code",
      "source": [
        "\n",
        "# Step 3: Build and train the Bidirectional LSTM model\n",
        "\n",
        "model = Sequential()\n",
        "model.add(Bidirectional(LSTM(64, activation='relu', return_sequences=True), input_shape=(n_steps_in, X.shape[2])))\n",
        "model.add(Bidirectional(LSTM(32, activation='relu')))\n",
        "model.add(Dense(n_steps_out))\n",
        "# Compile the model\n",
        "model.compile(optimizer='adam', loss='mse', metrics=['mae'])\n",
        "\n",
        "# Train the model\n",
        "print(\"\\nTraining the model...\")\n",
        "history = model.fit(X_train, y_train, epochs=50, batch_size=32, validation_data=(X_test, y_test), verbose=1)"
      ],
      "metadata": {
        "colab": {
          "base_uri": "https://localhost:8080/"
        },
        "id": "caRX2ZZvMqEP",
        "outputId": "b3ba7ddd-7ce5-4d96-86d0-9b31b738b46e"
      },
      "execution_count": null,
      "outputs": [
        {
          "output_type": "stream",
          "name": "stdout",
          "text": [
            "\n",
            "Training the model...\n",
            "Epoch 1/50\n"
          ]
        },
        {
          "output_type": "stream",
          "name": "stderr",
          "text": [
            "/usr/local/lib/python3.10/dist-packages/keras/src/layers/rnn/bidirectional.py:107: UserWarning: Do not pass an `input_shape`/`input_dim` argument to a layer. When using Sequential models, prefer using an `Input(shape)` object as the first layer in the model instead.\n",
            "  super().__init__(**kwargs)\n"
          ]
        },
        {
          "output_type": "stream",
          "name": "stdout",
          "text": [
            "\u001b[1m9/9\u001b[0m \u001b[32m━━━━━━━━━━━━━━━━━━━━\u001b[0m\u001b[37m\u001b[0m \u001b[1m54s\u001b[0m 129ms/step - loss: 2.9643e-04 - mae: 0.0139 - val_loss: 6.1204e-05 - val_mae: 0.0065\n",
            "Epoch 2/50\n",
            "\u001b[1m9/9\u001b[0m \u001b[32m━━━━━━━━━━━━━━━━━━━━\u001b[0m\u001b[37m\u001b[0m \u001b[1m0s\u001b[0m 30ms/step - loss: 3.5590e-05 - mae: 0.0047 - val_loss: 1.3735e-04 - val_mae: 0.0103\n",
            "Epoch 3/50\n",
            "\u001b[1m9/9\u001b[0m \u001b[32m━━━━━━━━━━━━━━━━━━━━\u001b[0m\u001b[37m\u001b[0m \u001b[1m0s\u001b[0m 32ms/step - loss: 2.2365e-05 - mae: 0.0038 - val_loss: 3.5470e-05 - val_mae: 0.0047\n",
            "Epoch 4/50\n",
            "\u001b[1m9/9\u001b[0m \u001b[32m━━━━━━━━━━━━━━━━━━━━\u001b[0m\u001b[37m\u001b[0m \u001b[1m0s\u001b[0m 30ms/step - loss: 1.0444e-05 - mae: 0.0027 - val_loss: 1.7290e-05 - val_mae: 0.0034\n",
            "Epoch 5/50\n",
            "\u001b[1m9/9\u001b[0m \u001b[32m━━━━━━━━━━━━━━━━━━━━\u001b[0m\u001b[37m\u001b[0m \u001b[1m1s\u001b[0m 61ms/step - loss: 6.4880e-06 - mae: 0.0020 - val_loss: 1.8894e-05 - val_mae: 0.0037\n",
            "Epoch 6/50\n",
            "\u001b[1m9/9\u001b[0m \u001b[32m━━━━━━━━━━━━━━━━━━━━\u001b[0m\u001b[37m\u001b[0m \u001b[1m1s\u001b[0m 68ms/step - loss: 3.2010e-06 - mae: 0.0014 - val_loss: 1.7655e-05 - val_mae: 0.0036\n",
            "Epoch 7/50\n",
            "\u001b[1m9/9\u001b[0m \u001b[32m━━━━━━━━━━━━━━━━━━━━\u001b[0m\u001b[37m\u001b[0m \u001b[1m1s\u001b[0m 56ms/step - loss: 2.7131e-06 - mae: 0.0013 - val_loss: 1.1387e-05 - val_mae: 0.0028\n",
            "Epoch 8/50\n",
            "\u001b[1m9/9\u001b[0m \u001b[32m━━━━━━━━━━━━━━━━━━━━\u001b[0m\u001b[37m\u001b[0m \u001b[1m0s\u001b[0m 43ms/step - loss: 1.8456e-06 - mae: 0.0010 - val_loss: 1.1740e-05 - val_mae: 0.0029\n",
            "Epoch 9/50\n",
            "\u001b[1m9/9\u001b[0m \u001b[32m━━━━━━━━━━━━━━━━━━━━\u001b[0m\u001b[37m\u001b[0m \u001b[1m1s\u001b[0m 42ms/step - loss: 1.4075e-06 - mae: 8.9335e-04 - val_loss: 1.1788e-05 - val_mae: 0.0029\n",
            "Epoch 10/50\n",
            "\u001b[1m9/9\u001b[0m \u001b[32m━━━━━━━━━━━━━━━━━━━━\u001b[0m\u001b[37m\u001b[0m \u001b[1m0s\u001b[0m 46ms/step - loss: 1.2245e-06 - mae: 7.8672e-04 - val_loss: 8.6206e-06 - val_mae: 0.0024\n",
            "Epoch 11/50\n",
            "\u001b[1m9/9\u001b[0m \u001b[32m━━━━━━━━━━━━━━━━━━━━\u001b[0m\u001b[37m\u001b[0m \u001b[1m1s\u001b[0m 43ms/step - loss: 1.0456e-06 - mae: 7.7070e-04 - val_loss: 9.6655e-06 - val_mae: 0.0025\n",
            "Epoch 12/50\n",
            "\u001b[1m9/9\u001b[0m \u001b[32m━━━━━━━━━━━━━━━━━━━━\u001b[0m\u001b[37m\u001b[0m \u001b[1m1s\u001b[0m 48ms/step - loss: 1.0300e-06 - mae: 7.8128e-04 - val_loss: 8.9105e-06 - val_mae: 0.0024\n",
            "Epoch 13/50\n",
            "\u001b[1m9/9\u001b[0m \u001b[32m━━━━━━━━━━━━━━━━━━━━\u001b[0m\u001b[37m\u001b[0m \u001b[1m0s\u001b[0m 42ms/step - loss: 7.4377e-07 - mae: 6.5842e-04 - val_loss: 9.0001e-06 - val_mae: 0.0025\n",
            "Epoch 14/50\n",
            "\u001b[1m9/9\u001b[0m \u001b[32m━━━━━━━━━━━━━━━━━━━━\u001b[0m\u001b[37m\u001b[0m \u001b[1m1s\u001b[0m 48ms/step - loss: 7.0351e-07 - mae: 6.4301e-04 - val_loss: 8.6564e-06 - val_mae: 0.0024\n",
            "Epoch 15/50\n",
            "\u001b[1m9/9\u001b[0m \u001b[32m━━━━━━━━━━━━━━━━━━━━\u001b[0m\u001b[37m\u001b[0m \u001b[1m0s\u001b[0m 43ms/step - loss: 7.1295e-07 - mae: 6.5153e-04 - val_loss: 7.6961e-06 - val_mae: 0.0023\n",
            "Epoch 16/50\n",
            "\u001b[1m9/9\u001b[0m \u001b[32m━━━━━━━━━━━━━━━━━━━━\u001b[0m\u001b[37m\u001b[0m \u001b[1m1s\u001b[0m 58ms/step - loss: 5.7589e-07 - mae: 5.9203e-04 - val_loss: 7.8106e-06 - val_mae: 0.0022\n",
            "Epoch 17/50\n",
            "\u001b[1m9/9\u001b[0m \u001b[32m━━━━━━━━━━━━━━━━━━━━\u001b[0m\u001b[37m\u001b[0m \u001b[1m1s\u001b[0m 37ms/step - loss: 4.8309e-07 - mae: 5.2924e-04 - val_loss: 7.0539e-06 - val_mae: 0.0021\n",
            "Epoch 18/50\n",
            "\u001b[1m9/9\u001b[0m \u001b[32m━━━━━━━━━━━━━━━━━━━━\u001b[0m\u001b[37m\u001b[0m \u001b[1m0s\u001b[0m 35ms/step - loss: 5.0196e-07 - mae: 5.2708e-04 - val_loss: 7.6285e-06 - val_mae: 0.0022\n",
            "Epoch 19/50\n",
            "\u001b[1m9/9\u001b[0m \u001b[32m━━━━━━━━━━━━━━━━━━━━\u001b[0m\u001b[37m\u001b[0m \u001b[1m1s\u001b[0m 35ms/step - loss: 4.3539e-07 - mae: 5.0400e-04 - val_loss: 7.0914e-06 - val_mae: 0.0021\n",
            "Epoch 20/50\n",
            "\u001b[1m9/9\u001b[0m \u001b[32m━━━━━━━━━━━━━━━━━━━━\u001b[0m\u001b[37m\u001b[0m \u001b[1m0s\u001b[0m 43ms/step - loss: 4.2228e-07 - mae: 4.8544e-04 - val_loss: 7.4489e-06 - val_mae: 0.0021\n",
            "Epoch 21/50\n",
            "\u001b[1m9/9\u001b[0m \u001b[32m━━━━━━━━━━━━━━━━━━━━\u001b[0m\u001b[37m\u001b[0m \u001b[1m1s\u001b[0m 34ms/step - loss: 6.1298e-07 - mae: 6.5065e-04 - val_loss: 7.3570e-06 - val_mae: 0.0022\n",
            "Epoch 22/50\n",
            "\u001b[1m9/9\u001b[0m \u001b[32m━━━━━━━━━━━━━━━━━━━━\u001b[0m\u001b[37m\u001b[0m \u001b[1m1s\u001b[0m 24ms/step - loss: 4.0819e-07 - mae: 4.9260e-04 - val_loss: 7.0283e-06 - val_mae: 0.0020\n",
            "Epoch 23/50\n",
            "\u001b[1m9/9\u001b[0m \u001b[32m━━━━━━━━━━━━━━━━━━━━\u001b[0m\u001b[37m\u001b[0m \u001b[1m0s\u001b[0m 17ms/step - loss: 3.5254e-07 - mae: 4.5454e-04 - val_loss: 7.4324e-06 - val_mae: 0.0022\n",
            "Epoch 24/50\n",
            "\u001b[1m9/9\u001b[0m \u001b[32m━━━━━━━━━━━━━━━━━━━━\u001b[0m\u001b[37m\u001b[0m \u001b[1m0s\u001b[0m 23ms/step - loss: 3.1790e-07 - mae: 4.5704e-04 - val_loss: 5.8322e-06 - val_mae: 0.0018\n",
            "Epoch 25/50\n",
            "\u001b[1m9/9\u001b[0m \u001b[32m━━━━━━━━━━━━━━━━━━━━\u001b[0m\u001b[37m\u001b[0m \u001b[1m0s\u001b[0m 19ms/step - loss: 3.1425e-07 - mae: 4.1510e-04 - val_loss: 7.1997e-06 - val_mae: 0.0021\n",
            "Epoch 26/50\n",
            "\u001b[1m9/9\u001b[0m \u001b[32m━━━━━━━━━━━━━━━━━━━━\u001b[0m\u001b[37m\u001b[0m \u001b[1m0s\u001b[0m 25ms/step - loss: 3.5088e-07 - mae: 4.7213e-04 - val_loss: 5.9904e-06 - val_mae: 0.0019\n",
            "Epoch 27/50\n",
            "\u001b[1m9/9\u001b[0m \u001b[32m━━━━━━━━━━━━━━━━━━━━\u001b[0m\u001b[37m\u001b[0m \u001b[1m0s\u001b[0m 30ms/step - loss: 3.2696e-07 - mae: 4.5412e-04 - val_loss: 6.2490e-06 - val_mae: 0.0019\n",
            "Epoch 28/50\n",
            "\u001b[1m9/9\u001b[0m \u001b[32m━━━━━━━━━━━━━━━━━━━━\u001b[0m\u001b[37m\u001b[0m \u001b[1m0s\u001b[0m 28ms/step - loss: 2.7422e-07 - mae: 4.0663e-04 - val_loss: 6.1974e-06 - val_mae: 0.0019\n",
            "Epoch 29/50\n",
            "\u001b[1m9/9\u001b[0m \u001b[32m━━━━━━━━━━━━━━━━━━━━\u001b[0m\u001b[37m\u001b[0m \u001b[1m1s\u001b[0m 38ms/step - loss: 3.3719e-07 - mae: 4.5292e-04 - val_loss: 6.9024e-06 - val_mae: 0.0021\n",
            "Epoch 30/50\n",
            "\u001b[1m9/9\u001b[0m \u001b[32m━━━━━━━━━━━━━━━━━━━━\u001b[0m\u001b[37m\u001b[0m \u001b[1m0s\u001b[0m 27ms/step - loss: 3.6107e-07 - mae: 4.9065e-04 - val_loss: 6.3959e-06 - val_mae: 0.0019\n",
            "Epoch 31/50\n",
            "\u001b[1m9/9\u001b[0m \u001b[32m━━━━━━━━━━━━━━━━━━━━\u001b[0m\u001b[37m\u001b[0m \u001b[1m0s\u001b[0m 41ms/step - loss: 2.9939e-07 - mae: 4.2967e-04 - val_loss: 6.2520e-06 - val_mae: 0.0019\n",
            "Epoch 32/50\n",
            "\u001b[1m9/9\u001b[0m \u001b[32m━━━━━━━━━━━━━━━━━━━━\u001b[0m\u001b[37m\u001b[0m \u001b[1m1s\u001b[0m 31ms/step - loss: 2.1802e-07 - mae: 3.6009e-04 - val_loss: 6.3125e-06 - val_mae: 0.0019\n",
            "Epoch 33/50\n",
            "\u001b[1m9/9\u001b[0m \u001b[32m━━━━━━━━━━━━━━━━━━━━\u001b[0m\u001b[37m\u001b[0m \u001b[1m1s\u001b[0m 40ms/step - loss: 2.0417e-07 - mae: 3.5020e-04 - val_loss: 6.6165e-06 - val_mae: 0.0020\n",
            "Epoch 34/50\n",
            "\u001b[1m9/9\u001b[0m \u001b[32m━━━━━━━━━━━━━━━━━━━━\u001b[0m\u001b[37m\u001b[0m \u001b[1m0s\u001b[0m 20ms/step - loss: 2.0394e-07 - mae: 3.4842e-04 - val_loss: 6.1362e-06 - val_mae: 0.0019\n",
            "Epoch 35/50\n",
            "\u001b[1m9/9\u001b[0m \u001b[32m━━━━━━━━━━━━━━━━━━━━\u001b[0m\u001b[37m\u001b[0m \u001b[1m0s\u001b[0m 24ms/step - loss: 2.5091e-07 - mae: 3.9085e-04 - val_loss: 6.2639e-06 - val_mae: 0.0019\n",
            "Epoch 36/50\n",
            "\u001b[1m9/9\u001b[0m \u001b[32m━━━━━━━━━━━━━━━━━━━━\u001b[0m\u001b[37m\u001b[0m \u001b[1m0s\u001b[0m 23ms/step - loss: 1.4992e-07 - mae: 3.1090e-04 - val_loss: 5.9108e-06 - val_mae: 0.0018\n",
            "Epoch 37/50\n",
            "\u001b[1m9/9\u001b[0m \u001b[32m━━━━━━━━━━━━━━━━━━━━\u001b[0m\u001b[37m\u001b[0m \u001b[1m0s\u001b[0m 19ms/step - loss: 1.3637e-07 - mae: 2.8755e-04 - val_loss: 5.9721e-06 - val_mae: 0.0019\n",
            "Epoch 38/50\n",
            "\u001b[1m9/9\u001b[0m \u001b[32m━━━━━━━━━━━━━━━━━━━━\u001b[0m\u001b[37m\u001b[0m \u001b[1m0s\u001b[0m 20ms/step - loss: 1.4209e-07 - mae: 3.0413e-04 - val_loss: 5.6229e-06 - val_mae: 0.0018\n",
            "Epoch 39/50\n",
            "\u001b[1m9/9\u001b[0m \u001b[32m━━━━━━━━━━━━━━━━━━━━\u001b[0m\u001b[37m\u001b[0m \u001b[1m0s\u001b[0m 23ms/step - loss: 1.7131e-07 - mae: 3.2765e-04 - val_loss: 5.8527e-06 - val_mae: 0.0018\n",
            "Epoch 40/50\n",
            "\u001b[1m9/9\u001b[0m \u001b[32m━━━━━━━━━━━━━━━━━━━━\u001b[0m\u001b[37m\u001b[0m \u001b[1m0s\u001b[0m 17ms/step - loss: 1.4418e-07 - mae: 3.0579e-04 - val_loss: 6.2151e-06 - val_mae: 0.0019\n",
            "Epoch 41/50\n",
            "\u001b[1m9/9\u001b[0m \u001b[32m━━━━━━━━━━━━━━━━━━━━\u001b[0m\u001b[37m\u001b[0m \u001b[1m0s\u001b[0m 18ms/step - loss: 1.5680e-07 - mae: 3.0955e-04 - val_loss: 5.2002e-06 - val_mae: 0.0017\n",
            "Epoch 42/50\n",
            "\u001b[1m9/9\u001b[0m \u001b[32m━━━━━━━━━━━━━━━━━━━━\u001b[0m\u001b[37m\u001b[0m \u001b[1m0s\u001b[0m 19ms/step - loss: 1.4675e-07 - mae: 2.9822e-04 - val_loss: 5.5488e-06 - val_mae: 0.0018\n",
            "Epoch 43/50\n",
            "\u001b[1m9/9\u001b[0m \u001b[32m━━━━━━━━━━━━━━━━━━━━\u001b[0m\u001b[37m\u001b[0m \u001b[1m0s\u001b[0m 22ms/step - loss: 1.4743e-07 - mae: 3.0768e-04 - val_loss: 5.6778e-06 - val_mae: 0.0018\n",
            "Epoch 44/50\n",
            "\u001b[1m9/9\u001b[0m \u001b[32m━━━━━━━━━━━━━━━━━━━━\u001b[0m\u001b[37m\u001b[0m \u001b[1m0s\u001b[0m 20ms/step - loss: 1.5274e-07 - mae: 3.0989e-04 - val_loss: 5.2377e-06 - val_mae: 0.0017\n",
            "Epoch 45/50\n",
            "\u001b[1m9/9\u001b[0m \u001b[32m━━━━━━━━━━━━━━━━━━━━\u001b[0m\u001b[37m\u001b[0m \u001b[1m0s\u001b[0m 17ms/step - loss: 1.1028e-07 - mae: 2.5638e-04 - val_loss: 5.4289e-06 - val_mae: 0.0018\n",
            "Epoch 46/50\n",
            "\u001b[1m9/9\u001b[0m \u001b[32m━━━━━━━━━━━━━━━━━━━━\u001b[0m\u001b[37m\u001b[0m \u001b[1m0s\u001b[0m 21ms/step - loss: 1.0223e-07 - mae: 2.5625e-04 - val_loss: 5.5913e-06 - val_mae: 0.0018\n",
            "Epoch 47/50\n",
            "\u001b[1m9/9\u001b[0m \u001b[32m━━━━━━━━━━━━━━━━━━━━\u001b[0m\u001b[37m\u001b[0m \u001b[1m0s\u001b[0m 17ms/step - loss: 1.0142e-07 - mae: 2.5253e-04 - val_loss: 5.5340e-06 - val_mae: 0.0018\n",
            "Epoch 48/50\n",
            "\u001b[1m9/9\u001b[0m \u001b[32m━━━━━━━━━━━━━━━━━━━━\u001b[0m\u001b[37m\u001b[0m \u001b[1m0s\u001b[0m 19ms/step - loss: 8.8143e-08 - mae: 2.3499e-04 - val_loss: 5.2504e-06 - val_mae: 0.0018\n",
            "Epoch 49/50\n",
            "\u001b[1m9/9\u001b[0m \u001b[32m━━━━━━━━━━━━━━━━━━━━\u001b[0m\u001b[37m\u001b[0m \u001b[1m0s\u001b[0m 22ms/step - loss: 1.0203e-07 - mae: 2.5264e-04 - val_loss: 5.5089e-06 - val_mae: 0.0018\n",
            "Epoch 50/50\n",
            "\u001b[1m9/9\u001b[0m \u001b[32m━━━━━━━━━━━━━━━━━━━━\u001b[0m\u001b[37m\u001b[0m \u001b[1m0s\u001b[0m 21ms/step - loss: 1.3194e-07 - mae: 2.8424e-04 - val_loss: 5.1028e-06 - val_mae: 0.0017\n"
          ]
        }
      ]
    },
    {
      "cell_type": "code",
      "source": [
        "# Step 7: Plot training history\n",
        "import matplotlib.pyplot as plt\n",
        "plt.plot(history.history['loss'], label='Train Loss')\n",
        "plt.plot(history.history['val_loss'], label='Validation Loss')\n",
        "plt.legend()\n",
        "plt.show()"
      ],
      "metadata": {
        "colab": {
          "base_uri": "https://localhost:8080/",
          "height": 430
        },
        "id": "j0FLUiNYM0Iz",
        "outputId": "d6f3f8c4-7862-4cd6-add4-64140d891b25"
      },
      "execution_count": null,
      "outputs": [
        {
          "output_type": "display_data",
          "data": {
            "text/plain": [
              "<Figure size 640x480 with 1 Axes>"
            ],
            "image/png": "[encoded data removed]"
          },
          "metadata": {}
        }
      ]
    },
    {
      "cell_type": "code",
      "source": [
        "# Step 8: Predict and Inverse Transform\n",
        "predictions = model.predict(X_test)"
      ],
      "metadata": {
        "colab": {
          "base_uri": "https://localhost:8080/"
        },
        "id": "gsUzFCEgM-PE",
        "outputId": "45254fc0-1243-468e-d1b6-06b84a30a9aa"
      },
      "execution_count": null,
      "outputs": [
        {
          "output_type": "stream",
          "name": "stdout",
          "text": [
            "\u001b[1m3/3\u001b[0m \u001b[32m━━━━━━━━━━━━━━━━━━━━\u001b[0m\u001b[37m\u001b[0m \u001b[1m1s\u001b[0m 263ms/step\n"
          ]
        }
      ]
    },
    {
      "cell_type": "code",
      "source": [
        "# Since we scaled the data, reverse scaling\n",
        "y_test_rescaled = scaler.inverse_transform(np.concatenate((X_test[:, -1, :], y_test.reshape(-1, 1)), axis=1))[:, -1]\n",
        "predictions_rescaled = scaler.inverse_transform(np.concatenate((X_test[:, -1, :], predictions), axis=1))[:, -1]\n",
        "y_test_rescaled"
      ],
      "metadata": {
        "colab": {
          "base_uri": "https://localhost:8080/"
        },
        "id": "t_-ZQaFxNK6R",
        "outputId": "976e3d5d-7106-493e-cc08-2e0355789789"
      },
      "execution_count": null,
      "outputs": [
        {
          "output_type": "execute_result",
          "data": {
            "text/plain": [
              "array([0., 0., 0., 0., 0., 0., 0., 0., 0., 0., 0., 0., 0., 0., 0., 0., 0.,\n",
              "       0., 0., 0., 0., 0., 0., 0., 0., 0., 0., 0., 0., 0., 0., 0., 0., 0.,\n",
              "       0., 0., 0., 0., 0., 0., 0., 0., 0., 0., 0., 0., 0., 0., 0., 0., 0.,\n",
              "       0., 0., 0., 0., 0., 0., 0., 0., 0., 0., 0., 0., 0., 0., 0., 0., 0.,\n",
              "       0.])"
            ]
          },
          "metadata": {},
          "execution_count": 18
        }
      ]
    },
    {
      "cell_type": "code",
      "source": [
        "predictions_rescaled"
      ],
      "metadata": {
        "colab": {
          "base_uri": "https://localhost:8080/"
        },
        "id": "WcWMnkjBNM-a",
        "outputId": "e89d5489-7bc9-4534-d059-10f5ff6cbdfd"
      },
      "execution_count": null,
      "outputs": [
        {
          "output_type": "execute_result",
          "data": {
            "text/plain": [
              "array([-6.87178923e-04, -2.91108852e-04, -2.57596839e-05, -1.50956912e-04,\n",
              "       -3.76646174e-04, -3.56573844e-04, -1.64707424e-04,  6.30949391e-04,\n",
              "        8.49790173e-04,  1.21366442e-03,  1.76784792e-03,  2.26522493e-03,\n",
              "        2.06201687e-03,  2.18865718e-03,  2.08167569e-03,  1.89845753e-03,\n",
              "        1.73141644e-03,  8.86257039e-04,  1.25058694e-04, -1.06349820e-04,\n",
              "        2.69961776e-04,  5.99917723e-04,  6.73798611e-04,  4.90692211e-04,\n",
              "        4.14139358e-04, -9.62766353e-05, -3.39781167e-04, -5.57248248e-04,\n",
              "       -1.14559452e-03, -1.23528228e-03, -1.29522313e-03, -1.34111126e-03,\n",
              "       -1.40571850e-03, -1.22454274e-03, -9.32478113e-04, -7.62590906e-04,\n",
              "       -4.87653306e-04, -3.77872726e-04, -4.15086513e-04, -8.07221513e-05,\n",
              "        2.99859094e-04, -6.85628038e-05, -4.94690379e-04, -3.90982954e-04,\n",
              "       -6.41482649e-04, -1.18370797e-03, -9.53206560e-04, -5.54202823e-04,\n",
              "       -2.85047805e-04, -2.34700507e-04, -4.13201516e-04, -4.74462053e-04,\n",
              "       -5.40519832e-04, -6.28722599e-04, -5.10939164e-04, -2.66707269e-04,\n",
              "        1.71004096e-04,  3.97571595e-04,  4.94862208e-04,  4.08186810e-04,\n",
              "        9.72992042e-04,  1.88367558e-03,  2.51932838e-03,  2.83360505e-03,\n",
              "        1.84083008e-03,  9.57221957e-04,  6.07604394e-04,  6.45099441e-04,\n",
              "        7.10375840e-04])"
            ]
          },
          "metadata": {},
          "execution_count": 19
        }
      ]
    },
    {
      "cell_type": "code",
      "source": [
        "# Plot predictions vs actual\n",
        "time_axis = np.arange(len(y_test_rescaled))\n",
        "plt.plot(time_axis, y_test_rescaled, label='Actual')\n",
        "plt.plot(time_axis, predictions_rescaled, label='Predicted')\n",
        "plt.legend()\n",
        "plt.show()\n"
      ],
      "metadata": {
        "colab": {
          "base_uri": "https://localhost:8080/",
          "height": 432
        },
        "id": "I5Fa1ZfHhGu3",
        "outputId": "75289856-8c18-4f2d-b7a3-89af4d12856c"
      },
      "execution_count": null,
      "outputs": [
        {
          "output_type": "display_data",
          "data": {
            "text/plain": [
              "<Figure size 640x480 with 1 Axes>"
            ],
            "image/png": "[encoded data removed]"
          },
          "metadata": {}
        }
      ]
    },
    {
      "cell_type": "code",
      "source": [
        "#4.\n",
        "\n",
        "import numpy as np\n",
        "import pandas as pd\n",
        "from sklearn.preprocessing import MinMaxScaler\n",
        "from sklearn.model_selection import train_test_split\n",
        "from tensorflow.keras.models import Sequential\n",
        "from tensorflow.keras.layers import Conv1D, MaxPooling1D, TimeDistributed, LSTM, Dense, Flatten\n",
        "# Feature scaling using MinMaxScaler\n",
        "data=pd.read_csv(\"pollution_test_data1.csv\")\n",
        "scaler = MinMaxScaler(feature_range=(0, 1))\n",
        "scaled_data = scaler.fit_transform(data.values)\n",
        "scaled_data"
      ],
      "metadata": {
        "colab": {
          "base_uri": "https://localhost:8080/"
        },
        "id": "ceXn8bfDl8WF",
        "outputId": "fe0e073d-7567-423e-fd06-fa439700b376"
      },
      "execution_count": null,
      "outputs": [
        {
          "output_type": "execute_result",
          "data": {
            "text/plain": [
              "array([[0.52380952, 0.65      , 0.66666667, ..., 0.00710185, 0.        ,\n",
              "        0.        ],\n",
              "       [0.47619048, 0.7       , 0.66666667, ..., 0.01622308, 0.        ,\n",
              "        0.        ],\n",
              "       [0.52380952, 0.65      , 0.66666667, ..., 0.02028453, 0.        ,\n",
              "        0.        ],\n",
              "       ...,\n",
              "       [0.23809524, 0.3       , 0.95833333, ..., 0.54965625, 0.        ,\n",
              "        0.        ],\n",
              "       [0.23809524, 0.25      , 0.95833333, ..., 0.55877748, 0.        ,\n",
              "        0.        ],\n",
              "       [0.28571429, 0.3       , 0.95833333, ..., 0.56587934, 0.        ,\n",
              "        0.        ]])"
            ]
          },
          "metadata": {},
          "execution_count": 13
        }
      ]
    },
    {
      "cell_type": "code",
      "source": [
        "# Step 3: Define function to frame the supervised learning problem\n",
        "def create_sequences(data, n_steps_in, n_steps_out):\n",
        "    X, y = [], []\n",
        "    for i in range(len(data)):\n",
        "        # Find the end of this sequence\n",
        "        end_ix = i + n_steps_in\n",
        "        out_end_ix = end_ix + n_steps_out\n",
        "        # Break if we exceed dataset length\n",
        "        if out_end_ix > len(data):\n",
        "            break\n",
        "        # Input and output sequence\n",
        "        seq_x, seq_y = data[i:end_ix, :-1], data[end_ix:out_end_ix, -1]\n",
        "        X.append(seq_x)\n",
        "        y.append(seq_y)\n",
        "    return np.array(X), np.array(y)"
      ],
      "metadata": {
        "id": "WHGxmM0qmBw3"
      },
      "execution_count": null,
      "outputs": []
    },
    {
      "cell_type": "code",
      "source": [
        "# Parameters for input/output steps\n",
        "n_steps_in, n_steps_out = 5, 1\n",
        "\n",
        "# Prepare sequences\n",
        "X, y = create_sequences(scaled_data, n_steps_in, n_steps_out)\n",
        "print(\"Input Shape:\", X.shape, \"Output Shape:\", y.shape)"
      ],
      "metadata": {
        "colab": {
          "base_uri": "https://localhost:8080/"
        },
        "id": "n-Rr31p2mFr9",
        "outputId": "2ba90991-74b3-4334-e1a8-4d5f414cfecc"
      },
      "execution_count": null,
      "outputs": [
        {
          "output_type": "stream",
          "name": "stdout",
          "text": [
            "Input Shape: (341, 5, 6) Output Shape: (341, 1)\n"
          ]
        }
      ]
    },
    {
      "cell_type": "code",
      "source": [
        "# Reshape X for CNN-LSTM (samples, timesteps, features)\n",
        "n_features = X.shape[2]\n",
        "X = X.reshape((X.shape[0], n_steps_in, n_features))\n",
        "X"
      ],
      "metadata": {
        "colab": {
          "base_uri": "https://localhost:8080/"
        },
        "id": "My_3oLSOvNKo",
        "outputId": "6b45e7b7-91ae-4c4f-ed2d-c37212622435"
      },
      "execution_count": null,
      "outputs": [
        {
          "output_type": "execute_result",
          "data": {
            "text/plain": [
              "array([[[0.52380952, 0.65      , 0.66666667, 0.28828829, 0.00710185,\n",
              "         0.        ],\n",
              "        [0.47619048, 0.7       , 0.66666667, 0.17342342, 0.01622308,\n",
              "         0.        ],\n",
              "        [0.52380952, 0.65      , 0.66666667, 0.1463964 , 0.02028453,\n",
              "         0.        ],\n",
              "        [0.52380952, 0.5       , 0.70833333, 0.17792793, 0.00099834,\n",
              "         0.        ],\n",
              "        [0.61904762, 0.45      , 0.70833333, 0.20945946, 0.00304041,\n",
              "         0.        ]],\n",
              "\n",
              "       [[0.47619048, 0.7       , 0.66666667, 0.17342342, 0.01622308,\n",
              "         0.        ],\n",
              "        [0.52380952, 0.65      , 0.66666667, 0.1463964 , 0.02028453,\n",
              "         0.        ],\n",
              "        [0.52380952, 0.5       , 0.70833333, 0.17792793, 0.00099834,\n",
              "         0.        ],\n",
              "        [0.61904762, 0.45      , 0.70833333, 0.20945946, 0.00304041,\n",
              "         0.        ],\n",
              "        [0.57142857, 0.35      , 0.75      , 0.23423423, 0.00710185,\n",
              "         0.        ]],\n",
              "\n",
              "       [[0.52380952, 0.65      , 0.66666667, 0.1463964 , 0.02028453,\n",
              "         0.        ],\n",
              "        [0.52380952, 0.5       , 0.70833333, 0.17792793, 0.00099834,\n",
              "         0.        ],\n",
              "        [0.61904762, 0.45      , 0.70833333, 0.20945946, 0.00304041,\n",
              "         0.        ],\n",
              "        [0.57142857, 0.35      , 0.75      , 0.23423423, 0.00710185,\n",
              "         0.        ],\n",
              "        [0.57142857, 0.3       , 0.75      , 0.45495495, 0.00099834,\n",
              "         0.        ]],\n",
              "\n",
              "       ...,\n",
              "\n",
              "       [[0.19047619, 0.45      , 0.875     , 0.01801802, 0.48474122,\n",
              "         0.        ],\n",
              "        [0.23809524, 0.4       , 0.91666667, 0.02027027, 0.50096431,\n",
              "         0.        ],\n",
              "        [0.23809524, 0.35      , 0.91666667, 0.02252252, 0.51212761,\n",
              "         0.        ],\n",
              "        [0.19047619, 0.35      , 0.95833333, 0.01801802, 0.52531028,\n",
              "         0.        ],\n",
              "        [0.23809524, 0.3       , 0.95833333, 0.02252252, 0.53849295,\n",
              "         0.        ]],\n",
              "\n",
              "       [[0.23809524, 0.4       , 0.91666667, 0.02027027, 0.50096431,\n",
              "         0.        ],\n",
              "        [0.23809524, 0.35      , 0.91666667, 0.02252252, 0.51212761,\n",
              "         0.        ],\n",
              "        [0.19047619, 0.35      , 0.95833333, 0.01801802, 0.52531028,\n",
              "         0.        ],\n",
              "        [0.23809524, 0.3       , 0.95833333, 0.02252252, 0.53849295,\n",
              "         0.        ],\n",
              "        [0.23809524, 0.3       , 0.95833333, 0.02252252, 0.54965625,\n",
              "         0.        ]],\n",
              "\n",
              "       [[0.23809524, 0.35      , 0.91666667, 0.02252252, 0.51212761,\n",
              "         0.        ],\n",
              "        [0.19047619, 0.35      , 0.95833333, 0.01801802, 0.52531028,\n",
              "         0.        ],\n",
              "        [0.23809524, 0.3       , 0.95833333, 0.02252252, 0.53849295,\n",
              "         0.        ],\n",
              "        [0.23809524, 0.3       , 0.95833333, 0.02252252, 0.54965625,\n",
              "         0.        ],\n",
              "        [0.23809524, 0.25      , 0.95833333, 0.01801802, 0.55877748,\n",
              "         0.        ]]])"
            ]
          },
          "metadata": {},
          "execution_count": 9
        }
      ]
    },
    {
      "cell_type": "code",
      "source": [
        "# Step 4: Train-test split\n",
        "X_train, X_test, y_train, y_test = train_test_split(X, y, test_size=0.2, random_state=42, shuffle=False)\n",
        "X_train"
      ],
      "metadata": {
        "colab": {
          "base_uri": "https://localhost:8080/"
        },
        "id": "OtP5v0RkmJ51",
        "outputId": "2f658780-89f7-404c-e245-4b6fa79ba493"
      },
      "execution_count": null,
      "outputs": [
        {
          "output_type": "execute_result",
          "data": {
            "text/plain": [
              "array([[[0.52380952, 0.65      , 0.66666667, 0.28828829, 0.00710185,\n",
              "         0.        ],\n",
              "        [0.47619048, 0.7       , 0.66666667, 0.17342342, 0.01622308,\n",
              "         0.        ],\n",
              "        [0.52380952, 0.65      , 0.66666667, 0.1463964 , 0.02028453,\n",
              "         0.        ],\n",
              "        [0.52380952, 0.5       , 0.70833333, 0.17792793, 0.00099834,\n",
              "         0.        ],\n",
              "        [0.61904762, 0.45      , 0.70833333, 0.20945946, 0.00304041,\n",
              "         0.        ]],\n",
              "\n",
              "       [[0.47619048, 0.7       , 0.66666667, 0.17342342, 0.01622308,\n",
              "         0.        ],\n",
              "        [0.52380952, 0.65      , 0.66666667, 0.1463964 , 0.02028453,\n",
              "         0.        ],\n",
              "        [0.52380952, 0.5       , 0.70833333, 0.17792793, 0.00099834,\n",
              "         0.        ],\n",
              "        [0.61904762, 0.45      , 0.70833333, 0.20945946, 0.00304041,\n",
              "         0.        ],\n",
              "        [0.57142857, 0.35      , 0.75      , 0.23423423, 0.00710185,\n",
              "         0.        ]],\n",
              "\n",
              "       [[0.52380952, 0.65      , 0.66666667, 0.1463964 , 0.02028453,\n",
              "         0.        ],\n",
              "        [0.52380952, 0.5       , 0.70833333, 0.17792793, 0.00099834,\n",
              "         0.        ],\n",
              "        [0.61904762, 0.45      , 0.70833333, 0.20945946, 0.00304041,\n",
              "         0.        ],\n",
              "        [0.57142857, 0.35      , 0.75      , 0.23423423, 0.00710185,\n",
              "         0.        ],\n",
              "        [0.57142857, 0.3       , 0.75      , 0.45495495, 0.00099834,\n",
              "         0.        ]],\n",
              "\n",
              "       ...,\n",
              "\n",
              "       [[0.66666667, 0.75      , 0.25      , 0.24774775, 0.08515418,\n",
              "         0.        ],\n",
              "        [0.66666667, 0.6       , 0.25      , 0.39414414, 0.00099834,\n",
              "         0.        ],\n",
              "        [0.66666667, 0.5       , 0.25      , 0.65990991, 0.00301772,\n",
              "         0.        ],\n",
              "        [0.80952381, 0.55      , 0.25      , 0.72972973, 0.0050371 ,\n",
              "         0.        ],\n",
              "        [0.80952381, 0.35      , 0.25      , 0.76801802, 0.00605813,\n",
              "         0.        ]],\n",
              "\n",
              "       [[0.66666667, 0.6       , 0.25      , 0.39414414, 0.00099834,\n",
              "         0.        ],\n",
              "        [0.66666667, 0.5       , 0.25      , 0.65990991, 0.00301772,\n",
              "         0.        ],\n",
              "        [0.80952381, 0.55      , 0.25      , 0.72972973, 0.0050371 ,\n",
              "         0.        ],\n",
              "        [0.80952381, 0.35      , 0.25      , 0.76801802, 0.00605813,\n",
              "         0.        ],\n",
              "        [0.80952381, 0.25      , 0.20833333, 0.81531532, 0.00807751,\n",
              "         0.        ]],\n",
              "\n",
              "       [[0.66666667, 0.5       , 0.25      , 0.65990991, 0.00301772,\n",
              "         0.        ],\n",
              "        [0.80952381, 0.55      , 0.25      , 0.72972973, 0.0050371 ,\n",
              "         0.        ],\n",
              "        [0.80952381, 0.35      , 0.25      , 0.76801802, 0.00605813,\n",
              "         0.        ],\n",
              "        [0.80952381, 0.25      , 0.20833333, 0.81531532, 0.00807751,\n",
              "         0.        ],\n",
              "        [0.80952381, 0.2       , 0.20833333, 0.83783784, 0.01009688,\n",
              "         0.        ]]])"
            ]
          },
          "metadata": {},
          "execution_count": 10
        }
      ]
    },
    {
      "cell_type": "code",
      "source": [
        "model = Sequential()\n",
        "\n",
        "# Add TimeDistributed Conv1D and pooling layers\n",
        "model.add(TimeDistributed(Conv1D(filters=64, kernel_size=3, activation='relu'), input_shape=(None, n_features, 1)))\n",
        "model.add(TimeDistributed(MaxPooling1D(pool_size=2)))\n",
        "model.add(TimeDistributed(Flatten()))\n",
        "model.summary()"
      ],
      "metadata": {
        "colab": {
          "base_uri": "https://localhost:8080/",
          "height": 280
        },
        "id": "avXC4v70mP6G",
        "outputId": "f326e97d-cb48-4798-8d83-1c898b24f6b4"
      },
      "execution_count": null,
      "outputs": [
        {
          "output_type": "stream",
          "name": "stderr",
          "text": [
            "/usr/local/lib/python3.10/dist-packages/keras/src/layers/core/wrapper.py:27: UserWarning: Do not pass an `input_shape`/`input_dim` argument to a layer. When using Sequential models, prefer using an `Input(shape)` object as the first layer in the model instead.\n",
            "  super().__init__(**kwargs)\n"
          ]
        },
        {
          "output_type": "display_data",
          "data": {
            "text/plain": [
              "\u001b[1mModel: \"sequential_2\"\u001b[0m\n"
            ],
            "text/html": [
              "<pre style=\"white-space:pre;overflow-x:auto;line-height:normal;font-family:Menlo,'DejaVu Sans Mono',consolas,'Courier New',monospace\"><span style=\"font-weight: bold\">Model: \"sequential_2\"</span>\n",
              "</pre>\n"
            ]
          },
          "metadata": {}
        },
        {
          "output_type": "display_data",
          "data": {
            "text/plain": [
              "┏━━━━━━━━━━━━━━━━━━━━━━━━━━━━━━━━━━━━━━┳━━━━━━━━━━━━━━━━━━━━━━━━━━━━━┳━━━━━━━━━━━━━━━━━┓\n",
              "┃\u001b[1m \u001b[0m\u001b[1mLayer (type)                        \u001b[0m\u001b[1m \u001b[0m┃\u001b[1m \u001b[0m\u001b[1mOutput Shape               \u001b[0m\u001b[1m \u001b[0m┃\u001b[1m \u001b[0m\u001b[1m        Param #\u001b[0m\u001b[1m \u001b[0m┃\n",
              "┡━━━━━━━━━━━━━━━━━━━━━━━━━━━━━━━━━━━━━━╇━━━━━━━━━━━━━━━━━━━━━━━━━━━━━╇━━━━━━━━━━━━━━━━━┩\n",
              "│ time_distributed_3 (\u001b[38;5;33mTimeDistributed\u001b[0m) │ (\u001b[38;5;45mNone\u001b[0m, \u001b[38;5;45mNone\u001b[0m, \u001b[38;5;34m4\u001b[0m, \u001b[38;5;34m64\u001b[0m)         │             \u001b[38;5;34m256\u001b[0m │\n",
              "├──────────────────────────────────────┼─────────────────────────────┼─────────────────┤\n",
              "│ time_distributed_4 (\u001b[38;5;33mTimeDistributed\u001b[0m) │ (\u001b[38;5;45mNone\u001b[0m, \u001b[38;5;45mNone\u001b[0m, \u001b[38;5;34m2\u001b[0m, \u001b[38;5;34m64\u001b[0m)         │               \u001b[38;5;34m0\u001b[0m │\n",
              "├──────────────────────────────────────┼─────────────────────────────┼─────────────────┤\n",
              "│ time_distributed_5 (\u001b[38;5;33mTimeDistributed\u001b[0m) │ (\u001b[38;5;45mNone\u001b[0m, \u001b[38;5;45mNone\u001b[0m, \u001b[38;5;34m128\u001b[0m)           │               \u001b[38;5;34m0\u001b[0m │\n",
              "└──────────────────────────────────────┴─────────────────────────────┴─────────────────┘\n"
            ],
            "text/html": [
              "<pre style=\"white-space:pre;overflow-x:auto;line-height:normal;font-family:Menlo,'DejaVu Sans Mono',consolas,'Courier New',monospace\">┏━━━━━━━━━━━━━━━━━━━━━━━━━━━━━━━━━━━━━━┳━━━━━━━━━━━━━━━━━━━━━━━━━━━━━┳━━━━━━━━━━━━━━━━━┓\n",
              "┃<span style=\"font-weight: bold\"> Layer (type)                         </span>┃<span style=\"font-weight: bold\"> Output Shape                </span>┃<span style=\"font-weight: bold\">         Param # </span>┃\n",
              "┡━━━━━━━━━━━━━━━━━━━━━━━━━━━━━━━━━━━━━━╇━━━━━━━━━━━━━━━━━━━━━━━━━━━━━╇━━━━━━━━━━━━━━━━━┩\n",
              "│ time_distributed_3 (<span style=\"color: #0087ff; text-decoration-color: #0087ff\">TimeDistributed</span>) │ (<span style=\"color: #00d7ff; text-decoration-color: #00d7ff\">None</span>, <span style=\"color: #00d7ff; text-decoration-color: #00d7ff\">None</span>, <span style=\"color: #00af00; text-decoration-color: #00af00\">4</span>, <span style=\"color: #00af00; text-decoration-color: #00af00\">64</span>)         │             <span style=\"color: #00af00; text-decoration-color: #00af00\">256</span> │\n",
              "├──────────────────────────────────────┼─────────────────────────────┼─────────────────┤\n",
              "│ time_distributed_4 (<span style=\"color: #0087ff; text-decoration-color: #0087ff\">TimeDistributed</span>) │ (<span style=\"color: #00d7ff; text-decoration-color: #00d7ff\">None</span>, <span style=\"color: #00d7ff; text-decoration-color: #00d7ff\">None</span>, <span style=\"color: #00af00; text-decoration-color: #00af00\">2</span>, <span style=\"color: #00af00; text-decoration-color: #00af00\">64</span>)         │               <span style=\"color: #00af00; text-decoration-color: #00af00\">0</span> │\n",
              "├──────────────────────────────────────┼─────────────────────────────┼─────────────────┤\n",
              "│ time_distributed_5 (<span style=\"color: #0087ff; text-decoration-color: #0087ff\">TimeDistributed</span>) │ (<span style=\"color: #00d7ff; text-decoration-color: #00d7ff\">None</span>, <span style=\"color: #00d7ff; text-decoration-color: #00d7ff\">None</span>, <span style=\"color: #00af00; text-decoration-color: #00af00\">128</span>)           │               <span style=\"color: #00af00; text-decoration-color: #00af00\">0</span> │\n",
              "└──────────────────────────────────────┴─────────────────────────────┴─────────────────┘\n",
              "</pre>\n"
            ]
          },
          "metadata": {}
        },
        {
          "output_type": "display_data",
          "data": {
            "text/plain": [
              "\u001b[1m Total params: \u001b[0m\u001b[38;5;34m256\u001b[0m (1.00 KB)\n"
            ],
            "text/html": [
              "<pre style=\"white-space:pre;overflow-x:auto;line-height:normal;font-family:Menlo,'DejaVu Sans Mono',consolas,'Courier New',monospace\"><span style=\"font-weight: bold\"> Total params: </span><span style=\"color: #00af00; text-decoration-color: #00af00\">256</span> (1.00 KB)\n",
              "</pre>\n"
            ]
          },
          "metadata": {}
        },
        {
          "output_type": "display_data",
          "data": {
            "text/plain": [
              "\u001b[1m Trainable params: \u001b[0m\u001b[38;5;34m256\u001b[0m (1.00 KB)\n"
            ],
            "text/html": [
              "<pre style=\"white-space:pre;overflow-x:auto;line-height:normal;font-family:Menlo,'DejaVu Sans Mono',consolas,'Courier New',monospace\"><span style=\"font-weight: bold\"> Trainable params: </span><span style=\"color: #00af00; text-decoration-color: #00af00\">256</span> (1.00 KB)\n",
              "</pre>\n"
            ]
          },
          "metadata": {}
        },
        {
          "output_type": "display_data",
          "data": {
            "text/plain": [
              "\u001b[1m Non-trainable params: \u001b[0m\u001b[38;5;34m0\u001b[0m (0.00 B)\n"
            ],
            "text/html": [
              "<pre style=\"white-space:pre;overflow-x:auto;line-height:normal;font-family:Menlo,'DejaVu Sans Mono',consolas,'Courier New',monospace\"><span style=\"font-weight: bold\"> Non-trainable params: </span><span style=\"color: #00af00; text-decoration-color: #00af00\">0</span> (0.00 B)\n",
              "</pre>\n"
            ]
          },
          "metadata": {}
        }
      ]
    },
    {
      "cell_type": "code",
      "source": [
        "\n",
        "# Compile the model\n",
        "model.compile(optimizer='adam', loss='mse', metrics=['mae'])"
      ],
      "metadata": {
        "id": "xOREhAAWv5dC"
      },
      "execution_count": null,
      "outputs": []
    },
    {
      "cell_type": "code",
      "source": [
        "loss, mae = model.evaluate(X_test, y_test)\n",
        "print(f\"Test Loss: {loss:.4f}, Test MAE: {mae:.4f}\")"
      ],
      "metadata": {
        "colab": {
          "base_uri": "https://localhost:8080/"
        },
        "id": "iXsSwLl7v-7U",
        "outputId": "a92a842b-3c4d-4da7-d9ed-155708de9e2b"
      },
      "execution_count": null,
      "outputs": [
        {
          "output_type": "stream",
          "name": "stdout",
          "text": [
            "\u001b[1m3/3\u001b[0m \u001b[32m━━━━━━━━━━━━━━━━━━━━\u001b[0m\u001b[37m\u001b[0m \u001b[1m0s\u001b[0m 7ms/step - loss: 6.2967e-06 - mae: 0.0020 \n",
            "Test Loss: 0.0000, Test MAE: 0.0017\n"
          ]
        }
      ]
    },
    {
      "cell_type": "code",
      "source": [
        "predictions= model.predict(X_test)\n",
        "# Since we scaled the data, reverse scaling\n",
        "y_test_rescaled = scaler.inverse_transform(np.concatenate((X_test[:, -1, :], y_test.reshape(-1, 1)), axis=1))[:, -1]\n",
        "predictions_rescaled = scaler.inverse_transform(np.concatenate((X_test[:, -1, :], predictions), axis=1))[:, -1]\n",
        "y_test_rescaled\n"
      ],
      "metadata": {
        "colab": {
          "base_uri": "https://localhost:8080/"
        },
        "id": "UEvlMZU3xj3W",
        "outputId": "5eef41b4-98f8-4cdc-f5f9-3a78a2581b89"
      },
      "execution_count": null,
      "outputs": [
        {
          "output_type": "stream",
          "name": "stdout",
          "text": [
            "\u001b[1m3/3\u001b[0m \u001b[32m━━━━━━━━━━━━━━━━━━━━\u001b[0m\u001b[37m\u001b[0m \u001b[1m0s\u001b[0m 14ms/step \n"
          ]
        },
        {
          "output_type": "execute_result",
          "data": {
            "text/plain": [
              "array([0., 0., 0., 0., 0., 0., 0., 0., 0., 0., 0., 0., 0., 0., 0., 0., 0.,\n",
              "       0., 0., 0., 0., 0., 0., 0., 0., 0., 0., 0., 0., 0., 0., 0., 0., 0.,\n",
              "       0., 0., 0., 0., 0., 0., 0., 0., 0., 0., 0., 0., 0., 0., 0., 0., 0.,\n",
              "       0., 0., 0., 0., 0., 0., 0., 0., 0., 0., 0., 0., 0., 0., 0., 0., 0.,\n",
              "       0.])"
            ]
          },
          "metadata": {},
          "execution_count": 30
        }
      ]
    },
    {
      "cell_type": "code",
      "source": [
        "# Plot predictions vs actual\n",
        "import matplotlib.pyplot as plt\n",
        "time_axis = np.arange(len(y_test_rescaled))\n",
        "plt.plot(time_axis, y_test_rescaled, label='Actual')\n",
        "plt.plot(time_axis, predictions_rescaled, label='Predicted')\n",
        "plt.legend()\n",
        "plt.show()"
      ],
      "metadata": {
        "colab": {
          "base_uri": "https://localhost:8080/",
          "height": 430
        },
        "id": "zEX2H9CAx8gM",
        "outputId": "dc34566e-35a0-414d-9092-738640d9a74b"
      },
      "execution_count": null,
      "outputs": [
        {
          "output_type": "display_data",
          "data": {
            "text/plain": [
              "<Figure size 640x480 with 1 Axes>"
            ],
            "image/png": "[encoded data removed]"
          },
          "metadata": {}
        }
      ]
    },
    {
      "cell_type": "code",
      "source": [
        "import numpy as np\n",
        "import pandas as pd\n",
        "from sklearn.preprocessing import MinMaxScaler\n",
        "from sklearn.model_selection import train_test_split\n",
        "from tensorflow.keras.models import Sequential\n",
        "from tensorflow.keras.layers import Conv1D, MaxPooling1D, LSTM, Flatten, Dense, TimeDistributed\n",
        "\n"
      ],
      "metadata": {
        "id": "1jdbz_XvyRjd"
      },
      "execution_count": null,
      "outputs": []
    },
    {
      "cell_type": "code",
      "source": [
        "scaler = MinMaxScaler()\n",
        "scaled_data = scaler.fit_transform(data)\n",
        "scaled_data"
      ],
      "metadata": {
        "colab": {
          "base_uri": "https://localhost:8080/"
        },
        "id": "XPFMMyKfzBGr",
        "outputId": "5ddf0fd5-cbb9-4428-b614-cce43476704c"
      },
      "execution_count": null,
      "outputs": [
        {
          "output_type": "execute_result",
          "data": {
            "text/plain": [
              "array([[0.52380952, 0.65      , 0.66666667, ..., 0.00710185, 0.        ,\n",
              "        0.        ],\n",
              "       [0.47619048, 0.7       , 0.66666667, ..., 0.01622308, 0.        ,\n",
              "        0.        ],\n",
              "       [0.52380952, 0.65      , 0.66666667, ..., 0.02028453, 0.        ,\n",
              "        0.        ],\n",
              "       ...,\n",
              "       [0.23809524, 0.3       , 0.95833333, ..., 0.54965625, 0.        ,\n",
              "        0.        ],\n",
              "       [0.23809524, 0.25      , 0.95833333, ..., 0.55877748, 0.        ,\n",
              "        0.        ],\n",
              "       [0.28571429, 0.3       , 0.95833333, ..., 0.56587934, 0.        ,\n",
              "        0.        ]])"
            ]
          },
          "metadata": {},
          "execution_count": 35
        }
      ]
    },
    {
      "cell_type": "code",
      "source": [
        "def create_sequences(data, n_steps_in, n_steps_out):\n",
        "    X, y = [], []\n",
        "    for i in range(len(data)):\n",
        "        end_ix = i + n_steps_in\n",
        "        out_end_ix = end_ix + n_steps_out\n",
        "        if out_end_ix > len(data):\n",
        "            break\n",
        "        seq_x, seq_y = data[i:end_ix, :], data[end_ix:out_end_ix, 3]  # Predict 'pollution' (column 3)\n",
        "        X.append(seq_x)\n",
        "        y.append(seq_y)\n",
        "    return np.array(X), np.array(y)\n",
        "\n",
        "# Define the number of time steps\n",
        "n_steps_in, n_steps_out = 24, 6  # Predict next 6 hours from last 24 hours\n",
        "X, y = create_sequences(scaled_data, n_steps_in, n_steps_out)\n",
        "\n",
        "# Reshape data for CNN-LSTM\n",
        "X = X.reshape((X.shape[0], X.shape[1], X.shape[2]))\n",
        "X\n"
      ],
      "metadata": {
        "colab": {
          "base_uri": "https://localhost:8080/"
        },
        "id": "HJ0VKje4zJXn",
        "outputId": "2eecda83-54e2-442a-a54e-902b89cbb9c7"
      },
      "execution_count": null,
      "outputs": [
        {
          "output_type": "execute_result",
          "data": {
            "text/plain": [
              "array([[[0.52380952, 0.65      , 0.66666667, ..., 0.00710185,\n",
              "         0.        , 0.        ],\n",
              "        [0.47619048, 0.7       , 0.66666667, ..., 0.01622308,\n",
              "         0.        , 0.        ],\n",
              "        [0.52380952, 0.65      , 0.66666667, ..., 0.02028453,\n",
              "         0.        , 0.        ],\n",
              "        ...,\n",
              "        [0.71428571, 0.45      , 0.83333333, ..., 0.00304041,\n",
              "         0.        , 0.        ],\n",
              "        [0.80952381, 0.5       , 0.75      , ..., 0.00304041,\n",
              "         0.        , 0.        ],\n",
              "        [0.85714286, 0.55      , 0.70833333, ..., 0.00304041,\n",
              "         0.        , 0.        ]],\n",
              "\n",
              "       [[0.47619048, 0.7       , 0.66666667, ..., 0.01622308,\n",
              "         0.        , 0.        ],\n",
              "        [0.52380952, 0.65      , 0.66666667, ..., 0.02028453,\n",
              "         0.        , 0.        ],\n",
              "        [0.52380952, 0.5       , 0.70833333, ..., 0.00099834,\n",
              "         0.        , 0.        ],\n",
              "        ...,\n",
              "        [0.80952381, 0.5       , 0.75      , ..., 0.00304041,\n",
              "         0.        , 0.        ],\n",
              "        [0.85714286, 0.55      , 0.70833333, ..., 0.00304041,\n",
              "         0.        , 0.        ],\n",
              "        [0.95238095, 0.55      , 0.66666667, ..., 0.00710185,\n",
              "         0.        , 0.        ]],\n",
              "\n",
              "       [[0.52380952, 0.65      , 0.66666667, ..., 0.02028453,\n",
              "         0.        , 0.        ],\n",
              "        [0.52380952, 0.5       , 0.70833333, ..., 0.00099834,\n",
              "         0.        , 0.        ],\n",
              "        [0.61904762, 0.45      , 0.70833333, ..., 0.00304041,\n",
              "         0.        , 0.        ],\n",
              "        ...,\n",
              "        [0.85714286, 0.55      , 0.70833333, ..., 0.00304041,\n",
              "         0.        , 0.        ],\n",
              "        [0.95238095, 0.55      , 0.66666667, ..., 0.00710185,\n",
              "         0.        , 0.        ],\n",
              "        [0.95238095, 0.55      , 0.625     , ..., 0.0111633 ,\n",
              "         0.        , 0.        ]],\n",
              "\n",
              "       ...,\n",
              "\n",
              "       [[0.61904762, 0.75      , 0.29166667, ..., 0.00099834,\n",
              "         0.        , 0.        ],\n",
              "        [0.61904762, 0.7       , 0.33333333, ..., 0.00304041,\n",
              "         0.        , 0.        ],\n",
              "        [0.66666667, 0.55      , 0.375     , ..., 0.00710185,\n",
              "         0.        , 0.        ],\n",
              "        ...,\n",
              "        [0.        , 0.45      , 0.875     , ..., 0.42186826,\n",
              "         0.        , 0.        ],\n",
              "        [0.        , 0.5       , 0.875     , ..., 0.44417217,\n",
              "         0.        , 0.        ],\n",
              "        [0.04761905, 0.5       , 0.875     , ..., 0.4644567 ,\n",
              "         0.        , 0.        ]],\n",
              "\n",
              "       [[0.61904762, 0.7       , 0.33333333, ..., 0.00304041,\n",
              "         0.        , 0.        ],\n",
              "        [0.66666667, 0.55      , 0.375     , ..., 0.00710185,\n",
              "         0.        , 0.        ],\n",
              "        [0.9047619 , 0.75      , 0.41666667, ..., 0.01216164,\n",
              "         0.        , 0.        ],\n",
              "        ...,\n",
              "        [0.        , 0.5       , 0.875     , ..., 0.44417217,\n",
              "         0.        , 0.        ],\n",
              "        [0.04761905, 0.5       , 0.875     , ..., 0.4644567 ,\n",
              "         0.        , 0.        ],\n",
              "        [0.19047619, 0.45      , 0.875     , ..., 0.48474122,\n",
              "         0.        , 0.        ]],\n",
              "\n",
              "       [[0.66666667, 0.55      , 0.375     , ..., 0.00710185,\n",
              "         0.        , 0.        ],\n",
              "        [0.9047619 , 0.75      , 0.41666667, ..., 0.01216164,\n",
              "         0.        , 0.        ],\n",
              "        [0.76190476, 0.7       , 0.45833333, ..., 0.02838473,\n",
              "         0.        , 0.        ],\n",
              "        ...,\n",
              "        [0.04761905, 0.5       , 0.875     , ..., 0.4644567 ,\n",
              "         0.        , 0.        ],\n",
              "        [0.19047619, 0.45      , 0.875     , ..., 0.48474122,\n",
              "         0.        , 0.        ],\n",
              "        [0.23809524, 0.4       , 0.91666667, ..., 0.50096431,\n",
              "         0.        , 0.        ]]])"
            ]
          },
          "metadata": {},
          "execution_count": 36
        }
      ]
    },
    {
      "cell_type": "code",
      "source": [
        "# Define input parameters\n",
        "n_steps_in, n_steps_out = 5,1  # 24 past hours to predict 6 future hours\n",
        "\n",
        "# Prepare sequences\n",
        "X, y = create_sequences(scaled_data, n_steps_in, n_steps_out)\n",
        "print(\"Input Shape:\", X.shape, \"Output Shape:\", y.shape)\n"
      ],
      "metadata": {
        "colab": {
          "base_uri": "https://localhost:8080/"
        },
        "id": "XOJMHO3nzOOZ",
        "outputId": "2ac888fa-ae3e-46b2-9eb8-e6e2e5ee69b5"
      },
      "execution_count": null,
      "outputs": [
        {
          "output_type": "stream",
          "name": "stdout",
          "text": [
            "Input Shape: (341, 5, 7) Output Shape: (341, 1)\n"
          ]
        }
      ]
    },
    {
      "cell_type": "code",
      "source": [
        "# Split the data into training and testing sets\n",
        "X_train, X_test, y_train, y_test = train_test_split(X, y, test_size=0.2, random_state=42, shuffle=False)\n",
        "X_train\n",
        "\n",
        "print(\"\\nTraining shape:\", X_train.shape, y_train.shape)\n",
        "print(\"Testing shape:\", X_test.shape, y_test.shape)"
      ],
      "metadata": {
        "colab": {
          "base_uri": "https://localhost:8080/"
        },
        "id": "D6Sv8ZuPzbNh",
        "outputId": "983a05a8-162a-4019-ed9d-05766f36e737"
      },
      "execution_count": null,
      "outputs": [
        {
          "output_type": "stream",
          "name": "stdout",
          "text": [
            "\n",
            "Training shape: (272, 5, 7) (272, 1)\n",
            "Testing shape: (69, 5, 7) (69, 1)\n"
          ]
        }
      ]
    },
    {
      "cell_type": "code",
      "source": [
        "model = Sequential()\n",
        "\n",
        "# CNN for feature extraction\n",
        "model.add(TimeDistributed(Conv1D(filters=64, kernel_size=3, activation='relu'), input_shape=(None, n_steps_in, X.shape[2])))\n",
        "model.add(TimeDistributed(MaxPooling1D(pool_size=2)))\n",
        "model.add(TimeDistributed(Flatten()))\n",
        "model.summary()"
      ],
      "metadata": {
        "colab": {
          "base_uri": "https://localhost:8080/",
          "height": 280
        },
        "id": "Pi28aS9Bzk54",
        "outputId": "467e4c0a-c4cf-4558-9fad-e227aa6f97db"
      },
      "execution_count": null,
      "outputs": [
        {
          "output_type": "stream",
          "name": "stderr",
          "text": [
            "/usr/local/lib/python3.10/dist-packages/keras/src/layers/core/wrapper.py:27: UserWarning: Do not pass an `input_shape`/`input_dim` argument to a layer. When using Sequential models, prefer using an `Input(shape)` object as the first layer in the model instead.\n",
            "  super().__init__(**kwargs)\n"
          ]
        },
        {
          "output_type": "display_data",
          "data": {
            "text/plain": [
              "\u001b[1mModel: \"sequential_6\"\u001b[0m\n"
            ],
            "text/html": [
              "<pre style=\"white-space:pre;overflow-x:auto;line-height:normal;font-family:Menlo,'DejaVu Sans Mono',consolas,'Courier New',monospace\"><span style=\"font-weight: bold\">Model: \"sequential_6\"</span>\n",
              "</pre>\n"
            ]
          },
          "metadata": {}
        },
        {
          "output_type": "display_data",
          "data": {
            "text/plain": [
              "┏━━━━━━━━━━━━━━━━━━━━━━━━━━━━━━━━━━━━━━┳━━━━━━━━━━━━━━━━━━━━━━━━━━━━━┳━━━━━━━━━━━━━━━━━┓\n",
              "┃\u001b[1m \u001b[0m\u001b[1mLayer (type)                        \u001b[0m\u001b[1m \u001b[0m┃\u001b[1m \u001b[0m\u001b[1mOutput Shape               \u001b[0m\u001b[1m \u001b[0m┃\u001b[1m \u001b[0m\u001b[1m        Param #\u001b[0m\u001b[1m \u001b[0m┃\n",
              "┡━━━━━━━━━━━━━━━━━━━━━━━━━━━━━━━━━━━━━━╇━━━━━━━━━━━━━━━━━━━━━━━━━━━━━╇━━━━━━━━━━━━━━━━━┩\n",
              "│ time_distributed_6 (\u001b[38;5;33mTimeDistributed\u001b[0m) │ (\u001b[38;5;45mNone\u001b[0m, \u001b[38;5;45mNone\u001b[0m, \u001b[38;5;34m3\u001b[0m, \u001b[38;5;34m64\u001b[0m)         │           \u001b[38;5;34m1,408\u001b[0m │\n",
              "├──────────────────────────────────────┼─────────────────────────────┼─────────────────┤\n",
              "│ time_distributed_7 (\u001b[38;5;33mTimeDistributed\u001b[0m) │ (\u001b[38;5;45mNone\u001b[0m, \u001b[38;5;45mNone\u001b[0m, \u001b[38;5;34m1\u001b[0m, \u001b[38;5;34m64\u001b[0m)         │               \u001b[38;5;34m0\u001b[0m │\n",
              "├──────────────────────────────────────┼─────────────────────────────┼─────────────────┤\n",
              "│ time_distributed_8 (\u001b[38;5;33mTimeDistributed\u001b[0m) │ (\u001b[38;5;45mNone\u001b[0m, \u001b[38;5;45mNone\u001b[0m, \u001b[38;5;34m64\u001b[0m)            │               \u001b[38;5;34m0\u001b[0m │\n",
              "└──────────────────────────────────────┴─────────────────────────────┴─────────────────┘\n"
            ],
            "text/html": [
              "<pre style=\"white-space:pre;overflow-x:auto;line-height:normal;font-family:Menlo,'DejaVu Sans Mono',consolas,'Courier New',monospace\">┏━━━━━━━━━━━━━━━━━━━━━━━━━━━━━━━━━━━━━━┳━━━━━━━━━━━━━━━━━━━━━━━━━━━━━┳━━━━━━━━━━━━━━━━━┓\n",
              "┃<span style=\"font-weight: bold\"> Layer (type)                         </span>┃<span style=\"font-weight: bold\"> Output Shape                </span>┃<span style=\"font-weight: bold\">         Param # </span>┃\n",
              "┡━━━━━━━━━━━━━━━━━━━━━━━━━━━━━━━━━━━━━━╇━━━━━━━━━━━━━━━━━━━━━━━━━━━━━╇━━━━━━━━━━━━━━━━━┩\n",
              "│ time_distributed_6 (<span style=\"color: #0087ff; text-decoration-color: #0087ff\">TimeDistributed</span>) │ (<span style=\"color: #00d7ff; text-decoration-color: #00d7ff\">None</span>, <span style=\"color: #00d7ff; text-decoration-color: #00d7ff\">None</span>, <span style=\"color: #00af00; text-decoration-color: #00af00\">3</span>, <span style=\"color: #00af00; text-decoration-color: #00af00\">64</span>)         │           <span style=\"color: #00af00; text-decoration-color: #00af00\">1,408</span> │\n",
              "├──────────────────────────────────────┼─────────────────────────────┼─────────────────┤\n",
              "│ time_distributed_7 (<span style=\"color: #0087ff; text-decoration-color: #0087ff\">TimeDistributed</span>) │ (<span style=\"color: #00d7ff; text-decoration-color: #00d7ff\">None</span>, <span style=\"color: #00d7ff; text-decoration-color: #00d7ff\">None</span>, <span style=\"color: #00af00; text-decoration-color: #00af00\">1</span>, <span style=\"color: #00af00; text-decoration-color: #00af00\">64</span>)         │               <span style=\"color: #00af00; text-decoration-color: #00af00\">0</span> │\n",
              "├──────────────────────────────────────┼─────────────────────────────┼─────────────────┤\n",
              "│ time_distributed_8 (<span style=\"color: #0087ff; text-decoration-color: #0087ff\">TimeDistributed</span>) │ (<span style=\"color: #00d7ff; text-decoration-color: #00d7ff\">None</span>, <span style=\"color: #00d7ff; text-decoration-color: #00d7ff\">None</span>, <span style=\"color: #00af00; text-decoration-color: #00af00\">64</span>)            │               <span style=\"color: #00af00; text-decoration-color: #00af00\">0</span> │\n",
              "└──────────────────────────────────────┴─────────────────────────────┴─────────────────┘\n",
              "</pre>\n"
            ]
          },
          "metadata": {}
        },
        {
          "output_type": "display_data",
          "data": {
            "text/plain": [
              "\u001b[1m Total params: \u001b[0m\u001b[38;5;34m1,408\u001b[0m (5.50 KB)\n"
            ],
            "text/html": [
              "<pre style=\"white-space:pre;overflow-x:auto;line-height:normal;font-family:Menlo,'DejaVu Sans Mono',consolas,'Courier New',monospace\"><span style=\"font-weight: bold\"> Total params: </span><span style=\"color: #00af00; text-decoration-color: #00af00\">1,408</span> (5.50 KB)\n",
              "</pre>\n"
            ]
          },
          "metadata": {}
        },
        {
          "output_type": "display_data",
          "data": {
            "text/plain": [
              "\u001b[1m Trainable params: \u001b[0m\u001b[38;5;34m1,408\u001b[0m (5.50 KB)\n"
            ],
            "text/html": [
              "<pre style=\"white-space:pre;overflow-x:auto;line-height:normal;font-family:Menlo,'DejaVu Sans Mono',consolas,'Courier New',monospace\"><span style=\"font-weight: bold\"> Trainable params: </span><span style=\"color: #00af00; text-decoration-color: #00af00\">1,408</span> (5.50 KB)\n",
              "</pre>\n"
            ]
          },
          "metadata": {}
        },
        {
          "output_type": "display_data",
          "data": {
            "text/plain": [
              "\u001b[1m Non-trainable params: \u001b[0m\u001b[38;5;34m0\u001b[0m (0.00 B)\n"
            ],
            "text/html": [
              "<pre style=\"white-space:pre;overflow-x:auto;line-height:normal;font-family:Menlo,'DejaVu Sans Mono',consolas,'Courier New',monospace\"><span style=\"font-weight: bold\"> Non-trainable params: </span><span style=\"color: #00af00; text-decoration-color: #00af00\">0</span> (0.00 B)\n",
              "</pre>\n"
            ]
          },
          "metadata": {}
        }
      ]
    },
    {
      "cell_type": "code",
      "source": [
        "# Step 7: Plot training history\n",
        "import matplotlib.pyplot as plt\n",
        "plt.plot(history.history['loss'], label='Train Loss')\n",
        "plt.plot(history.history['val_loss'], label='Validation Loss')\n",
        "plt.legend()\n",
        "plt.show()"
      ],
      "metadata": {
        "colab": {
          "base_uri": "https://localhost:8080/",
          "height": 431
        },
        "id": "TXcgL5THzo2B",
        "outputId": "31047145-ce93-4d59-a2f6-f6d972b468d2"
      },
      "execution_count": null,
      "outputs": [
        {
          "output_type": "display_data",
          "data": {
            "text/plain": [
              "<Figure size 640x480 with 1 Axes>"
            ],
            "image/png": "[encoded data removed]"
          },
          "metadata": {}
        }
      ]
    },
    {
      "cell_type": "code",
      "source": [
        "# Plot predictions vs actual\n",
        "time_axis = np.arange(len(y_test_rescaled))\n",
        "plt.plot(time_axis, y_test_rescaled, label='Actual')\n",
        "plt.plot(time_axis, predictions_rescaled, label='Predicted')\n",
        "plt.legend()\n",
        "plt.show()\n"
      ],
      "metadata": {
        "colab": {
          "base_uri": "https://localhost:8080/",
          "height": 430
        },
        "id": "K8prrmfCz5C5",
        "outputId": "bad450b4-d8cc-40c9-99ce-bdafb17838a9"
      },
      "execution_count": null,
      "outputs": [
        {
          "output_type": "display_data",
          "data": {
            "text/plain": [
              "<Figure size 640x480 with 1 Axes>"
            ],
            "image/png": "[encoded data removed]"
          },
          "metadata": {}
        }
      ]
    }
  ]
}