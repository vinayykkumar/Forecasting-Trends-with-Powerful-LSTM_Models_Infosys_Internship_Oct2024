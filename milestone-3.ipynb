{
 "cells": [
  {
   "cell_type": "code",
   "execution_count": null,
   "metadata": {},
   "outputs": [
    {
     "name": "stdout",
     "output_type": "stream",
     "text": [
      "Dataset Head:\n",
      "                     Consumption  Production  Nuclear  Wind  Hydroelectric  \\\n",
      "DateTime                                                                     \n",
      "2019-01-01 00:00:00         6352        6527     1395    79           1383   \n",
      "2019-01-01 01:00:00         6116        5701     1393    96           1112   \n",
      "2019-01-01 02:00:00         5873        5676     1393   142           1030   \n",
      "2019-01-01 03:00:00         5682        5603     1397   191            972   \n",
      "2019-01-01 04:00:00         5557        5454     1393   159            960   \n",
      "\n",
      "                     Oil and Gas  Coal  Solar  Biomass  \n",
      "DateTime                                                \n",
      "2019-01-01 00:00:00         1896  1744      0       30  \n",
      "2019-01-01 01:00:00         1429  1641      0       30  \n",
      "2019-01-01 02:00:00         1465  1616      0       30  \n",
      "2019-01-01 03:00:00         1455  1558      0       30  \n",
      "2019-01-01 04:00:00         1454  1458      0       30  \n",
      "\n",
      "Dataset Info:\n",
      "<class 'pandas.core.frame.DataFrame'>\n",
      "DatetimeIndex: 46011 entries, 2019-01-01 00:00:00 to 2024-03-31 23:00:00\n",
      "Data columns (total 9 columns):\n",
      " #   Column         Non-Null Count  Dtype\n",
      "---  ------         --------------  -----\n",
      " 0   Consumption    46011 non-null  int64\n",
      " 1   Production     46011 non-null  int64\n",
      " 2   Nuclear        46011 non-null  int64\n",
      " 3   Wind           46011 non-null  int64\n",
      " 4   Hydroelectric  46011 non-null  int64\n",
      " 5   Oil and Gas    46011 non-null  int64\n",
      " 6   Coal           46011 non-null  int64\n",
      " 7   Solar          46011 non-null  int64\n",
      " 8   Biomass        46011 non-null  int64\n",
      "dtypes: int64(9)\n",
      "memory usage: 3.5 MB\n",
      "None\n"
     ]
    }
   ],
   "source": [
    "import pandas as pd\n",
    "import numpy as np\n",
    "import matplotlib.pyplot as plt\n",
    "from sklearn.preprocessing import MinMaxScaler\n",
    "from tensorflow.keras.models import Sequential\n",
    "from tensorflow.keras.layers import LSTM, Dense, Dropout\n",
    "from tensorflow.keras.optimizers import Adam\n",
    "\n",
    "# Step 1: Load the Dataset\n",
    "file_path = r\"C:\\Users\\nithe\\OneDrive\\Desktop\\Infosys\\the_one\\electricityConsumptionAndProductioction.csv\"\n",
    "data = pd.read_csv(file_path)\n",
    "\n",
    "data['DateTime'] = pd.to_datetime(data['DateTime'])\n",
    "data.set_index('DateTime', inplace=True)\n",
    "\n",
    "# basic information about the dataset\n",
    "print(\"Dataset Head:\")\n",
    "print(data.head())\n",
    "print(\"\\nDataset Info:\")\n",
    "print(data.info())"
   ]
  },
  {
   "cell_type": "code",
   "execution_count": 2,
   "metadata": {},
   "outputs": [],
   "source": [
    "# Step 2: Scale the Data\n",
    "# Use MinMaxScaler to normalize all columns between 0 and 1\n",
    "scaler = MinMaxScaler()\n",
    "scaled_data = scaler.fit_transform(data)\n",
    "scaled_data = pd.DataFrame(scaled_data, columns=data.columns, index=data.index)"
   ]
  },
  {
   "cell_type": "code",
   "execution_count": null,
   "metadata": {},
   "outputs": [
    {
     "name": "stdout",
     "output_type": "stream",
     "text": [
      "Shape of X: (45987, 24, 8), Shape of y: (45987,)\n"
     ]
    }
   ],
   "source": [
    "# Step 3: Prepare Sequences for LSTM\n",
    "# Function to create input sequences and corresponding targets\n",
    "def create_sequences(data, target_column, seq_length=24):\n",
    "    sequences = []\n",
    "    targets = []\n",
    "    for i in range(len(data) - seq_length):\n",
    "        seq = data.iloc[i:i + seq_length].drop(columns=[target_column]).values\n",
    "        target = data.iloc[i + seq_length][target_column]\n",
    "        sequences.append(seq)\n",
    "        targets.append(target)\n",
    "    return np.array(sequences), np.array(targets)\n",
    "\n",
    "# Define sequence length\n",
    "seq_length = 24 \n",
    "\n",
    "# Specify target column\n",
    "target_column = 'Consumption'\n",
    "\n",
    "# Create sequences\n",
    "X, y = create_sequences(scaled_data, target_column, seq_length)\n",
    "\n",
    "# Reshape X for LSTM: [samples, time steps, features]\n",
    "print(f\"Shape of X: {X.shape}, Shape of y: {y.shape}\")"
   ]
  },
  {
   "cell_type": "code",
   "execution_count": 4,
   "metadata": {},
   "outputs": [
    {
     "name": "stderr",
     "output_type": "stream",
     "text": [
      "C:\\Users\\nithe\\AppData\\Local\\Packages\\PythonSoftwareFoundation.Python.3.11_qbz5n2kfra8p0\\LocalCache\\local-packages\\Python311\\site-packages\\keras\\src\\layers\\rnn\\rnn.py:204: UserWarning: Do not pass an `input_shape`/`input_dim` argument to a layer. When using Sequential models, prefer using an `Input(shape)` object as the first layer in the model instead.\n",
      "  super().__init__(**kwargs)\n"
     ]
    }
   ],
   "source": [
    "# Step 4: Build the LSTM Model\n",
    "model = Sequential([\n",
    "    LSTM(64, activation='relu', return_sequences=True, input_shape=(X.shape[1], X.shape[2])),\n",
    "    Dropout(0.2),\n",
    "    LSTM(32, activation='relu'),\n",
    "    Dropout(0.2),\n",
    "    Dense(1)  # Single output: Consumption\n",
    "])\n",
    "\n",
    "model.compile(optimizer=Adam(learning_rate=0.001), loss='mse')"
   ]
  },
  {
   "cell_type": "code",
   "execution_count": null,
   "metadata": {},
   "outputs": [
    {
     "name": "stdout",
     "output_type": "stream",
     "text": [
      "Epoch 1/20\n",
      "\u001b[1m575/575\u001b[0m \u001b[32m━━━━━━━━━━━━━━━━━━━━\u001b[0m\u001b[37m\u001b[0m \u001b[1m21s\u001b[0m 27ms/step - loss: 0.0319 - val_loss: 0.0116\n",
      "Epoch 2/20\n",
      "\u001b[1m575/575\u001b[0m \u001b[32m━━━━━━━━━━━━━━━━━━━━\u001b[0m\u001b[37m\u001b[0m \u001b[1m16s\u001b[0m 29ms/step - loss: 0.0116 - val_loss: 0.0100\n",
      "Epoch 3/20\n",
      "\u001b[1m575/575\u001b[0m \u001b[32m━━━━━━━━━━━━━━━━━━━━\u001b[0m\u001b[37m\u001b[0m \u001b[1m15s\u001b[0m 25ms/step - loss: 0.0093 - val_loss: 0.0091\n",
      "Epoch 4/20\n",
      "\u001b[1m 65/575\u001b[0m \u001b[32m━━\u001b[0m\u001b[37m━━━━━━━━━━━━━━━━━━\u001b[0m \u001b[1m12s\u001b[0m 24ms/step - loss: 0.0083"
     ]
    }
   ],
   "source": [
    "# Step 5: Train the Model\n",
    "history = model.fit(X, y, epochs=20, batch_size=64, validation_split=0.2, verbose=1)"
   ]
  },
  {
   "cell_type": "code",
   "execution_count": null,
   "metadata": {},
   "outputs": [],
   "source": [
    "# Step 6: Save and Predict\n",
    "model.save('multivariate_lstm_electricity.h5')\n",
    "\n",
    "# Predicting (example)\n",
    "predictions = model.predict(X)\n",
    "print(\"Shape of predictions:\", predictions.shape)"
   ]
  },
  {
   "cell_type": "code",
   "execution_count": null,
   "metadata": {},
   "outputs": [],
   "source": [
    "# Step 7: Visualize Training History\n",
    "plt.figure(figsize=(10, 6))\n",
    "plt.plot(history.history['loss'], label='Training Loss')\n",
    "plt.plot(history.history['val_loss'], label='Validation Loss')\n",
    "plt.title('Model Loss Over Epochs')\n",
    "plt.xlabel('Epochs')\n",
    "plt.ylabel('Loss')\n",
    "plt.legend()\n",
    "plt.show()"
   ]
  },
  {
   "cell_type": "code",
   "execution_count": null,
   "metadata": {},
   "outputs": [],
   "source": [
    "# Step 8: Compare Actual vs Predicted Values\n",
    "actual = scaler.inverse_transform(np.concatenate((scaled_data.drop(columns=[target_column]).values, y.reshape(-1, 1)), axis=1))[:, -1]\n",
    "predicted = scaler.inverse_transform(np.concatenate((scaled_data.drop(columns=[target_column]).values, predictions), axis=1))[:, -1]\n",
    "\n",
    "plt.figure(figsize=(10, 6))\n",
    "plt.plot(data.index[seq_length:], actual, label='Actual Consumption', color='blue')\n",
    "plt.plot(data.index[seq_length:], predicted, label='Predicted Consumption', color='orange')\n",
    "plt.title('Actual vs Predicted Electricity Consumption')\n",
    "plt.xlabel('Time')\n",
    "plt.ylabel('Consumption')\n",
    "plt.legend()\n",
    "plt.show()"
   ]
  }
 ],
 "metadata": {
  "kernelspec": {
   "display_name": "Python 3",
   "language": "python",
   "name": "python3"
  },
  "language_info": {
   "codemirror_mode": {
    "name": "ipython",
    "version": 3
   },
   "file_extension": ".py",
   "mimetype": "text/x-python",
   "name": "python",
   "nbconvert_exporter": "python",
   "pygments_lexer": "ipython3",
   "version": "3.11.9"
  }
 },
 "nbformat": 4,
 "nbformat_minor": 2
}
