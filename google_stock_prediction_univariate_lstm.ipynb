{
  "cells": [
    {
      "cell_type": "markdown",
      "id": "d7e4a70f",
      "metadata": {
        "id": "d7e4a70f"
      },
      "source": [
        "\n",
        "**STEP 1 - Data Loading and Inspection**"
      ]
    },
    {
      "cell_type": "code",
      "execution_count": 1,
      "id": "38271535",
      "metadata": {
        "id": "38271535"
      },
      "outputs": [],
      "source": [
        "#importing libraries to be used\n",
        "import numpy as np # for linear algebra\n",
        "import pandas as pd # data preprocessing\n",
        "import matplotlib.pyplot as plt # data visualization library\n",
        "import seaborn as sns # data visualization library\n",
        "%matplotlib inline\n",
        "import warnings\n",
        "warnings.filterwarnings('ignore') # ignore warnings\n",
        "\n",
        "from sklearn.preprocessing import MinMaxScaler # for normalization\n",
        "from keras.models import Sequential\n",
        "from keras.layers import Dense, Dropout, LSTM, Bidirectional"
      ]
    },
    {
      "cell_type": "code",
      "execution_count": 3,
      "id": "c47ed10b",
      "metadata": {
        "scrolled": true,
        "colab": {
          "base_uri": "https://localhost:8080/",
          "height": 1000
        },
        "id": "c47ed10b",
        "outputId": "5c9d5e15-0872-493e-df29-d0e61239c461"
      },
      "outputs": [
        {
          "output_type": "execute_result",
          "data": {
            "text/plain": [
              "   symbol                       date   close      high       low    open  \\\n",
              "0    GOOG  2016-06-14 00:00:00+00:00  718.27  722.4700  713.1200  716.48   \n",
              "1    GOOG  2016-06-15 00:00:00+00:00  718.92  722.9800  717.3100  719.00   \n",
              "2    GOOG  2016-06-16 00:00:00+00:00  710.36  716.6500  703.2600  714.91   \n",
              "3    GOOG  2016-06-17 00:00:00+00:00  691.72  708.8200  688.4515  708.65   \n",
              "4    GOOG  2016-06-20 00:00:00+00:00  693.71  702.4800  693.4100  698.77   \n",
              "5    GOOG  2016-06-21 00:00:00+00:00  695.94  702.7700  692.0100  698.40   \n",
              "6    GOOG  2016-06-22 00:00:00+00:00  697.46  700.8600  693.0819  699.06   \n",
              "7    GOOG  2016-06-23 00:00:00+00:00  701.87  701.9500  687.0000  697.45   \n",
              "8    GOOG  2016-06-24 00:00:00+00:00  675.22  689.4000  673.4500  675.17   \n",
              "9    GOOG  2016-06-27 00:00:00+00:00  668.26  672.3000  663.2840  671.00   \n",
              "10   GOOG  2016-06-28 00:00:00+00:00  680.04  680.3300  673.0000  678.97   \n",
              "11   GOOG  2016-06-29 00:00:00+00:00  684.11  687.4292  681.4100  683.00   \n",
              "12   GOOG  2016-06-30 00:00:00+00:00  692.10  692.3200  683.6500  685.47   \n",
              "13   GOOG  2016-07-01 00:00:00+00:00  699.21  700.6500  692.1301  692.20   \n",
              "14   GOOG  2016-07-05 00:00:00+00:00  694.49  696.9400  688.8800  696.06   \n",
              "15   GOOG  2016-07-06 00:00:00+00:00  697.77  701.6800  689.0900  689.98   \n",
              "16   GOOG  2016-07-07 00:00:00+00:00  695.36  698.2000  688.2150  698.08   \n",
              "17   GOOG  2016-07-08 00:00:00+00:00  705.63  705.7100  696.4350  699.50   \n",
              "18   GOOG  2016-07-11 00:00:00+00:00  715.09  716.5100  707.2400  708.05   \n",
              "19   GOOG  2016-07-12 00:00:00+00:00  720.64  722.9400  715.9100  719.12   \n",
              "\n",
              "     volume  adjClose   adjHigh    adjLow  adjOpen  adjVolume  divCash  \\\n",
              "0   1306065    718.27  722.4700  713.1200   716.48    1306065      0.0   \n",
              "1   1214517    718.92  722.9800  717.3100   719.00    1214517      0.0   \n",
              "2   1982471    710.36  716.6500  703.2600   714.91    1982471      0.0   \n",
              "3   3402357    691.72  708.8200  688.4515   708.65    3402357      0.0   \n",
              "4   2082538    693.71  702.4800  693.4100   698.77    2082538      0.0   \n",
              "5   1465634    695.94  702.7700  692.0100   698.40    1465634      0.0   \n",
              "6   1184318    697.46  700.8600  693.0819   699.06    1184318      0.0   \n",
              "7   2171415    701.87  701.9500  687.0000   697.45    2171415      0.0   \n",
              "8   4449022    675.22  689.4000  673.4500   675.17    4449022      0.0   \n",
              "9   2641085    668.26  672.3000  663.2840   671.00    2641085      0.0   \n",
              "10  2173762    680.04  680.3300  673.0000   678.97    2173762      0.0   \n",
              "11  1932561    684.11  687.4292  681.4100   683.00    1932561      0.0   \n",
              "12  1597714    692.10  692.3200  683.6500   685.47    1597714      0.0   \n",
              "13  1344710    699.21  700.6500  692.1301   692.20    1344710      0.0   \n",
              "14  1462616    694.49  696.9400  688.8800   696.06    1462616      0.0   \n",
              "15  1411925    697.77  701.6800  689.0900   689.98    1411925      0.0   \n",
              "16  1304200    695.36  698.2000  688.2150   698.08    1304200      0.0   \n",
              "17  1575166    705.63  705.7100  696.4350   699.50    1575166      0.0   \n",
              "18  1111762    715.09  716.5100  707.2400   708.05    1111762      0.0   \n",
              "19  1336921    720.64  722.9400  715.9100   719.12    1336921      0.0   \n",
              "\n",
              "    splitFactor  \n",
              "0           1.0  \n",
              "1           1.0  \n",
              "2           1.0  \n",
              "3           1.0  \n",
              "4           1.0  \n",
              "5           1.0  \n",
              "6           1.0  \n",
              "7           1.0  \n",
              "8           1.0  \n",
              "9           1.0  \n",
              "10          1.0  \n",
              "11          1.0  \n",
              "12          1.0  \n",
              "13          1.0  \n",
              "14          1.0  \n",
              "15          1.0  \n",
              "16          1.0  \n",
              "17          1.0  \n",
              "18          1.0  \n",
              "19          1.0  "
            ],
            "text/html": [
              "\n",
              "  <div id=\"df-2e69c75f-ad33-413e-9630-9bcfe7d7e631\" class=\"colab-df-container\">\n",
              "    <div>\n",
              "<style scoped>\n",
              "    .dataframe tbody tr th:only-of-type {\n",
              "        vertical-align: middle;\n",
              "    }\n",
              "\n",
              "    .dataframe tbody tr th {\n",
              "        vertical-align: top;\n",
              "    }\n",
              "\n",
              "    .dataframe thead th {\n",
              "        text-align: right;\n",
              "    }\n",
              "</style>\n",
              "<table border=\"1\" class=\"dataframe\">\n",
              "  <thead>\n",
              "    <tr style=\"text-align: right;\">\n",
              "      <th></th>\n",
              "      <th>symbol</th>\n",
              "      <th>date</th>\n",
              "      <th>close</th>\n",
              "      <th>high</th>\n",
              "      <th>low</th>\n",
              "      <th>open</th>\n",
              "      <th>volume</th>\n",
              "      <th>adjClose</th>\n",
              "      <th>adjHigh</th>\n",
              "      <th>adjLow</th>\n",
              "      <th>adjOpen</th>\n",
              "      <th>adjVolume</th>\n",
              "      <th>divCash</th>\n",
              "      <th>splitFactor</th>\n",
              "    </tr>\n",
              "  </thead>\n",
              "  <tbody>\n",
              "    <tr>\n",
              "      <th>0</th>\n",
              "      <td>GOOG</td>\n",
              "      <td>2016-06-14 00:00:00+00:00</td>\n",
              "      <td>718.27</td>\n",
              "      <td>722.4700</td>\n",
              "      <td>713.1200</td>\n",
              "      <td>716.48</td>\n",
              "      <td>1306065</td>\n",
              "      <td>718.27</td>\n",
              "      <td>722.4700</td>\n",
              "      <td>713.1200</td>\n",
              "      <td>716.48</td>\n",
              "      <td>1306065</td>\n",
              "      <td>0.0</td>\n",
              "      <td>1.0</td>\n",
              "    </tr>\n",
              "    <tr>\n",
              "      <th>1</th>\n",
              "      <td>GOOG</td>\n",
              "      <td>2016-06-15 00:00:00+00:00</td>\n",
              "      <td>718.92</td>\n",
              "      <td>722.9800</td>\n",
              "      <td>717.3100</td>\n",
              "      <td>719.00</td>\n",
              "      <td>1214517</td>\n",
              "      <td>718.92</td>\n",
              "      <td>722.9800</td>\n",
              "      <td>717.3100</td>\n",
              "      <td>719.00</td>\n",
              "      <td>1214517</td>\n",
              "      <td>0.0</td>\n",
              "      <td>1.0</td>\n",
              "    </tr>\n",
              "    <tr>\n",
              "      <th>2</th>\n",
              "      <td>GOOG</td>\n",
              "      <td>2016-06-16 00:00:00+00:00</td>\n",
              "      <td>710.36</td>\n",
              "      <td>716.6500</td>\n",
              "      <td>703.2600</td>\n",
              "      <td>714.91</td>\n",
              "      <td>1982471</td>\n",
              "      <td>710.36</td>\n",
              "      <td>716.6500</td>\n",
              "      <td>703.2600</td>\n",
              "      <td>714.91</td>\n",
              "      <td>1982471</td>\n",
              "      <td>0.0</td>\n",
              "      <td>1.0</td>\n",
              "    </tr>\n",
              "    <tr>\n",
              "      <th>3</th>\n",
              "      <td>GOOG</td>\n",
              "      <td>2016-06-17 00:00:00+00:00</td>\n",
              "      <td>691.72</td>\n",
              "      <td>708.8200</td>\n",
              "      <td>688.4515</td>\n",
              "      <td>708.65</td>\n",
              "      <td>3402357</td>\n",
              "      <td>691.72</td>\n",
              "      <td>708.8200</td>\n",
              "      <td>688.4515</td>\n",
              "      <td>708.65</td>\n",
              "      <td>3402357</td>\n",
              "      <td>0.0</td>\n",
              "      <td>1.0</td>\n",
              "    </tr>\n",
              "    <tr>\n",
              "      <th>4</th>\n",
              "      <td>GOOG</td>\n",
              "      <td>2016-06-20 00:00:00+00:00</td>\n",
              "      <td>693.71</td>\n",
              "      <td>702.4800</td>\n",
              "      <td>693.4100</td>\n",
              "      <td>698.77</td>\n",
              "      <td>2082538</td>\n",
              "      <td>693.71</td>\n",
              "      <td>702.4800</td>\n",
              "      <td>693.4100</td>\n",
              "      <td>698.77</td>\n",
              "      <td>2082538</td>\n",
              "      <td>0.0</td>\n",
              "      <td>1.0</td>\n",
              "    </tr>\n",
              "    <tr>\n",
              "      <th>5</th>\n",
              "      <td>GOOG</td>\n",
              "      <td>2016-06-21 00:00:00+00:00</td>\n",
              "      <td>695.94</td>\n",
              "      <td>702.7700</td>\n",
              "      <td>692.0100</td>\n",
              "      <td>698.40</td>\n",
              "      <td>1465634</td>\n",
              "      <td>695.94</td>\n",
              "      <td>702.7700</td>\n",
              "      <td>692.0100</td>\n",
              "      <td>698.40</td>\n",
              "      <td>1465634</td>\n",
              "      <td>0.0</td>\n",
              "      <td>1.0</td>\n",
              "    </tr>\n",
              "    <tr>\n",
              "      <th>6</th>\n",
              "      <td>GOOG</td>\n",
              "      <td>2016-06-22 00:00:00+00:00</td>\n",
              "      <td>697.46</td>\n",
              "      <td>700.8600</td>\n",
              "      <td>693.0819</td>\n",
              "      <td>699.06</td>\n",
              "      <td>1184318</td>\n",
              "      <td>697.46</td>\n",
              "      <td>700.8600</td>\n",
              "      <td>693.0819</td>\n",
              "      <td>699.06</td>\n",
              "      <td>1184318</td>\n",
              "      <td>0.0</td>\n",
              "      <td>1.0</td>\n",
              "    </tr>\n",
              "    <tr>\n",
              "      <th>7</th>\n",
              "      <td>GOOG</td>\n",
              "      <td>2016-06-23 00:00:00+00:00</td>\n",
              "      <td>701.87</td>\n",
              "      <td>701.9500</td>\n",
              "      <td>687.0000</td>\n",
              "      <td>697.45</td>\n",
              "      <td>2171415</td>\n",
              "      <td>701.87</td>\n",
              "      <td>701.9500</td>\n",
              "      <td>687.0000</td>\n",
              "      <td>697.45</td>\n",
              "      <td>2171415</td>\n",
              "      <td>0.0</td>\n",
              "      <td>1.0</td>\n",
              "    </tr>\n",
              "    <tr>\n",
              "      <th>8</th>\n",
              "      <td>GOOG</td>\n",
              "      <td>2016-06-24 00:00:00+00:00</td>\n",
              "      <td>675.22</td>\n",
              "      <td>689.4000</td>\n",
              "      <td>673.4500</td>\n",
              "      <td>675.17</td>\n",
              "      <td>4449022</td>\n",
              "      <td>675.22</td>\n",
              "      <td>689.4000</td>\n",
              "      <td>673.4500</td>\n",
              "      <td>675.17</td>\n",
              "      <td>4449022</td>\n",
              "      <td>0.0</td>\n",
              "      <td>1.0</td>\n",
              "    </tr>\n",
              "    <tr>\n",
              "      <th>9</th>\n",
              "      <td>GOOG</td>\n",
              "      <td>2016-06-27 00:00:00+00:00</td>\n",
              "      <td>668.26</td>\n",
              "      <td>672.3000</td>\n",
              "      <td>663.2840</td>\n",
              "      <td>671.00</td>\n",
              "      <td>2641085</td>\n",
              "      <td>668.26</td>\n",
              "      <td>672.3000</td>\n",
              "      <td>663.2840</td>\n",
              "      <td>671.00</td>\n",
              "      <td>2641085</td>\n",
              "      <td>0.0</td>\n",
              "      <td>1.0</td>\n",
              "    </tr>\n",
              "    <tr>\n",
              "      <th>10</th>\n",
              "      <td>GOOG</td>\n",
              "      <td>2016-06-28 00:00:00+00:00</td>\n",
              "      <td>680.04</td>\n",
              "      <td>680.3300</td>\n",
              "      <td>673.0000</td>\n",
              "      <td>678.97</td>\n",
              "      <td>2173762</td>\n",
              "      <td>680.04</td>\n",
              "      <td>680.3300</td>\n",
              "      <td>673.0000</td>\n",
              "      <td>678.97</td>\n",
              "      <td>2173762</td>\n",
              "      <td>0.0</td>\n",
              "      <td>1.0</td>\n",
              "    </tr>\n",
              "    <tr>\n",
              "      <th>11</th>\n",
              "      <td>GOOG</td>\n",
              "      <td>2016-06-29 00:00:00+00:00</td>\n",
              "      <td>684.11</td>\n",
              "      <td>687.4292</td>\n",
              "      <td>681.4100</td>\n",
              "      <td>683.00</td>\n",
              "      <td>1932561</td>\n",
              "      <td>684.11</td>\n",
              "      <td>687.4292</td>\n",
              "      <td>681.4100</td>\n",
              "      <td>683.00</td>\n",
              "      <td>1932561</td>\n",
              "      <td>0.0</td>\n",
              "      <td>1.0</td>\n",
              "    </tr>\n",
              "    <tr>\n",
              "      <th>12</th>\n",
              "      <td>GOOG</td>\n",
              "      <td>2016-06-30 00:00:00+00:00</td>\n",
              "      <td>692.10</td>\n",
              "      <td>692.3200</td>\n",
              "      <td>683.6500</td>\n",
              "      <td>685.47</td>\n",
              "      <td>1597714</td>\n",
              "      <td>692.10</td>\n",
              "      <td>692.3200</td>\n",
              "      <td>683.6500</td>\n",
              "      <td>685.47</td>\n",
              "      <td>1597714</td>\n",
              "      <td>0.0</td>\n",
              "      <td>1.0</td>\n",
              "    </tr>\n",
              "    <tr>\n",
              "      <th>13</th>\n",
              "      <td>GOOG</td>\n",
              "      <td>2016-07-01 00:00:00+00:00</td>\n",
              "      <td>699.21</td>\n",
              "      <td>700.6500</td>\n",
              "      <td>692.1301</td>\n",
              "      <td>692.20</td>\n",
              "      <td>1344710</td>\n",
              "      <td>699.21</td>\n",
              "      <td>700.6500</td>\n",
              "      <td>692.1301</td>\n",
              "      <td>692.20</td>\n",
              "      <td>1344710</td>\n",
              "      <td>0.0</td>\n",
              "      <td>1.0</td>\n",
              "    </tr>\n",
              "    <tr>\n",
              "      <th>14</th>\n",
              "      <td>GOOG</td>\n",
              "      <td>2016-07-05 00:00:00+00:00</td>\n",
              "      <td>694.49</td>\n",
              "      <td>696.9400</td>\n",
              "      <td>688.8800</td>\n",
              "      <td>696.06</td>\n",
              "      <td>1462616</td>\n",
              "      <td>694.49</td>\n",
              "      <td>696.9400</td>\n",
              "      <td>688.8800</td>\n",
              "      <td>696.06</td>\n",
              "      <td>1462616</td>\n",
              "      <td>0.0</td>\n",
              "      <td>1.0</td>\n",
              "    </tr>\n",
              "    <tr>\n",
              "      <th>15</th>\n",
              "      <td>GOOG</td>\n",
              "      <td>2016-07-06 00:00:00+00:00</td>\n",
              "      <td>697.77</td>\n",
              "      <td>701.6800</td>\n",
              "      <td>689.0900</td>\n",
              "      <td>689.98</td>\n",
              "      <td>1411925</td>\n",
              "      <td>697.77</td>\n",
              "      <td>701.6800</td>\n",
              "      <td>689.0900</td>\n",
              "      <td>689.98</td>\n",
              "      <td>1411925</td>\n",
              "      <td>0.0</td>\n",
              "      <td>1.0</td>\n",
              "    </tr>\n",
              "    <tr>\n",
              "      <th>16</th>\n",
              "      <td>GOOG</td>\n",
              "      <td>2016-07-07 00:00:00+00:00</td>\n",
              "      <td>695.36</td>\n",
              "      <td>698.2000</td>\n",
              "      <td>688.2150</td>\n",
              "      <td>698.08</td>\n",
              "      <td>1304200</td>\n",
              "      <td>695.36</td>\n",
              "      <td>698.2000</td>\n",
              "      <td>688.2150</td>\n",
              "      <td>698.08</td>\n",
              "      <td>1304200</td>\n",
              "      <td>0.0</td>\n",
              "      <td>1.0</td>\n",
              "    </tr>\n",
              "    <tr>\n",
              "      <th>17</th>\n",
              "      <td>GOOG</td>\n",
              "      <td>2016-07-08 00:00:00+00:00</td>\n",
              "      <td>705.63</td>\n",
              "      <td>705.7100</td>\n",
              "      <td>696.4350</td>\n",
              "      <td>699.50</td>\n",
              "      <td>1575166</td>\n",
              "      <td>705.63</td>\n",
              "      <td>705.7100</td>\n",
              "      <td>696.4350</td>\n",
              "      <td>699.50</td>\n",
              "      <td>1575166</td>\n",
              "      <td>0.0</td>\n",
              "      <td>1.0</td>\n",
              "    </tr>\n",
              "    <tr>\n",
              "      <th>18</th>\n",
              "      <td>GOOG</td>\n",
              "      <td>2016-07-11 00:00:00+00:00</td>\n",
              "      <td>715.09</td>\n",
              "      <td>716.5100</td>\n",
              "      <td>707.2400</td>\n",
              "      <td>708.05</td>\n",
              "      <td>1111762</td>\n",
              "      <td>715.09</td>\n",
              "      <td>716.5100</td>\n",
              "      <td>707.2400</td>\n",
              "      <td>708.05</td>\n",
              "      <td>1111762</td>\n",
              "      <td>0.0</td>\n",
              "      <td>1.0</td>\n",
              "    </tr>\n",
              "    <tr>\n",
              "      <th>19</th>\n",
              "      <td>GOOG</td>\n",
              "      <td>2016-07-12 00:00:00+00:00</td>\n",
              "      <td>720.64</td>\n",
              "      <td>722.9400</td>\n",
              "      <td>715.9100</td>\n",
              "      <td>719.12</td>\n",
              "      <td>1336921</td>\n",
              "      <td>720.64</td>\n",
              "      <td>722.9400</td>\n",
              "      <td>715.9100</td>\n",
              "      <td>719.12</td>\n",
              "      <td>1336921</td>\n",
              "      <td>0.0</td>\n",
              "      <td>1.0</td>\n",
              "    </tr>\n",
              "  </tbody>\n",
              "</table>\n",
              "</div>\n",
              "    <div class=\"colab-df-buttons\">\n",
              "\n",
              "  <div class=\"colab-df-container\">\n",
              "    <button class=\"colab-df-convert\" onclick=\"convertToInteractive('df-2e69c75f-ad33-413e-9630-9bcfe7d7e631')\"\n",
              "            title=\"Convert this dataframe to an interactive table.\"\n",
              "            style=\"display:none;\">\n",
              "\n",
              "  <svg xmlns=\"http://www.w3.org/2000/svg\" height=\"24px\" viewBox=\"0 -960 960 960\">\n",
              "    <path d=\"M120-120v-720h720v720H120Zm60-500h600v-160H180v160Zm220 220h160v-160H400v160Zm0 220h160v-160H400v160ZM180-400h160v-160H180v160Zm440 0h160v-160H620v160ZM180-180h160v-160H180v160Zm440 0h160v-160H620v160Z\"/>\n",
              "  </svg>\n",
              "    </button>\n",
              "\n",
              "  <style>\n",
              "    .colab-df-container {\n",
              "      display:flex;\n",
              "      gap: 12px;\n",
              "    }\n",
              "\n",
              "    .colab-df-convert {\n",
              "      background-color: #E8F0FE;\n",
              "      border: none;\n",
              "      border-radius: 50%;\n",
              "      cursor: pointer;\n",
              "      display: none;\n",
              "      fill: #1967D2;\n",
              "      height: 32px;\n",
              "      padding: 0 0 0 0;\n",
              "      width: 32px;\n",
              "    }\n",
              "\n",
              "    .colab-df-convert:hover {\n",
              "      background-color: #E2EBFA;\n",
              "      box-shadow: 0px 1px 2px rgba(60, 64, 67, 0.3), 0px 1px 3px 1px rgba(60, 64, 67, 0.15);\n",
              "      fill: #174EA6;\n",
              "    }\n",
              "\n",
              "    .colab-df-buttons div {\n",
              "      margin-bottom: 4px;\n",
              "    }\n",
              "\n",
              "    [theme=dark] .colab-df-convert {\n",
              "      background-color: #3B4455;\n",
              "      fill: #D2E3FC;\n",
              "    }\n",
              "\n",
              "    [theme=dark] .colab-df-convert:hover {\n",
              "      background-color: #434B5C;\n",
              "      box-shadow: 0px 1px 3px 1px rgba(0, 0, 0, 0.15);\n",
              "      filter: drop-shadow(0px 1px 2px rgba(0, 0, 0, 0.3));\n",
              "      fill: #FFFFFF;\n",
              "    }\n",
              "  </style>\n",
              "\n",
              "    <script>\n",
              "      const buttonEl =\n",
              "        document.querySelector('#df-2e69c75f-ad33-413e-9630-9bcfe7d7e631 button.colab-df-convert');\n",
              "      buttonEl.style.display =\n",
              "        google.colab.kernel.accessAllowed ? 'block' : 'none';\n",
              "\n",
              "      async function convertToInteractive(key) {\n",
              "        const element = document.querySelector('#df-2e69c75f-ad33-413e-9630-9bcfe7d7e631');\n",
              "        const dataTable =\n",
              "          await google.colab.kernel.invokeFunction('convertToInteractive',\n",
              "                                                    [key], {});\n",
              "        if (!dataTable) return;\n",
              "\n",
              "        const docLinkHtml = 'Like what you see? Visit the ' +\n",
              "          '<a target=\"_blank\" href=https://colab.research.google.com/notebooks/data_table.ipynb>data table notebook</a>'\n",
              "          + ' to learn more about interactive tables.';\n",
              "        element.innerHTML = '';\n",
              "        dataTable['output_type'] = 'display_data';\n",
              "        await google.colab.output.renderOutput(dataTable, element);\n",
              "        const docLink = document.createElement('div');\n",
              "        docLink.innerHTML = docLinkHtml;\n",
              "        element.appendChild(docLink);\n",
              "      }\n",
              "    </script>\n",
              "  </div>\n",
              "\n",
              "\n",
              "<div id=\"df-b7c32ca3-aec6-41c3-9a5e-98d2a5e6951b\">\n",
              "  <button class=\"colab-df-quickchart\" onclick=\"quickchart('df-b7c32ca3-aec6-41c3-9a5e-98d2a5e6951b')\"\n",
              "            title=\"Suggest charts\"\n",
              "            style=\"display:none;\">\n",
              "\n",
              "<svg xmlns=\"http://www.w3.org/2000/svg\" height=\"24px\"viewBox=\"0 0 24 24\"\n",
              "     width=\"24px\">\n",
              "    <g>\n",
              "        <path d=\"M19 3H5c-1.1 0-2 .9-2 2v14c0 1.1.9 2 2 2h14c1.1 0 2-.9 2-2V5c0-1.1-.9-2-2-2zM9 17H7v-7h2v7zm4 0h-2V7h2v10zm4 0h-2v-4h2v4z\"/>\n",
              "    </g>\n",
              "</svg>\n",
              "  </button>\n",
              "\n",
              "<style>\n",
              "  .colab-df-quickchart {\n",
              "      --bg-color: #E8F0FE;\n",
              "      --fill-color: #1967D2;\n",
              "      --hover-bg-color: #E2EBFA;\n",
              "      --hover-fill-color: #174EA6;\n",
              "      --disabled-fill-color: #AAA;\n",
              "      --disabled-bg-color: #DDD;\n",
              "  }\n",
              "\n",
              "  [theme=dark] .colab-df-quickchart {\n",
              "      --bg-color: #3B4455;\n",
              "      --fill-color: #D2E3FC;\n",
              "      --hover-bg-color: #434B5C;\n",
              "      --hover-fill-color: #FFFFFF;\n",
              "      --disabled-bg-color: #3B4455;\n",
              "      --disabled-fill-color: #666;\n",
              "  }\n",
              "\n",
              "  .colab-df-quickchart {\n",
              "    background-color: var(--bg-color);\n",
              "    border: none;\n",
              "    border-radius: 50%;\n",
              "    cursor: pointer;\n",
              "    display: none;\n",
              "    fill: var(--fill-color);\n",
              "    height: 32px;\n",
              "    padding: 0;\n",
              "    width: 32px;\n",
              "  }\n",
              "\n",
              "  .colab-df-quickchart:hover {\n",
              "    background-color: var(--hover-bg-color);\n",
              "    box-shadow: 0 1px 2px rgba(60, 64, 67, 0.3), 0 1px 3px 1px rgba(60, 64, 67, 0.15);\n",
              "    fill: var(--button-hover-fill-color);\n",
              "  }\n",
              "\n",
              "  .colab-df-quickchart-complete:disabled,\n",
              "  .colab-df-quickchart-complete:disabled:hover {\n",
              "    background-color: var(--disabled-bg-color);\n",
              "    fill: var(--disabled-fill-color);\n",
              "    box-shadow: none;\n",
              "  }\n",
              "\n",
              "  .colab-df-spinner {\n",
              "    border: 2px solid var(--fill-color);\n",
              "    border-color: transparent;\n",
              "    border-bottom-color: var(--fill-color);\n",
              "    animation:\n",
              "      spin 1s steps(1) infinite;\n",
              "  }\n",
              "\n",
              "  @keyframes spin {\n",
              "    0% {\n",
              "      border-color: transparent;\n",
              "      border-bottom-color: var(--fill-color);\n",
              "      border-left-color: var(--fill-color);\n",
              "    }\n",
              "    20% {\n",
              "      border-color: transparent;\n",
              "      border-left-color: var(--fill-color);\n",
              "      border-top-color: var(--fill-color);\n",
              "    }\n",
              "    30% {\n",
              "      border-color: transparent;\n",
              "      border-left-color: var(--fill-color);\n",
              "      border-top-color: var(--fill-color);\n",
              "      border-right-color: var(--fill-color);\n",
              "    }\n",
              "    40% {\n",
              "      border-color: transparent;\n",
              "      border-right-color: var(--fill-color);\n",
              "      border-top-color: var(--fill-color);\n",
              "    }\n",
              "    60% {\n",
              "      border-color: transparent;\n",
              "      border-right-color: var(--fill-color);\n",
              "    }\n",
              "    80% {\n",
              "      border-color: transparent;\n",
              "      border-right-color: var(--fill-color);\n",
              "      border-bottom-color: var(--fill-color);\n",
              "    }\n",
              "    90% {\n",
              "      border-color: transparent;\n",
              "      border-bottom-color: var(--fill-color);\n",
              "    }\n",
              "  }\n",
              "</style>\n",
              "\n",
              "  <script>\n",
              "    async function quickchart(key) {\n",
              "      const quickchartButtonEl =\n",
              "        document.querySelector('#' + key + ' button');\n",
              "      quickchartButtonEl.disabled = true;  // To prevent multiple clicks.\n",
              "      quickchartButtonEl.classList.add('colab-df-spinner');\n",
              "      try {\n",
              "        const charts = await google.colab.kernel.invokeFunction(\n",
              "            'suggestCharts', [key], {});\n",
              "      } catch (error) {\n",
              "        console.error('Error during call to suggestCharts:', error);\n",
              "      }\n",
              "      quickchartButtonEl.classList.remove('colab-df-spinner');\n",
              "      quickchartButtonEl.classList.add('colab-df-quickchart-complete');\n",
              "    }\n",
              "    (() => {\n",
              "      let quickchartButtonEl =\n",
              "        document.querySelector('#df-b7c32ca3-aec6-41c3-9a5e-98d2a5e6951b button');\n",
              "      quickchartButtonEl.style.display =\n",
              "        google.colab.kernel.accessAllowed ? 'block' : 'none';\n",
              "    })();\n",
              "  </script>\n",
              "</div>\n",
              "\n",
              "    </div>\n",
              "  </div>\n"
            ],
            "application/vnd.google.colaboratory.intrinsic+json": {
              "type": "dataframe",
              "variable_name": "df",
              "summary": "{\n  \"name\": \"df\",\n  \"rows\": 1258,\n  \"fields\": [\n    {\n      \"column\": \"symbol\",\n      \"properties\": {\n        \"dtype\": \"category\",\n        \"num_unique_values\": 1,\n        \"samples\": [\n          \"GOOG\"\n        ],\n        \"semantic_type\": \"\",\n        \"description\": \"\"\n      }\n    },\n    {\n      \"column\": \"date\",\n      \"properties\": {\n        \"dtype\": \"object\",\n        \"num_unique_values\": 1258,\n        \"samples\": [\n          \"2018-09-05 00:00:00+00:00\"\n        ],\n        \"semantic_type\": \"\",\n        \"description\": \"\"\n      }\n    },\n    {\n      \"column\": \"close\",\n      \"properties\": {\n        \"dtype\": \"number\",\n        \"std\": 383.3333577269818,\n        \"min\": 668.26,\n        \"max\": 2521.6,\n        \"num_unique_values\": 1247,\n        \"samples\": [\n          1157.86\n        ],\n        \"semantic_type\": \"\",\n        \"description\": \"\"\n      }\n    },\n    {\n      \"column\": \"high\",\n      \"properties\": {\n        \"dtype\": \"number\",\n        \"std\": 387.5708716702876,\n        \"min\": 672.3,\n        \"max\": 2526.99,\n        \"num_unique_values\": 1240,\n        \"samples\": [\n          1043.97\n        ],\n        \"semantic_type\": \"\",\n        \"description\": \"\"\n      }\n    },\n    {\n      \"column\": \"low\",\n      \"properties\": {\n        \"dtype\": \"number\",\n        \"std\": 378.77709382064285,\n        \"min\": 663.284,\n        \"max\": 2498.29,\n        \"num_unique_values\": 1244,\n        \"samples\": [\n          1183.6\n        ],\n        \"semantic_type\": \"\",\n        \"description\": \"\"\n      }\n    },\n    {\n      \"column\": \"open\",\n      \"properties\": {\n        \"dtype\": \"number\",\n        \"std\": 382.4469952385127,\n        \"min\": 671.0,\n        \"max\": 2524.92,\n        \"num_unique_values\": 1227,\n        \"samples\": [\n          1450.09\n        ],\n        \"semantic_type\": \"\",\n        \"description\": \"\"\n      }\n    },\n    {\n      \"column\": \"volume\",\n      \"properties\": {\n        \"dtype\": \"number\",\n        \"std\": 696017,\n        \"min\": 346753,\n        \"max\": 6207027,\n        \"num_unique_values\": 1258,\n        \"samples\": [\n          2061309\n        ],\n        \"semantic_type\": \"\",\n        \"description\": \"\"\n      }\n    },\n    {\n      \"column\": \"adjClose\",\n      \"properties\": {\n        \"dtype\": \"number\",\n        \"std\": 383.3333577269818,\n        \"min\": 668.26,\n        \"max\": 2521.6,\n        \"num_unique_values\": 1247,\n        \"samples\": [\n          1157.86\n        ],\n        \"semantic_type\": \"\",\n        \"description\": \"\"\n      }\n    },\n    {\n      \"column\": \"adjHigh\",\n      \"properties\": {\n        \"dtype\": \"number\",\n        \"std\": 387.5708731059068,\n        \"min\": 672.3,\n        \"max\": 2526.99,\n        \"num_unique_values\": 1240,\n        \"samples\": [\n          1043.97\n        ],\n        \"semantic_type\": \"\",\n        \"description\": \"\"\n      }\n    },\n    {\n      \"column\": \"adjLow\",\n      \"properties\": {\n        \"dtype\": \"number\",\n        \"std\": 378.7770986990594,\n        \"min\": 663.284,\n        \"max\": 2498.29,\n        \"num_unique_values\": 1244,\n        \"samples\": [\n          1183.6\n        ],\n        \"semantic_type\": \"\",\n        \"description\": \"\"\n      }\n    },\n    {\n      \"column\": \"adjOpen\",\n      \"properties\": {\n        \"dtype\": \"number\",\n        \"std\": 382.4469952385127,\n        \"min\": 671.0,\n        \"max\": 2524.92,\n        \"num_unique_values\": 1227,\n        \"samples\": [\n          1450.09\n        ],\n        \"semantic_type\": \"\",\n        \"description\": \"\"\n      }\n    },\n    {\n      \"column\": \"adjVolume\",\n      \"properties\": {\n        \"dtype\": \"number\",\n        \"std\": 696017,\n        \"min\": 346753,\n        \"max\": 6207027,\n        \"num_unique_values\": 1258,\n        \"samples\": [\n          2061309\n        ],\n        \"semantic_type\": \"\",\n        \"description\": \"\"\n      }\n    },\n    {\n      \"column\": \"divCash\",\n      \"properties\": {\n        \"dtype\": \"number\",\n        \"std\": 0.0,\n        \"min\": 0.0,\n        \"max\": 0.0,\n        \"num_unique_values\": 1,\n        \"samples\": [\n          0.0\n        ],\n        \"semantic_type\": \"\",\n        \"description\": \"\"\n      }\n    },\n    {\n      \"column\": \"splitFactor\",\n      \"properties\": {\n        \"dtype\": \"number\",\n        \"std\": 0.0,\n        \"min\": 1.0,\n        \"max\": 1.0,\n        \"num_unique_values\": 1,\n        \"samples\": [\n          1.0\n        ],\n        \"semantic_type\": \"\",\n        \"description\": \"\"\n      }\n    }\n  ]\n}"
            }
          },
          "metadata": {},
          "execution_count": 3
        }
      ],
      "source": [
        "df = pd.read_csv('/content/stock_dataset.csv') # data_importing\n",
        "df.head(20) # fetching first 20 rows of dataset"
      ]
    },
    {
      "cell_type": "code",
      "execution_count": 4,
      "id": "590ec294",
      "metadata": {
        "id": "590ec294",
        "colab": {
          "base_uri": "https://localhost:8080/"
        },
        "outputId": "4c3dc797-deb6-44eb-ad96-5f19409068a9"
      },
      "outputs": [
        {
          "output_type": "stream",
          "name": "stdout",
          "text": [
            "Shape of data: (1258, 14)\n"
          ]
        }
      ],
      "source": [
        "# shape of data\n",
        "print(\"Shape of data:\",df.shape)"
      ]
    },
    {
      "cell_type": "code",
      "execution_count": 5,
      "id": "45bd0082",
      "metadata": {
        "id": "45bd0082",
        "colab": {
          "base_uri": "https://localhost:8080/",
          "height": 320
        },
        "outputId": "9ae12aaa-2018-44c9-f6c9-6bad80298013"
      },
      "outputs": [
        {
          "output_type": "execute_result",
          "data": {
            "text/plain": [
              "             close         high          low         open        volume  \\\n",
              "count  1258.000000  1258.000000  1258.000000  1258.000000  1.258000e+03   \n",
              "mean   1216.317067  1227.430934  1204.176430  1215.260779  1.601590e+06   \n",
              "std     383.333358   387.570872   378.777094   382.446995  6.960172e+05   \n",
              "min     668.260000   672.300000   663.284000   671.000000  3.467530e+05   \n",
              "25%     960.802500   968.757500   952.182500   959.005000  1.173522e+06   \n",
              "50%    1132.460000  1143.935000  1117.915000  1131.150000  1.412588e+06   \n",
              "75%    1360.595000  1374.345000  1348.557500  1361.075000  1.812156e+06   \n",
              "max    2521.600000  2526.990000  2498.290000  2524.920000  6.207027e+06   \n",
              "\n",
              "          adjClose      adjHigh       adjLow      adjOpen     adjVolume  \\\n",
              "count  1258.000000  1258.000000  1258.000000  1258.000000  1.258000e+03   \n",
              "mean   1216.317067  1227.430936  1204.176436  1215.260779  1.601590e+06   \n",
              "std     383.333358   387.570873   378.777099   382.446995  6.960172e+05   \n",
              "min     668.260000   672.300000   663.284000   671.000000  3.467530e+05   \n",
              "25%     960.802500   968.757500   952.182500   959.005000  1.173522e+06   \n",
              "50%    1132.460000  1143.935000  1117.915000  1131.150000  1.412588e+06   \n",
              "75%    1360.595000  1374.345000  1348.557500  1361.075000  1.812156e+06   \n",
              "max    2521.600000  2526.990000  2498.290000  2524.920000  6.207027e+06   \n",
              "\n",
              "       divCash  splitFactor  \n",
              "count   1258.0       1258.0  \n",
              "mean       0.0          1.0  \n",
              "std        0.0          0.0  \n",
              "min        0.0          1.0  \n",
              "25%        0.0          1.0  \n",
              "50%        0.0          1.0  \n",
              "75%        0.0          1.0  \n",
              "max        0.0          1.0  "
            ],
            "text/html": [
              "\n",
              "  <div id=\"df-282db8e1-32a6-479d-9044-6529ce13c5ff\" class=\"colab-df-container\">\n",
              "    <div>\n",
              "<style scoped>\n",
              "    .dataframe tbody tr th:only-of-type {\n",
              "        vertical-align: middle;\n",
              "    }\n",
              "\n",
              "    .dataframe tbody tr th {\n",
              "        vertical-align: top;\n",
              "    }\n",
              "\n",
              "    .dataframe thead th {\n",
              "        text-align: right;\n",
              "    }\n",
              "</style>\n",
              "<table border=\"1\" class=\"dataframe\">\n",
              "  <thead>\n",
              "    <tr style=\"text-align: right;\">\n",
              "      <th></th>\n",
              "      <th>close</th>\n",
              "      <th>high</th>\n",
              "      <th>low</th>\n",
              "      <th>open</th>\n",
              "      <th>volume</th>\n",
              "      <th>adjClose</th>\n",
              "      <th>adjHigh</th>\n",
              "      <th>adjLow</th>\n",
              "      <th>adjOpen</th>\n",
              "      <th>adjVolume</th>\n",
              "      <th>divCash</th>\n",
              "      <th>splitFactor</th>\n",
              "    </tr>\n",
              "  </thead>\n",
              "  <tbody>\n",
              "    <tr>\n",
              "      <th>count</th>\n",
              "      <td>1258.000000</td>\n",
              "      <td>1258.000000</td>\n",
              "      <td>1258.000000</td>\n",
              "      <td>1258.000000</td>\n",
              "      <td>1.258000e+03</td>\n",
              "      <td>1258.000000</td>\n",
              "      <td>1258.000000</td>\n",
              "      <td>1258.000000</td>\n",
              "      <td>1258.000000</td>\n",
              "      <td>1.258000e+03</td>\n",
              "      <td>1258.0</td>\n",
              "      <td>1258.0</td>\n",
              "    </tr>\n",
              "    <tr>\n",
              "      <th>mean</th>\n",
              "      <td>1216.317067</td>\n",
              "      <td>1227.430934</td>\n",
              "      <td>1204.176430</td>\n",
              "      <td>1215.260779</td>\n",
              "      <td>1.601590e+06</td>\n",
              "      <td>1216.317067</td>\n",
              "      <td>1227.430936</td>\n",
              "      <td>1204.176436</td>\n",
              "      <td>1215.260779</td>\n",
              "      <td>1.601590e+06</td>\n",
              "      <td>0.0</td>\n",
              "      <td>1.0</td>\n",
              "    </tr>\n",
              "    <tr>\n",
              "      <th>std</th>\n",
              "      <td>383.333358</td>\n",
              "      <td>387.570872</td>\n",
              "      <td>378.777094</td>\n",
              "      <td>382.446995</td>\n",
              "      <td>6.960172e+05</td>\n",
              "      <td>383.333358</td>\n",
              "      <td>387.570873</td>\n",
              "      <td>378.777099</td>\n",
              "      <td>382.446995</td>\n",
              "      <td>6.960172e+05</td>\n",
              "      <td>0.0</td>\n",
              "      <td>0.0</td>\n",
              "    </tr>\n",
              "    <tr>\n",
              "      <th>min</th>\n",
              "      <td>668.260000</td>\n",
              "      <td>672.300000</td>\n",
              "      <td>663.284000</td>\n",
              "      <td>671.000000</td>\n",
              "      <td>3.467530e+05</td>\n",
              "      <td>668.260000</td>\n",
              "      <td>672.300000</td>\n",
              "      <td>663.284000</td>\n",
              "      <td>671.000000</td>\n",
              "      <td>3.467530e+05</td>\n",
              "      <td>0.0</td>\n",
              "      <td>1.0</td>\n",
              "    </tr>\n",
              "    <tr>\n",
              "      <th>25%</th>\n",
              "      <td>960.802500</td>\n",
              "      <td>968.757500</td>\n",
              "      <td>952.182500</td>\n",
              "      <td>959.005000</td>\n",
              "      <td>1.173522e+06</td>\n",
              "      <td>960.802500</td>\n",
              "      <td>968.757500</td>\n",
              "      <td>952.182500</td>\n",
              "      <td>959.005000</td>\n",
              "      <td>1.173522e+06</td>\n",
              "      <td>0.0</td>\n",
              "      <td>1.0</td>\n",
              "    </tr>\n",
              "    <tr>\n",
              "      <th>50%</th>\n",
              "      <td>1132.460000</td>\n",
              "      <td>1143.935000</td>\n",
              "      <td>1117.915000</td>\n",
              "      <td>1131.150000</td>\n",
              "      <td>1.412588e+06</td>\n",
              "      <td>1132.460000</td>\n",
              "      <td>1143.935000</td>\n",
              "      <td>1117.915000</td>\n",
              "      <td>1131.150000</td>\n",
              "      <td>1.412588e+06</td>\n",
              "      <td>0.0</td>\n",
              "      <td>1.0</td>\n",
              "    </tr>\n",
              "    <tr>\n",
              "      <th>75%</th>\n",
              "      <td>1360.595000</td>\n",
              "      <td>1374.345000</td>\n",
              "      <td>1348.557500</td>\n",
              "      <td>1361.075000</td>\n",
              "      <td>1.812156e+06</td>\n",
              "      <td>1360.595000</td>\n",
              "      <td>1374.345000</td>\n",
              "      <td>1348.557500</td>\n",
              "      <td>1361.075000</td>\n",
              "      <td>1.812156e+06</td>\n",
              "      <td>0.0</td>\n",
              "      <td>1.0</td>\n",
              "    </tr>\n",
              "    <tr>\n",
              "      <th>max</th>\n",
              "      <td>2521.600000</td>\n",
              "      <td>2526.990000</td>\n",
              "      <td>2498.290000</td>\n",
              "      <td>2524.920000</td>\n",
              "      <td>6.207027e+06</td>\n",
              "      <td>2521.600000</td>\n",
              "      <td>2526.990000</td>\n",
              "      <td>2498.290000</td>\n",
              "      <td>2524.920000</td>\n",
              "      <td>6.207027e+06</td>\n",
              "      <td>0.0</td>\n",
              "      <td>1.0</td>\n",
              "    </tr>\n",
              "  </tbody>\n",
              "</table>\n",
              "</div>\n",
              "    <div class=\"colab-df-buttons\">\n",
              "\n",
              "  <div class=\"colab-df-container\">\n",
              "    <button class=\"colab-df-convert\" onclick=\"convertToInteractive('df-282db8e1-32a6-479d-9044-6529ce13c5ff')\"\n",
              "            title=\"Convert this dataframe to an interactive table.\"\n",
              "            style=\"display:none;\">\n",
              "\n",
              "  <svg xmlns=\"http://www.w3.org/2000/svg\" height=\"24px\" viewBox=\"0 -960 960 960\">\n",
              "    <path d=\"M120-120v-720h720v720H120Zm60-500h600v-160H180v160Zm220 220h160v-160H400v160Zm0 220h160v-160H400v160ZM180-400h160v-160H180v160Zm440 0h160v-160H620v160ZM180-180h160v-160H180v160Zm440 0h160v-160H620v160Z\"/>\n",
              "  </svg>\n",
              "    </button>\n",
              "\n",
              "  <style>\n",
              "    .colab-df-container {\n",
              "      display:flex;\n",
              "      gap: 12px;\n",
              "    }\n",
              "\n",
              "    .colab-df-convert {\n",
              "      background-color: #E8F0FE;\n",
              "      border: none;\n",
              "      border-radius: 50%;\n",
              "      cursor: pointer;\n",
              "      display: none;\n",
              "      fill: #1967D2;\n",
              "      height: 32px;\n",
              "      padding: 0 0 0 0;\n",
              "      width: 32px;\n",
              "    }\n",
              "\n",
              "    .colab-df-convert:hover {\n",
              "      background-color: #E2EBFA;\n",
              "      box-shadow: 0px 1px 2px rgba(60, 64, 67, 0.3), 0px 1px 3px 1px rgba(60, 64, 67, 0.15);\n",
              "      fill: #174EA6;\n",
              "    }\n",
              "\n",
              "    .colab-df-buttons div {\n",
              "      margin-bottom: 4px;\n",
              "    }\n",
              "\n",
              "    [theme=dark] .colab-df-convert {\n",
              "      background-color: #3B4455;\n",
              "      fill: #D2E3FC;\n",
              "    }\n",
              "\n",
              "    [theme=dark] .colab-df-convert:hover {\n",
              "      background-color: #434B5C;\n",
              "      box-shadow: 0px 1px 3px 1px rgba(0, 0, 0, 0.15);\n",
              "      filter: drop-shadow(0px 1px 2px rgba(0, 0, 0, 0.3));\n",
              "      fill: #FFFFFF;\n",
              "    }\n",
              "  </style>\n",
              "\n",
              "    <script>\n",
              "      const buttonEl =\n",
              "        document.querySelector('#df-282db8e1-32a6-479d-9044-6529ce13c5ff button.colab-df-convert');\n",
              "      buttonEl.style.display =\n",
              "        google.colab.kernel.accessAllowed ? 'block' : 'none';\n",
              "\n",
              "      async function convertToInteractive(key) {\n",
              "        const element = document.querySelector('#df-282db8e1-32a6-479d-9044-6529ce13c5ff');\n",
              "        const dataTable =\n",
              "          await google.colab.kernel.invokeFunction('convertToInteractive',\n",
              "                                                    [key], {});\n",
              "        if (!dataTable) return;\n",
              "\n",
              "        const docLinkHtml = 'Like what you see? Visit the ' +\n",
              "          '<a target=\"_blank\" href=https://colab.research.google.com/notebooks/data_table.ipynb>data table notebook</a>'\n",
              "          + ' to learn more about interactive tables.';\n",
              "        element.innerHTML = '';\n",
              "        dataTable['output_type'] = 'display_data';\n",
              "        await google.colab.output.renderOutput(dataTable, element);\n",
              "        const docLink = document.createElement('div');\n",
              "        docLink.innerHTML = docLinkHtml;\n",
              "        element.appendChild(docLink);\n",
              "      }\n",
              "    </script>\n",
              "  </div>\n",
              "\n",
              "\n",
              "<div id=\"df-38a15c7f-c9b3-43f6-bb8d-57e507a772e2\">\n",
              "  <button class=\"colab-df-quickchart\" onclick=\"quickchart('df-38a15c7f-c9b3-43f6-bb8d-57e507a772e2')\"\n",
              "            title=\"Suggest charts\"\n",
              "            style=\"display:none;\">\n",
              "\n",
              "<svg xmlns=\"http://www.w3.org/2000/svg\" height=\"24px\"viewBox=\"0 0 24 24\"\n",
              "     width=\"24px\">\n",
              "    <g>\n",
              "        <path d=\"M19 3H5c-1.1 0-2 .9-2 2v14c0 1.1.9 2 2 2h14c1.1 0 2-.9 2-2V5c0-1.1-.9-2-2-2zM9 17H7v-7h2v7zm4 0h-2V7h2v10zm4 0h-2v-4h2v4z\"/>\n",
              "    </g>\n",
              "</svg>\n",
              "  </button>\n",
              "\n",
              "<style>\n",
              "  .colab-df-quickchart {\n",
              "      --bg-color: #E8F0FE;\n",
              "      --fill-color: #1967D2;\n",
              "      --hover-bg-color: #E2EBFA;\n",
              "      --hover-fill-color: #174EA6;\n",
              "      --disabled-fill-color: #AAA;\n",
              "      --disabled-bg-color: #DDD;\n",
              "  }\n",
              "\n",
              "  [theme=dark] .colab-df-quickchart {\n",
              "      --bg-color: #3B4455;\n",
              "      --fill-color: #D2E3FC;\n",
              "      --hover-bg-color: #434B5C;\n",
              "      --hover-fill-color: #FFFFFF;\n",
              "      --disabled-bg-color: #3B4455;\n",
              "      --disabled-fill-color: #666;\n",
              "  }\n",
              "\n",
              "  .colab-df-quickchart {\n",
              "    background-color: var(--bg-color);\n",
              "    border: none;\n",
              "    border-radius: 50%;\n",
              "    cursor: pointer;\n",
              "    display: none;\n",
              "    fill: var(--fill-color);\n",
              "    height: 32px;\n",
              "    padding: 0;\n",
              "    width: 32px;\n",
              "  }\n",
              "\n",
              "  .colab-df-quickchart:hover {\n",
              "    background-color: var(--hover-bg-color);\n",
              "    box-shadow: 0 1px 2px rgba(60, 64, 67, 0.3), 0 1px 3px 1px rgba(60, 64, 67, 0.15);\n",
              "    fill: var(--button-hover-fill-color);\n",
              "  }\n",
              "\n",
              "  .colab-df-quickchart-complete:disabled,\n",
              "  .colab-df-quickchart-complete:disabled:hover {\n",
              "    background-color: var(--disabled-bg-color);\n",
              "    fill: var(--disabled-fill-color);\n",
              "    box-shadow: none;\n",
              "  }\n",
              "\n",
              "  .colab-df-spinner {\n",
              "    border: 2px solid var(--fill-color);\n",
              "    border-color: transparent;\n",
              "    border-bottom-color: var(--fill-color);\n",
              "    animation:\n",
              "      spin 1s steps(1) infinite;\n",
              "  }\n",
              "\n",
              "  @keyframes spin {\n",
              "    0% {\n",
              "      border-color: transparent;\n",
              "      border-bottom-color: var(--fill-color);\n",
              "      border-left-color: var(--fill-color);\n",
              "    }\n",
              "    20% {\n",
              "      border-color: transparent;\n",
              "      border-left-color: var(--fill-color);\n",
              "      border-top-color: var(--fill-color);\n",
              "    }\n",
              "    30% {\n",
              "      border-color: transparent;\n",
              "      border-left-color: var(--fill-color);\n",
              "      border-top-color: var(--fill-color);\n",
              "      border-right-color: var(--fill-color);\n",
              "    }\n",
              "    40% {\n",
              "      border-color: transparent;\n",
              "      border-right-color: var(--fill-color);\n",
              "      border-top-color: var(--fill-color);\n",
              "    }\n",
              "    60% {\n",
              "      border-color: transparent;\n",
              "      border-right-color: var(--fill-color);\n",
              "    }\n",
              "    80% {\n",
              "      border-color: transparent;\n",
              "      border-right-color: var(--fill-color);\n",
              "      border-bottom-color: var(--fill-color);\n",
              "    }\n",
              "    90% {\n",
              "      border-color: transparent;\n",
              "      border-bottom-color: var(--fill-color);\n",
              "    }\n",
              "  }\n",
              "</style>\n",
              "\n",
              "  <script>\n",
              "    async function quickchart(key) {\n",
              "      const quickchartButtonEl =\n",
              "        document.querySelector('#' + key + ' button');\n",
              "      quickchartButtonEl.disabled = true;  // To prevent multiple clicks.\n",
              "      quickchartButtonEl.classList.add('colab-df-spinner');\n",
              "      try {\n",
              "        const charts = await google.colab.kernel.invokeFunction(\n",
              "            'suggestCharts', [key], {});\n",
              "      } catch (error) {\n",
              "        console.error('Error during call to suggestCharts:', error);\n",
              "      }\n",
              "      quickchartButtonEl.classList.remove('colab-df-spinner');\n",
              "      quickchartButtonEl.classList.add('colab-df-quickchart-complete');\n",
              "    }\n",
              "    (() => {\n",
              "      let quickchartButtonEl =\n",
              "        document.querySelector('#df-38a15c7f-c9b3-43f6-bb8d-57e507a772e2 button');\n",
              "      quickchartButtonEl.style.display =\n",
              "        google.colab.kernel.accessAllowed ? 'block' : 'none';\n",
              "    })();\n",
              "  </script>\n",
              "</div>\n",
              "\n",
              "    </div>\n",
              "  </div>\n"
            ],
            "application/vnd.google.colaboratory.intrinsic+json": {
              "type": "dataframe",
              "summary": "{\n  \"name\": \"df\",\n  \"rows\": 8,\n  \"fields\": [\n    {\n      \"column\": \"close\",\n      \"properties\": {\n        \"dtype\": \"number\",\n        \"std\": 630.9064287324015,\n        \"min\": 383.3333577269818,\n        \"max\": 2521.6,\n        \"num_unique_values\": 8,\n        \"samples\": [\n          1216.317066772655,\n          1132.46,\n          1258.0\n        ],\n        \"semantic_type\": \"\",\n        \"description\": \"\"\n      }\n    },\n    {\n      \"column\": \"high\",\n      \"properties\": {\n        \"dtype\": \"number\",\n        \"std\": 631.3628217367498,\n        \"min\": 387.5708716702876,\n        \"max\": 2526.99,\n        \"num_unique_values\": 8,\n        \"samples\": [\n          1227.4309342607314,\n          1143.935,\n          1258.0\n        ],\n        \"semantic_type\": \"\",\n        \"description\": \"\"\n      }\n    },\n    {\n      \"column\": \"low\",\n      \"properties\": {\n        \"dtype\": \"number\",\n        \"std\": 625.3722689115905,\n        \"min\": 378.77709382064285,\n        \"max\": 2498.29,\n        \"num_unique_values\": 8,\n        \"samples\": [\n          1204.1764298887122,\n          1117.915,\n          1258.0\n        ],\n        \"semantic_type\": \"\",\n        \"description\": \"\"\n      }\n    },\n    {\n      \"column\": \"open\",\n      \"properties\": {\n        \"dtype\": \"number\",\n        \"std\": 631.8711786663821,\n        \"min\": 382.4469952385127,\n        \"max\": 2524.92,\n        \"num_unique_values\": 8,\n        \"samples\": [\n          1215.2607787758348,\n          1131.15,\n          1258.0\n        ],\n        \"semantic_type\": \"\",\n        \"description\": \"\"\n      }\n    },\n    {\n      \"column\": \"volume\",\n      \"properties\": {\n        \"dtype\": \"number\",\n        \"std\": 1942203.8737096183,\n        \"min\": 1258.0,\n        \"max\": 6207027.0,\n        \"num_unique_values\": 8,\n        \"samples\": [\n          1601590.0914149443,\n          1412588.5,\n          1258.0\n        ],\n        \"semantic_type\": \"\",\n        \"description\": \"\"\n      }\n    },\n    {\n      \"column\": \"adjClose\",\n      \"properties\": {\n        \"dtype\": \"number\",\n        \"std\": 630.9064287324015,\n        \"min\": 383.3333577269818,\n        \"max\": 2521.6,\n        \"num_unique_values\": 8,\n        \"samples\": [\n          1216.317066772655,\n          1132.46,\n          1258.0\n        ],\n        \"semantic_type\": \"\",\n        \"description\": \"\"\n      }\n    },\n    {\n      \"column\": \"adjHigh\",\n      \"properties\": {\n        \"dtype\": \"number\",\n        \"std\": 631.3628214861925,\n        \"min\": 387.5708731059068,\n        \"max\": 2526.99,\n        \"num_unique_values\": 8,\n        \"samples\": [\n          1227.4309358505566,\n          1143.935,\n          1258.0\n        ],\n        \"semantic_type\": \"\",\n        \"description\": \"\"\n      }\n    },\n    {\n      \"column\": \"adjLow\",\n      \"properties\": {\n        \"dtype\": \"number\",\n        \"std\": 625.3722680598645,\n        \"min\": 378.7770986990594,\n        \"max\": 2498.29,\n        \"num_unique_values\": 8,\n        \"samples\": [\n          1204.1764362480126,\n          1117.915,\n          1258.0\n        ],\n        \"semantic_type\": \"\",\n        \"description\": \"\"\n      }\n    },\n    {\n      \"column\": \"adjOpen\",\n      \"properties\": {\n        \"dtype\": \"number\",\n        \"std\": 631.8711786663821,\n        \"min\": 382.4469952385127,\n        \"max\": 2524.92,\n        \"num_unique_values\": 8,\n        \"samples\": [\n          1215.2607787758348,\n          1131.15,\n          1258.0\n        ],\n        \"semantic_type\": \"\",\n        \"description\": \"\"\n      }\n    },\n    {\n      \"column\": \"adjVolume\",\n      \"properties\": {\n        \"dtype\": \"number\",\n        \"std\": 1942203.8737096183,\n        \"min\": 1258.0,\n        \"max\": 6207027.0,\n        \"num_unique_values\": 8,\n        \"samples\": [\n          1601590.0914149443,\n          1412588.5,\n          1258.0\n        ],\n        \"semantic_type\": \"\",\n        \"description\": \"\"\n      }\n    },\n    {\n      \"column\": \"divCash\",\n      \"properties\": {\n        \"dtype\": \"number\",\n        \"std\": 444.7701653663384,\n        \"min\": 0.0,\n        \"max\": 1258.0,\n        \"num_unique_values\": 2,\n        \"samples\": [\n          0.0,\n          1258.0\n        ],\n        \"semantic_type\": \"\",\n        \"description\": \"\"\n      }\n    },\n    {\n      \"column\": \"splitFactor\",\n      \"properties\": {\n        \"dtype\": \"number\",\n        \"std\": 444.46725735102564,\n        \"min\": 0.0,\n        \"max\": 1258.0,\n        \"num_unique_values\": 3,\n        \"samples\": [\n          1258.0,\n          1.0\n        ],\n        \"semantic_type\": \"\",\n        \"description\": \"\"\n      }\n    }\n  ]\n}"
            }
          },
          "metadata": {},
          "execution_count": 5
        }
      ],
      "source": [
        "# statistical description of data\n",
        "df.describe()\n"
      ]
    },
    {
      "cell_type": "code",
      "execution_count": 6,
      "id": "cf7c8462",
      "metadata": {
        "id": "cf7c8462",
        "colab": {
          "base_uri": "https://localhost:8080/"
        },
        "outputId": "87a3f112-626f-4ccd-dbf6-0816072fb2f3"
      },
      "outputs": [
        {
          "output_type": "stream",
          "name": "stdout",
          "text": [
            "<class 'pandas.core.frame.DataFrame'>\n",
            "RangeIndex: 1258 entries, 0 to 1257\n",
            "Data columns (total 14 columns):\n",
            " #   Column       Non-Null Count  Dtype  \n",
            "---  ------       --------------  -----  \n",
            " 0   symbol       1258 non-null   object \n",
            " 1   date         1258 non-null   object \n",
            " 2   close        1258 non-null   float64\n",
            " 3   high         1258 non-null   float64\n",
            " 4   low          1258 non-null   float64\n",
            " 5   open         1258 non-null   float64\n",
            " 6   volume       1258 non-null   int64  \n",
            " 7   adjClose     1258 non-null   float64\n",
            " 8   adjHigh      1258 non-null   float64\n",
            " 9   adjLow       1258 non-null   float64\n",
            " 10  adjOpen      1258 non-null   float64\n",
            " 11  adjVolume    1258 non-null   int64  \n",
            " 12  divCash      1258 non-null   float64\n",
            " 13  splitFactor  1258 non-null   float64\n",
            "dtypes: float64(10), int64(2), object(2)\n",
            "memory usage: 137.7+ KB\n"
          ]
        }
      ],
      "source": [
        "# summary of data\n",
        "df.info()"
      ]
    },
    {
      "cell_type": "code",
      "execution_count": 7,
      "id": "701df464",
      "metadata": {
        "id": "701df464",
        "colab": {
          "base_uri": "https://localhost:8080/",
          "height": 523
        },
        "outputId": "3ee6bf66-ec34-422d-f6f5-c934947cdb1a"
      },
      "outputs": [
        {
          "output_type": "execute_result",
          "data": {
            "text/plain": [
              "symbol         0\n",
              "date           0\n",
              "close          0\n",
              "high           0\n",
              "low            0\n",
              "open           0\n",
              "volume         0\n",
              "adjClose       0\n",
              "adjHigh        0\n",
              "adjLow         0\n",
              "adjOpen        0\n",
              "adjVolume      0\n",
              "divCash        0\n",
              "splitFactor    0\n",
              "dtype: int64"
            ],
            "text/html": [
              "<div>\n",
              "<style scoped>\n",
              "    .dataframe tbody tr th:only-of-type {\n",
              "        vertical-align: middle;\n",
              "    }\n",
              "\n",
              "    .dataframe tbody tr th {\n",
              "        vertical-align: top;\n",
              "    }\n",
              "\n",
              "    .dataframe thead th {\n",
              "        text-align: right;\n",
              "    }\n",
              "</style>\n",
              "<table border=\"1\" class=\"dataframe\">\n",
              "  <thead>\n",
              "    <tr style=\"text-align: right;\">\n",
              "      <th></th>\n",
              "      <th>0</th>\n",
              "    </tr>\n",
              "  </thead>\n",
              "  <tbody>\n",
              "    <tr>\n",
              "      <th>symbol</th>\n",
              "      <td>0</td>\n",
              "    </tr>\n",
              "    <tr>\n",
              "      <th>date</th>\n",
              "      <td>0</td>\n",
              "    </tr>\n",
              "    <tr>\n",
              "      <th>close</th>\n",
              "      <td>0</td>\n",
              "    </tr>\n",
              "    <tr>\n",
              "      <th>high</th>\n",
              "      <td>0</td>\n",
              "    </tr>\n",
              "    <tr>\n",
              "      <th>low</th>\n",
              "      <td>0</td>\n",
              "    </tr>\n",
              "    <tr>\n",
              "      <th>open</th>\n",
              "      <td>0</td>\n",
              "    </tr>\n",
              "    <tr>\n",
              "      <th>volume</th>\n",
              "      <td>0</td>\n",
              "    </tr>\n",
              "    <tr>\n",
              "      <th>adjClose</th>\n",
              "      <td>0</td>\n",
              "    </tr>\n",
              "    <tr>\n",
              "      <th>adjHigh</th>\n",
              "      <td>0</td>\n",
              "    </tr>\n",
              "    <tr>\n",
              "      <th>adjLow</th>\n",
              "      <td>0</td>\n",
              "    </tr>\n",
              "    <tr>\n",
              "      <th>adjOpen</th>\n",
              "      <td>0</td>\n",
              "    </tr>\n",
              "    <tr>\n",
              "      <th>adjVolume</th>\n",
              "      <td>0</td>\n",
              "    </tr>\n",
              "    <tr>\n",
              "      <th>divCash</th>\n",
              "      <td>0</td>\n",
              "    </tr>\n",
              "    <tr>\n",
              "      <th>splitFactor</th>\n",
              "      <td>0</td>\n",
              "    </tr>\n",
              "  </tbody>\n",
              "</table>\n",
              "</div><br><label><b>dtype:</b> int64</label>"
            ]
          },
          "metadata": {},
          "execution_count": 7
        }
      ],
      "source": [
        "# checking null values\n",
        "df.isnull().sum()"
      ]
    },
    {
      "cell_type": "markdown",
      "id": "fb93fb35",
      "metadata": {
        "id": "fb93fb35"
      },
      "source": [
        "**STEP 2 - Data Preprocessing**"
      ]
    },
    {
      "cell_type": "code",
      "execution_count": 8,
      "id": "f6fd5c6a",
      "metadata": {
        "id": "f6fd5c6a",
        "colab": {
          "base_uri": "https://localhost:8080/",
          "height": 708
        },
        "outputId": "789f3fb6-6fe1-4a8c-dd57-7390ed717567"
      },
      "outputs": [
        {
          "output_type": "execute_result",
          "data": {
            "text/plain": [
              "              open   close\n",
              "date                      \n",
              "2016-06-14  716.48  718.27\n",
              "2016-06-15  719.00  718.92\n",
              "2016-06-16  714.91  710.36\n",
              "2016-06-17  708.65  691.72\n",
              "2016-06-20  698.77  693.71\n",
              "2016-06-21  698.40  695.94\n",
              "2016-06-22  699.06  697.46\n",
              "2016-06-23  697.45  701.87\n",
              "2016-06-24  675.17  675.22\n",
              "2016-06-27  671.00  668.26\n",
              "2016-06-28  678.97  680.04\n",
              "2016-06-29  683.00  684.11\n",
              "2016-06-30  685.47  692.10\n",
              "2016-07-01  692.20  699.21\n",
              "2016-07-05  696.06  694.49\n",
              "2016-07-06  689.98  697.77\n",
              "2016-07-07  698.08  695.36\n",
              "2016-07-08  699.50  705.63\n",
              "2016-07-11  708.05  715.09\n",
              "2016-07-12  719.12  720.64"
            ],
            "text/html": [
              "\n",
              "  <div id=\"df-be28429f-be5c-4eff-8e1e-1029bf1513d0\" class=\"colab-df-container\">\n",
              "    <div>\n",
              "<style scoped>\n",
              "    .dataframe tbody tr th:only-of-type {\n",
              "        vertical-align: middle;\n",
              "    }\n",
              "\n",
              "    .dataframe tbody tr th {\n",
              "        vertical-align: top;\n",
              "    }\n",
              "\n",
              "    .dataframe thead th {\n",
              "        text-align: right;\n",
              "    }\n",
              "</style>\n",
              "<table border=\"1\" class=\"dataframe\">\n",
              "  <thead>\n",
              "    <tr style=\"text-align: right;\">\n",
              "      <th></th>\n",
              "      <th>open</th>\n",
              "      <th>close</th>\n",
              "    </tr>\n",
              "    <tr>\n",
              "      <th>date</th>\n",
              "      <th></th>\n",
              "      <th></th>\n",
              "    </tr>\n",
              "  </thead>\n",
              "  <tbody>\n",
              "    <tr>\n",
              "      <th>2016-06-14</th>\n",
              "      <td>716.48</td>\n",
              "      <td>718.27</td>\n",
              "    </tr>\n",
              "    <tr>\n",
              "      <th>2016-06-15</th>\n",
              "      <td>719.00</td>\n",
              "      <td>718.92</td>\n",
              "    </tr>\n",
              "    <tr>\n",
              "      <th>2016-06-16</th>\n",
              "      <td>714.91</td>\n",
              "      <td>710.36</td>\n",
              "    </tr>\n",
              "    <tr>\n",
              "      <th>2016-06-17</th>\n",
              "      <td>708.65</td>\n",
              "      <td>691.72</td>\n",
              "    </tr>\n",
              "    <tr>\n",
              "      <th>2016-06-20</th>\n",
              "      <td>698.77</td>\n",
              "      <td>693.71</td>\n",
              "    </tr>\n",
              "    <tr>\n",
              "      <th>2016-06-21</th>\n",
              "      <td>698.40</td>\n",
              "      <td>695.94</td>\n",
              "    </tr>\n",
              "    <tr>\n",
              "      <th>2016-06-22</th>\n",
              "      <td>699.06</td>\n",
              "      <td>697.46</td>\n",
              "    </tr>\n",
              "    <tr>\n",
              "      <th>2016-06-23</th>\n",
              "      <td>697.45</td>\n",
              "      <td>701.87</td>\n",
              "    </tr>\n",
              "    <tr>\n",
              "      <th>2016-06-24</th>\n",
              "      <td>675.17</td>\n",
              "      <td>675.22</td>\n",
              "    </tr>\n",
              "    <tr>\n",
              "      <th>2016-06-27</th>\n",
              "      <td>671.00</td>\n",
              "      <td>668.26</td>\n",
              "    </tr>\n",
              "    <tr>\n",
              "      <th>2016-06-28</th>\n",
              "      <td>678.97</td>\n",
              "      <td>680.04</td>\n",
              "    </tr>\n",
              "    <tr>\n",
              "      <th>2016-06-29</th>\n",
              "      <td>683.00</td>\n",
              "      <td>684.11</td>\n",
              "    </tr>\n",
              "    <tr>\n",
              "      <th>2016-06-30</th>\n",
              "      <td>685.47</td>\n",
              "      <td>692.10</td>\n",
              "    </tr>\n",
              "    <tr>\n",
              "      <th>2016-07-01</th>\n",
              "      <td>692.20</td>\n",
              "      <td>699.21</td>\n",
              "    </tr>\n",
              "    <tr>\n",
              "      <th>2016-07-05</th>\n",
              "      <td>696.06</td>\n",
              "      <td>694.49</td>\n",
              "    </tr>\n",
              "    <tr>\n",
              "      <th>2016-07-06</th>\n",
              "      <td>689.98</td>\n",
              "      <td>697.77</td>\n",
              "    </tr>\n",
              "    <tr>\n",
              "      <th>2016-07-07</th>\n",
              "      <td>698.08</td>\n",
              "      <td>695.36</td>\n",
              "    </tr>\n",
              "    <tr>\n",
              "      <th>2016-07-08</th>\n",
              "      <td>699.50</td>\n",
              "      <td>705.63</td>\n",
              "    </tr>\n",
              "    <tr>\n",
              "      <th>2016-07-11</th>\n",
              "      <td>708.05</td>\n",
              "      <td>715.09</td>\n",
              "    </tr>\n",
              "    <tr>\n",
              "      <th>2016-07-12</th>\n",
              "      <td>719.12</td>\n",
              "      <td>720.64</td>\n",
              "    </tr>\n",
              "  </tbody>\n",
              "</table>\n",
              "</div>\n",
              "    <div class=\"colab-df-buttons\">\n",
              "\n",
              "  <div class=\"colab-df-container\">\n",
              "    <button class=\"colab-df-convert\" onclick=\"convertToInteractive('df-be28429f-be5c-4eff-8e1e-1029bf1513d0')\"\n",
              "            title=\"Convert this dataframe to an interactive table.\"\n",
              "            style=\"display:none;\">\n",
              "\n",
              "  <svg xmlns=\"http://www.w3.org/2000/svg\" height=\"24px\" viewBox=\"0 -960 960 960\">\n",
              "    <path d=\"M120-120v-720h720v720H120Zm60-500h600v-160H180v160Zm220 220h160v-160H400v160Zm0 220h160v-160H400v160ZM180-400h160v-160H180v160Zm440 0h160v-160H620v160ZM180-180h160v-160H180v160Zm440 0h160v-160H620v160Z\"/>\n",
              "  </svg>\n",
              "    </button>\n",
              "\n",
              "  <style>\n",
              "    .colab-df-container {\n",
              "      display:flex;\n",
              "      gap: 12px;\n",
              "    }\n",
              "\n",
              "    .colab-df-convert {\n",
              "      background-color: #E8F0FE;\n",
              "      border: none;\n",
              "      border-radius: 50%;\n",
              "      cursor: pointer;\n",
              "      display: none;\n",
              "      fill: #1967D2;\n",
              "      height: 32px;\n",
              "      padding: 0 0 0 0;\n",
              "      width: 32px;\n",
              "    }\n",
              "\n",
              "    .colab-df-convert:hover {\n",
              "      background-color: #E2EBFA;\n",
              "      box-shadow: 0px 1px 2px rgba(60, 64, 67, 0.3), 0px 1px 3px 1px rgba(60, 64, 67, 0.15);\n",
              "      fill: #174EA6;\n",
              "    }\n",
              "\n",
              "    .colab-df-buttons div {\n",
              "      margin-bottom: 4px;\n",
              "    }\n",
              "\n",
              "    [theme=dark] .colab-df-convert {\n",
              "      background-color: #3B4455;\n",
              "      fill: #D2E3FC;\n",
              "    }\n",
              "\n",
              "    [theme=dark] .colab-df-convert:hover {\n",
              "      background-color: #434B5C;\n",
              "      box-shadow: 0px 1px 3px 1px rgba(0, 0, 0, 0.15);\n",
              "      filter: drop-shadow(0px 1px 2px rgba(0, 0, 0, 0.3));\n",
              "      fill: #FFFFFF;\n",
              "    }\n",
              "  </style>\n",
              "\n",
              "    <script>\n",
              "      const buttonEl =\n",
              "        document.querySelector('#df-be28429f-be5c-4eff-8e1e-1029bf1513d0 button.colab-df-convert');\n",
              "      buttonEl.style.display =\n",
              "        google.colab.kernel.accessAllowed ? 'block' : 'none';\n",
              "\n",
              "      async function convertToInteractive(key) {\n",
              "        const element = document.querySelector('#df-be28429f-be5c-4eff-8e1e-1029bf1513d0');\n",
              "        const dataTable =\n",
              "          await google.colab.kernel.invokeFunction('convertToInteractive',\n",
              "                                                    [key], {});\n",
              "        if (!dataTable) return;\n",
              "\n",
              "        const docLinkHtml = 'Like what you see? Visit the ' +\n",
              "          '<a target=\"_blank\" href=https://colab.research.google.com/notebooks/data_table.ipynb>data table notebook</a>'\n",
              "          + ' to learn more about interactive tables.';\n",
              "        element.innerHTML = '';\n",
              "        dataTable['output_type'] = 'display_data';\n",
              "        await google.colab.output.renderOutput(dataTable, element);\n",
              "        const docLink = document.createElement('div');\n",
              "        docLink.innerHTML = docLinkHtml;\n",
              "        element.appendChild(docLink);\n",
              "      }\n",
              "    </script>\n",
              "  </div>\n",
              "\n",
              "\n",
              "<div id=\"df-dd7b7bb1-fac2-4bbc-afe9-2a5552b9bbef\">\n",
              "  <button class=\"colab-df-quickchart\" onclick=\"quickchart('df-dd7b7bb1-fac2-4bbc-afe9-2a5552b9bbef')\"\n",
              "            title=\"Suggest charts\"\n",
              "            style=\"display:none;\">\n",
              "\n",
              "<svg xmlns=\"http://www.w3.org/2000/svg\" height=\"24px\"viewBox=\"0 0 24 24\"\n",
              "     width=\"24px\">\n",
              "    <g>\n",
              "        <path d=\"M19 3H5c-1.1 0-2 .9-2 2v14c0 1.1.9 2 2 2h14c1.1 0 2-.9 2-2V5c0-1.1-.9-2-2-2zM9 17H7v-7h2v7zm4 0h-2V7h2v10zm4 0h-2v-4h2v4z\"/>\n",
              "    </g>\n",
              "</svg>\n",
              "  </button>\n",
              "\n",
              "<style>\n",
              "  .colab-df-quickchart {\n",
              "      --bg-color: #E8F0FE;\n",
              "      --fill-color: #1967D2;\n",
              "      --hover-bg-color: #E2EBFA;\n",
              "      --hover-fill-color: #174EA6;\n",
              "      --disabled-fill-color: #AAA;\n",
              "      --disabled-bg-color: #DDD;\n",
              "  }\n",
              "\n",
              "  [theme=dark] .colab-df-quickchart {\n",
              "      --bg-color: #3B4455;\n",
              "      --fill-color: #D2E3FC;\n",
              "      --hover-bg-color: #434B5C;\n",
              "      --hover-fill-color: #FFFFFF;\n",
              "      --disabled-bg-color: #3B4455;\n",
              "      --disabled-fill-color: #666;\n",
              "  }\n",
              "\n",
              "  .colab-df-quickchart {\n",
              "    background-color: var(--bg-color);\n",
              "    border: none;\n",
              "    border-radius: 50%;\n",
              "    cursor: pointer;\n",
              "    display: none;\n",
              "    fill: var(--fill-color);\n",
              "    height: 32px;\n",
              "    padding: 0;\n",
              "    width: 32px;\n",
              "  }\n",
              "\n",
              "  .colab-df-quickchart:hover {\n",
              "    background-color: var(--hover-bg-color);\n",
              "    box-shadow: 0 1px 2px rgba(60, 64, 67, 0.3), 0 1px 3px 1px rgba(60, 64, 67, 0.15);\n",
              "    fill: var(--button-hover-fill-color);\n",
              "  }\n",
              "\n",
              "  .colab-df-quickchart-complete:disabled,\n",
              "  .colab-df-quickchart-complete:disabled:hover {\n",
              "    background-color: var(--disabled-bg-color);\n",
              "    fill: var(--disabled-fill-color);\n",
              "    box-shadow: none;\n",
              "  }\n",
              "\n",
              "  .colab-df-spinner {\n",
              "    border: 2px solid var(--fill-color);\n",
              "    border-color: transparent;\n",
              "    border-bottom-color: var(--fill-color);\n",
              "    animation:\n",
              "      spin 1s steps(1) infinite;\n",
              "  }\n",
              "\n",
              "  @keyframes spin {\n",
              "    0% {\n",
              "      border-color: transparent;\n",
              "      border-bottom-color: var(--fill-color);\n",
              "      border-left-color: var(--fill-color);\n",
              "    }\n",
              "    20% {\n",
              "      border-color: transparent;\n",
              "      border-left-color: var(--fill-color);\n",
              "      border-top-color: var(--fill-color);\n",
              "    }\n",
              "    30% {\n",
              "      border-color: transparent;\n",
              "      border-left-color: var(--fill-color);\n",
              "      border-top-color: var(--fill-color);\n",
              "      border-right-color: var(--fill-color);\n",
              "    }\n",
              "    40% {\n",
              "      border-color: transparent;\n",
              "      border-right-color: var(--fill-color);\n",
              "      border-top-color: var(--fill-color);\n",
              "    }\n",
              "    60% {\n",
              "      border-color: transparent;\n",
              "      border-right-color: var(--fill-color);\n",
              "    }\n",
              "    80% {\n",
              "      border-color: transparent;\n",
              "      border-right-color: var(--fill-color);\n",
              "      border-bottom-color: var(--fill-color);\n",
              "    }\n",
              "    90% {\n",
              "      border-color: transparent;\n",
              "      border-bottom-color: var(--fill-color);\n",
              "    }\n",
              "  }\n",
              "</style>\n",
              "\n",
              "  <script>\n",
              "    async function quickchart(key) {\n",
              "      const quickchartButtonEl =\n",
              "        document.querySelector('#' + key + ' button');\n",
              "      quickchartButtonEl.disabled = true;  // To prevent multiple clicks.\n",
              "      quickchartButtonEl.classList.add('colab-df-spinner');\n",
              "      try {\n",
              "        const charts = await google.colab.kernel.invokeFunction(\n",
              "            'suggestCharts', [key], {});\n",
              "      } catch (error) {\n",
              "        console.error('Error during call to suggestCharts:', error);\n",
              "      }\n",
              "      quickchartButtonEl.classList.remove('colab-df-spinner');\n",
              "      quickchartButtonEl.classList.add('colab-df-quickchart-complete');\n",
              "    }\n",
              "    (() => {\n",
              "      let quickchartButtonEl =\n",
              "        document.querySelector('#df-dd7b7bb1-fac2-4bbc-afe9-2a5552b9bbef button');\n",
              "      quickchartButtonEl.style.display =\n",
              "        google.colab.kernel.accessAllowed ? 'block' : 'none';\n",
              "    })();\n",
              "  </script>\n",
              "</div>\n",
              "\n",
              "    </div>\n",
              "  </div>\n"
            ],
            "application/vnd.google.colaboratory.intrinsic+json": {
              "type": "dataframe",
              "variable_name": "df",
              "summary": "{\n  \"name\": \"df\",\n  \"rows\": 1258,\n  \"fields\": [\n    {\n      \"column\": \"date\",\n      \"properties\": {\n        \"dtype\": \"date\",\n        \"min\": \"2016-06-14 00:00:00\",\n        \"max\": \"2021-06-11 00:00:00\",\n        \"num_unique_values\": 1258,\n        \"samples\": [\n          \"2018-09-05 00:00:00\",\n          \"2016-11-04 00:00:00\",\n          \"2016-08-25 00:00:00\"\n        ],\n        \"semantic_type\": \"\",\n        \"description\": \"\"\n      }\n    },\n    {\n      \"column\": \"open\",\n      \"properties\": {\n        \"dtype\": \"number\",\n        \"std\": 382.4469952385127,\n        \"min\": 671.0,\n        \"max\": 2524.92,\n        \"num_unique_values\": 1227,\n        \"samples\": [\n          1450.09,\n          924.23,\n          1573.33\n        ],\n        \"semantic_type\": \"\",\n        \"description\": \"\"\n      }\n    },\n    {\n      \"column\": \"close\",\n      \"properties\": {\n        \"dtype\": \"number\",\n        \"std\": 383.3333577269818,\n        \"min\": 668.26,\n        \"max\": 2521.6,\n        \"num_unique_values\": 1247,\n        \"samples\": [\n          1157.86,\n          1758.72,\n          1486.65\n        ],\n        \"semantic_type\": \"\",\n        \"description\": \"\"\n      }\n    }\n  ]\n}"
            }
          },
          "metadata": {},
          "execution_count": 8
        }
      ],
      "source": [
        "df = df[['date','open','close']] # Extracting required columns\n",
        "df['date'] = pd.to_datetime(df['date'].apply(lambda x: x.split()[0])) # converting object dtype of date column to datetime dtype\n",
        "df.set_index('date',drop=True,inplace=True) # Setting date column as index\n",
        "df.head(20)"
      ]
    },
    {
      "cell_type": "markdown",
      "id": "8d015dff",
      "metadata": {
        "id": "8d015dff"
      },
      "source": [
        "**STEP 3 - Data Visualization**"
      ]
    },
    {
      "cell_type": "code",
      "execution_count": 9,
      "id": "6bbe5039",
      "metadata": {
        "id": "6bbe5039",
        "colab": {
          "base_uri": "https://localhost:8080/",
          "height": 265
        },
        "outputId": "deb9c740-91ab-4040-e105-f9884fc47b3b"
      },
      "outputs": [
        {
          "output_type": "display_data",
          "data": {
            "text/plain": [
              "<Figure size 2000x700 with 2 Axes>"
            ],
            "image/png": "[encoded data removed]"
          },
          "metadata": {}
        }
      ],
      "source": [
        "# plotting open and closing price on date index\n",
        "fig, ax =plt.subplots(1,2,figsize=(20,7))\n",
        "ax[0].plot(df['open'],label='Open',color='green')\n",
        "ax[0].set_xlabel('Date',size=15)\n",
        "ax[0].set_ylabel('Price',size=15)\n",
        "ax[0].legend()\n",
        "\n",
        "ax[1].plot(df['close'],label='Close',color='red')\n",
        "ax[1].set_xlabel('Date',size=15)\n",
        "ax[1].set_ylabel('Price',size=15)\n",
        "ax[1].legend()\n",
        "\n",
        "fig.show()"
      ]
    },
    {
      "cell_type": "code",
      "execution_count": 10,
      "id": "22b7755f",
      "metadata": {
        "id": "22b7755f",
        "colab": {
          "base_uri": "https://localhost:8080/",
          "height": 708
        },
        "outputId": "a433077e-cc47-4ea4-b380-3399fee7b198"
      },
      "outputs": [
        {
          "output_type": "execute_result",
          "data": {
            "text/plain": [
              "                open     close\n",
              "date                          \n",
              "2016-06-14  0.024532  0.026984\n",
              "2016-06-15  0.025891  0.027334\n",
              "2016-06-16  0.023685  0.022716\n",
              "2016-06-17  0.020308  0.012658\n",
              "2016-06-20  0.014979  0.013732\n",
              "2016-06-21  0.014779  0.014935\n",
              "2016-06-22  0.015135  0.015755\n",
              "2016-06-23  0.014267  0.018135\n",
              "2016-06-24  0.002249  0.003755\n",
              "2016-06-27  0.000000  0.000000\n",
              "2016-06-28  0.004299  0.006356\n",
              "2016-06-29  0.006473  0.008552\n",
              "2016-06-30  0.007805  0.012863\n",
              "2016-07-01  0.011435  0.016700\n",
              "2016-07-05  0.013517  0.014153\n",
              "2016-07-06  0.010238  0.015923\n",
              "2016-07-07  0.014607  0.014622\n",
              "2016-07-08  0.015373  0.020164\n",
              "2016-07-11  0.019985  0.025268\n",
              "2016-07-12  0.025956  0.028262"
            ],
            "text/html": [
              "\n",
              "  <div id=\"df-670a02fb-b3d3-4393-981d-9255de2d8efa\" class=\"colab-df-container\">\n",
              "    <div>\n",
              "<style scoped>\n",
              "    .dataframe tbody tr th:only-of-type {\n",
              "        vertical-align: middle;\n",
              "    }\n",
              "\n",
              "    .dataframe tbody tr th {\n",
              "        vertical-align: top;\n",
              "    }\n",
              "\n",
              "    .dataframe thead th {\n",
              "        text-align: right;\n",
              "    }\n",
              "</style>\n",
              "<table border=\"1\" class=\"dataframe\">\n",
              "  <thead>\n",
              "    <tr style=\"text-align: right;\">\n",
              "      <th></th>\n",
              "      <th>open</th>\n",
              "      <th>close</th>\n",
              "    </tr>\n",
              "    <tr>\n",
              "      <th>date</th>\n",
              "      <th></th>\n",
              "      <th></th>\n",
              "    </tr>\n",
              "  </thead>\n",
              "  <tbody>\n",
              "    <tr>\n",
              "      <th>2016-06-14</th>\n",
              "      <td>0.024532</td>\n",
              "      <td>0.026984</td>\n",
              "    </tr>\n",
              "    <tr>\n",
              "      <th>2016-06-15</th>\n",
              "      <td>0.025891</td>\n",
              "      <td>0.027334</td>\n",
              "    </tr>\n",
              "    <tr>\n",
              "      <th>2016-06-16</th>\n",
              "      <td>0.023685</td>\n",
              "      <td>0.022716</td>\n",
              "    </tr>\n",
              "    <tr>\n",
              "      <th>2016-06-17</th>\n",
              "      <td>0.020308</td>\n",
              "      <td>0.012658</td>\n",
              "    </tr>\n",
              "    <tr>\n",
              "      <th>2016-06-20</th>\n",
              "      <td>0.014979</td>\n",
              "      <td>0.013732</td>\n",
              "    </tr>\n",
              "    <tr>\n",
              "      <th>2016-06-21</th>\n",
              "      <td>0.014779</td>\n",
              "      <td>0.014935</td>\n",
              "    </tr>\n",
              "    <tr>\n",
              "      <th>2016-06-22</th>\n",
              "      <td>0.015135</td>\n",
              "      <td>0.015755</td>\n",
              "    </tr>\n",
              "    <tr>\n",
              "      <th>2016-06-23</th>\n",
              "      <td>0.014267</td>\n",
              "      <td>0.018135</td>\n",
              "    </tr>\n",
              "    <tr>\n",
              "      <th>2016-06-24</th>\n",
              "      <td>0.002249</td>\n",
              "      <td>0.003755</td>\n",
              "    </tr>\n",
              "    <tr>\n",
              "      <th>2016-06-27</th>\n",
              "      <td>0.000000</td>\n",
              "      <td>0.000000</td>\n",
              "    </tr>\n",
              "    <tr>\n",
              "      <th>2016-06-28</th>\n",
              "      <td>0.004299</td>\n",
              "      <td>0.006356</td>\n",
              "    </tr>\n",
              "    <tr>\n",
              "      <th>2016-06-29</th>\n",
              "      <td>0.006473</td>\n",
              "      <td>0.008552</td>\n",
              "    </tr>\n",
              "    <tr>\n",
              "      <th>2016-06-30</th>\n",
              "      <td>0.007805</td>\n",
              "      <td>0.012863</td>\n",
              "    </tr>\n",
              "    <tr>\n",
              "      <th>2016-07-01</th>\n",
              "      <td>0.011435</td>\n",
              "      <td>0.016700</td>\n",
              "    </tr>\n",
              "    <tr>\n",
              "      <th>2016-07-05</th>\n",
              "      <td>0.013517</td>\n",
              "      <td>0.014153</td>\n",
              "    </tr>\n",
              "    <tr>\n",
              "      <th>2016-07-06</th>\n",
              "      <td>0.010238</td>\n",
              "      <td>0.015923</td>\n",
              "    </tr>\n",
              "    <tr>\n",
              "      <th>2016-07-07</th>\n",
              "      <td>0.014607</td>\n",
              "      <td>0.014622</td>\n",
              "    </tr>\n",
              "    <tr>\n",
              "      <th>2016-07-08</th>\n",
              "      <td>0.015373</td>\n",
              "      <td>0.020164</td>\n",
              "    </tr>\n",
              "    <tr>\n",
              "      <th>2016-07-11</th>\n",
              "      <td>0.019985</td>\n",
              "      <td>0.025268</td>\n",
              "    </tr>\n",
              "    <tr>\n",
              "      <th>2016-07-12</th>\n",
              "      <td>0.025956</td>\n",
              "      <td>0.028262</td>\n",
              "    </tr>\n",
              "  </tbody>\n",
              "</table>\n",
              "</div>\n",
              "    <div class=\"colab-df-buttons\">\n",
              "\n",
              "  <div class=\"colab-df-container\">\n",
              "    <button class=\"colab-df-convert\" onclick=\"convertToInteractive('df-670a02fb-b3d3-4393-981d-9255de2d8efa')\"\n",
              "            title=\"Convert this dataframe to an interactive table.\"\n",
              "            style=\"display:none;\">\n",
              "\n",
              "  <svg xmlns=\"http://www.w3.org/2000/svg\" height=\"24px\" viewBox=\"0 -960 960 960\">\n",
              "    <path d=\"M120-120v-720h720v720H120Zm60-500h600v-160H180v160Zm220 220h160v-160H400v160Zm0 220h160v-160H400v160ZM180-400h160v-160H180v160Zm440 0h160v-160H620v160ZM180-180h160v-160H180v160Zm440 0h160v-160H620v160Z\"/>\n",
              "  </svg>\n",
              "    </button>\n",
              "\n",
              "  <style>\n",
              "    .colab-df-container {\n",
              "      display:flex;\n",
              "      gap: 12px;\n",
              "    }\n",
              "\n",
              "    .colab-df-convert {\n",
              "      background-color: #E8F0FE;\n",
              "      border: none;\n",
              "      border-radius: 50%;\n",
              "      cursor: pointer;\n",
              "      display: none;\n",
              "      fill: #1967D2;\n",
              "      height: 32px;\n",
              "      padding: 0 0 0 0;\n",
              "      width: 32px;\n",
              "    }\n",
              "\n",
              "    .colab-df-convert:hover {\n",
              "      background-color: #E2EBFA;\n",
              "      box-shadow: 0px 1px 2px rgba(60, 64, 67, 0.3), 0px 1px 3px 1px rgba(60, 64, 67, 0.15);\n",
              "      fill: #174EA6;\n",
              "    }\n",
              "\n",
              "    .colab-df-buttons div {\n",
              "      margin-bottom: 4px;\n",
              "    }\n",
              "\n",
              "    [theme=dark] .colab-df-convert {\n",
              "      background-color: #3B4455;\n",
              "      fill: #D2E3FC;\n",
              "    }\n",
              "\n",
              "    [theme=dark] .colab-df-convert:hover {\n",
              "      background-color: #434B5C;\n",
              "      box-shadow: 0px 1px 3px 1px rgba(0, 0, 0, 0.15);\n",
              "      filter: drop-shadow(0px 1px 2px rgba(0, 0, 0, 0.3));\n",
              "      fill: #FFFFFF;\n",
              "    }\n",
              "  </style>\n",
              "\n",
              "    <script>\n",
              "      const buttonEl =\n",
              "        document.querySelector('#df-670a02fb-b3d3-4393-981d-9255de2d8efa button.colab-df-convert');\n",
              "      buttonEl.style.display =\n",
              "        google.colab.kernel.accessAllowed ? 'block' : 'none';\n",
              "\n",
              "      async function convertToInteractive(key) {\n",
              "        const element = document.querySelector('#df-670a02fb-b3d3-4393-981d-9255de2d8efa');\n",
              "        const dataTable =\n",
              "          await google.colab.kernel.invokeFunction('convertToInteractive',\n",
              "                                                    [key], {});\n",
              "        if (!dataTable) return;\n",
              "\n",
              "        const docLinkHtml = 'Like what you see? Visit the ' +\n",
              "          '<a target=\"_blank\" href=https://colab.research.google.com/notebooks/data_table.ipynb>data table notebook</a>'\n",
              "          + ' to learn more about interactive tables.';\n",
              "        element.innerHTML = '';\n",
              "        dataTable['output_type'] = 'display_data';\n",
              "        await google.colab.output.renderOutput(dataTable, element);\n",
              "        const docLink = document.createElement('div');\n",
              "        docLink.innerHTML = docLinkHtml;\n",
              "        element.appendChild(docLink);\n",
              "      }\n",
              "    </script>\n",
              "  </div>\n",
              "\n",
              "\n",
              "<div id=\"df-1a265446-d8b7-42ba-b1aa-664218439d7c\">\n",
              "  <button class=\"colab-df-quickchart\" onclick=\"quickchart('df-1a265446-d8b7-42ba-b1aa-664218439d7c')\"\n",
              "            title=\"Suggest charts\"\n",
              "            style=\"display:none;\">\n",
              "\n",
              "<svg xmlns=\"http://www.w3.org/2000/svg\" height=\"24px\"viewBox=\"0 0 24 24\"\n",
              "     width=\"24px\">\n",
              "    <g>\n",
              "        <path d=\"M19 3H5c-1.1 0-2 .9-2 2v14c0 1.1.9 2 2 2h14c1.1 0 2-.9 2-2V5c0-1.1-.9-2-2-2zM9 17H7v-7h2v7zm4 0h-2V7h2v10zm4 0h-2v-4h2v4z\"/>\n",
              "    </g>\n",
              "</svg>\n",
              "  </button>\n",
              "\n",
              "<style>\n",
              "  .colab-df-quickchart {\n",
              "      --bg-color: #E8F0FE;\n",
              "      --fill-color: #1967D2;\n",
              "      --hover-bg-color: #E2EBFA;\n",
              "      --hover-fill-color: #174EA6;\n",
              "      --disabled-fill-color: #AAA;\n",
              "      --disabled-bg-color: #DDD;\n",
              "  }\n",
              "\n",
              "  [theme=dark] .colab-df-quickchart {\n",
              "      --bg-color: #3B4455;\n",
              "      --fill-color: #D2E3FC;\n",
              "      --hover-bg-color: #434B5C;\n",
              "      --hover-fill-color: #FFFFFF;\n",
              "      --disabled-bg-color: #3B4455;\n",
              "      --disabled-fill-color: #666;\n",
              "  }\n",
              "\n",
              "  .colab-df-quickchart {\n",
              "    background-color: var(--bg-color);\n",
              "    border: none;\n",
              "    border-radius: 50%;\n",
              "    cursor: pointer;\n",
              "    display: none;\n",
              "    fill: var(--fill-color);\n",
              "    height: 32px;\n",
              "    padding: 0;\n",
              "    width: 32px;\n",
              "  }\n",
              "\n",
              "  .colab-df-quickchart:hover {\n",
              "    background-color: var(--hover-bg-color);\n",
              "    box-shadow: 0 1px 2px rgba(60, 64, 67, 0.3), 0 1px 3px 1px rgba(60, 64, 67, 0.15);\n",
              "    fill: var(--button-hover-fill-color);\n",
              "  }\n",
              "\n",
              "  .colab-df-quickchart-complete:disabled,\n",
              "  .colab-df-quickchart-complete:disabled:hover {\n",
              "    background-color: var(--disabled-bg-color);\n",
              "    fill: var(--disabled-fill-color);\n",
              "    box-shadow: none;\n",
              "  }\n",
              "\n",
              "  .colab-df-spinner {\n",
              "    border: 2px solid var(--fill-color);\n",
              "    border-color: transparent;\n",
              "    border-bottom-color: var(--fill-color);\n",
              "    animation:\n",
              "      spin 1s steps(1) infinite;\n",
              "  }\n",
              "\n",
              "  @keyframes spin {\n",
              "    0% {\n",
              "      border-color: transparent;\n",
              "      border-bottom-color: var(--fill-color);\n",
              "      border-left-color: var(--fill-color);\n",
              "    }\n",
              "    20% {\n",
              "      border-color: transparent;\n",
              "      border-left-color: var(--fill-color);\n",
              "      border-top-color: var(--fill-color);\n",
              "    }\n",
              "    30% {\n",
              "      border-color: transparent;\n",
              "      border-left-color: var(--fill-color);\n",
              "      border-top-color: var(--fill-color);\n",
              "      border-right-color: var(--fill-color);\n",
              "    }\n",
              "    40% {\n",
              "      border-color: transparent;\n",
              "      border-right-color: var(--fill-color);\n",
              "      border-top-color: var(--fill-color);\n",
              "    }\n",
              "    60% {\n",
              "      border-color: transparent;\n",
              "      border-right-color: var(--fill-color);\n",
              "    }\n",
              "    80% {\n",
              "      border-color: transparent;\n",
              "      border-right-color: var(--fill-color);\n",
              "      border-bottom-color: var(--fill-color);\n",
              "    }\n",
              "    90% {\n",
              "      border-color: transparent;\n",
              "      border-bottom-color: var(--fill-color);\n",
              "    }\n",
              "  }\n",
              "</style>\n",
              "\n",
              "  <script>\n",
              "    async function quickchart(key) {\n",
              "      const quickchartButtonEl =\n",
              "        document.querySelector('#' + key + ' button');\n",
              "      quickchartButtonEl.disabled = true;  // To prevent multiple clicks.\n",
              "      quickchartButtonEl.classList.add('colab-df-spinner');\n",
              "      try {\n",
              "        const charts = await google.colab.kernel.invokeFunction(\n",
              "            'suggestCharts', [key], {});\n",
              "      } catch (error) {\n",
              "        console.error('Error during call to suggestCharts:', error);\n",
              "      }\n",
              "      quickchartButtonEl.classList.remove('colab-df-spinner');\n",
              "      quickchartButtonEl.classList.add('colab-df-quickchart-complete');\n",
              "    }\n",
              "    (() => {\n",
              "      let quickchartButtonEl =\n",
              "        document.querySelector('#df-1a265446-d8b7-42ba-b1aa-664218439d7c button');\n",
              "      quickchartButtonEl.style.display =\n",
              "        google.colab.kernel.accessAllowed ? 'block' : 'none';\n",
              "    })();\n",
              "  </script>\n",
              "</div>\n",
              "\n",
              "    </div>\n",
              "  </div>\n"
            ],
            "application/vnd.google.colaboratory.intrinsic+json": {
              "type": "dataframe",
              "variable_name": "df",
              "summary": "{\n  \"name\": \"df\",\n  \"rows\": 1258,\n  \"fields\": [\n    {\n      \"column\": \"date\",\n      \"properties\": {\n        \"dtype\": \"date\",\n        \"min\": \"2016-06-14 00:00:00\",\n        \"max\": \"2021-06-11 00:00:00\",\n        \"num_unique_values\": 1258,\n        \"samples\": [\n          \"2018-09-05 00:00:00\",\n          \"2016-11-04 00:00:00\",\n          \"2016-08-25 00:00:00\"\n        ],\n        \"semantic_type\": \"\",\n        \"description\": \"\"\n      }\n    },\n    {\n      \"column\": \"open\",\n      \"properties\": {\n        \"dtype\": \"number\",\n        \"std\": 0.20629099164932285,\n        \"min\": 0.0,\n        \"max\": 1.0,\n        \"num_unique_values\": 1227,\n        \"samples\": [\n          0.4202392767756969,\n          0.13659165444032106,\n          0.48671463709329427\n        ],\n        \"semantic_type\": \"\",\n        \"description\": \"\"\n      }\n    },\n    {\n      \"column\": \"close\",\n      \"properties\": {\n        \"dtype\": \"number\",\n        \"std\": 0.20683380152966085,\n        \"min\": 0.0,\n        \"max\": 1.0,\n        \"num_unique_values\": 1247,\n        \"samples\": [\n          0.26417171161254815,\n          0.5883755813828009,\n          0.441575749727519\n        ],\n        \"semantic_type\": \"\",\n        \"description\": \"\"\n      }\n    }\n  ]\n}"
            }
          },
          "metadata": {},
          "execution_count": 10
        }
      ],
      "source": [
        "# normalizing all the values of all columns using MinMaxScaler\n",
        "MMS = MinMaxScaler()\n",
        "df[df.columns] = MMS.fit_transform(df)\n",
        "df.head(20)"
      ]
    },
    {
      "cell_type": "markdown",
      "id": "f057781a",
      "metadata": {
        "id": "f057781a"
      },
      "source": [
        "**STEP 4 - Data Splitting and Sequencing**"
      ]
    },
    {
      "cell_type": "code",
      "execution_count": 11,
      "id": "f3b9478e",
      "metadata": {
        "id": "f3b9478e",
        "colab": {
          "base_uri": "https://localhost:8080/"
        },
        "outputId": "9d078496-6fce-4edd-fd8b-51b228b39ef1"
      },
      "outputs": [
        {
          "output_type": "execute_result",
          "data": {
            "text/plain": [
              "944"
            ]
          },
          "metadata": {},
          "execution_count": 11
        }
      ],
      "source": [
        "# splitting the data into training and test set\n",
        "training_size = round(len(df) * 0.75) # Selecting 75 % for training and 25 % for testing\n",
        "training_size"
      ]
    },
    {
      "cell_type": "code",
      "execution_count": 12,
      "id": "b9a98d2d",
      "metadata": {
        "id": "b9a98d2d",
        "colab": {
          "base_uri": "https://localhost:8080/"
        },
        "outputId": "98aee54b-6134-4296-c3ae-b054ad65997a"
      },
      "outputs": [
        {
          "output_type": "execute_result",
          "data": {
            "text/plain": [
              "((944, 2), (314, 2))"
            ]
          },
          "metadata": {},
          "execution_count": 12
        }
      ],
      "source": [
        "train_data = df[:training_size]\n",
        "test_data  = df[training_size:]\n",
        "\n",
        "train_data.shape, test_data.shape"
      ]
    },
    {
      "cell_type": "code",
      "source": [
        "train_data.head()\n"
      ],
      "metadata": {
        "id": "VfJVHBjtvKIj",
        "colab": {
          "base_uri": "https://localhost:8080/",
          "height": 237
        },
        "outputId": "c3e73e06-e237-443a-c827-c85c50c5fe24"
      },
      "id": "VfJVHBjtvKIj",
      "execution_count": 13,
      "outputs": [
        {
          "output_type": "execute_result",
          "data": {
            "text/plain": [
              "                open     close\n",
              "date                          \n",
              "2016-06-14  0.024532  0.026984\n",
              "2016-06-15  0.025891  0.027334\n",
              "2016-06-16  0.023685  0.022716\n",
              "2016-06-17  0.020308  0.012658\n",
              "2016-06-20  0.014979  0.013732"
            ],
            "text/html": [
              "\n",
              "  <div id=\"df-be18b03f-044a-4d76-acfe-f30282b6f12c\" class=\"colab-df-container\">\n",
              "    <div>\n",
              "<style scoped>\n",
              "    .dataframe tbody tr th:only-of-type {\n",
              "        vertical-align: middle;\n",
              "    }\n",
              "\n",
              "    .dataframe tbody tr th {\n",
              "        vertical-align: top;\n",
              "    }\n",
              "\n",
              "    .dataframe thead th {\n",
              "        text-align: right;\n",
              "    }\n",
              "</style>\n",
              "<table border=\"1\" class=\"dataframe\">\n",
              "  <thead>\n",
              "    <tr style=\"text-align: right;\">\n",
              "      <th></th>\n",
              "      <th>open</th>\n",
              "      <th>close</th>\n",
              "    </tr>\n",
              "    <tr>\n",
              "      <th>date</th>\n",
              "      <th></th>\n",
              "      <th></th>\n",
              "    </tr>\n",
              "  </thead>\n",
              "  <tbody>\n",
              "    <tr>\n",
              "      <th>2016-06-14</th>\n",
              "      <td>0.024532</td>\n",
              "      <td>0.026984</td>\n",
              "    </tr>\n",
              "    <tr>\n",
              "      <th>2016-06-15</th>\n",
              "      <td>0.025891</td>\n",
              "      <td>0.027334</td>\n",
              "    </tr>\n",
              "    <tr>\n",
              "      <th>2016-06-16</th>\n",
              "      <td>0.023685</td>\n",
              "      <td>0.022716</td>\n",
              "    </tr>\n",
              "    <tr>\n",
              "      <th>2016-06-17</th>\n",
              "      <td>0.020308</td>\n",
              "      <td>0.012658</td>\n",
              "    </tr>\n",
              "    <tr>\n",
              "      <th>2016-06-20</th>\n",
              "      <td>0.014979</td>\n",
              "      <td>0.013732</td>\n",
              "    </tr>\n",
              "  </tbody>\n",
              "</table>\n",
              "</div>\n",
              "    <div class=\"colab-df-buttons\">\n",
              "\n",
              "  <div class=\"colab-df-container\">\n",
              "    <button class=\"colab-df-convert\" onclick=\"convertToInteractive('df-be18b03f-044a-4d76-acfe-f30282b6f12c')\"\n",
              "            title=\"Convert this dataframe to an interactive table.\"\n",
              "            style=\"display:none;\">\n",
              "\n",
              "  <svg xmlns=\"http://www.w3.org/2000/svg\" height=\"24px\" viewBox=\"0 -960 960 960\">\n",
              "    <path d=\"M120-120v-720h720v720H120Zm60-500h600v-160H180v160Zm220 220h160v-160H400v160Zm0 220h160v-160H400v160ZM180-400h160v-160H180v160Zm440 0h160v-160H620v160ZM180-180h160v-160H180v160Zm440 0h160v-160H620v160Z\"/>\n",
              "  </svg>\n",
              "    </button>\n",
              "\n",
              "  <style>\n",
              "    .colab-df-container {\n",
              "      display:flex;\n",
              "      gap: 12px;\n",
              "    }\n",
              "\n",
              "    .colab-df-convert {\n",
              "      background-color: #E8F0FE;\n",
              "      border: none;\n",
              "      border-radius: 50%;\n",
              "      cursor: pointer;\n",
              "      display: none;\n",
              "      fill: #1967D2;\n",
              "      height: 32px;\n",
              "      padding: 0 0 0 0;\n",
              "      width: 32px;\n",
              "    }\n",
              "\n",
              "    .colab-df-convert:hover {\n",
              "      background-color: #E2EBFA;\n",
              "      box-shadow: 0px 1px 2px rgba(60, 64, 67, 0.3), 0px 1px 3px 1px rgba(60, 64, 67, 0.15);\n",
              "      fill: #174EA6;\n",
              "    }\n",
              "\n",
              "    .colab-df-buttons div {\n",
              "      margin-bottom: 4px;\n",
              "    }\n",
              "\n",
              "    [theme=dark] .colab-df-convert {\n",
              "      background-color: #3B4455;\n",
              "      fill: #D2E3FC;\n",
              "    }\n",
              "\n",
              "    [theme=dark] .colab-df-convert:hover {\n",
              "      background-color: #434B5C;\n",
              "      box-shadow: 0px 1px 3px 1px rgba(0, 0, 0, 0.15);\n",
              "      filter: drop-shadow(0px 1px 2px rgba(0, 0, 0, 0.3));\n",
              "      fill: #FFFFFF;\n",
              "    }\n",
              "  </style>\n",
              "\n",
              "    <script>\n",
              "      const buttonEl =\n",
              "        document.querySelector('#df-be18b03f-044a-4d76-acfe-f30282b6f12c button.colab-df-convert');\n",
              "      buttonEl.style.display =\n",
              "        google.colab.kernel.accessAllowed ? 'block' : 'none';\n",
              "\n",
              "      async function convertToInteractive(key) {\n",
              "        const element = document.querySelector('#df-be18b03f-044a-4d76-acfe-f30282b6f12c');\n",
              "        const dataTable =\n",
              "          await google.colab.kernel.invokeFunction('convertToInteractive',\n",
              "                                                    [key], {});\n",
              "        if (!dataTable) return;\n",
              "\n",
              "        const docLinkHtml = 'Like what you see? Visit the ' +\n",
              "          '<a target=\"_blank\" href=https://colab.research.google.com/notebooks/data_table.ipynb>data table notebook</a>'\n",
              "          + ' to learn more about interactive tables.';\n",
              "        element.innerHTML = '';\n",
              "        dataTable['output_type'] = 'display_data';\n",
              "        await google.colab.output.renderOutput(dataTable, element);\n",
              "        const docLink = document.createElement('div');\n",
              "        docLink.innerHTML = docLinkHtml;\n",
              "        element.appendChild(docLink);\n",
              "      }\n",
              "    </script>\n",
              "  </div>\n",
              "\n",
              "\n",
              "<div id=\"df-5885324a-e366-41c1-bffd-33dd3d4d734e\">\n",
              "  <button class=\"colab-df-quickchart\" onclick=\"quickchart('df-5885324a-e366-41c1-bffd-33dd3d4d734e')\"\n",
              "            title=\"Suggest charts\"\n",
              "            style=\"display:none;\">\n",
              "\n",
              "<svg xmlns=\"http://www.w3.org/2000/svg\" height=\"24px\"viewBox=\"0 0 24 24\"\n",
              "     width=\"24px\">\n",
              "    <g>\n",
              "        <path d=\"M19 3H5c-1.1 0-2 .9-2 2v14c0 1.1.9 2 2 2h14c1.1 0 2-.9 2-2V5c0-1.1-.9-2-2-2zM9 17H7v-7h2v7zm4 0h-2V7h2v10zm4 0h-2v-4h2v4z\"/>\n",
              "    </g>\n",
              "</svg>\n",
              "  </button>\n",
              "\n",
              "<style>\n",
              "  .colab-df-quickchart {\n",
              "      --bg-color: #E8F0FE;\n",
              "      --fill-color: #1967D2;\n",
              "      --hover-bg-color: #E2EBFA;\n",
              "      --hover-fill-color: #174EA6;\n",
              "      --disabled-fill-color: #AAA;\n",
              "      --disabled-bg-color: #DDD;\n",
              "  }\n",
              "\n",
              "  [theme=dark] .colab-df-quickchart {\n",
              "      --bg-color: #3B4455;\n",
              "      --fill-color: #D2E3FC;\n",
              "      --hover-bg-color: #434B5C;\n",
              "      --hover-fill-color: #FFFFFF;\n",
              "      --disabled-bg-color: #3B4455;\n",
              "      --disabled-fill-color: #666;\n",
              "  }\n",
              "\n",
              "  .colab-df-quickchart {\n",
              "    background-color: var(--bg-color);\n",
              "    border: none;\n",
              "    border-radius: 50%;\n",
              "    cursor: pointer;\n",
              "    display: none;\n",
              "    fill: var(--fill-color);\n",
              "    height: 32px;\n",
              "    padding: 0;\n",
              "    width: 32px;\n",
              "  }\n",
              "\n",
              "  .colab-df-quickchart:hover {\n",
              "    background-color: var(--hover-bg-color);\n",
              "    box-shadow: 0 1px 2px rgba(60, 64, 67, 0.3), 0 1px 3px 1px rgba(60, 64, 67, 0.15);\n",
              "    fill: var(--button-hover-fill-color);\n",
              "  }\n",
              "\n",
              "  .colab-df-quickchart-complete:disabled,\n",
              "  .colab-df-quickchart-complete:disabled:hover {\n",
              "    background-color: var(--disabled-bg-color);\n",
              "    fill: var(--disabled-fill-color);\n",
              "    box-shadow: none;\n",
              "  }\n",
              "\n",
              "  .colab-df-spinner {\n",
              "    border: 2px solid var(--fill-color);\n",
              "    border-color: transparent;\n",
              "    border-bottom-color: var(--fill-color);\n",
              "    animation:\n",
              "      spin 1s steps(1) infinite;\n",
              "  }\n",
              "\n",
              "  @keyframes spin {\n",
              "    0% {\n",
              "      border-color: transparent;\n",
              "      border-bottom-color: var(--fill-color);\n",
              "      border-left-color: var(--fill-color);\n",
              "    }\n",
              "    20% {\n",
              "      border-color: transparent;\n",
              "      border-left-color: var(--fill-color);\n",
              "      border-top-color: var(--fill-color);\n",
              "    }\n",
              "    30% {\n",
              "      border-color: transparent;\n",
              "      border-left-color: var(--fill-color);\n",
              "      border-top-color: var(--fill-color);\n",
              "      border-right-color: var(--fill-color);\n",
              "    }\n",
              "    40% {\n",
              "      border-color: transparent;\n",
              "      border-right-color: var(--fill-color);\n",
              "      border-top-color: var(--fill-color);\n",
              "    }\n",
              "    60% {\n",
              "      border-color: transparent;\n",
              "      border-right-color: var(--fill-color);\n",
              "    }\n",
              "    80% {\n",
              "      border-color: transparent;\n",
              "      border-right-color: var(--fill-color);\n",
              "      border-bottom-color: var(--fill-color);\n",
              "    }\n",
              "    90% {\n",
              "      border-color: transparent;\n",
              "      border-bottom-color: var(--fill-color);\n",
              "    }\n",
              "  }\n",
              "</style>\n",
              "\n",
              "  <script>\n",
              "    async function quickchart(key) {\n",
              "      const quickchartButtonEl =\n",
              "        document.querySelector('#' + key + ' button');\n",
              "      quickchartButtonEl.disabled = true;  // To prevent multiple clicks.\n",
              "      quickchartButtonEl.classList.add('colab-df-spinner');\n",
              "      try {\n",
              "        const charts = await google.colab.kernel.invokeFunction(\n",
              "            'suggestCharts', [key], {});\n",
              "      } catch (error) {\n",
              "        console.error('Error during call to suggestCharts:', error);\n",
              "      }\n",
              "      quickchartButtonEl.classList.remove('colab-df-spinner');\n",
              "      quickchartButtonEl.classList.add('colab-df-quickchart-complete');\n",
              "    }\n",
              "    (() => {\n",
              "      let quickchartButtonEl =\n",
              "        document.querySelector('#df-5885324a-e366-41c1-bffd-33dd3d4d734e button');\n",
              "      quickchartButtonEl.style.display =\n",
              "        google.colab.kernel.accessAllowed ? 'block' : 'none';\n",
              "    })();\n",
              "  </script>\n",
              "</div>\n",
              "\n",
              "    </div>\n",
              "  </div>\n"
            ],
            "application/vnd.google.colaboratory.intrinsic+json": {
              "type": "dataframe",
              "variable_name": "train_data",
              "summary": "{\n  \"name\": \"train_data\",\n  \"rows\": 944,\n  \"fields\": [\n    {\n      \"column\": \"date\",\n      \"properties\": {\n        \"dtype\": \"date\",\n        \"min\": \"2016-06-14 00:00:00\",\n        \"max\": \"2020-03-13 00:00:00\",\n        \"num_unique_values\": 944,\n        \"samples\": [\n          \"2016-10-28 00:00:00\",\n          \"2017-07-03 00:00:00\",\n          \"2019-09-04 00:00:00\"\n        ],\n        \"semantic_type\": \"\",\n        \"description\": \"\"\n      }\n    },\n    {\n      \"column\": \"open\",\n      \"properties\": {\n        \"dtype\": \"number\",\n        \"std\": 0.10078790180844942,\n        \"min\": 0.0,\n        \"max\": 0.4606833088806421,\n        \"num_unique_values\": 921,\n        \"samples\": [\n          0.13848494001898687,\n          0.20841783895745242,\n          0.28534133080176066\n        ],\n        \"semantic_type\": \"\",\n        \"description\": \"\"\n      }\n    },\n    {\n      \"column\": \"close\",\n      \"properties\": {\n        \"dtype\": \"number\",\n        \"std\": 0.10103575378112112,\n        \"min\": 0.0,\n        \"max\": 0.46317998856119225,\n        \"num_unique_values\": 934,\n        \"samples\": [\n          0.14904442789774142,\n          0.06401415822245243,\n          0.09169931043413515\n        ],\n        \"semantic_type\": \"\",\n        \"description\": \"\"\n      }\n    }\n  ]\n}"
            }
          },
          "metadata": {},
          "execution_count": 13
        }
      ]
    },
    {
      "cell_type": "code",
      "execution_count": 14,
      "id": "7769b6b6",
      "metadata": {
        "id": "7769b6b6"
      },
      "outputs": [],
      "source": [
        "# Function to create sequence of data for training and testing\n",
        "\n",
        "def create_sequence(dataset):\n",
        "  sequences = []\n",
        "  labels = []\n",
        "\n",
        "  start_idx = 0\n",
        "\n",
        "  for stop_idx in range(50,len(dataset)): # Selecting 50 rows at a time\n",
        "    sequences.append(dataset.iloc[start_idx:stop_idx])\n",
        "    labels.append(dataset.iloc[stop_idx])\n",
        "    start_idx += 1\n",
        "  return (np.array(sequences),np.array(labels))"
      ]
    },
    {
      "cell_type": "code",
      "execution_count": 15,
      "id": "f995ef39",
      "metadata": {
        "id": "f995ef39",
        "colab": {
          "base_uri": "https://localhost:8080/"
        },
        "outputId": "73862a6a-e2f7-478b-a764-643b2a9c90db"
      },
      "outputs": [
        {
          "output_type": "execute_result",
          "data": {
            "text/plain": [
              "((894, 50, 2), (894, 2), (264, 50, 2), (264, 2))"
            ]
          },
          "metadata": {},
          "execution_count": 15
        }
      ],
      "source": [
        "train_seq, train_label = create_sequence(train_data)\n",
        "test_seq, test_label = create_sequence(test_data)\n",
        "train_seq.shape, train_label.shape, test_seq.shape, test_label.shape"
      ]
    },
    {
      "cell_type": "markdown",
      "id": "0f7de6c3",
      "metadata": {
        "id": "0f7de6c3"
      },
      "source": [
        "## Model Building and Training"
      ]
    },
    {
      "cell_type": "markdown",
      "source": [
        "## vanila LSTM Implementation"
      ],
      "metadata": {
        "id": "8UpjVquCi3w0"
      },
      "id": "8UpjVquCi3w0"
    },
    {
      "cell_type": "code",
      "source": [],
      "metadata": {
        "id": "qftpkMPGisTS"
      },
      "id": "qftpkMPGisTS",
      "execution_count": 15,
      "outputs": []
    },
    {
      "cell_type": "code",
      "execution_count": 16,
      "id": "6cb769a0",
      "metadata": {
        "id": "6cb769a0",
        "colab": {
          "base_uri": "https://localhost:8080/",
          "height": 274
        },
        "outputId": "23d46382-8535-4825-ebfd-8dfec02eb706"
      },
      "outputs": [
        {
          "output_type": "display_data",
          "data": {
            "text/plain": [
              "\u001b[1mModel: \"sequential\"\u001b[0m\n"
            ],
            "text/html": [
              "<pre style=\"white-space:pre;overflow-x:auto;line-height:normal;font-family:Menlo,'DejaVu Sans Mono',consolas,'Courier New',monospace\"><span style=\"font-weight: bold\">Model: \"sequential\"</span>\n",
              "</pre>\n"
            ]
          },
          "metadata": {}
        },
        {
          "output_type": "display_data",
          "data": {
            "text/plain": [
              "┏━━━━━━━━━━━━━━━━━━━━━━━━━━━━━━━━━━━━━━┳━━━━━━━━━━━━━━━━━━━━━━━━━━━━━┳━━━━━━━━━━━━━━━━━┓\n",
              "┃\u001b[1m \u001b[0m\u001b[1mLayer (type)                        \u001b[0m\u001b[1m \u001b[0m┃\u001b[1m \u001b[0m\u001b[1mOutput Shape               \u001b[0m\u001b[1m \u001b[0m┃\u001b[1m \u001b[0m\u001b[1m        Param #\u001b[0m\u001b[1m \u001b[0m┃\n",
              "┡━━━━━━━━━━━━━━━━━━━━━━━━━━━━━━━━━━━━━━╇━━━━━━━━━━━━━━━━━━━━━━━━━━━━━╇━━━━━━━━━━━━━━━━━┩\n",
              "│ lstm (\u001b[38;5;33mLSTM\u001b[0m)                          │ (\u001b[38;5;45mNone\u001b[0m, \u001b[38;5;34m50\u001b[0m, \u001b[38;5;34m50\u001b[0m)              │          \u001b[38;5;34m10,600\u001b[0m │\n",
              "├──────────────────────────────────────┼─────────────────────────────┼─────────────────┤\n",
              "│ dropout (\u001b[38;5;33mDropout\u001b[0m)                    │ (\u001b[38;5;45mNone\u001b[0m, \u001b[38;5;34m50\u001b[0m, \u001b[38;5;34m50\u001b[0m)              │               \u001b[38;5;34m0\u001b[0m │\n",
              "├──────────────────────────────────────┼─────────────────────────────┼─────────────────┤\n",
              "│ lstm_1 (\u001b[38;5;33mLSTM\u001b[0m)                        │ (\u001b[38;5;45mNone\u001b[0m, \u001b[38;5;34m50\u001b[0m)                  │          \u001b[38;5;34m20,200\u001b[0m │\n",
              "├──────────────────────────────────────┼─────────────────────────────┼─────────────────┤\n",
              "│ dense (\u001b[38;5;33mDense\u001b[0m)                        │ (\u001b[38;5;45mNone\u001b[0m, \u001b[38;5;34m2\u001b[0m)                   │             \u001b[38;5;34m102\u001b[0m │\n",
              "└──────────────────────────────────────┴─────────────────────────────┴─────────────────┘\n"
            ],
            "text/html": [
              "<pre style=\"white-space:pre;overflow-x:auto;line-height:normal;font-family:Menlo,'DejaVu Sans Mono',consolas,'Courier New',monospace\">┏━━━━━━━━━━━━━━━━━━━━━━━━━━━━━━━━━━━━━━┳━━━━━━━━━━━━━━━━━━━━━━━━━━━━━┳━━━━━━━━━━━━━━━━━┓\n",
              "┃<span style=\"font-weight: bold\"> Layer (type)                         </span>┃<span style=\"font-weight: bold\"> Output Shape                </span>┃<span style=\"font-weight: bold\">         Param # </span>┃\n",
              "┡━━━━━━━━━━━━━━━━━━━━━━━━━━━━━━━━━━━━━━╇━━━━━━━━━━━━━━━━━━━━━━━━━━━━━╇━━━━━━━━━━━━━━━━━┩\n",
              "│ lstm (<span style=\"color: #0087ff; text-decoration-color: #0087ff\">LSTM</span>)                          │ (<span style=\"color: #00d7ff; text-decoration-color: #00d7ff\">None</span>, <span style=\"color: #00af00; text-decoration-color: #00af00\">50</span>, <span style=\"color: #00af00; text-decoration-color: #00af00\">50</span>)              │          <span style=\"color: #00af00; text-decoration-color: #00af00\">10,600</span> │\n",
              "├──────────────────────────────────────┼─────────────────────────────┼─────────────────┤\n",
              "│ dropout (<span style=\"color: #0087ff; text-decoration-color: #0087ff\">Dropout</span>)                    │ (<span style=\"color: #00d7ff; text-decoration-color: #00d7ff\">None</span>, <span style=\"color: #00af00; text-decoration-color: #00af00\">50</span>, <span style=\"color: #00af00; text-decoration-color: #00af00\">50</span>)              │               <span style=\"color: #00af00; text-decoration-color: #00af00\">0</span> │\n",
              "├──────────────────────────────────────┼─────────────────────────────┼─────────────────┤\n",
              "│ lstm_1 (<span style=\"color: #0087ff; text-decoration-color: #0087ff\">LSTM</span>)                        │ (<span style=\"color: #00d7ff; text-decoration-color: #00d7ff\">None</span>, <span style=\"color: #00af00; text-decoration-color: #00af00\">50</span>)                  │          <span style=\"color: #00af00; text-decoration-color: #00af00\">20,200</span> │\n",
              "├──────────────────────────────────────┼─────────────────────────────┼─────────────────┤\n",
              "│ dense (<span style=\"color: #0087ff; text-decoration-color: #0087ff\">Dense</span>)                        │ (<span style=\"color: #00d7ff; text-decoration-color: #00d7ff\">None</span>, <span style=\"color: #00af00; text-decoration-color: #00af00\">2</span>)                   │             <span style=\"color: #00af00; text-decoration-color: #00af00\">102</span> │\n",
              "└──────────────────────────────────────┴─────────────────────────────┴─────────────────┘\n",
              "</pre>\n"
            ]
          },
          "metadata": {}
        },
        {
          "output_type": "display_data",
          "data": {
            "text/plain": [
              "\u001b[1m Total params: \u001b[0m\u001b[38;5;34m30,902\u001b[0m (120.71 KB)\n"
            ],
            "text/html": [
              "<pre style=\"white-space:pre;overflow-x:auto;line-height:normal;font-family:Menlo,'DejaVu Sans Mono',consolas,'Courier New',monospace\"><span style=\"font-weight: bold\"> Total params: </span><span style=\"color: #00af00; text-decoration-color: #00af00\">30,902</span> (120.71 KB)\n",
              "</pre>\n"
            ]
          },
          "metadata": {}
        },
        {
          "output_type": "display_data",
          "data": {
            "text/plain": [
              "\u001b[1m Trainable params: \u001b[0m\u001b[38;5;34m30,902\u001b[0m (120.71 KB)\n"
            ],
            "text/html": [
              "<pre style=\"white-space:pre;overflow-x:auto;line-height:normal;font-family:Menlo,'DejaVu Sans Mono',consolas,'Courier New',monospace\"><span style=\"font-weight: bold\"> Trainable params: </span><span style=\"color: #00af00; text-decoration-color: #00af00\">30,902</span> (120.71 KB)\n",
              "</pre>\n"
            ]
          },
          "metadata": {}
        },
        {
          "output_type": "display_data",
          "data": {
            "text/plain": [
              "\u001b[1m Non-trainable params: \u001b[0m\u001b[38;5;34m0\u001b[0m (0.00 B)\n"
            ],
            "text/html": [
              "<pre style=\"white-space:pre;overflow-x:auto;line-height:normal;font-family:Menlo,'DejaVu Sans Mono',consolas,'Courier New',monospace\"><span style=\"font-weight: bold\"> Non-trainable params: </span><span style=\"color: #00af00; text-decoration-color: #00af00\">0</span> (0.00 B)\n",
              "</pre>\n"
            ]
          },
          "metadata": {}
        }
      ],
      "source": [
        "# imported Sequential from keras.models\n",
        "model = Sequential()\n",
        "# importing Dense, Dropout, LSTM, Bidirectional from keras.layers\n",
        "model.add(LSTM(units=50, return_sequences=True, input_shape = (train_seq.shape[1], train_seq.shape[2])))\n",
        "\n",
        "model.add(Dropout(0.1))\n",
        "model.add(LSTM(units=50))\n",
        "\n",
        "model.add(Dense(2))\n",
        "\n",
        "model.compile(loss='mean_squared_error', optimizer='adam', metrics=['mean_absolute_error'])\n",
        "\n",
        "model.summary()"
      ]
    },
    {
      "cell_type": "code",
      "source": [
        "# fitting the model by iterating the dataset over 100 times(100 epochs)\n",
        "model.fit(train_seq, train_label, epochs=20,validation_data=(test_seq, test_label), verbose=1)"
      ],
      "metadata": {
        "id": "zOvv7lEBcwCt",
        "colab": {
          "base_uri": "https://localhost:8080/"
        },
        "outputId": "dce7a79f-b8fd-4610-831b-97057f4bb89e"
      },
      "id": "zOvv7lEBcwCt",
      "execution_count": 17,
      "outputs": [
        {
          "output_type": "stream",
          "name": "stdout",
          "text": [
            "Epoch 1/20\n",
            "\u001b[1m28/28\u001b[0m \u001b[32m━━━━━━━━━━━━━━━━━━━━\u001b[0m\u001b[37m\u001b[0m \u001b[1m5s\u001b[0m 59ms/step - loss: 0.0171 - mean_absolute_error: 0.0979 - val_loss: 0.0139 - val_mean_absolute_error: 0.0941\n",
            "Epoch 2/20\n",
            "\u001b[1m28/28\u001b[0m \u001b[32m━━━━━━━━━━━━━━━━━━━━\u001b[0m\u001b[37m\u001b[0m \u001b[1m2s\u001b[0m 46ms/step - loss: 8.1261e-04 - mean_absolute_error: 0.0231 - val_loss: 0.0055 - val_mean_absolute_error: 0.0592\n",
            "Epoch 3/20\n",
            "\u001b[1m28/28\u001b[0m \u001b[32m━━━━━━━━━━━━━━━━━━━━\u001b[0m\u001b[37m\u001b[0m \u001b[1m3s\u001b[0m 49ms/step - loss: 5.0779e-04 - mean_absolute_error: 0.0168 - val_loss: 0.0034 - val_mean_absolute_error: 0.0448\n",
            "Epoch 4/20\n",
            "\u001b[1m28/28\u001b[0m \u001b[32m━━━━━━━━━━━━━━━━━━━━\u001b[0m\u001b[37m\u001b[0m \u001b[1m3s\u001b[0m 65ms/step - loss: 4.8498e-04 - mean_absolute_error: 0.0161 - val_loss: 0.0046 - val_mean_absolute_error: 0.0538\n",
            "Epoch 5/20\n",
            "\u001b[1m28/28\u001b[0m \u001b[32m━━━━━━━━━━━━━━━━━━━━\u001b[0m\u001b[37m\u001b[0m \u001b[1m2s\u001b[0m 45ms/step - loss: 4.4254e-04 - mean_absolute_error: 0.0154 - val_loss: 0.0033 - val_mean_absolute_error: 0.0442\n",
            "Epoch 6/20\n",
            "\u001b[1m28/28\u001b[0m \u001b[32m━━━━━━━━━━━━━━━━━━━━\u001b[0m\u001b[37m\u001b[0m \u001b[1m1s\u001b[0m 45ms/step - loss: 5.0752e-04 - mean_absolute_error: 0.0158 - val_loss: 0.0029 - val_mean_absolute_error: 0.0409\n",
            "Epoch 7/20\n",
            "\u001b[1m28/28\u001b[0m \u001b[32m━━━━━━━━━━━━━━━━━━━━\u001b[0m\u001b[37m\u001b[0m \u001b[1m3s\u001b[0m 46ms/step - loss: 4.1410e-04 - mean_absolute_error: 0.0151 - val_loss: 0.0033 - val_mean_absolute_error: 0.0435\n",
            "Epoch 8/20\n",
            "\u001b[1m28/28\u001b[0m \u001b[32m━━━━━━━━━━━━━━━━━━━━\u001b[0m\u001b[37m\u001b[0m \u001b[1m1s\u001b[0m 46ms/step - loss: 4.0318e-04 - mean_absolute_error: 0.0145 - val_loss: 0.0034 - val_mean_absolute_error: 0.0445\n",
            "Epoch 9/20\n",
            "\u001b[1m28/28\u001b[0m \u001b[32m━━━━━━━━━━━━━━━━━━━━\u001b[0m\u001b[37m\u001b[0m \u001b[1m1s\u001b[0m 46ms/step - loss: 4.0077e-04 - mean_absolute_error: 0.0145 - val_loss: 0.0053 - val_mean_absolute_error: 0.0584\n",
            "Epoch 10/20\n",
            "\u001b[1m28/28\u001b[0m \u001b[32m━━━━━━━━━━━━━━━━━━━━\u001b[0m\u001b[37m\u001b[0m \u001b[1m2s\u001b[0m 56ms/step - loss: 3.9700e-04 - mean_absolute_error: 0.0148 - val_loss: 0.0045 - val_mean_absolute_error: 0.0527\n",
            "Epoch 11/20\n",
            "\u001b[1m28/28\u001b[0m \u001b[32m━━━━━━━━━━━━━━━━━━━━\u001b[0m\u001b[37m\u001b[0m \u001b[1m2s\u001b[0m 75ms/step - loss: 3.8838e-04 - mean_absolute_error: 0.0142 - val_loss: 0.0038 - val_mean_absolute_error: 0.0480\n",
            "Epoch 12/20\n",
            "\u001b[1m28/28\u001b[0m \u001b[32m━━━━━━━━━━━━━━━━━━━━\u001b[0m\u001b[37m\u001b[0m \u001b[1m2s\u001b[0m 46ms/step - loss: 3.7482e-04 - mean_absolute_error: 0.0142 - val_loss: 0.0042 - val_mean_absolute_error: 0.0509\n",
            "Epoch 13/20\n",
            "\u001b[1m28/28\u001b[0m \u001b[32m━━━━━━━━━━━━━━━━━━━━\u001b[0m\u001b[37m\u001b[0m \u001b[1m3s\u001b[0m 46ms/step - loss: 3.2172e-04 - mean_absolute_error: 0.0132 - val_loss: 0.0032 - val_mean_absolute_error: 0.0432\n",
            "Epoch 14/20\n",
            "\u001b[1m28/28\u001b[0m \u001b[32m━━━━━━━━━━━━━━━━━━━━\u001b[0m\u001b[37m\u001b[0m \u001b[1m3s\u001b[0m 45ms/step - loss: 3.6156e-04 - mean_absolute_error: 0.0141 - val_loss: 0.0031 - val_mean_absolute_error: 0.0421\n",
            "Epoch 15/20\n",
            "\u001b[1m28/28\u001b[0m \u001b[32m━━━━━━━━━━━━━━━━━━━━\u001b[0m\u001b[37m\u001b[0m \u001b[1m3s\u001b[0m 46ms/step - loss: 3.1315e-04 - mean_absolute_error: 0.0129 - val_loss: 0.0038 - val_mean_absolute_error: 0.0472\n",
            "Epoch 16/20\n",
            "\u001b[1m28/28\u001b[0m \u001b[32m━━━━━━━━━━━━━━━━━━━━\u001b[0m\u001b[37m\u001b[0m \u001b[1m3s\u001b[0m 75ms/step - loss: 3.5455e-04 - mean_absolute_error: 0.0138 - val_loss: 0.0033 - val_mean_absolute_error: 0.0440\n",
            "Epoch 17/20\n",
            "\u001b[1m28/28\u001b[0m \u001b[32m━━━━━━━━━━━━━━━━━━━━\u001b[0m\u001b[37m\u001b[0m \u001b[1m2s\u001b[0m 58ms/step - loss: 3.6060e-04 - mean_absolute_error: 0.0137 - val_loss: 0.0039 - val_mean_absolute_error: 0.0489\n",
            "Epoch 18/20\n",
            "\u001b[1m28/28\u001b[0m \u001b[32m━━━━━━━━━━━━━━━━━━━━\u001b[0m\u001b[37m\u001b[0m \u001b[1m2s\u001b[0m 46ms/step - loss: 3.2515e-04 - mean_absolute_error: 0.0132 - val_loss: 0.0050 - val_mean_absolute_error: 0.0564\n",
            "Epoch 19/20\n",
            "\u001b[1m28/28\u001b[0m \u001b[32m━━━━━━━━━━━━━━━━━━━━\u001b[0m\u001b[37m\u001b[0m \u001b[1m1s\u001b[0m 46ms/step - loss: 3.1108e-04 - mean_absolute_error: 0.0130 - val_loss: 0.0033 - val_mean_absolute_error: 0.0435\n",
            "Epoch 20/20\n",
            "\u001b[1m28/28\u001b[0m \u001b[32m━━━━━━━━━━━━━━━━━━━━\u001b[0m\u001b[37m\u001b[0m \u001b[1m1s\u001b[0m 46ms/step - loss: 3.3771e-04 - mean_absolute_error: 0.0132 - val_loss: 0.0050 - val_mean_absolute_error: 0.0565\n"
          ]
        },
        {
          "output_type": "execute_result",
          "data": {
            "text/plain": [
              "<keras.src.callbacks.history.History at 0x7b7a705968c0>"
            ]
          },
          "metadata": {},
          "execution_count": 17
        }
      ]
    },
    {
      "cell_type": "code",
      "source": [
        "# predicting the values after running the model\n",
        "test_predicted = model.predict(test_seq)\n",
        "test_predicted[:5]"
      ],
      "metadata": {
        "id": "jWcaad778DqX",
        "colab": {
          "base_uri": "https://localhost:8080/"
        },
        "outputId": "a591d739-62fa-4569-80a6-1ff249f38793"
      },
      "id": "jWcaad778DqX",
      "execution_count": 18,
      "outputs": [
        {
          "output_type": "stream",
          "name": "stdout",
          "text": [
            "\u001b[1m9/9\u001b[0m \u001b[32m━━━━━━━━━━━━━━━━━━━━\u001b[0m\u001b[37m\u001b[0m \u001b[1m1s\u001b[0m 44ms/step\n"
          ]
        },
        {
          "output_type": "execute_result",
          "data": {
            "text/plain": [
              "array([[0.37826702, 0.3816278 ],\n",
              "       [0.3811379 , 0.38434735],\n",
              "       [0.38342696, 0.38661006],\n",
              "       [0.3857873 , 0.38895008],\n",
              "       [0.38806355, 0.39122218]], dtype=float32)"
            ]
          },
          "metadata": {},
          "execution_count": 18
        }
      ]
    },
    {
      "cell_type": "code",
      "source": [
        "# Inversing normalization/scaling on predicted data\n",
        "test_inverse_predicted = MMS.inverse_transform(test_predicted)\n",
        "test_inverse_predicted[:5]"
      ],
      "metadata": {
        "id": "EnB0yHDh-06D",
        "colab": {
          "base_uri": "https://localhost:8080/"
        },
        "outputId": "a4a8f6d0-569a-438e-f7d4-6dfa0b7b6276"
      },
      "id": "EnB0yHDh-06D",
      "execution_count": 19,
      "outputs": [
        {
          "output_type": "execute_result",
          "data": {
            "text/plain": [
              "array([[1372.2767, 1375.5461],\n",
              "       [1377.5992, 1380.5863],\n",
              "       [1381.8429, 1384.7799],\n",
              "       [1386.2189, 1389.1167],\n",
              "       [1390.4388, 1393.3278]], dtype=float32)"
            ]
          },
          "metadata": {},
          "execution_count": 19
        }
      ]
    },
    {
      "cell_type": "code",
      "source": [
        "# Merging actual and predicted data for better visualization\n",
        "df_merge = pd.concat([df.iloc[-264:].copy(),\n",
        "                          pd.DataFrame(test_inverse_predicted,columns=['open_predicted','close_predicted'],\n",
        "                                       index=df.iloc[-264:].index)], axis=1)"
      ],
      "metadata": {
        "id": "V8XNO1K9_-De"
      },
      "id": "V8XNO1K9_-De",
      "execution_count": 20,
      "outputs": []
    },
    {
      "cell_type": "code",
      "source": [
        "# Inversing normalization/scaling\n",
        "df_merge[['open','close']] = MMS.inverse_transform(df_merge[['open','close']])\n",
        "df_merge.head()"
      ],
      "metadata": {
        "id": "tMvfboZBBebR",
        "colab": {
          "base_uri": "https://localhost:8080/",
          "height": 237
        },
        "outputId": "906afa67-1e11-46df-942c-318a91305d98"
      },
      "id": "tMvfboZBBebR",
      "execution_count": 21,
      "outputs": [
        {
          "output_type": "execute_result",
          "data": {
            "text/plain": [
              "               open    close  open_predicted  close_predicted\n",
              "date                                                         \n",
              "2020-05-27  1417.25  1417.84     1372.276733      1375.546143\n",
              "2020-05-28  1396.86  1416.73     1377.599243      1380.586304\n",
              "2020-05-29  1416.94  1428.92     1381.842896      1384.779907\n",
              "2020-06-01  1418.39  1431.82     1386.218872      1389.116699\n",
              "2020-06-02  1430.55  1439.22     1390.438843      1393.327759"
            ],
            "text/html": [
              "\n",
              "  <div id=\"df-0cbaa13c-0085-4429-939d-011d44be2c36\" class=\"colab-df-container\">\n",
              "    <div>\n",
              "<style scoped>\n",
              "    .dataframe tbody tr th:only-of-type {\n",
              "        vertical-align: middle;\n",
              "    }\n",
              "\n",
              "    .dataframe tbody tr th {\n",
              "        vertical-align: top;\n",
              "    }\n",
              "\n",
              "    .dataframe thead th {\n",
              "        text-align: right;\n",
              "    }\n",
              "</style>\n",
              "<table border=\"1\" class=\"dataframe\">\n",
              "  <thead>\n",
              "    <tr style=\"text-align: right;\">\n",
              "      <th></th>\n",
              "      <th>open</th>\n",
              "      <th>close</th>\n",
              "      <th>open_predicted</th>\n",
              "      <th>close_predicted</th>\n",
              "    </tr>\n",
              "    <tr>\n",
              "      <th>date</th>\n",
              "      <th></th>\n",
              "      <th></th>\n",
              "      <th></th>\n",
              "      <th></th>\n",
              "    </tr>\n",
              "  </thead>\n",
              "  <tbody>\n",
              "    <tr>\n",
              "      <th>2020-05-27</th>\n",
              "      <td>1417.25</td>\n",
              "      <td>1417.84</td>\n",
              "      <td>1372.276733</td>\n",
              "      <td>1375.546143</td>\n",
              "    </tr>\n",
              "    <tr>\n",
              "      <th>2020-05-28</th>\n",
              "      <td>1396.86</td>\n",
              "      <td>1416.73</td>\n",
              "      <td>1377.599243</td>\n",
              "      <td>1380.586304</td>\n",
              "    </tr>\n",
              "    <tr>\n",
              "      <th>2020-05-29</th>\n",
              "      <td>1416.94</td>\n",
              "      <td>1428.92</td>\n",
              "      <td>1381.842896</td>\n",
              "      <td>1384.779907</td>\n",
              "    </tr>\n",
              "    <tr>\n",
              "      <th>2020-06-01</th>\n",
              "      <td>1418.39</td>\n",
              "      <td>1431.82</td>\n",
              "      <td>1386.218872</td>\n",
              "      <td>1389.116699</td>\n",
              "    </tr>\n",
              "    <tr>\n",
              "      <th>2020-06-02</th>\n",
              "      <td>1430.55</td>\n",
              "      <td>1439.22</td>\n",
              "      <td>1390.438843</td>\n",
              "      <td>1393.327759</td>\n",
              "    </tr>\n",
              "  </tbody>\n",
              "</table>\n",
              "</div>\n",
              "    <div class=\"colab-df-buttons\">\n",
              "\n",
              "  <div class=\"colab-df-container\">\n",
              "    <button class=\"colab-df-convert\" onclick=\"convertToInteractive('df-0cbaa13c-0085-4429-939d-011d44be2c36')\"\n",
              "            title=\"Convert this dataframe to an interactive table.\"\n",
              "            style=\"display:none;\">\n",
              "\n",
              "  <svg xmlns=\"http://www.w3.org/2000/svg\" height=\"24px\" viewBox=\"0 -960 960 960\">\n",
              "    <path d=\"M120-120v-720h720v720H120Zm60-500h600v-160H180v160Zm220 220h160v-160H400v160Zm0 220h160v-160H400v160ZM180-400h160v-160H180v160Zm440 0h160v-160H620v160ZM180-180h160v-160H180v160Zm440 0h160v-160H620v160Z\"/>\n",
              "  </svg>\n",
              "    </button>\n",
              "\n",
              "  <style>\n",
              "    .colab-df-container {\n",
              "      display:flex;\n",
              "      gap: 12px;\n",
              "    }\n",
              "\n",
              "    .colab-df-convert {\n",
              "      background-color: #E8F0FE;\n",
              "      border: none;\n",
              "      border-radius: 50%;\n",
              "      cursor: pointer;\n",
              "      display: none;\n",
              "      fill: #1967D2;\n",
              "      height: 32px;\n",
              "      padding: 0 0 0 0;\n",
              "      width: 32px;\n",
              "    }\n",
              "\n",
              "    .colab-df-convert:hover {\n",
              "      background-color: #E2EBFA;\n",
              "      box-shadow: 0px 1px 2px rgba(60, 64, 67, 0.3), 0px 1px 3px 1px rgba(60, 64, 67, 0.15);\n",
              "      fill: #174EA6;\n",
              "    }\n",
              "\n",
              "    .colab-df-buttons div {\n",
              "      margin-bottom: 4px;\n",
              "    }\n",
              "\n",
              "    [theme=dark] .colab-df-convert {\n",
              "      background-color: #3B4455;\n",
              "      fill: #D2E3FC;\n",
              "    }\n",
              "\n",
              "    [theme=dark] .colab-df-convert:hover {\n",
              "      background-color: #434B5C;\n",
              "      box-shadow: 0px 1px 3px 1px rgba(0, 0, 0, 0.15);\n",
              "      filter: drop-shadow(0px 1px 2px rgba(0, 0, 0, 0.3));\n",
              "      fill: #FFFFFF;\n",
              "    }\n",
              "  </style>\n",
              "\n",
              "    <script>\n",
              "      const buttonEl =\n",
              "        document.querySelector('#df-0cbaa13c-0085-4429-939d-011d44be2c36 button.colab-df-convert');\n",
              "      buttonEl.style.display =\n",
              "        google.colab.kernel.accessAllowed ? 'block' : 'none';\n",
              "\n",
              "      async function convertToInteractive(key) {\n",
              "        const element = document.querySelector('#df-0cbaa13c-0085-4429-939d-011d44be2c36');\n",
              "        const dataTable =\n",
              "          await google.colab.kernel.invokeFunction('convertToInteractive',\n",
              "                                                    [key], {});\n",
              "        if (!dataTable) return;\n",
              "\n",
              "        const docLinkHtml = 'Like what you see? Visit the ' +\n",
              "          '<a target=\"_blank\" href=https://colab.research.google.com/notebooks/data_table.ipynb>data table notebook</a>'\n",
              "          + ' to learn more about interactive tables.';\n",
              "        element.innerHTML = '';\n",
              "        dataTable['output_type'] = 'display_data';\n",
              "        await google.colab.output.renderOutput(dataTable, element);\n",
              "        const docLink = document.createElement('div');\n",
              "        docLink.innerHTML = docLinkHtml;\n",
              "        element.appendChild(docLink);\n",
              "      }\n",
              "    </script>\n",
              "  </div>\n",
              "\n",
              "\n",
              "<div id=\"df-2376df8c-898d-4425-9e84-6b3c4b8589bf\">\n",
              "  <button class=\"colab-df-quickchart\" onclick=\"quickchart('df-2376df8c-898d-4425-9e84-6b3c4b8589bf')\"\n",
              "            title=\"Suggest charts\"\n",
              "            style=\"display:none;\">\n",
              "\n",
              "<svg xmlns=\"http://www.w3.org/2000/svg\" height=\"24px\"viewBox=\"0 0 24 24\"\n",
              "     width=\"24px\">\n",
              "    <g>\n",
              "        <path d=\"M19 3H5c-1.1 0-2 .9-2 2v14c0 1.1.9 2 2 2h14c1.1 0 2-.9 2-2V5c0-1.1-.9-2-2-2zM9 17H7v-7h2v7zm4 0h-2V7h2v10zm4 0h-2v-4h2v4z\"/>\n",
              "    </g>\n",
              "</svg>\n",
              "  </button>\n",
              "\n",
              "<style>\n",
              "  .colab-df-quickchart {\n",
              "      --bg-color: #E8F0FE;\n",
              "      --fill-color: #1967D2;\n",
              "      --hover-bg-color: #E2EBFA;\n",
              "      --hover-fill-color: #174EA6;\n",
              "      --disabled-fill-color: #AAA;\n",
              "      --disabled-bg-color: #DDD;\n",
              "  }\n",
              "\n",
              "  [theme=dark] .colab-df-quickchart {\n",
              "      --bg-color: #3B4455;\n",
              "      --fill-color: #D2E3FC;\n",
              "      --hover-bg-color: #434B5C;\n",
              "      --hover-fill-color: #FFFFFF;\n",
              "      --disabled-bg-color: #3B4455;\n",
              "      --disabled-fill-color: #666;\n",
              "  }\n",
              "\n",
              "  .colab-df-quickchart {\n",
              "    background-color: var(--bg-color);\n",
              "    border: none;\n",
              "    border-radius: 50%;\n",
              "    cursor: pointer;\n",
              "    display: none;\n",
              "    fill: var(--fill-color);\n",
              "    height: 32px;\n",
              "    padding: 0;\n",
              "    width: 32px;\n",
              "  }\n",
              "\n",
              "  .colab-df-quickchart:hover {\n",
              "    background-color: var(--hover-bg-color);\n",
              "    box-shadow: 0 1px 2px rgba(60, 64, 67, 0.3), 0 1px 3px 1px rgba(60, 64, 67, 0.15);\n",
              "    fill: var(--button-hover-fill-color);\n",
              "  }\n",
              "\n",
              "  .colab-df-quickchart-complete:disabled,\n",
              "  .colab-df-quickchart-complete:disabled:hover {\n",
              "    background-color: var(--disabled-bg-color);\n",
              "    fill: var(--disabled-fill-color);\n",
              "    box-shadow: none;\n",
              "  }\n",
              "\n",
              "  .colab-df-spinner {\n",
              "    border: 2px solid var(--fill-color);\n",
              "    border-color: transparent;\n",
              "    border-bottom-color: var(--fill-color);\n",
              "    animation:\n",
              "      spin 1s steps(1) infinite;\n",
              "  }\n",
              "\n",
              "  @keyframes spin {\n",
              "    0% {\n",
              "      border-color: transparent;\n",
              "      border-bottom-color: var(--fill-color);\n",
              "      border-left-color: var(--fill-color);\n",
              "    }\n",
              "    20% {\n",
              "      border-color: transparent;\n",
              "      border-left-color: var(--fill-color);\n",
              "      border-top-color: var(--fill-color);\n",
              "    }\n",
              "    30% {\n",
              "      border-color: transparent;\n",
              "      border-left-color: var(--fill-color);\n",
              "      border-top-color: var(--fill-color);\n",
              "      border-right-color: var(--fill-color);\n",
              "    }\n",
              "    40% {\n",
              "      border-color: transparent;\n",
              "      border-right-color: var(--fill-color);\n",
              "      border-top-color: var(--fill-color);\n",
              "    }\n",
              "    60% {\n",
              "      border-color: transparent;\n",
              "      border-right-color: var(--fill-color);\n",
              "    }\n",
              "    80% {\n",
              "      border-color: transparent;\n",
              "      border-right-color: var(--fill-color);\n",
              "      border-bottom-color: var(--fill-color);\n",
              "    }\n",
              "    90% {\n",
              "      border-color: transparent;\n",
              "      border-bottom-color: var(--fill-color);\n",
              "    }\n",
              "  }\n",
              "</style>\n",
              "\n",
              "  <script>\n",
              "    async function quickchart(key) {\n",
              "      const quickchartButtonEl =\n",
              "        document.querySelector('#' + key + ' button');\n",
              "      quickchartButtonEl.disabled = true;  // To prevent multiple clicks.\n",
              "      quickchartButtonEl.classList.add('colab-df-spinner');\n",
              "      try {\n",
              "        const charts = await google.colab.kernel.invokeFunction(\n",
              "            'suggestCharts', [key], {});\n",
              "      } catch (error) {\n",
              "        console.error('Error during call to suggestCharts:', error);\n",
              "      }\n",
              "      quickchartButtonEl.classList.remove('colab-df-spinner');\n",
              "      quickchartButtonEl.classList.add('colab-df-quickchart-complete');\n",
              "    }\n",
              "    (() => {\n",
              "      let quickchartButtonEl =\n",
              "        document.querySelector('#df-2376df8c-898d-4425-9e84-6b3c4b8589bf button');\n",
              "      quickchartButtonEl.style.display =\n",
              "        google.colab.kernel.accessAllowed ? 'block' : 'none';\n",
              "    })();\n",
              "  </script>\n",
              "</div>\n",
              "\n",
              "    </div>\n",
              "  </div>\n"
            ],
            "application/vnd.google.colaboratory.intrinsic+json": {
              "type": "dataframe",
              "variable_name": "df_merge",
              "summary": "{\n  \"name\": \"df_merge\",\n  \"rows\": 264,\n  \"fields\": [\n    {\n      \"column\": \"date\",\n      \"properties\": {\n        \"dtype\": \"date\",\n        \"min\": \"2020-05-27 00:00:00\",\n        \"max\": \"2021-06-11 00:00:00\",\n        \"num_unique_values\": 264,\n        \"samples\": [\n          \"2020-09-01 00:00:00\",\n          \"2021-03-04 00:00:00\",\n          \"2020-09-22 00:00:00\"\n        ],\n        \"semantic_type\": \"\",\n        \"description\": \"\"\n      }\n    },\n    {\n      \"column\": \"open\",\n      \"properties\": {\n        \"dtype\": \"number\",\n        \"std\": 327.8486335229089,\n        \"min\": 1358.18,\n        \"max\": 2524.92,\n        \"num_unique_values\": 261,\n        \"samples\": [\n          1506.45,\n          1713.51,\n          1853.5700000000002\n        ],\n        \"semantic_type\": \"\",\n        \"description\": \"\"\n      }\n    },\n    {\n      \"column\": \"close\",\n      \"properties\": {\n        \"dtype\": \"number\",\n        \"std\": 328.4523045673043,\n        \"min\": 1359.9,\n        \"max\": 2521.6,\n        \"num_unique_values\": 263,\n        \"samples\": [\n          1761.75,\n          1777.02,\n          2482.85\n        ],\n        \"semantic_type\": \"\",\n        \"description\": \"\"\n      }\n    },\n    {\n      \"column\": \"open_predicted\",\n      \"properties\": {\n        \"dtype\": \"float32\",\n        \"num_unique_values\": 264,\n        \"samples\": [\n          1568.035400390625,\n          1931.7392578125,\n          1481.3958740234375\n        ],\n        \"semantic_type\": \"\",\n        \"description\": \"\"\n      }\n    },\n    {\n      \"column\": \"close_predicted\",\n      \"properties\": {\n        \"dtype\": \"float32\",\n        \"num_unique_values\": 264,\n        \"samples\": [\n          1570.6083984375,\n          1942.6453857421875,\n          1487.6439208984375\n        ],\n        \"semantic_type\": \"\",\n        \"description\": \"\"\n      }\n    }\n  ]\n}"
            }
          },
          "metadata": {},
          "execution_count": 21
        }
      ]
    },
    {
      "cell_type": "code",
      "source": [
        "# plotting the actual open and predicted open prices on date index\n",
        "df_merge[['open','open_predicted']].plot(figsize=(10,6))\n",
        "plt.xticks(rotation=45)\n",
        "plt.xlabel('Date',size=15)\n",
        "plt.ylabel('Stock Price',size=15)\n",
        "plt.title('Actual vs Predicted for open price',size=15)\n",
        "plt.show()"
      ],
      "metadata": {
        "id": "bsHj-wtzBg0T",
        "colab": {
          "base_uri": "https://localhost:8080/",
          "height": 433
        },
        "outputId": "eb71ce91-4479-4d90-bd1d-179b13a70e6b"
      },
      "id": "bsHj-wtzBg0T",
      "execution_count": 22,
      "outputs": [
        {
          "output_type": "display_data",
          "data": {
            "text/plain": [
              "<Figure size 1000x600 with 1 Axes>"
            ],
            "image/png": "[encoded data removed]"
          },
          "metadata": {}
        }
      ]
    },
    {
      "cell_type": "code",
      "source": [
        "# plotting the actual close and predicted close prices on date index\n",
        "df_merge[['close','close_predicted']].plot(figsize=(10,6))\n",
        "plt.xticks(rotation=45)\n",
        "plt.xlabel('Date',size=15)\n",
        "plt.ylabel('Stock Price',size=15)\n",
        "plt.title('Actual vs Predicted for close price',size=15)\n",
        "plt.show()"
      ],
      "metadata": {
        "id": "DsshItN7BoHk",
        "colab": {
          "base_uri": "https://localhost:8080/",
          "height": 433
        },
        "outputId": "a6d4596b-43a8-4523-d9ce-7e95af34a61c"
      },
      "id": "DsshItN7BoHk",
      "execution_count": 23,
      "outputs": [
        {
          "output_type": "display_data",
          "data": {
            "text/plain": [
              "<Figure size 1000x600 with 1 Axes>"
            ],
            "image/png": "[encoded data removed]"
          },
          "metadata": {}
        }
      ]
    },
    {
      "cell_type": "markdown",
      "source": [
        "STEP 7 - Upcoming Price Prediction"
      ],
      "metadata": {
        "id": "GZt4OjQsCI3g"
      },
      "id": "GZt4OjQsCI3g"
    },
    {
      "cell_type": "code",
      "source": [
        "# Creating a new DataFrame to append 10 days of empty data\n",
        "new_data = pd.DataFrame(index=pd.date_range(start=df_merge.index[-1], periods=11, freq='D'))\n",
        "\n",
        "# Appending the new_data to df_merge\n",
        "df_merge = pd.concat([df_merge, new_data])\n",
        "\n",
        "# Now you can select the specific date range\n",
        "selected_date_range = df_merge['2021-06-09':'2021-06-28']\n",
        "print(selected_date_range)"
      ],
      "metadata": {
        "id": "TvABejq-Br1y",
        "colab": {
          "base_uri": "https://localhost:8080/"
        },
        "outputId": "6c0aa3a0-34e5-42d4-f94c-671f2de8da7c"
      },
      "id": "TvABejq-Br1y",
      "execution_count": 24,
      "outputs": [
        {
          "output_type": "stream",
          "name": "stdout",
          "text": [
            "               open    close  open_predicted  close_predicted\n",
            "2021-06-09  2499.50  2491.40     2211.469238      2212.852539\n",
            "2021-06-10  2494.01  2521.60     2219.928711      2221.162842\n",
            "2021-06-11  2524.92  2513.93     2229.267578      2230.185303\n",
            "2021-06-11      NaN      NaN             NaN              NaN\n",
            "2021-06-12      NaN      NaN             NaN              NaN\n",
            "2021-06-13      NaN      NaN             NaN              NaN\n",
            "2021-06-14      NaN      NaN             NaN              NaN\n",
            "2021-06-15      NaN      NaN             NaN              NaN\n",
            "2021-06-16      NaN      NaN             NaN              NaN\n",
            "2021-06-17      NaN      NaN             NaN              NaN\n",
            "2021-06-18      NaN      NaN             NaN              NaN\n",
            "2021-06-19      NaN      NaN             NaN              NaN\n",
            "2021-06-20      NaN      NaN             NaN              NaN\n",
            "2021-06-21      NaN      NaN             NaN              NaN\n"
          ]
        }
      ]
    },
    {
      "cell_type": "code",
      "source": [
        "# creating a DataFrame and filling values of open and close column\n",
        "upcoming_prediction = pd.DataFrame(columns=['open','close'],index=df_merge.index)\n",
        "upcoming_prediction.index=pd.to_datetime(upcoming_prediction.index)"
      ],
      "metadata": {
        "id": "VztBY-d2CGkJ"
      },
      "id": "VztBY-d2CGkJ",
      "execution_count": 25,
      "outputs": []
    },
    {
      "cell_type": "code",
      "source": [
        "curr_seq = test_seq[-1:]\n",
        "\n",
        "for i in range(-10,0):\n",
        "  up_pred = model.predict(curr_seq)\n",
        "  upcoming_prediction.iloc[i] = up_pred\n",
        "  curr_seq = np.append(curr_seq[0][1:],up_pred,axis=0)\n",
        "  curr_seq = curr_seq.reshape(test_seq[-1:].shape)"
      ],
      "metadata": {
        "id": "iyN-vV-OC9zj",
        "colab": {
          "base_uri": "https://localhost:8080/"
        },
        "outputId": "ab29c077-a4e0-4eb4-b788-d05fb6ed80b0"
      },
      "id": "iyN-vV-OC9zj",
      "execution_count": 26,
      "outputs": [
        {
          "output_type": "stream",
          "name": "stdout",
          "text": [
            "\u001b[1m1/1\u001b[0m \u001b[32m━━━━━━━━━━━━━━━━━━━━\u001b[0m\u001b[37m\u001b[0m \u001b[1m0s\u001b[0m 25ms/step\n",
            "\u001b[1m1/1\u001b[0m \u001b[32m━━━━━━━━━━━━━━━━━━━━\u001b[0m\u001b[37m\u001b[0m \u001b[1m0s\u001b[0m 23ms/step\n",
            "\u001b[1m1/1\u001b[0m \u001b[32m━━━━━━━━━━━━━━━━━━━━\u001b[0m\u001b[37m\u001b[0m \u001b[1m0s\u001b[0m 24ms/step\n",
            "\u001b[1m1/1\u001b[0m \u001b[32m━━━━━━━━━━━━━━━━━━━━\u001b[0m\u001b[37m\u001b[0m \u001b[1m0s\u001b[0m 23ms/step\n",
            "\u001b[1m1/1\u001b[0m \u001b[32m━━━━━━━━━━━━━━━━━━━━\u001b[0m\u001b[37m\u001b[0m \u001b[1m0s\u001b[0m 22ms/step\n",
            "\u001b[1m1/1\u001b[0m \u001b[32m━━━━━━━━━━━━━━━━━━━━\u001b[0m\u001b[37m\u001b[0m \u001b[1m0s\u001b[0m 23ms/step\n",
            "\u001b[1m1/1\u001b[0m \u001b[32m━━━━━━━━━━━━━━━━━━━━\u001b[0m\u001b[37m\u001b[0m \u001b[1m0s\u001b[0m 22ms/step\n",
            "\u001b[1m1/1\u001b[0m \u001b[32m━━━━━━━━━━━━━━━━━━━━\u001b[0m\u001b[37m\u001b[0m \u001b[1m0s\u001b[0m 23ms/step\n",
            "\u001b[1m1/1\u001b[0m \u001b[32m━━━━━━━━━━━━━━━━━━━━\u001b[0m\u001b[37m\u001b[0m \u001b[1m0s\u001b[0m 30ms/step\n",
            "\u001b[1m1/1\u001b[0m \u001b[32m━━━━━━━━━━━━━━━━━━━━\u001b[0m\u001b[37m\u001b[0m \u001b[1m0s\u001b[0m 23ms/step\n"
          ]
        }
      ]
    },
    {
      "cell_type": "code",
      "source": [
        "from sklearn.metrics import mean_squared_error, mean_absolute_error, r2_score\n",
        "import numpy as np\n",
        "\n",
        "scaler = MMS  # Assign MMS to scaler\n",
        "\n",
        "# Assuming 'test_label' contains the true values for the test set\n",
        "# and 'test_predicted' contains the model's predictions\n",
        "# You might need to adjust these variable names if they are different in your code\n",
        "\n",
        "# Real prices (inverse transformed y_test)\n",
        "# Reshape test_label to have the same shape as the scaler expects\n",
        "real_prices = scaler.inverse_transform(test_label.reshape(-1, scaler.n_features_in_))\n",
        "\n",
        "# Predicted prices (inverse transformed predictions from the model)\n",
        "predicted_prices = scaler.inverse_transform(test_predicted)\n",
        "\n",
        "# Metrics calculation\n",
        "mse = mean_squared_error(real_prices, predicted_prices)\n",
        "rmse = np.sqrt(mse)\n",
        "mae = mean_absolute_error(real_prices, predicted_prices)\n",
        "r2 = r2_score(real_prices, predicted_prices)\n",
        "\n",
        "# Print the results\n",
        "print(f\"Mean Squared Error (MSE): {mse}\")\n",
        "print(f\"Root Mean Squared Error (RMSE): {rmse}\")\n",
        "print(f\"Mean Absolute Error (MAE): {mae}\")\n",
        "print(f\"R-squared (R2): {r2}\")\n"
      ],
      "metadata": {
        "colab": {
          "base_uri": "https://localhost:8080/"
        },
        "id": "ZZL38pjHVR5r",
        "outputId": "1e014b33-2693-43c9-f817-1b1a790b214e"
      },
      "id": "ZZL38pjHVR5r",
      "execution_count": 29,
      "outputs": [
        {
          "output_type": "stream",
          "name": "stdout",
          "text": [
            "Mean Squared Error (MSE): 17130.546506094313\n",
            "Root Mean Squared Error (RMSE): 130.88371367780758\n",
            "Mean Absolute Error (MAE): 104.79254787153769\n",
            "R-squared (R2): 0.8403116070462097\n"
          ]
        }
      ]
    },
    {
      "cell_type": "markdown",
      "source": [
        "## Bidirectional LSTM Implementation"
      ],
      "metadata": {
        "id": "ElFP-NzrenvY"
      },
      "id": "ElFP-NzrenvY"
    },
    {
      "cell_type": "code",
      "source": [
        "\n",
        "# Bidirectional LSTM Model\n",
        "from tensorflow.keras.models import Sequential\n",
        "from tensorflow.keras.layers import Bidirectional, LSTM, Dense"
      ],
      "metadata": {
        "id": "Nabe12M3gmlJ"
      },
      "id": "Nabe12M3gmlJ",
      "execution_count": 31,
      "outputs": []
    },
    {
      "cell_type": "code",
      "source": [
        "scaler = MinMaxScaler(feature_range=(0, 1))\n",
        "scaled_data = scaler.fit_transform(df[['close']].values)"
      ],
      "metadata": {
        "id": "Q4vS8Nowjgt6"
      },
      "id": "Q4vS8Nowjgt6",
      "execution_count": 32,
      "outputs": []
    },
    {
      "cell_type": "code",
      "source": [
        "# Create sequences\n",
        "sequence_length = 50\n",
        "X, y = [], []\n",
        "for i in range(sequence_length, len(scaled_data)):\n",
        "    X.append(scaled_data[i-sequence_length:i, 0])  # Past 50 days\n",
        "    y.append(scaled_data[i, 0])\n",
        "\n",
        "X, y = np.array(X), np.array(y)"
      ],
      "metadata": {
        "id": "OuBmYmxTjz2f"
      },
      "id": "OuBmYmxTjz2f",
      "execution_count": 33,
      "outputs": []
    },
    {
      "cell_type": "code",
      "source": [
        "# Reshape the data for LSTM (samples, timesteps, features)\n",
        "X = np.reshape(X, (X.shape[0], X.shape[1], 1))"
      ],
      "metadata": {
        "id": "789S7rubkPYN"
      },
      "id": "789S7rubkPYN",
      "execution_count": 34,
      "outputs": []
    },
    {
      "cell_type": "code",
      "source": [
        "# Split into training and testing sets\n",
        "split_ratio = 0.8\n",
        "split_index = int(len(X) * split_ratio)\n",
        "X_train, X_test = X[:split_index], X[split_index:]\n",
        "y_train, y_test = y[:split_index], y[split_index:]"
      ],
      "metadata": {
        "id": "J1vbW4EUkSl9"
      },
      "id": "J1vbW4EUkSl9",
      "execution_count": 35,
      "outputs": []
    },
    {
      "cell_type": "code",
      "source": [
        "# Define the Bidirectional LSTM model\n",
        "bidirectional_model = Sequential([\n",
        "    Bidirectional(LSTM(50, return_sequences=True), input_shape=(X_train.shape[1], X_train.shape[2])),\n",
        "    Bidirectional(LSTM(50)),\n",
        "    Dense(1)  # Output layer for regression\n",
        "])"
      ],
      "metadata": {
        "id": "wGkTejtwkV8c"
      },
      "id": "wGkTejtwkV8c",
      "execution_count": 36,
      "outputs": []
    },
    {
      "cell_type": "code",
      "source": [
        "\n",
        "# Compile the model\n",
        "bidirectional_model.compile(optimizer='adam', loss='mean_squared_error')"
      ],
      "metadata": {
        "id": "dWgHdY54kZWN"
      },
      "id": "dWgHdY54kZWN",
      "execution_count": 37,
      "outputs": []
    },
    {
      "cell_type": "code",
      "source": [
        "# Train the model\n",
        "bidirectional_history = bidirectional_model.fit(\n",
        "    X_train, y_train,\n",
        "    epochs=20,\n",
        "    batch_size=32,\n",
        "    validation_data=(X_test, y_test)\n",
        ")\n"
      ],
      "metadata": {
        "id": "XmSFRpT_kqP9",
        "colab": {
          "base_uri": "https://localhost:8080/"
        },
        "outputId": "db5537f2-32b5-4b59-de05-d7ab222b59da"
      },
      "id": "XmSFRpT_kqP9",
      "execution_count": 38,
      "outputs": [
        {
          "output_type": "stream",
          "name": "stdout",
          "text": [
            "Epoch 1/20\n",
            "\u001b[1m31/31\u001b[0m \u001b[32m━━━━━━━━━━━━━━━━━━━━\u001b[0m\u001b[37m\u001b[0m \u001b[1m9s\u001b[0m 120ms/step - loss: 0.0165 - val_loss: 0.0102\n",
            "Epoch 2/20\n",
            "\u001b[1m31/31\u001b[0m \u001b[32m━━━━━━━━━━━━━━━━━━━━\u001b[0m\u001b[37m\u001b[0m \u001b[1m4s\u001b[0m 77ms/step - loss: 9.9541e-04 - val_loss: 0.0033\n",
            "Epoch 3/20\n",
            "\u001b[1m31/31\u001b[0m \u001b[32m━━━━━━━━━━━━━━━━━━━━\u001b[0m\u001b[37m\u001b[0m \u001b[1m3s\u001b[0m 77ms/step - loss: 5.9521e-04 - val_loss: 0.0030\n",
            "Epoch 4/20\n",
            "\u001b[1m31/31\u001b[0m \u001b[32m━━━━━━━━━━━━━━━━━━━━\u001b[0m\u001b[37m\u001b[0m \u001b[1m2s\u001b[0m 77ms/step - loss: 5.3737e-04 - val_loss: 0.0013\n",
            "Epoch 5/20\n",
            "\u001b[1m31/31\u001b[0m \u001b[32m━━━━━━━━━━━━━━━━━━━━\u001b[0m\u001b[37m\u001b[0m \u001b[1m3s\u001b[0m 87ms/step - loss: 4.5780e-04 - val_loss: 9.3885e-04\n",
            "Epoch 6/20\n",
            "\u001b[1m31/31\u001b[0m \u001b[32m━━━━━━━━━━━━━━━━━━━━\u001b[0m\u001b[37m\u001b[0m \u001b[1m4s\u001b[0m 119ms/step - loss: 3.7648e-04 - val_loss: 0.0012\n",
            "Epoch 7/20\n",
            "\u001b[1m31/31\u001b[0m \u001b[32m━━━━━━━━━━━━━━━━━━━━\u001b[0m\u001b[37m\u001b[0m \u001b[1m2s\u001b[0m 76ms/step - loss: 3.2096e-04 - val_loss: 8.8472e-04\n",
            "Epoch 8/20\n",
            "\u001b[1m31/31\u001b[0m \u001b[32m━━━━━━━━━━━━━━━━━━━━\u001b[0m\u001b[37m\u001b[0m \u001b[1m2s\u001b[0m 77ms/step - loss: 2.6996e-04 - val_loss: 0.0010\n",
            "Epoch 9/20\n",
            "\u001b[1m31/31\u001b[0m \u001b[32m━━━━━━━━━━━━━━━━━━━━\u001b[0m\u001b[37m\u001b[0m \u001b[1m2s\u001b[0m 78ms/step - loss: 3.0856e-04 - val_loss: 0.0013\n",
            "Epoch 10/20\n",
            "\u001b[1m31/31\u001b[0m \u001b[32m━━━━━━━━━━━━━━━━━━━━\u001b[0m\u001b[37m\u001b[0m \u001b[1m3s\u001b[0m 85ms/step - loss: 2.6615e-04 - val_loss: 0.0016\n",
            "Epoch 11/20\n",
            "\u001b[1m31/31\u001b[0m \u001b[32m━━━━━━━━━━━━━━━━━━━━\u001b[0m\u001b[37m\u001b[0m \u001b[1m4s\u001b[0m 127ms/step - loss: 2.1629e-04 - val_loss: 0.0021\n",
            "Epoch 12/20\n",
            "\u001b[1m31/31\u001b[0m \u001b[32m━━━━━━━━━━━━━━━━━━━━\u001b[0m\u001b[37m\u001b[0m \u001b[1m2s\u001b[0m 77ms/step - loss: 2.3524e-04 - val_loss: 0.0041\n",
            "Epoch 13/20\n",
            "\u001b[1m31/31\u001b[0m \u001b[32m━━━━━━━━━━━━━━━━━━━━\u001b[0m\u001b[37m\u001b[0m \u001b[1m3s\u001b[0m 78ms/step - loss: 2.3754e-04 - val_loss: 0.0016\n",
            "Epoch 14/20\n",
            "\u001b[1m31/31\u001b[0m \u001b[32m━━━━━━━━━━━━━━━━━━━━\u001b[0m\u001b[37m\u001b[0m \u001b[1m2s\u001b[0m 76ms/step - loss: 2.2635e-04 - val_loss: 0.0030\n",
            "Epoch 15/20\n",
            "\u001b[1m31/31\u001b[0m \u001b[32m━━━━━━━━━━━━━━━━━━━━\u001b[0m\u001b[37m\u001b[0m \u001b[1m3s\u001b[0m 88ms/step - loss: 2.2883e-04 - val_loss: 0.0018\n",
            "Epoch 16/20\n",
            "\u001b[1m31/31\u001b[0m \u001b[32m━━━━━━━━━━━━━━━━━━━━\u001b[0m\u001b[37m\u001b[0m \u001b[1m5s\u001b[0m 78ms/step - loss: 2.0849e-04 - val_loss: 0.0022\n",
            "Epoch 17/20\n",
            "\u001b[1m31/31\u001b[0m \u001b[32m━━━━━━━━━━━━━━━━━━━━\u001b[0m\u001b[37m\u001b[0m \u001b[1m2s\u001b[0m 76ms/step - loss: 2.5854e-04 - val_loss: 0.0018\n",
            "Epoch 18/20\n",
            "\u001b[1m31/31\u001b[0m \u001b[32m━━━━━━━━━━━━━━━━━━━━\u001b[0m\u001b[37m\u001b[0m \u001b[1m2s\u001b[0m 77ms/step - loss: 2.3054e-04 - val_loss: 9.0647e-04\n",
            "Epoch 19/20\n",
            "\u001b[1m31/31\u001b[0m \u001b[32m━━━━━━━━━━━━━━━━━━━━\u001b[0m\u001b[37m\u001b[0m \u001b[1m3s\u001b[0m 93ms/step - loss: 1.9867e-04 - val_loss: 8.6719e-04\n",
            "Epoch 20/20\n",
            "\u001b[1m31/31\u001b[0m \u001b[32m━━━━━━━━━━━━━━━━━━━━\u001b[0m\u001b[37m\u001b[0m \u001b[1m5s\u001b[0m 77ms/step - loss: 2.2590e-04 - val_loss: 0.0012\n"
          ]
        }
      ]
    },
    {
      "cell_type": "code",
      "source": [
        "\n",
        "# Make predictions\n",
        "predicted_prices = bidirectional_model.predict(X_test)"
      ],
      "metadata": {
        "id": "U3IWAdsikuGN",
        "colab": {
          "base_uri": "https://localhost:8080/"
        },
        "outputId": "abe8ad53-3ccb-4887-acdf-1a9c516d653d"
      },
      "id": "U3IWAdsikuGN",
      "execution_count": 39,
      "outputs": [
        {
          "output_type": "stream",
          "name": "stdout",
          "text": [
            "\u001b[1m8/8\u001b[0m \u001b[32m━━━━━━━━━━━━━━━━━━━━\u001b[0m\u001b[37m\u001b[0m \u001b[1m1s\u001b[0m 99ms/step\n"
          ]
        }
      ]
    },
    {
      "cell_type": "code",
      "source": [
        "\n",
        "# Rescale the predictions back to the original scale\n",
        "predicted_prices_rescaled = scaler.inverse_transform(predicted_prices)"
      ],
      "metadata": {
        "id": "vJjRUwfck62j"
      },
      "id": "vJjRUwfck62j",
      "execution_count": 40,
      "outputs": []
    },
    {
      "cell_type": "code",
      "source": [
        "# Evaluate the model\n",
        "import matplotlib.pyplot as plt"
      ],
      "metadata": {
        "id": "Rcbz_ReVk-Id"
      },
      "id": "Rcbz_ReVk-Id",
      "execution_count": 41,
      "outputs": []
    },
    {
      "cell_type": "code",
      "source": [
        "\n",
        "# Prepare data for visualization\n",
        "real_prices = scaler.inverse_transform(y_test.reshape(-1, 1))"
      ],
      "metadata": {
        "id": "feqZRg92k_ba"
      },
      "id": "feqZRg92k_ba",
      "execution_count": 42,
      "outputs": []
    },
    {
      "cell_type": "code",
      "source": [
        "# Plot the predictions and actual prices\n",
        "plt.figure(figsize=(12, 6))\n",
        "plt.plot(real_prices, color='blue', label='Real Stock Prices')\n",
        "plt.plot(predicted_prices_rescaled, color='red', label='Predicted Stock Prices')\n",
        "plt.title('Stock Price Prediction using Bidirectional LSTM')\n",
        "plt.xlabel('Time')\n",
        "plt.ylabel('Stock Price')\n",
        "plt.legend()\n",
        "plt.show()"
      ],
      "metadata": {
        "id": "owkljbfplE5J",
        "colab": {
          "base_uri": "https://localhost:8080/",
          "height": 382
        },
        "outputId": "7b6c4dce-e398-4585-8f78-26c37adffc10"
      },
      "id": "owkljbfplE5J",
      "execution_count": 43,
      "outputs": [
        {
          "output_type": "display_data",
          "data": {
            "text/plain": [
              "<Figure size 1200x600 with 1 Axes>"
            ],
            "image/png": "[encoded data removed]"
          },
          "metadata": {}
        }
      ]
    },
    {
      "cell_type": "code",
      "source": [
        "# predicting the values after running the model\n",
        "test_predicted = model.predict(test_seq)\n",
        "test_predicted[:5]"
      ],
      "metadata": {
        "id": "sMAoOhGkmDwN",
        "colab": {
          "base_uri": "https://localhost:8080/"
        },
        "outputId": "0b5c3f30-fb2d-4d1c-b8dc-9af20de81692"
      },
      "id": "sMAoOhGkmDwN",
      "execution_count": 44,
      "outputs": [
        {
          "output_type": "stream",
          "name": "stdout",
          "text": [
            "\u001b[1m9/9\u001b[0m \u001b[32m━━━━━━━━━━━━━━━━━━━━\u001b[0m\u001b[37m\u001b[0m \u001b[1m0s\u001b[0m 12ms/step\n"
          ]
        },
        {
          "output_type": "execute_result",
          "data": {
            "text/plain": [
              "array([[0.37826702, 0.3816278 ],\n",
              "       [0.3811379 , 0.38434735],\n",
              "       [0.38342696, 0.38661006],\n",
              "       [0.3857873 , 0.38895008],\n",
              "       [0.38806355, 0.39122218]], dtype=float32)"
            ]
          },
          "metadata": {},
          "execution_count": 44
        }
      ]
    },
    {
      "cell_type": "code",
      "source": [
        "from sklearn.metrics import mean_squared_error, mean_absolute_error, r2_score\n",
        "import numpy as np\n",
        "\n",
        "# Real prices (inverse transformed y_test)\n",
        "real_prices = scaler.inverse_transform(y_test.reshape(-1, 1))\n",
        "\n",
        "# Predicted prices (inverse transformed predictions from the model)\n",
        "predicted_prices = scaler.inverse_transform(predicted_prices)\n",
        "\n",
        "# Metrics calculation\n",
        "mse = mean_squared_error(real_prices, predicted_prices)\n",
        "rmse = np.sqrt(mse)\n",
        "mae = mean_absolute_error(real_prices, predicted_prices)\n",
        "r2 = r2_score(real_prices, predicted_prices)\n",
        "\n",
        "# Print the results\n",
        "print(f\"Mean Squared Error (MSE): {mse}\")\n",
        "print(f\"Root Mean Squared Error (RMSE): {rmse}\")\n",
        "print(f\"Mean Absolute Error (MAE): {mae}\")\n",
        "print(f\"R-squared (R2): {r2}\")\n"
      ],
      "metadata": {
        "colab": {
          "base_uri": "https://localhost:8080/"
        },
        "id": "9jo0N5MjUaBh",
        "outputId": "233469bd-d4ae-4567-a875-00e7f1262030"
      },
      "id": "9jo0N5MjUaBh",
      "execution_count": 45,
      "outputs": [
        {
          "output_type": "stream",
          "name": "stdout",
          "text": [
            "Mean Squared Error (MSE): 0.0012269417346892162\n",
            "Root Mean Squared Error (RMSE): 0.03502772808346576\n",
            "Mean Absolute Error (MAE): 0.02775311976466647\n",
            "R-squared (R2): 0.9589872482990858\n"
          ]
        }
      ]
    },
    {
      "cell_type": "code",
      "source": [
        "from sklearn.metrics import mean_squared_error, mean_absolute_error, r2_score\n",
        "import numpy as np\n",
        "\n",
        "scaler = MMS  # Assign MMS to scaler\n",
        "\n",
        "# Assuming 'test_label' contains the true values for the test set\n",
        "# and 'test_predicted' contains the model's predictions\n",
        "# You might need to adjust these variable names if they are different in your code\n",
        "\n",
        "# Real prices (inverse transformed y_test)\n",
        "# Reshape test_label to have the same shape as the scaler expects\n",
        "real_prices = scaler.inverse_transform(test_label.reshape(-1, scaler.n_features_in_))\n",
        "\n",
        "# Predicted prices (inverse transformed predictions from the model)\n",
        "predicted_prices = scaler.inverse_transform(test_predicted)\n",
        "\n",
        "# Metrics calculation\n",
        "mse = mean_squared_error(real_prices, predicted_prices)\n",
        "rmse = np.sqrt(mse)\n",
        "mae = mean_absolute_error(real_prices, predicted_prices)\n",
        "r2 = r2_score(real_prices, predicted_prices)\n",
        "\n",
        "# Print the results\n",
        "print(f\"Mean Squared Error (MSE): {mse}\")\n",
        "print(f\"Root Mean Squared Error (RMSE): {rmse}\")\n",
        "print(f\"Mean Absolute Error (MAE): {mae}\")\n",
        "print(f\"R-squared (R2): {r2}\")\n"
      ],
      "metadata": {
        "colab": {
          "base_uri": "https://localhost:8080/"
        },
        "id": "RJ_kp3OVW53A",
        "outputId": "faf8a49f-f44c-4083-c47c-7437f7163390"
      },
      "id": "RJ_kp3OVW53A",
      "execution_count": 47,
      "outputs": [
        {
          "output_type": "stream",
          "name": "stdout",
          "text": [
            "Mean Squared Error (MSE): 17130.546506094313\n",
            "Root Mean Squared Error (RMSE): 130.88371367780758\n",
            "Mean Absolute Error (MAE): 104.79254787153769\n",
            "R-squared (R2): 0.8403116070462097\n"
          ]
        }
      ]
    },
    {
      "cell_type": "markdown",
      "source": [
        "##Stacked LSTM model"
      ],
      "metadata": {
        "id": "QcILR90CoUA2"
      },
      "id": "QcILR90CoUA2"
    },
    {
      "cell_type": "code",
      "source": [
        "from sklearn.preprocessing import MinMaxScaler\n",
        "from tensorflow.keras.models import Sequential\n",
        "from tensorflow.keras.layers import LSTM, Dense"
      ],
      "metadata": {
        "id": "cimks3F2nkgK"
      },
      "id": "cimks3F2nkgK",
      "execution_count": 48,
      "outputs": []
    },
    {
      "cell_type": "code",
      "source": [
        "\n",
        "scaled_data = MMS.fit_transform(df[['close']].values)"
      ],
      "metadata": {
        "id": "43qSFlx4nxEP"
      },
      "id": "43qSFlx4nxEP",
      "execution_count": 49,
      "outputs": []
    },
    {
      "cell_type": "code",
      "source": [
        "# Create sequences\n",
        "sequence_length = 50\n",
        "X, y = [], []\n",
        "for i in range(sequence_length, len(scaled_data)):\n",
        "    X.append(scaled_data[i-sequence_length:i, 0])  # Past 50 days\n",
        "    y.append(scaled_data[i, 0])                   # Target is the next day's value\n",
        "\n",
        "X, y = np.array(X), np.array(y)"
      ],
      "metadata": {
        "id": "ESekoFIDn2tO"
      },
      "id": "ESekoFIDn2tO",
      "execution_count": 50,
      "outputs": []
    },
    {
      "cell_type": "code",
      "source": [
        "# Reshape the data for LSTM (samples, timesteps, features)\n",
        "X = np.reshape(X, (X.shape[0], X.shape[1], 1))"
      ],
      "metadata": {
        "id": "ux3U8McYn-Vf"
      },
      "id": "ux3U8McYn-Vf",
      "execution_count": 51,
      "outputs": []
    },
    {
      "cell_type": "code",
      "source": [
        "\n",
        "# Split into training and testing sets\n",
        "split_ratio = 0.8\n",
        "split_index = int(len(X) * split_ratio)\n",
        "X_train, X_test = X[:split_index], X[split_index:]\n",
        "y_train, y_test = y[:split_index], y[split_index:]"
      ],
      "metadata": {
        "id": "Hyto8wCpoHgv"
      },
      "id": "Hyto8wCpoHgv",
      "execution_count": 52,
      "outputs": []
    },
    {
      "cell_type": "code",
      "source": [
        "# Define the Stacked LSTM model\n",
        "stacked_model = Sequential([\n",
        "    LSTM(50, return_sequences=True, input_shape=(X_train.shape[1], X_train.shape[2])),\n",
        "    LSTM(50, return_sequences=True),\n",
        "    LSTM(50),\n",
        "    Dense(1)  # Output layer for regression\n",
        "])"
      ],
      "metadata": {
        "id": "lNWde800oOf_"
      },
      "id": "lNWde800oOf_",
      "execution_count": 53,
      "outputs": []
    },
    {
      "cell_type": "code",
      "source": [
        "\n",
        "# Compile the model\n",
        "stacked_model.compile(optimizer='adam', loss='mean_squared_error')"
      ],
      "metadata": {
        "id": "L2dsauTwoR4f"
      },
      "id": "L2dsauTwoR4f",
      "execution_count": 54,
      "outputs": []
    },
    {
      "cell_type": "code",
      "source": [
        "# Train the model\n",
        "stacked_history = stacked_model.fit(\n",
        "    X_train, y_train,\n",
        "    epochs=20,\n",
        "    batch_size=32,\n",
        "    validation_data=(X_test, y_test)\n",
        ")\n"
      ],
      "metadata": {
        "id": "_o2FkxZVoc5R",
        "colab": {
          "base_uri": "https://localhost:8080/"
        },
        "outputId": "4d2ed55b-deda-4a19-9d0d-27ec025192b9"
      },
      "id": "_o2FkxZVoc5R",
      "execution_count": 55,
      "outputs": [
        {
          "output_type": "stream",
          "name": "stdout",
          "text": [
            "Epoch 1/20\n",
            "\u001b[1m31/31\u001b[0m \u001b[32m━━━━━━━━━━━━━━━━━━━━\u001b[0m\u001b[37m\u001b[0m \u001b[1m11s\u001b[0m 144ms/step - loss: 0.0160 - val_loss: 0.0431\n",
            "Epoch 2/20\n",
            "\u001b[1m31/31\u001b[0m \u001b[32m━━━━━━━━━━━━━━━━━━━━\u001b[0m\u001b[37m\u001b[0m \u001b[1m2s\u001b[0m 67ms/step - loss: 0.0014 - val_loss: 0.0029\n",
            "Epoch 3/20\n",
            "\u001b[1m31/31\u001b[0m \u001b[32m━━━━━━━━━━━━━━━━━━━━\u001b[0m\u001b[37m\u001b[0m \u001b[1m4s\u001b[0m 106ms/step - loss: 7.1543e-04 - val_loss: 0.0025\n",
            "Epoch 4/20\n",
            "\u001b[1m31/31\u001b[0m \u001b[32m━━━━━━━━━━━━━━━━━━━━\u001b[0m\u001b[37m\u001b[0m \u001b[1m2s\u001b[0m 72ms/step - loss: 7.6655e-04 - val_loss: 0.0069\n",
            "Epoch 5/20\n",
            "\u001b[1m31/31\u001b[0m \u001b[32m━━━━━━━━━━━━━━━━━━━━\u001b[0m\u001b[37m\u001b[0m \u001b[1m2s\u001b[0m 68ms/step - loss: 6.4974e-04 - val_loss: 0.0048\n",
            "Epoch 6/20\n",
            "\u001b[1m31/31\u001b[0m \u001b[32m━━━━━━━━━━━━━━━━━━━━\u001b[0m\u001b[37m\u001b[0m \u001b[1m3s\u001b[0m 67ms/step - loss: 5.8979e-04 - val_loss: 0.0093\n",
            "Epoch 7/20\n",
            "\u001b[1m31/31\u001b[0m \u001b[32m━━━━━━━━━━━━━━━━━━━━\u001b[0m\u001b[37m\u001b[0m \u001b[1m2s\u001b[0m 68ms/step - loss: 6.4721e-04 - val_loss: 0.0046\n",
            "Epoch 8/20\n",
            "\u001b[1m31/31\u001b[0m \u001b[32m━━━━━━━━━━━━━━━━━━━━\u001b[0m\u001b[37m\u001b[0m \u001b[1m5s\u001b[0m 145ms/step - loss: 5.5678e-04 - val_loss: 0.0031\n",
            "Epoch 9/20\n",
            "\u001b[1m31/31\u001b[0m \u001b[32m━━━━━━━━━━━━━━━━━━━━\u001b[0m\u001b[37m\u001b[0m \u001b[1m3s\u001b[0m 70ms/step - loss: 6.0142e-04 - val_loss: 0.0050\n",
            "Epoch 10/20\n",
            "\u001b[1m31/31\u001b[0m \u001b[32m━━━━━━━━━━━━━━━━━━━━\u001b[0m\u001b[37m\u001b[0m \u001b[1m2s\u001b[0m 68ms/step - loss: 4.6150e-04 - val_loss: 0.0137\n",
            "Epoch 11/20\n",
            "\u001b[1m31/31\u001b[0m \u001b[32m━━━━━━━━━━━━━━━━━━━━\u001b[0m\u001b[37m\u001b[0m \u001b[1m2s\u001b[0m 68ms/step - loss: 4.3455e-04 - val_loss: 0.0095\n",
            "Epoch 12/20\n",
            "\u001b[1m31/31\u001b[0m \u001b[32m━━━━━━━━━━━━━━━━━━━━\u001b[0m\u001b[37m\u001b[0m \u001b[1m2s\u001b[0m 68ms/step - loss: 4.3513e-04 - val_loss: 0.0113\n",
            "Epoch 13/20\n",
            "\u001b[1m31/31\u001b[0m \u001b[32m━━━━━━━━━━━━━━━━━━━━\u001b[0m\u001b[37m\u001b[0m \u001b[1m3s\u001b[0m 86ms/step - loss: 3.7965e-04 - val_loss: 0.0091\n",
            "Epoch 14/20\n",
            "\u001b[1m31/31\u001b[0m \u001b[32m━━━━━━━━━━━━━━━━━━━━\u001b[0m\u001b[37m\u001b[0m \u001b[1m4s\u001b[0m 117ms/step - loss: 3.5743e-04 - val_loss: 0.0093\n",
            "Epoch 15/20\n",
            "\u001b[1m31/31\u001b[0m \u001b[32m━━━━━━━━━━━━━━━━━━━━\u001b[0m\u001b[37m\u001b[0m \u001b[1m2s\u001b[0m 69ms/step - loss: 3.8761e-04 - val_loss: 0.0121\n",
            "Epoch 16/20\n",
            "\u001b[1m31/31\u001b[0m \u001b[32m━━━━━━━━━━━━━━━━━━━━\u001b[0m\u001b[37m\u001b[0m \u001b[1m2s\u001b[0m 69ms/step - loss: 3.6786e-04 - val_loss: 0.0104\n",
            "Epoch 17/20\n",
            "\u001b[1m31/31\u001b[0m \u001b[32m━━━━━━━━━━━━━━━━━━━━\u001b[0m\u001b[37m\u001b[0m \u001b[1m3s\u001b[0m 68ms/step - loss: 3.5471e-04 - val_loss: 0.0081\n",
            "Epoch 18/20\n",
            "\u001b[1m31/31\u001b[0m \u001b[32m━━━━━━━━━━━━━━━━━━━━\u001b[0m\u001b[37m\u001b[0m \u001b[1m2s\u001b[0m 73ms/step - loss: 4.2092e-04 - val_loss: 0.0088\n",
            "Epoch 19/20\n",
            "\u001b[1m31/31\u001b[0m \u001b[32m━━━━━━━━━━━━━━━━━━━━\u001b[0m\u001b[37m\u001b[0m \u001b[1m3s\u001b[0m 101ms/step - loss: 3.8241e-04 - val_loss: 0.0093\n",
            "Epoch 20/20\n",
            "\u001b[1m31/31\u001b[0m \u001b[32m━━━━━━━━━━━━━━━━━━━━\u001b[0m\u001b[37m\u001b[0m \u001b[1m4s\u001b[0m 68ms/step - loss: 3.0879e-04 - val_loss: 0.0080\n"
          ]
        }
      ]
    },
    {
      "cell_type": "code",
      "source": [
        "# Make predictions\n",
        "predicted_prices = stacked_model.predict(X_test)"
      ],
      "metadata": {
        "id": "PWQe7TevofTU",
        "colab": {
          "base_uri": "https://localhost:8080/"
        },
        "outputId": "b95287a5-b997-4faf-ec7a-d966f7c3a04d"
      },
      "id": "PWQe7TevofTU",
      "execution_count": 56,
      "outputs": [
        {
          "output_type": "stream",
          "name": "stdout",
          "text": [
            "\u001b[1m8/8\u001b[0m \u001b[32m━━━━━━━━━━━━━━━━━━━━\u001b[0m\u001b[37m\u001b[0m \u001b[1m1s\u001b[0m 70ms/step\n"
          ]
        }
      ]
    },
    {
      "cell_type": "code",
      "source": [
        "# Rescale the predictions back to the original scale\n",
        "predicted_prices_rescaled = scaler.inverse_transform(predicted_prices)"
      ],
      "metadata": {
        "id": "pqeNwwNTohvr"
      },
      "id": "pqeNwwNTohvr",
      "execution_count": 57,
      "outputs": []
    },
    {
      "cell_type": "code",
      "source": [
        "# Evaluate the model\n",
        "import matplotlib.pyplot as plt\n",
        "\n",
        "# Prepare data for visualization\n",
        "real_prices = scaler.inverse_transform(y_test.reshape(-1, 1))"
      ],
      "metadata": {
        "id": "Kl0_zTbZompA"
      },
      "id": "Kl0_zTbZompA",
      "execution_count": 58,
      "outputs": []
    },
    {
      "cell_type": "code",
      "source": [
        "# Plot the predictions and actual prices\n",
        "plt.figure(figsize=(12, 6))\n",
        "plt.plot(real_prices, color='blue', label='Real Stock Prices')\n",
        "plt.plot(predicted_prices_rescaled, color='red', label='Predicted Stock Prices')\n",
        "plt.title('Stock Price Prediction using Stacked LSTM')\n",
        "plt.xlabel('Time')\n",
        "plt.ylabel('Stock Price')\n",
        "plt.legend()\n",
        "plt.show()"
      ],
      "metadata": {
        "id": "tykIibhwonc2",
        "colab": {
          "base_uri": "https://localhost:8080/",
          "height": 382
        },
        "outputId": "be63f45b-2718-4f5a-cc3b-620098b61584"
      },
      "id": "tykIibhwonc2",
      "execution_count": 59,
      "outputs": [
        {
          "output_type": "display_data",
          "data": {
            "text/plain": [
              "<Figure size 1200x600 with 1 Axes>"
            ],
            "image/png": "[encoded data removed]"
          },
          "metadata": {}
        }
      ]
    },
    {
      "cell_type": "code",
      "source": [
        "\n",
        "from sklearn.metrics import mean_squared_error, mean_absolute_error, r2_score\n",
        "import numpy as np\n",
        "\n",
        "# Real prices (inverse transformed y_test)\n",
        "real_prices = scaler.inverse_transform(y_test.reshape(-1, 1))\n",
        "\n",
        "# Predicted prices (inverse transformed predictions from the model)\n",
        "predicted_prices = scaler.inverse_transform(predicted_prices)\n",
        "\n",
        "# Metrics calculation\n",
        "mse = mean_squared_error(real_prices, predicted_prices)\n",
        "rmse = np.sqrt(mse)\n",
        "mae = mean_absolute_error(real_prices, predicted_prices)\n",
        "r2 = r2_score(real_prices, predicted_prices)\n",
        "\n",
        "# Print the results\n",
        "print(f\"Mean Squared Error (MSE): {mse}\")\n",
        "print(f\"Root Mean Squared Error (RMSE): {rmse}\")\n",
        "print(f\"Mean Absolute Error (MAE): {mae}\")\n",
        "print(f\"R-squared (R2): {r2}\")\n"
      ],
      "metadata": {
        "colab": {
          "base_uri": "https://localhost:8080/"
        },
        "id": "7_KDkvY9VWD6",
        "outputId": "be996cbe-ba3e-4df1-9d42-31757ce17c54"
      },
      "id": "7_KDkvY9VWD6",
      "execution_count": 60,
      "outputs": [
        {
          "output_type": "stream",
          "name": "stdout",
          "text": [
            "Mean Squared Error (MSE): 0.008034567480552512\n",
            "Root Mean Squared Error (RMSE): 0.08963574889826331\n",
            "Mean Absolute Error (MAE): 0.06666494960637986\n",
            "R-squared (R2): 0.7314300167745073\n"
          ]
        }
      ]
    },
    {
      "cell_type": "code",
      "source": [
        "\n",
        "from sklearn.metrics import mean_squared_error, mean_absolute_error, r2_score\n",
        "import numpy as np\n",
        "\n",
        "scaler = MMS  # Assign MMS to scaler\n",
        "\n",
        "# Assuming 'test_label' contains the true values for the test set\n",
        "# and 'test_predicted' contains the model's predictions\n",
        "# You might need to adjust these variable names if they are different in your code\n",
        "\n",
        "# Real prices (inverse transformed y_test)\n",
        "# Reshape test_label to have the same shape as the scaler expects\n",
        "\n",
        "# Reshape test_label to have 2 features (open and close)\n",
        "real_prices = scaler.inverse_transform(test_label)\n",
        "\n",
        "# predicted_prices is already in the correct shape (264, 2) and scaled\n",
        "# predicted_prices = scaler.inverse_transform(test_predicted)\n",
        "\n",
        "# Calculate metrics for both open and close prices separately\n",
        "mse_open = mean_squared_error(real_prices[:, 0], predicted_prices[:, 0])  # Open price\n",
        "mse_close = mean_squared_error(real_prices[:, 1], predicted_prices[:, 1]) # Close price\n",
        "\n",
        "rmse = np.sqrt(mse)\n",
        "mae = mean_absolute_error(real_prices, predicted_prices)\n",
        "r2 = r2_score(real_prices, predicted_prices)\n",
        "\n",
        "# Print the results\n",
        "print(f\"Mean Squared Error (MSE): {mse}\")\n",
        "print(f\"Root Mean Squared Error (RMSE): {rmse}\")\n",
        "print(f\"Mean Absolute Error (MAE): {mae}\")\n",
        "print(f\"R-squared (R2): {r2}\")\n"
      ],
      "metadata": {
        "colab": {
          "base_uri": "https://localhost:8080/"
        },
        "id": "LwfLYSgPXZ3E",
        "outputId": "c9c1b904-4fc9-42a4-bf16-d670f59a3dee"
      },
      "id": "LwfLYSgPXZ3E",
      "execution_count": 64,
      "outputs": [
        {
          "output_type": "stream",
          "name": "stdout",
          "text": [
            "Mean Squared Error (MSE): 0.008034567480552512\n",
            "Root Mean Squared Error (RMSE): 0.08963574889826331\n",
            "Mean Absolute Error (MAE): 0.05653370575324476\n",
            "R-squared (R2): 0.8403116237739326\n"
          ]
        }
      ]
    },
    {
      "cell_type": "markdown",
      "source": [
        "##CNN-LSTM model"
      ],
      "metadata": {
        "id": "NOxgZVh7o3nu"
      },
      "id": "NOxgZVh7o3nu"
    },
    {
      "cell_type": "code",
      "source": [
        "from sklearn.preprocessing import MinMaxScaler\n",
        "from tensorflow.keras.models import Sequential\n",
        "from tensorflow.keras.layers import Conv1D, MaxPooling1D, Flatten, LSTM, Dense"
      ],
      "metadata": {
        "id": "2lbk_KPSpUoO"
      },
      "id": "2lbk_KPSpUoO",
      "execution_count": 65,
      "outputs": []
    },
    {
      "cell_type": "code",
      "source": [
        "# Normalize the data\n",
        "scaled_data = MMS.fit_transform(df[['close']].values)"
      ],
      "metadata": {
        "id": "Uh7cysJdo8U-"
      },
      "id": "Uh7cysJdo8U-",
      "execution_count": 66,
      "outputs": []
    },
    {
      "cell_type": "code",
      "source": [
        "# Create sequences\n",
        "sequence_length = 50\n",
        "X, y = [], []\n",
        "for i in range(sequence_length, len(scaled_data)):\n",
        "    X.append(scaled_data[i-sequence_length:i, 0])  # Past 50 days\n",
        "    y.append(scaled_data[i, 0])                   # Target is the next day's value\n",
        "\n",
        "X, y = np.array(X), np.array(y)"
      ],
      "metadata": {
        "id": "uIv2r9d3pDFv"
      },
      "id": "uIv2r9d3pDFv",
      "execution_count": 67,
      "outputs": []
    },
    {
      "cell_type": "code",
      "source": [
        "# Reshape the data for CNN-LSTM (samples, timesteps, features)\n",
        "X = np.reshape(X, (X.shape[0], X.shape[1], 1))"
      ],
      "metadata": {
        "id": "y9FiAVTKpKd_"
      },
      "id": "y9FiAVTKpKd_",
      "execution_count": 68,
      "outputs": []
    },
    {
      "cell_type": "code",
      "source": [
        "# Split into training and testing sets\n",
        "split_ratio = 0.8\n",
        "split_index = int(len(X) * split_ratio)\n",
        "X_train, X_test = X[:split_index], X[split_index:]\n",
        "y_train, y_test = y[:split_index], y[split_index:]"
      ],
      "metadata": {
        "id": "fqXZnoHNpMek"
      },
      "id": "fqXZnoHNpMek",
      "execution_count": 69,
      "outputs": []
    },
    {
      "cell_type": "code",
      "source": [
        "# Define the CNN-LSTM model\n",
        "cnn_lstm_model = Sequential([\n",
        "    Conv1D(filters=64, kernel_size=3, activation='relu', input_shape=(X_train.shape[1], X_train.shape[2])),\n",
        "    MaxPooling1D(pool_size=2),\n",
        "    #Flatten(),\n",
        "    LSTM(50, return_sequences=False),\n",
        "    Dense(1)  # Output layer for regression\n",
        "])"
      ],
      "metadata": {
        "id": "XJnraRFGpOoz"
      },
      "id": "XJnraRFGpOoz",
      "execution_count": 70,
      "outputs": []
    },
    {
      "cell_type": "code",
      "source": [
        "# Compile the model\n",
        "cnn_lstm_model.compile(optimizer='adam', loss='mean_squared_error')"
      ],
      "metadata": {
        "id": "D9guVzv4pQx_"
      },
      "id": "D9guVzv4pQx_",
      "execution_count": 71,
      "outputs": []
    },
    {
      "cell_type": "code",
      "source": [
        "# Train the model\n",
        "cnn_lstm_history = cnn_lstm_model.fit(\n",
        "    X_train, y_train,\n",
        "    epochs=20,\n",
        "    batch_size=32,\n",
        "    validation_data=(X_test, y_test)\n",
        ")\n"
      ],
      "metadata": {
        "id": "i74RMG-zpwdU",
        "colab": {
          "base_uri": "https://localhost:8080/"
        },
        "outputId": "fc52ed6d-7af0-47b6-d169-18e7daa40cdd"
      },
      "id": "i74RMG-zpwdU",
      "execution_count": 72,
      "outputs": [
        {
          "output_type": "stream",
          "name": "stdout",
          "text": [
            "Epoch 1/20\n",
            "\u001b[1m31/31\u001b[0m \u001b[32m━━━━━━━━━━━━━━━━━━━━\u001b[0m\u001b[37m\u001b[0m \u001b[1m3s\u001b[0m 25ms/step - loss: 0.0227 - val_loss: 0.0261\n",
            "Epoch 2/20\n",
            "\u001b[1m31/31\u001b[0m \u001b[32m━━━━━━━━━━━━━━━━━━━━\u001b[0m\u001b[37m\u001b[0m \u001b[1m0s\u001b[0m 14ms/step - loss: 0.0013 - val_loss: 0.0015\n",
            "Epoch 3/20\n",
            "\u001b[1m31/31\u001b[0m \u001b[32m━━━━━━━━━━━━━━━━━━━━\u001b[0m\u001b[37m\u001b[0m \u001b[1m1s\u001b[0m 16ms/step - loss: 5.2266e-04 - val_loss: 0.0017\n",
            "Epoch 4/20\n",
            "\u001b[1m31/31\u001b[0m \u001b[32m━━━━━━━━━━━━━━━━━━━━\u001b[0m\u001b[37m\u001b[0m \u001b[1m1s\u001b[0m 15ms/step - loss: 5.4847e-04 - val_loss: 0.0018\n",
            "Epoch 5/20\n",
            "\u001b[1m31/31\u001b[0m \u001b[32m━━━━━━━━━━━━━━━━━━━━\u001b[0m\u001b[37m\u001b[0m \u001b[1m1s\u001b[0m 15ms/step - loss: 4.1352e-04 - val_loss: 0.0026\n",
            "Epoch 6/20\n",
            "\u001b[1m31/31\u001b[0m \u001b[32m━━━━━━━━━━━━━━━━━━━━\u001b[0m\u001b[37m\u001b[0m \u001b[1m1s\u001b[0m 15ms/step - loss: 4.3682e-04 - val_loss: 0.0021\n",
            "Epoch 7/20\n",
            "\u001b[1m31/31\u001b[0m \u001b[32m━━━━━━━━━━━━━━━━━━━━\u001b[0m\u001b[37m\u001b[0m \u001b[1m0s\u001b[0m 15ms/step - loss: 4.0961e-04 - val_loss: 0.0024\n",
            "Epoch 8/20\n",
            "\u001b[1m31/31\u001b[0m \u001b[32m━━━━━━━━━━━━━━━━━━━━\u001b[0m\u001b[37m\u001b[0m \u001b[1m1s\u001b[0m 16ms/step - loss: 4.3293e-04 - val_loss: 0.0042\n",
            "Epoch 9/20\n",
            "\u001b[1m31/31\u001b[0m \u001b[32m━━━━━━━━━━━━━━━━━━━━\u001b[0m\u001b[37m\u001b[0m \u001b[1m1s\u001b[0m 15ms/step - loss: 3.8513e-04 - val_loss: 0.0031\n",
            "Epoch 10/20\n",
            "\u001b[1m31/31\u001b[0m \u001b[32m━━━━━━━━━━━━━━━━━━━━\u001b[0m\u001b[37m\u001b[0m \u001b[1m1s\u001b[0m 16ms/step - loss: 3.7426e-04 - val_loss: 0.0022\n",
            "Epoch 11/20\n",
            "\u001b[1m31/31\u001b[0m \u001b[32m━━━━━━━━━━━━━━━━━━━━\u001b[0m\u001b[37m\u001b[0m \u001b[1m1s\u001b[0m 15ms/step - loss: 3.5789e-04 - val_loss: 0.0029\n",
            "Epoch 12/20\n",
            "\u001b[1m31/31\u001b[0m \u001b[32m━━━━━━━━━━━━━━━━━━━━\u001b[0m\u001b[37m\u001b[0m \u001b[1m1s\u001b[0m 26ms/step - loss: 2.8922e-04 - val_loss: 0.0045\n",
            "Epoch 13/20\n",
            "\u001b[1m31/31\u001b[0m \u001b[32m━━━━━━━━━━━━━━━━━━━━\u001b[0m\u001b[37m\u001b[0m \u001b[1m1s\u001b[0m 25ms/step - loss: 2.6708e-04 - val_loss: 0.0040\n",
            "Epoch 14/20\n",
            "\u001b[1m31/31\u001b[0m \u001b[32m━━━━━━━━━━━━━━━━━━━━\u001b[0m\u001b[37m\u001b[0m \u001b[1m1s\u001b[0m 18ms/step - loss: 2.7689e-04 - val_loss: 0.0031\n",
            "Epoch 15/20\n",
            "\u001b[1m31/31\u001b[0m \u001b[32m━━━━━━━━━━━━━━━━━━━━\u001b[0m\u001b[37m\u001b[0m \u001b[1m1s\u001b[0m 15ms/step - loss: 2.5075e-04 - val_loss: 0.0052\n",
            "Epoch 16/20\n",
            "\u001b[1m31/31\u001b[0m \u001b[32m━━━━━━━━━━━━━━━━━━━━\u001b[0m\u001b[37m\u001b[0m \u001b[1m1s\u001b[0m 16ms/step - loss: 2.7075e-04 - val_loss: 0.0049\n",
            "Epoch 17/20\n",
            "\u001b[1m31/31\u001b[0m \u001b[32m━━━━━━━━━━━━━━━━━━━━\u001b[0m\u001b[37m\u001b[0m \u001b[1m1s\u001b[0m 15ms/step - loss: 2.7314e-04 - val_loss: 0.0036\n",
            "Epoch 18/20\n",
            "\u001b[1m31/31\u001b[0m \u001b[32m━━━━━━━━━━━━━━━━━━━━\u001b[0m\u001b[37m\u001b[0m \u001b[1m1s\u001b[0m 16ms/step - loss: 2.5012e-04 - val_loss: 0.0072\n",
            "Epoch 19/20\n",
            "\u001b[1m31/31\u001b[0m \u001b[32m━━━━━━━━━━━━━━━━━━━━\u001b[0m\u001b[37m\u001b[0m \u001b[1m1s\u001b[0m 15ms/step - loss: 2.5341e-04 - val_loss: 0.0032\n",
            "Epoch 20/20\n",
            "\u001b[1m31/31\u001b[0m \u001b[32m━━━━━━━━━━━━━━━━━━━━\u001b[0m\u001b[37m\u001b[0m \u001b[1m0s\u001b[0m 15ms/step - loss: 2.4418e-04 - val_loss: 0.0066\n"
          ]
        }
      ]
    },
    {
      "cell_type": "code",
      "source": [
        "# Make predictions\n",
        "predicted_prices = cnn_lstm_model.predict(X_test)"
      ],
      "metadata": {
        "id": "CVSjrzuApyW_",
        "colab": {
          "base_uri": "https://localhost:8080/"
        },
        "outputId": "9b1754a9-76f9-4c6d-81de-85cca16a85f5"
      },
      "id": "CVSjrzuApyW_",
      "execution_count": 73,
      "outputs": [
        {
          "output_type": "stream",
          "name": "stdout",
          "text": [
            "\u001b[1m8/8\u001b[0m \u001b[32m━━━━━━━━━━━━━━━━━━━━\u001b[0m\u001b[37m\u001b[0m \u001b[1m0s\u001b[0m 32ms/step\n"
          ]
        }
      ]
    },
    {
      "cell_type": "code",
      "source": [
        "# Rescale the predictions back to the original scale\n",
        "predicted_prices_rescaled = scaler.inverse_transform(predicted_prices)"
      ],
      "metadata": {
        "id": "hTr15TOSp3Gd"
      },
      "id": "hTr15TOSp3Gd",
      "execution_count": 74,
      "outputs": []
    },
    {
      "cell_type": "code",
      "source": [
        "# Evaluate the model\n",
        "import matplotlib.pyplot as plt\n",
        "\n",
        "# Prepare data for visualization\n",
        "real_prices = scaler.inverse_transform(y_test.reshape(-1, 1))"
      ],
      "metadata": {
        "id": "KSsJtkDop6UI"
      },
      "id": "KSsJtkDop6UI",
      "execution_count": 75,
      "outputs": []
    },
    {
      "cell_type": "code",
      "source": [
        "# Plot the predictions and actual prices\n",
        "plt.figure(figsize=(12, 6))\n",
        "plt.plot(real_prices, color='blue', label='Real Stock Prices')\n",
        "plt.plot(predicted_prices_rescaled, color='red', label='Predicted Stock Prices')\n",
        "plt.title('Stock Price Prediction using CNN-LSTM')\n",
        "plt.xlabel('Time')\n",
        "plt.ylabel('Stock Price')\n",
        "plt.legend()\n",
        "plt.show()"
      ],
      "metadata": {
        "id": "aFy0MGM4p-Bv",
        "colab": {
          "base_uri": "https://localhost:8080/",
          "height": 382
        },
        "outputId": "ba07d86d-06cd-4aba-adca-a0c06555fc82"
      },
      "id": "aFy0MGM4p-Bv",
      "execution_count": 76,
      "outputs": [
        {
          "output_type": "display_data",
          "data": {
            "text/plain": [
              "<Figure size 1200x600 with 1 Axes>"
            ],
            "image/png": "[encoded data removed]"
          },
          "metadata": {}
        }
      ]
    },
    {
      "cell_type": "code",
      "source": [
        "from sklearn.metrics import mean_squared_error, mean_absolute_error, r2_score\n",
        "import numpy as np\n",
        "\n",
        "# Real prices (inverse transformed y_test)\n",
        "real_prices = scaler.inverse_transform(y_test.reshape(-1, 1))\n",
        "\n",
        "# Predicted prices (inverse transformed predictions from the model)\n",
        "predicted_prices = scaler.inverse_transform(predicted_prices)\n",
        "\n",
        "# Metrics calculation\n",
        "mse = mean_squared_error(real_prices, predicted_prices)\n",
        "rmse = np.sqrt(mse)\n",
        "mae = mean_absolute_error(real_prices, predicted_prices)\n",
        "r2 = r2_score(real_prices, predicted_prices)\n",
        "\n",
        "# Print the results\n",
        "print(f\"Mean Squared Error (MSE): {mse}\")\n",
        "print(f\"Root Mean Squared Error (RMSE): {rmse}\")\n",
        "print(f\"Mean Absolute Error (MAE): {mae}\")\n",
        "print(f\"R-squared (R2): {r2}\")\n"
      ],
      "metadata": {
        "id": "hoJFxuIhp_qg",
        "colab": {
          "base_uri": "https://localhost:8080/"
        },
        "outputId": "ab61bc96-e788-41fd-b9e1-e020eae5b9e8"
      },
      "id": "hoJFxuIhp_qg",
      "execution_count": 77,
      "outputs": [
        {
          "output_type": "stream",
          "name": "stdout",
          "text": [
            "Mean Squared Error (MSE): 0.00661608590989728\n",
            "Root Mean Squared Error (RMSE): 0.08133932572807129\n",
            "Mean Absolute Error (MAE): 0.06840844488934392\n",
            "R-squared (R2): 0.7788453347189586\n"
          ]
        }
      ]
    },
    {
      "cell_type": "code",
      "source": [
        "from sklearn.metrics import mean_squared_error, mean_absolute_error, r2_score\n",
        "import numpy as np\n",
        "\n",
        "scaler = MMS  # Assign MMS to scaler\n",
        "\n",
        "# Assuming 'test_label' contains the true values for the test set\n",
        "# and 'test_predicted' contains the model's predictions\n",
        "# You might need to adjust these variable names if they are different in your code\n",
        "\n",
        "# Real prices (inverse transformed y_test)\n",
        "# Reshape test_label to have the same shape as the scaler expects\n",
        "# real_prices = scaler.inverse_transform(test_label.reshape(-1, scaler.n_features_in_))\n",
        "# The above line is causing the issue as it changes the number of samples.\n",
        "# Instead, directly inverse transform test_label:\n",
        "real_prices = scaler.inverse_transform(test_label)\n",
        "\n",
        "# Predicted prices (inverse transformed predictions from the model)\n",
        "predicted_prices = scaler.inverse_transform(test_predicted)\n",
        "\n",
        "# Metrics calculation\n",
        "mse = mean_squared_error(real_prices, predicted_prices)\n",
        "rmse = np.sqrt(mse)\n",
        "mae = mean_absolute_error(real_prices, predicted_prices)\n",
        "r2 = r2_score(real_prices, predicted_prices)\n",
        "\n",
        "# Print the results\n",
        "print(f\"Mean Squared Error (MSE): {mse}\")\n",
        "print(f\"Root Mean Squared Error (RMSE): {rmse}\")\n",
        "print(f\"Mean Absolute Error (MAE): {mae}\")\n",
        "print(f\"R-squared (R2): {r2}\")"
      ],
      "metadata": {
        "colab": {
          "base_uri": "https://localhost:8080/"
        },
        "id": "eOlOKzskVd9y",
        "outputId": "e81fee2f-dd8f-4d70-dc47-f487d744b127"
      },
      "id": "eOlOKzskVd9y",
      "execution_count": 79,
      "outputs": [
        {
          "output_type": "stream",
          "name": "stdout",
          "text": [
            "Mean Squared Error (MSE): 0.004985690225140007\n",
            "Root Mean Squared Error (RMSE): 0.07060942022945668\n",
            "Mean Absolute Error (MAE): 0.05653370575324476\n",
            "R-squared (R2): 0.8403116237739326\n"
          ]
        }
      ]
    },
    {
      "cell_type": "markdown",
      "source": [
        "##ConvLSTM Model\n"
      ],
      "metadata": {
        "id": "t_nOA9SvMBzb"
      },
      "id": "t_nOA9SvMBzb"
    },
    {
      "cell_type": "code",
      "source": [
        "from tensorflow.keras.layers import ConvLSTM2D, BatchNormalization, Flatten, Dense\n",
        "from tensorflow.keras.models import Sequential\n"
      ],
      "metadata": {
        "id": "_0hOc8b6r-tR"
      },
      "id": "_0hOc8b6r-tR",
      "execution_count": 80,
      "outputs": []
    },
    {
      "cell_type": "code",
      "source": [
        "# Reshape your data for ConvLSTM (samples, timesteps, rows, cols, channels)\n",
        "# Assuming data has 1 feature (channel)\n",
        "X_train_conv = X_train.reshape((X_train.shape[0], X_train.shape[1], 1, 1, X_train.shape[2]))\n",
        "X_test_conv = X_test.reshape((X_test.shape[0], X_test.shape[1], 1, 1, X_test.shape[2]))"
      ],
      "metadata": {
        "id": "S2PjwigtNlHB"
      },
      "id": "S2PjwigtNlHB",
      "execution_count": 81,
      "outputs": []
    },
    {
      "cell_type": "code",
      "source": [
        "# ConvLSTM Model\n",
        "model_conv_lstm = Sequential([\n",
        "    ConvLSTM2D(filters=32, kernel_size=(1, 1), activation='relu',\n",
        "               input_shape=(X_train_conv.shape[1], X_train_conv.shape[2], X_train_conv.shape[3], X_train_conv.shape[4])),\n",
        "    BatchNormalization(),\n",
        "    Flatten(),\n",
        "    Dense(50, activation='relu'),\n",
        "    Dense(1)  # Output layer\n",
        "])"
      ],
      "metadata": {
        "id": "5ZSY9z8_Nn8w"
      },
      "id": "5ZSY9z8_Nn8w",
      "execution_count": 82,
      "outputs": []
    },
    {
      "cell_type": "code",
      "source": [
        "from tensorflow.keras.layers import ConvLSTM2D, BatchNormalization, Flatten, Dense\n",
        "from tensorflow.keras.models import Sequential\n",
        "from tensorflow.keras.optimizers import Adam # Compile the model\n",
        "model_conv_lstm.compile(optimizer=Adam(learning_rate=0.001), loss='mean_squared_error')\n"
      ],
      "metadata": {
        "id": "XGZIoQziNq_u"
      },
      "id": "XGZIoQziNq_u",
      "execution_count": 83,
      "outputs": []
    },
    {
      "cell_type": "code",
      "source": [
        "# Train the model\n",
        "history_conv = model_conv_lstm.fit(X_train_conv, y_train, epochs=20, batch_size=32, validation_data=(X_test_conv, y_test), verbose=1)\n"
      ],
      "metadata": {
        "id": "XFYIPKANNtjj",
        "colab": {
          "base_uri": "https://localhost:8080/"
        },
        "outputId": "f9bc0f20-696b-4b39-9428-58dbe170e888"
      },
      "id": "XFYIPKANNtjj",
      "execution_count": 84,
      "outputs": [
        {
          "output_type": "stream",
          "name": "stdout",
          "text": [
            "Epoch 1/20\n",
            "\u001b[1m31/31\u001b[0m \u001b[32m━━━━━━━━━━━━━━━━━━━━\u001b[0m\u001b[37m\u001b[0m \u001b[1m5s\u001b[0m 40ms/step - loss: 0.0121 - val_loss: 0.1701\n",
            "Epoch 2/20\n",
            "\u001b[1m31/31\u001b[0m \u001b[32m━━━━━━━━━━━━━━━━━━━━\u001b[0m\u001b[37m\u001b[0m \u001b[1m2s\u001b[0m 31ms/step - loss: 8.7560e-04 - val_loss: 0.1736\n",
            "Epoch 3/20\n",
            "\u001b[1m31/31\u001b[0m \u001b[32m━━━━━━━━━━━━━━━━━━━━\u001b[0m\u001b[37m\u001b[0m \u001b[1m1s\u001b[0m 30ms/step - loss: 5.4266e-04 - val_loss: 0.1848\n",
            "Epoch 4/20\n",
            "\u001b[1m31/31\u001b[0m \u001b[32m━━━━━━━━━━━━━━━━━━━━\u001b[0m\u001b[37m\u001b[0m \u001b[1m1s\u001b[0m 39ms/step - loss: 6.4282e-04 - val_loss: 0.1862\n",
            "Epoch 5/20\n",
            "\u001b[1m31/31\u001b[0m \u001b[32m━━━━━━━━━━━━━━━━━━━━\u001b[0m\u001b[37m\u001b[0m \u001b[1m2s\u001b[0m 65ms/step - loss: 4.1659e-04 - val_loss: 0.1714\n",
            "Epoch 6/20\n",
            "\u001b[1m31/31\u001b[0m \u001b[32m━━━━━━━━━━━━━━━━━━━━\u001b[0m\u001b[37m\u001b[0m \u001b[1m2s\u001b[0m 37ms/step - loss: 5.3359e-04 - val_loss: 0.1690\n",
            "Epoch 7/20\n",
            "\u001b[1m31/31\u001b[0m \u001b[32m━━━━━━━━━━━━━━━━━━━━\u001b[0m\u001b[37m\u001b[0m \u001b[1m2s\u001b[0m 49ms/step - loss: 4.0065e-04 - val_loss: 0.1654\n",
            "Epoch 8/20\n",
            "\u001b[1m31/31\u001b[0m \u001b[32m━━━━━━━━━━━━━━━━━━━━\u001b[0m\u001b[37m\u001b[0m \u001b[1m2s\u001b[0m 48ms/step - loss: 6.1021e-04 - val_loss: 0.1551\n",
            "Epoch 9/20\n",
            "\u001b[1m31/31\u001b[0m \u001b[32m━━━━━━━━━━━━━━━━━━━━\u001b[0m\u001b[37m\u001b[0m \u001b[1m2s\u001b[0m 29ms/step - loss: 4.7173e-04 - val_loss: 0.1505\n",
            "Epoch 10/20\n",
            "\u001b[1m31/31\u001b[0m \u001b[32m━━━━━━━━━━━━━━━━━━━━\u001b[0m\u001b[37m\u001b[0m \u001b[1m1s\u001b[0m 30ms/step - loss: 4.7966e-04 - val_loss: 0.1269\n",
            "Epoch 11/20\n",
            "\u001b[1m31/31\u001b[0m \u001b[32m━━━━━━━━━━━━━━━━━━━━\u001b[0m\u001b[37m\u001b[0m \u001b[1m1s\u001b[0m 32ms/step - loss: 6.2314e-04 - val_loss: 0.1238\n",
            "Epoch 12/20\n",
            "\u001b[1m31/31\u001b[0m \u001b[32m━━━━━━━━━━━━━━━━━━━━\u001b[0m\u001b[37m\u001b[0m \u001b[1m1s\u001b[0m 31ms/step - loss: 8.5961e-04 - val_loss: 0.1240\n",
            "Epoch 13/20\n",
            "\u001b[1m31/31\u001b[0m \u001b[32m━━━━━━━━━━━━━━━━━━━━\u001b[0m\u001b[37m\u001b[0m \u001b[1m1s\u001b[0m 31ms/step - loss: 4.1352e-04 - val_loss: 0.1049\n",
            "Epoch 14/20\n",
            "\u001b[1m31/31\u001b[0m \u001b[32m━━━━━━━━━━━━━━━━━━━━\u001b[0m\u001b[37m\u001b[0m \u001b[1m1s\u001b[0m 31ms/step - loss: 2.6874e-04 - val_loss: 0.1129\n",
            "Epoch 15/20\n",
            "\u001b[1m31/31\u001b[0m \u001b[32m━━━━━━━━━━━━━━━━━━━━\u001b[0m\u001b[37m\u001b[0m \u001b[1m1s\u001b[0m 30ms/step - loss: 4.6557e-04 - val_loss: 0.0723\n",
            "Epoch 16/20\n",
            "\u001b[1m31/31\u001b[0m \u001b[32m━━━━━━━━━━━━━━━━━━━━\u001b[0m\u001b[37m\u001b[0m \u001b[1m1s\u001b[0m 30ms/step - loss: 4.6979e-04 - val_loss: 0.0712\n",
            "Epoch 17/20\n",
            "\u001b[1m31/31\u001b[0m \u001b[32m━━━━━━━━━━━━━━━━━━━━\u001b[0m\u001b[37m\u001b[0m \u001b[1m2s\u001b[0m 50ms/step - loss: 3.5015e-04 - val_loss: 0.0668\n",
            "Epoch 18/20\n",
            "\u001b[1m31/31\u001b[0m \u001b[32m━━━━━━━━━━━━━━━━━━━━\u001b[0m\u001b[37m\u001b[0m \u001b[1m2s\u001b[0m 32ms/step - loss: 3.7712e-04 - val_loss: 0.0352\n",
            "Epoch 19/20\n",
            "\u001b[1m31/31\u001b[0m \u001b[32m━━━━━━━━━━━━━━━━━━━━\u001b[0m\u001b[37m\u001b[0m \u001b[1m1s\u001b[0m 31ms/step - loss: 2.5772e-04 - val_loss: 0.0708\n",
            "Epoch 20/20\n",
            "\u001b[1m31/31\u001b[0m \u001b[32m━━━━━━━━━━━━━━━━━━━━\u001b[0m\u001b[37m\u001b[0m \u001b[1m1s\u001b[0m 31ms/step - loss: 6.6278e-04 - val_loss: 0.0297\n"
          ]
        }
      ]
    },
    {
      "cell_type": "code",
      "source": [
        "# Evaluate and Predict\n",
        "loss_conv = model_conv_lstm.evaluate(X_test_conv, y_test)\n",
        "print(f\"Test Loss for ConvLSTM: {loss_conv}\")\n"
      ],
      "metadata": {
        "id": "PwMzbH2ONyQH",
        "colab": {
          "base_uri": "https://localhost:8080/"
        },
        "outputId": "db3c9976-dca0-43c0-f4e9-bbff6221c35f"
      },
      "id": "PwMzbH2ONyQH",
      "execution_count": 85,
      "outputs": [
        {
          "output_type": "stream",
          "name": "stdout",
          "text": [
            "\u001b[1m8/8\u001b[0m \u001b[32m━━━━━━━━━━━━━━━━━━━━\u001b[0m\u001b[37m\u001b[0m \u001b[1m0s\u001b[0m 9ms/step - loss: 0.0190\n",
            "Test Loss for ConvLSTM: 0.02969219908118248\n"
          ]
        }
      ]
    },
    {
      "cell_type": "code",
      "source": [
        "\n",
        "predicted_conv = model_conv_lstm.predict(X_test_conv)\n",
        "predicted_inverse_conv = scaler.inverse_transform(predicted_conv)\n"
      ],
      "metadata": {
        "id": "m3FUAoqgNzC5",
        "colab": {
          "base_uri": "https://localhost:8080/"
        },
        "outputId": "9f28c6af-cca7-49b3-aadb-c8edeea2ba0e"
      },
      "id": "m3FUAoqgNzC5",
      "execution_count": 86,
      "outputs": [
        {
          "output_type": "stream",
          "name": "stderr",
          "text": [
            "WARNING:tensorflow:5 out of the last 17 calls to <function TensorFlowTrainer.make_predict_function.<locals>.one_step_on_data_distributed at 0x7b7a596e9900> triggered tf.function retracing. Tracing is expensive and the excessive number of tracings could be due to (1) creating @tf.function repeatedly in a loop, (2) passing tensors with different shapes, (3) passing Python objects instead of tensors. For (1), please define your @tf.function outside of the loop. For (2), @tf.function has reduce_retracing=True option that can avoid unnecessary retracing. For (3), please refer to https://www.tensorflow.org/guide/function#controlling_retracing and https://www.tensorflow.org/api_docs/python/tf/function for  more details.\n"
          ]
        },
        {
          "output_type": "stream",
          "name": "stdout",
          "text": [
            "\u001b[1m8/8\u001b[0m \u001b[32m━━━━━━━━━━━━━━━━━━━━\u001b[0m\u001b[37m\u001b[0m \u001b[1m1s\u001b[0m 40ms/step\n"
          ]
        }
      ]
    },
    {
      "cell_type": "code",
      "source": [
        "# Metrics for ConvLSTM\n",
        "y_test_inverse = scaler.inverse_transform(y_test.reshape(-1, 1)) # Define y_test_inverse\n",
        "mse_conv = mean_squared_error(y_test_inverse, predicted_inverse_conv)\n",
        "mae_conv = mean_absolute_error(y_test_inverse, predicted_inverse_conv)\n",
        "print(f\"ConvLSTM MSE: {mse_conv}, MAE: {mae_conv}\")"
      ],
      "metadata": {
        "id": "J8LPGxiON2SH",
        "colab": {
          "base_uri": "https://localhost:8080/"
        },
        "outputId": "dcfa24f8-ac77-45df-b218-0c31f122d49d"
      },
      "id": "J8LPGxiON2SH",
      "execution_count": 90,
      "outputs": [
        {
          "output_type": "stream",
          "name": "stdout",
          "text": [
            "ConvLSTM MSE: 0.029692196460357596, MAE: 0.16150188043828517\n"
          ]
        }
      ]
    },
    {
      "cell_type": "code",
      "source": [
        "from sklearn.metrics import mean_squared_error, mean_absolute_error, r2_score\n",
        "import numpy as np\n",
        "\n",
        "scaler = MMS  # Assign MMS to scaler\n",
        "\n",
        "# Assuming 'test_label' contains the true values for the test set\n",
        "# and 'test_predicted' contains the model's predictions\n",
        "# You might need to adjust these variable names if they are different in your code\n",
        "\n",
        "# Real prices (inverse transformed y_test)\n",
        "# Reshape test_label to have the same shape as the scaler expects\n",
        "# real_prices = scaler.inverse_transform(test_label.reshape(-1, scaler.n_features_in_))\n",
        "# The above line is causing the issue as it changes the number of samples.\n",
        "# Instead, directly inverse transform test_label:\n",
        "real_prices = scaler.inverse_transform(test_label)  # real_prices now has 264 samples\n",
        "\n",
        "# Predicted prices (inverse transformed predictions from the model)\n",
        "predicted_prices = scaler.inverse_transform(test_predicted)  # predicted_prices has 264 samples\n",
        "\n",
        "# Metrics calculation\n",
        "mse = mean_squared_error(real_prices, predicted_prices)\n",
        "rmse = np.sqrt(mse)\n",
        "mae = mean_absolute_error(real_prices, predicted_prices)\n",
        "r2 = r2_score(real_prices, predicted_prices)\n",
        "\n",
        "# Print the results\n",
        "print(f\"Mean Squared Error (MSE): {mse}\")\n",
        "print(f\"Root Mean Squared Error (RMSE): {rmse}\")\n",
        "print(f\"Mean Absolute Error (MAE): {mae}\")\n",
        "print(f\"R-squared (R2): {r2}\")"
      ],
      "metadata": {
        "colab": {
          "base_uri": "https://localhost:8080/"
        },
        "id": "vKHhIO9wVjeT",
        "outputId": "bbe7bb93-19d0-4b7e-eaaf-75ba7420efee"
      },
      "id": "vKHhIO9wVjeT",
      "execution_count": 92,
      "outputs": [
        {
          "output_type": "stream",
          "name": "stdout",
          "text": [
            "Mean Squared Error (MSE): 0.004985690225140007\n",
            "Root Mean Squared Error (RMSE): 0.07060942022945668\n",
            "Mean Absolute Error (MAE): 0.05653370575324476\n",
            "R-squared (R2): 0.8403116237739326\n"
          ]
        }
      ]
    }
  ],
  "metadata": {
    "kernelspec": {
      "display_name": "Python 3 (ipykernel)",
      "language": "python",
      "name": "python3"
    },
    "language_info": {
      "codemirror_mode": {
        "name": "ipython",
        "version": 3
      },
      "file_extension": ".py",
      "mimetype": "text/x-python",
      "name": "python",
      "nbconvert_exporter": "python",
      "pygments_lexer": "ipython3",
      "version": "3.11.5"
    },
    "colab": {
      "provenance": []
    }
  },
  "nbformat": 4,
  "nbformat_minor": 5
}